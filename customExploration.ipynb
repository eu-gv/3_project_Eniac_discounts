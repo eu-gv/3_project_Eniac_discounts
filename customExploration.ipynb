{
 "cells": [
  {
   "cell_type": "code",
   "execution_count": 2,
   "id": "aeb036f7-db10-4e5d-800b-42be14926164",
   "metadata": {},
   "outputs": [],
   "source": [
    "import pandas as pd\n",
    "\n",
    "brands = pd.read_csv('brands.csv')\n",
    "ord_l = pd.read_csv('orderlines.csv')\n",
    "orders = pd.read_csv('orders.csv')\n",
    "products = pd.read_csv('products.csv')"
   ]
  },
  {
   "cell_type": "markdown",
   "id": "63071901-e1db-4456-9193-7a7c6b105e77",
   "metadata": {},
   "source": [
    "# How many orders are there?"
   ]
  },
  {
   "cell_type": "code",
   "execution_count": 9,
   "id": "692c930a-e894-4f05-9e08-a0bb2502c41d",
   "metadata": {},
   "outputs": [
    {
     "name": "stdout",
     "output_type": "stream",
     "text": [
      "<class 'pandas.core.frame.DataFrame'>\n",
      "RangeIndex: 226909 entries, 0 to 226908\n",
      "Data columns (total 4 columns):\n",
      " #   Column        Non-Null Count   Dtype  \n",
      "---  ------        --------------   -----  \n",
      " 0   order_id      226909 non-null  int64  \n",
      " 1   created_date  226909 non-null  object \n",
      " 2   total_paid    226904 non-null  float64\n",
      " 3   state         226909 non-null  object \n",
      "dtypes: float64(1), int64(1), object(2)\n",
      "memory usage: 6.9+ MB\n"
     ]
    },
    {
     "data": {
      "text/plain": [
       "226909"
      ]
     },
     "execution_count": 9,
     "metadata": {},
     "output_type": "execute_result"
    }
   ],
   "source": [
    "orders.info()\n",
    "orders.order_id.nunique()"
   ]
  },
  {
   "cell_type": "markdown",
   "id": "0506a78f-da27-4a94-a49f-d801292846dc",
   "metadata": {},
   "source": [
    "# How many products are there?"
   ]
  },
  {
   "cell_type": "code",
   "execution_count": 31,
   "id": "32607fac-a9e8-42c1-b876-68a413ef624a",
   "metadata": {},
   "outputs": [
    {
     "name": "stdout",
     "output_type": "stream",
     "text": [
      "<class 'pandas.core.frame.DataFrame'>\n",
      "RangeIndex: 19326 entries, 0 to 19325\n",
      "Data columns (total 7 columns):\n",
      " #   Column       Non-Null Count  Dtype \n",
      "---  ------       --------------  ----- \n",
      " 0   sku          19326 non-null  object\n",
      " 1   name         19326 non-null  object\n",
      " 2   desc         19319 non-null  object\n",
      " 3   price        19280 non-null  object\n",
      " 4   promo_price  19326 non-null  object\n",
      " 5   in_stock     19326 non-null  int64 \n",
      " 6   type         19276 non-null  object\n",
      "dtypes: int64(1), object(6)\n",
      "memory usage: 1.0+ MB\n",
      "\n",
      "\n",
      "NUMBER OF PRODUCTS:  10579 \n",
      "\n"
     ]
    },
    {
     "data": {
      "text/plain": [
       "sku\n",
       "PAC1035    58\n",
       "PAC1036    58\n",
       "PAC1034    58\n",
       "PAC1033    58\n",
       "PAC1032    58\n",
       "           ..\n",
       "PAC1280     1\n",
       "PAC1277     1\n",
       "PAC1275     1\n",
       "PAC1273     1\n",
       "THU0063     1\n",
       "Name: count, Length: 10579, dtype: int64"
      ]
     },
     "execution_count": 31,
     "metadata": {},
     "output_type": "execute_result"
    }
   ],
   "source": [
    "products.info()\n",
    "print('\\n\\nNUMBER OF PRODUCTS: ', products.sku.nunique(),'\\n' )\n",
    "products.sku.value_counts()"
   ]
  },
  {
   "cell_type": "markdown",
   "id": "3a2ba54e-cc0e-4bb1-959f-42479477dd32",
   "metadata": {},
   "source": [
    "# What period of time do these orders comprise?\n",
    "## 2017-01-01 -> 2018-03-14"
   ]
  },
  {
   "cell_type": "code",
   "execution_count": 63,
   "id": "50b32021-171c-43ac-b623-ba8e0f51adff",
   "metadata": {},
   "outputs": [
    {
     "name": "stdout",
     "output_type": "stream",
     "text": [
      "<class 'pandas.core.frame.DataFrame'>\n",
      "RangeIndex: 293983 entries, 0 to 293982\n",
      "Data columns (total 7 columns):\n",
      " #   Column            Non-Null Count   Dtype \n",
      "---  ------            --------------   ----- \n",
      " 0   id                293983 non-null  int64 \n",
      " 1   id_order          293983 non-null  int64 \n",
      " 2   product_id        293983 non-null  int64 \n",
      " 3   product_quantity  293983 non-null  int64 \n",
      " 4   sku               293983 non-null  object\n",
      " 5   unit_price        293983 non-null  object\n",
      " 6   date              293983 non-null  object\n",
      "dtypes: int64(4), object(3)\n",
      "memory usage: 15.7+ MB\n"
     ]
    }
   ],
   "source": [
    "ord_l.info()"
   ]
  },
  {
   "cell_type": "code",
   "execution_count": 75,
   "id": "c4b55d2b-ace1-4cd8-ac58-41e1ede591ef",
   "metadata": {},
   "outputs": [
    {
     "data": {
      "text/plain": [
       "0        2017-01-01 00:07:19\n",
       "1        2017-01-01 00:19:45\n",
       "2        2017-01-01 00:20:57\n",
       "3        2017-01-01 00:51:40\n",
       "4        2017-01-01 01:06:38\n",
       "                 ...        \n",
       "293978   2018-03-14 13:57:25\n",
       "293979   2018-03-14 13:57:34\n",
       "293980   2018-03-14 13:57:41\n",
       "293981   2018-03-14 13:58:01\n",
       "293982   2018-03-14 13:58:36\n",
       "Name: date, Length: 293983, dtype: datetime64[ns]"
      ]
     },
     "execution_count": 75,
     "metadata": {},
     "output_type": "execute_result"
    }
   ],
   "source": [
    "pd.to_datetime(ord_l['date']) # transform the 'date' from type object to type datetime"
   ]
  },
  {
   "cell_type": "code",
   "execution_count": 76,
   "id": "ae4b858f-3823-4487-80a8-7e2116e2921d",
   "metadata": {},
   "outputs": [
    {
     "data": {
      "text/plain": [
       "0         2017-01-01\n",
       "1         2017-01-01\n",
       "2         2017-01-01\n",
       "3         2017-01-01\n",
       "4         2017-01-01\n",
       "             ...    \n",
       "293978    2018-03-14\n",
       "293979    2018-03-14\n",
       "293980    2018-03-14\n",
       "293981    2018-03-14\n",
       "293982    2018-03-14\n",
       "Name: date, Length: 293983, dtype: object"
      ]
     },
     "execution_count": 76,
     "metadata": {},
     "output_type": "execute_result"
    }
   ],
   "source": [
    "pd.to_datetime(ord_l['date']).dt.date # on datetime type I can apply the accessory .dt"
   ]
  },
  {
   "cell_type": "code",
   "execution_count": 77,
   "id": "d6e39cf8-7342-49ac-86b8-b797417b0fc0",
   "metadata": {},
   "outputs": [
    {
     "data": {
      "text/plain": [
       "0            Sunday\n",
       "1            Sunday\n",
       "2            Sunday\n",
       "3            Sunday\n",
       "4            Sunday\n",
       "            ...    \n",
       "293978    Wednesday\n",
       "293979    Wednesday\n",
       "293980    Wednesday\n",
       "293981    Wednesday\n",
       "293982    Wednesday\n",
       "Name: date, Length: 293983, dtype: object"
      ]
     },
     "execution_count": 77,
     "metadata": {},
     "output_type": "execute_result"
    }
   ],
   "source": [
    "pd.to_datetime(ord_l['date']).dt.year\n",
    "pd.to_datetime(ord_l['date']).dt.month\n",
    "pd.to_datetime(ord_l['date']).dt.day\n",
    "pd.to_datetime(ord_l['date']).dt.day_name()"
   ]
  },
  {
   "cell_type": "code",
   "execution_count": 50,
   "id": "886cb3f4-f287-4d36-8f3f-17fed2d1cc30",
   "metadata": {},
   "outputs": [
    {
     "data": {
      "text/html": [
       "<div>\n",
       "<style scoped>\n",
       "    .dataframe tbody tr th:only-of-type {\n",
       "        vertical-align: middle;\n",
       "    }\n",
       "\n",
       "    .dataframe tbody tr th {\n",
       "        vertical-align: top;\n",
       "    }\n",
       "\n",
       "    .dataframe thead th {\n",
       "        text-align: right;\n",
       "    }\n",
       "</style>\n",
       "<table border=\"1\" class=\"dataframe\">\n",
       "  <thead>\n",
       "    <tr style=\"text-align: right;\">\n",
       "      <th></th>\n",
       "      <th>id</th>\n",
       "      <th>id_order</th>\n",
       "      <th>product_id</th>\n",
       "      <th>product_quantity</th>\n",
       "      <th>sku</th>\n",
       "      <th>unit_price</th>\n",
       "      <th>date</th>\n",
       "    </tr>\n",
       "  </thead>\n",
       "  <tbody>\n",
       "    <tr>\n",
       "      <th>0</th>\n",
       "      <td>1119109</td>\n",
       "      <td>299539</td>\n",
       "      <td>0</td>\n",
       "      <td>1</td>\n",
       "      <td>OTT0133</td>\n",
       "      <td>18.99</td>\n",
       "      <td>2017-01-01 00:07:19</td>\n",
       "    </tr>\n",
       "    <tr>\n",
       "      <th>1</th>\n",
       "      <td>1119110</td>\n",
       "      <td>299540</td>\n",
       "      <td>0</td>\n",
       "      <td>1</td>\n",
       "      <td>LGE0043</td>\n",
       "      <td>399.00</td>\n",
       "      <td>2017-01-01 00:19:45</td>\n",
       "    </tr>\n",
       "    <tr>\n",
       "      <th>2</th>\n",
       "      <td>1119111</td>\n",
       "      <td>299541</td>\n",
       "      <td>0</td>\n",
       "      <td>1</td>\n",
       "      <td>PAR0071</td>\n",
       "      <td>474.05</td>\n",
       "      <td>2017-01-01 00:20:57</td>\n",
       "    </tr>\n",
       "    <tr>\n",
       "      <th>3</th>\n",
       "      <td>1119112</td>\n",
       "      <td>299542</td>\n",
       "      <td>0</td>\n",
       "      <td>1</td>\n",
       "      <td>WDT0315</td>\n",
       "      <td>68.39</td>\n",
       "      <td>2017-01-01 00:51:40</td>\n",
       "    </tr>\n",
       "    <tr>\n",
       "      <th>4</th>\n",
       "      <td>1119113</td>\n",
       "      <td>299543</td>\n",
       "      <td>0</td>\n",
       "      <td>1</td>\n",
       "      <td>JBL0104</td>\n",
       "      <td>23.74</td>\n",
       "      <td>2017-01-01 01:06:38</td>\n",
       "    </tr>\n",
       "    <tr>\n",
       "      <th>...</th>\n",
       "      <td>...</td>\n",
       "      <td>...</td>\n",
       "      <td>...</td>\n",
       "      <td>...</td>\n",
       "      <td>...</td>\n",
       "      <td>...</td>\n",
       "      <td>...</td>\n",
       "    </tr>\n",
       "    <tr>\n",
       "      <th>293978</th>\n",
       "      <td>1650199</td>\n",
       "      <td>527398</td>\n",
       "      <td>0</td>\n",
       "      <td>1</td>\n",
       "      <td>JBL0122</td>\n",
       "      <td>42.99</td>\n",
       "      <td>2018-03-14 13:57:25</td>\n",
       "    </tr>\n",
       "    <tr>\n",
       "      <th>293979</th>\n",
       "      <td>1650200</td>\n",
       "      <td>527399</td>\n",
       "      <td>0</td>\n",
       "      <td>1</td>\n",
       "      <td>PAC0653</td>\n",
       "      <td>141.58</td>\n",
       "      <td>2018-03-14 13:57:34</td>\n",
       "    </tr>\n",
       "    <tr>\n",
       "      <th>293980</th>\n",
       "      <td>1650201</td>\n",
       "      <td>527400</td>\n",
       "      <td>0</td>\n",
       "      <td>2</td>\n",
       "      <td>APP0698</td>\n",
       "      <td>9.99</td>\n",
       "      <td>2018-03-14 13:57:41</td>\n",
       "    </tr>\n",
       "    <tr>\n",
       "      <th>293981</th>\n",
       "      <td>1650202</td>\n",
       "      <td>527388</td>\n",
       "      <td>0</td>\n",
       "      <td>1</td>\n",
       "      <td>BEZ0204</td>\n",
       "      <td>19.99</td>\n",
       "      <td>2018-03-14 13:58:01</td>\n",
       "    </tr>\n",
       "    <tr>\n",
       "      <th>293982</th>\n",
       "      <td>1650203</td>\n",
       "      <td>527401</td>\n",
       "      <td>0</td>\n",
       "      <td>1</td>\n",
       "      <td>APP0927</td>\n",
       "      <td>13.99</td>\n",
       "      <td>2018-03-14 13:58:36</td>\n",
       "    </tr>\n",
       "  </tbody>\n",
       "</table>\n",
       "<p>293983 rows × 7 columns</p>\n",
       "</div>"
      ],
      "text/plain": [
       "             id  id_order  product_id  product_quantity      sku unit_price  \\\n",
       "0       1119109    299539           0                 1  OTT0133      18.99   \n",
       "1       1119110    299540           0                 1  LGE0043     399.00   \n",
       "2       1119111    299541           0                 1  PAR0071     474.05   \n",
       "3       1119112    299542           0                 1  WDT0315      68.39   \n",
       "4       1119113    299543           0                 1  JBL0104      23.74   \n",
       "...         ...       ...         ...               ...      ...        ...   \n",
       "293978  1650199    527398           0                 1  JBL0122      42.99   \n",
       "293979  1650200    527399           0                 1  PAC0653     141.58   \n",
       "293980  1650201    527400           0                 2  APP0698       9.99   \n",
       "293981  1650202    527388           0                 1  BEZ0204      19.99   \n",
       "293982  1650203    527401           0                 1  APP0927      13.99   \n",
       "\n",
       "                       date  \n",
       "0       2017-01-01 00:07:19  \n",
       "1       2017-01-01 00:19:45  \n",
       "2       2017-01-01 00:20:57  \n",
       "3       2017-01-01 00:51:40  \n",
       "4       2017-01-01 01:06:38  \n",
       "...                     ...  \n",
       "293978  2018-03-14 13:57:25  \n",
       "293979  2018-03-14 13:57:34  \n",
       "293980  2018-03-14 13:57:41  \n",
       "293981  2018-03-14 13:58:01  \n",
       "293982  2018-03-14 13:58:36  \n",
       "\n",
       "[293983 rows x 7 columns]"
      ]
     },
     "execution_count": 50,
     "metadata": {},
     "output_type": "execute_result"
    }
   ],
   "source": [
    "ord_l.sort_values(by='date')"
   ]
  },
  {
   "cell_type": "markdown",
   "id": "509db38f-b1da-4167-baf4-b893214d6546",
   "metadata": {},
   "source": [
    "# How many orders are Completed?"
   ]
  },
  {
   "cell_type": "code",
   "execution_count": 55,
   "id": "bb219db0-08a3-41d7-8ca3-cdae6bf6d34d",
   "metadata": {},
   "outputs": [
    {
     "data": {
      "text/plain": [
       "state\n",
       "Shopping Basket    117809\n",
       "Completed           46605\n",
       "Place Order         40883\n",
       "Pending             14379\n",
       "Cancelled            7233\n",
       "Name: count, dtype: int64"
      ]
     },
     "execution_count": 55,
     "metadata": {},
     "output_type": "execute_result"
    }
   ],
   "source": [
    "orders.state.value_counts()"
   ]
  },
  {
   "cell_type": "code",
   "execution_count": 61,
   "id": "a2ab6b13-7765-43cd-9c65-bca2b220cb27",
   "metadata": {},
   "outputs": [
    {
     "data": {
      "text/plain": [
       "order_id        46605\n",
       "created_date    46605\n",
       "total_paid      46605\n",
       "state           46605\n",
       "dtype: int64"
      ]
     },
     "execution_count": 61,
     "metadata": {},
     "output_type": "execute_result"
    }
   ],
   "source": [
    "orders[orders['state']=='Completed'].count()"
   ]
  },
  {
   "cell_type": "code",
   "execution_count": 60,
   "id": "efe7f4be-1a5e-40bf-a08d-46e83c1b1c59",
   "metadata": {},
   "outputs": [
    {
     "data": {
      "text/plain": [
       "46605"
      ]
     },
     "execution_count": 60,
     "metadata": {},
     "output_type": "execute_result"
    }
   ],
   "source": [
    "orders[orders['state']=='Completed']['order_id'].count()"
   ]
  },
  {
   "cell_type": "markdown",
   "id": "7d3bd85d-4843-4a03-b889-940fc9536881",
   "metadata": {},
   "source": [
    "# How should revenue be computed?\n",
    "### in principle: revenue = operating income (from sale of goods or services) - operating expenses\n",
    "### however we don't have the operating expenses here, so I'll just sum up the total sales"
   ]
  },
  {
   "cell_type": "code",
   "execution_count": 78,
   "id": "067cea2a-964c-4b11-b8c4-6e4619a2bab6",
   "metadata": {},
   "outputs": [
    {
     "name": "stdout",
     "output_type": "stream",
     "text": [
      "<class 'pandas.core.frame.DataFrame'>\n",
      "RangeIndex: 226909 entries, 0 to 226908\n",
      "Data columns (total 4 columns):\n",
      " #   Column        Non-Null Count   Dtype  \n",
      "---  ------        --------------   -----  \n",
      " 0   order_id      226909 non-null  int64  \n",
      " 1   created_date  226909 non-null  object \n",
      " 2   total_paid    226904 non-null  float64\n",
      " 3   state         226909 non-null  object \n",
      "dtypes: float64(1), int64(1), object(2)\n",
      "memory usage: 6.9+ MB\n"
     ]
    }
   ],
   "source": [
    "orders.info()"
   ]
  },
  {
   "cell_type": "code",
   "execution_count": 101,
   "id": "2e33f640-fd82-4f11-bd11-a2f14844dfd3",
   "metadata": {},
   "outputs": [
    {
     "data": {
      "text/plain": [
       "129159615.07"
      ]
     },
     "execution_count": 101,
     "metadata": {},
     "output_type": "execute_result"
    }
   ],
   "source": [
    "orders.total_paid.sum()"
   ]
  },
  {
   "cell_type": "code",
   "execution_count": 102,
   "id": "12a3534c-3cc6-441f-aae0-1c9512e45137",
   "metadata": {},
   "outputs": [
    {
     "data": {
      "text/plain": [
       "129159615.1"
      ]
     },
     "execution_count": 102,
     "metadata": {},
     "output_type": "execute_result"
    }
   ],
   "source": [
    "orders.total_paid.sum().round(1)"
   ]
  },
  {
   "cell_type": "code",
   "execution_count": 104,
   "id": "5193ad26-9059-408f-a8fc-0d786427821c",
   "metadata": {},
   "outputs": [
    {
     "data": {
      "text/plain": [
       "129159615.1"
      ]
     },
     "execution_count": 104,
     "metadata": {},
     "output_type": "execute_result"
    }
   ],
   "source": [
    "orders.total_paid.sum().round(1)"
   ]
  },
  {
   "cell_type": "code",
   "execution_count": 110,
   "id": "8ad94c4c-ee54-4283-a957-a57f15d9c1ee",
   "metadata": {},
   "outputs": [
    {
     "name": "stdout",
     "output_type": "stream",
     "text": [
      "The total revenue is €129.2M\n"
     ]
    }
   ],
   "source": [
    "revenue = round((orders.total_paid.sum())*1E-6, 1)\n",
    "print(f'The total revenue is €{revenue}M')"
   ]
  },
  {
   "cell_type": "code",
   "execution_count": null,
   "id": "386fc08b-3ca6-455d-9d14-e4c494d87a19",
   "metadata": {},
   "outputs": [],
   "source": []
  }
 ],
 "metadata": {
  "kernelspec": {
   "display_name": "Python 3 (ipykernel)",
   "language": "python",
   "name": "python3"
  },
  "language_info": {
   "codemirror_mode": {
    "name": "ipython",
    "version": 3
   },
   "file_extension": ".py",
   "mimetype": "text/x-python",
   "name": "python",
   "nbconvert_exporter": "python",
   "pygments_lexer": "ipython3",
   "version": "3.10.12"
  }
 },
 "nbformat": 4,
 "nbformat_minor": 5
}
