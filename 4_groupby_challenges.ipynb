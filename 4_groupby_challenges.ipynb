{
 "cells": [
  {
   "cell_type": "markdown",
   "metadata": {
    "id": "MGfHi2emuFvJ"
   },
   "source": [
    "# Grouping and aggregating data\n",
    "\n",
    "Most of the time, in pandas, we use `.groupby()` to group and aggregate data. This is a function that splits your data into certain categories, and then performs an aggregation, transformation, or filtration to those categories. Today we will only be looking at `.groupby()` and aggregations, and how they can help us to analyse our data. We will also learn about `resample()` as an alternative, more concise way to group dates and times.\n",
    "\n",
    "As always, let's start by reading the data:"
   ]
  },
  {
   "cell_type": "code",
   "execution_count": 2,
   "metadata": {
    "id": "Lq7zsZka4q2m"
   },
   "outputs": [],
   "source": [
    "import pandas as pd"
   ]
  },
  {
   "cell_type": "code",
   "execution_count": 3,
   "metadata": {
    "id": "30IJsE7t49Eu"
   },
   "outputs": [],
   "source": [
    "# orders_cl.csv\n",
    "url = \"https://drive.google.com/file/d/1Tla62vfu__kCqvgypZyVt2S9VuC016yH/view?usp=sharing\"\n",
    "path = \"https://drive.google.com/uc?export=download&id=\"+url.split(\"/\")[-2]\n",
    "orders_cl = pd.read_csv(path)\n",
    "\n",
    "# orderlines_cl.csv\n",
    "url = \"https://drive.google.com/file/d/1OhtkQS2fwOYdzfd-qPh7im35iLc-L9TA/view?usp=sharing\"\n",
    "path = \"https://drive.google.com/uc?export=download&id=\"+url.split(\"/\")[-2]\n",
    "orderlines_cl = pd.read_csv(path)\n",
    "\n",
    "# products_cl.csv\n",
    "url = \"https://drive.google.com/file/d/1s7Lai4NSlsYjGEPg1QSOUJobNYVsZBOJ/view?usp=sharing\"\n",
    "path = \"https://drive.google.com/uc?export=download&id=\"+url.split(\"/\")[-2]\n",
    "products_cl = pd.read_csv(path)\n",
    "\n",
    "# brands_cl.csv\n",
    "url = \"https://drive.google.com/file/d/1XGyabaa4mAkjixMk3XPgx_14OoSse3rs/view?usp=sharing\"\n",
    "path = \"https://drive.google.com/uc?export=download&id=\"+url.split(\"/\")[-2]\n",
    "brands = pd.read_csv(path)"
   ]
  },
  {
   "cell_type": "code",
   "execution_count": 4,
   "metadata": {
    "id": "97-FGws5RzTk"
   },
   "outputs": [],
   "source": [
    "ol_df = orderlines_cl.copy()"
   ]
  },
  {
   "cell_type": "code",
   "execution_count": 5,
   "metadata": {
    "colab": {
     "base_uri": "https://localhost:8080/"
    },
    "id": "sD3zRjTyk-9h",
    "outputId": "b1972e85-b94a-4946-fd69-9ecf6edad30b"
   },
   "outputs": [
    {
     "name": "stdout",
     "output_type": "stream",
     "text": [
      "<class 'pandas.core.frame.DataFrame'>\n",
      "RangeIndex: 216250 entries, 0 to 216249\n",
      "Data columns (total 7 columns):\n",
      " #   Column            Non-Null Count   Dtype  \n",
      "---  ------            --------------   -----  \n",
      " 0   id                216250 non-null  int64  \n",
      " 1   id_order          216250 non-null  int64  \n",
      " 2   product_id        216250 non-null  int64  \n",
      " 3   product_quantity  216250 non-null  int64  \n",
      " 4   sku               216250 non-null  object \n",
      " 5   unit_price        216250 non-null  float64\n",
      " 6   date              216250 non-null  object \n",
      "dtypes: float64(1), int64(4), object(2)\n",
      "memory usage: 11.5+ MB\n"
     ]
    }
   ],
   "source": [
    "ol_df.info()"
   ]
  },
  {
   "cell_type": "markdown",
   "metadata": {
    "id": "O5JVxtyQnzLV"
   },
   "source": [
    "Change `date` to datetime."
   ]
  },
  {
   "cell_type": "code",
   "execution_count": 6,
   "metadata": {
    "id": "MxwG7CJ9lIQB"
   },
   "outputs": [],
   "source": [
    "ol_df[\"date\"] = pd.to_datetime(ol_df[\"date\"])"
   ]
  },
  {
   "cell_type": "markdown",
   "metadata": {
    "id": "BXWNhA9C2KsO"
   },
   "source": [
    "## 1.&nbsp; `.groupby` a single feature"
   ]
  },
  {
   "cell_type": "markdown",
   "metadata": {
    "id": "uuxv5HPeUcJp"
   },
   "source": [
    "When we use the `.groupby()` method, we always state in the parentheses the name of the column that contains the categories that should be grouped. For example, we are grouping here by the product number (SKU), which will give us one line per sku. `.count()` will tell us how many rows have been condensed into each group."
   ]
  },
  {
   "cell_type": "code",
   "execution_count": 7,
   "metadata": {
    "colab": {
     "base_uri": "https://localhost:8080/",
     "height": 455
    },
    "id": "4WAJ97U7Ryp8",
    "outputId": "42280ed2-06fc-4542-feaa-9041729b153a"
   },
   "outputs": [
    {
     "data": {
      "text/html": [
       "<div>\n",
       "<style scoped>\n",
       "    .dataframe tbody tr th:only-of-type {\n",
       "        vertical-align: middle;\n",
       "    }\n",
       "\n",
       "    .dataframe tbody tr th {\n",
       "        vertical-align: top;\n",
       "    }\n",
       "\n",
       "    .dataframe thead th {\n",
       "        text-align: right;\n",
       "    }\n",
       "</style>\n",
       "<table border=\"1\" class=\"dataframe\">\n",
       "  <thead>\n",
       "    <tr style=\"text-align: right;\">\n",
       "      <th></th>\n",
       "      <th>id</th>\n",
       "      <th>id_order</th>\n",
       "      <th>product_id</th>\n",
       "      <th>product_quantity</th>\n",
       "      <th>unit_price</th>\n",
       "      <th>date</th>\n",
       "    </tr>\n",
       "    <tr>\n",
       "      <th>sku</th>\n",
       "      <th></th>\n",
       "      <th></th>\n",
       "      <th></th>\n",
       "      <th></th>\n",
       "      <th></th>\n",
       "      <th></th>\n",
       "    </tr>\n",
       "  </thead>\n",
       "  <tbody>\n",
       "    <tr>\n",
       "      <th>8MO0001-A</th>\n",
       "      <td>2</td>\n",
       "      <td>2</td>\n",
       "      <td>2</td>\n",
       "      <td>2</td>\n",
       "      <td>2</td>\n",
       "      <td>2</td>\n",
       "    </tr>\n",
       "    <tr>\n",
       "      <th>8MO0003-A</th>\n",
       "      <td>3</td>\n",
       "      <td>3</td>\n",
       "      <td>3</td>\n",
       "      <td>3</td>\n",
       "      <td>3</td>\n",
       "      <td>3</td>\n",
       "    </tr>\n",
       "    <tr>\n",
       "      <th>8MO0007</th>\n",
       "      <td>29</td>\n",
       "      <td>29</td>\n",
       "      <td>29</td>\n",
       "      <td>29</td>\n",
       "      <td>29</td>\n",
       "      <td>29</td>\n",
       "    </tr>\n",
       "    <tr>\n",
       "      <th>8MO0008</th>\n",
       "      <td>30</td>\n",
       "      <td>30</td>\n",
       "      <td>30</td>\n",
       "      <td>30</td>\n",
       "      <td>30</td>\n",
       "      <td>30</td>\n",
       "    </tr>\n",
       "    <tr>\n",
       "      <th>8MO0009</th>\n",
       "      <td>28</td>\n",
       "      <td>28</td>\n",
       "      <td>28</td>\n",
       "      <td>28</td>\n",
       "      <td>28</td>\n",
       "      <td>28</td>\n",
       "    </tr>\n",
       "    <tr>\n",
       "      <th>...</th>\n",
       "      <td>...</td>\n",
       "      <td>...</td>\n",
       "      <td>...</td>\n",
       "      <td>...</td>\n",
       "      <td>...</td>\n",
       "      <td>...</td>\n",
       "    </tr>\n",
       "    <tr>\n",
       "      <th>ZAG0041</th>\n",
       "      <td>2</td>\n",
       "      <td>2</td>\n",
       "      <td>2</td>\n",
       "      <td>2</td>\n",
       "      <td>2</td>\n",
       "      <td>2</td>\n",
       "    </tr>\n",
       "    <tr>\n",
       "      <th>ZAG0042</th>\n",
       "      <td>1</td>\n",
       "      <td>1</td>\n",
       "      <td>1</td>\n",
       "      <td>1</td>\n",
       "      <td>1</td>\n",
       "      <td>1</td>\n",
       "    </tr>\n",
       "    <tr>\n",
       "      <th>ZEP0007</th>\n",
       "      <td>5</td>\n",
       "      <td>5</td>\n",
       "      <td>5</td>\n",
       "      <td>5</td>\n",
       "      <td>5</td>\n",
       "      <td>5</td>\n",
       "    </tr>\n",
       "    <tr>\n",
       "      <th>ZEP0008</th>\n",
       "      <td>1</td>\n",
       "      <td>1</td>\n",
       "      <td>1</td>\n",
       "      <td>1</td>\n",
       "      <td>1</td>\n",
       "      <td>1</td>\n",
       "    </tr>\n",
       "    <tr>\n",
       "      <th>par0072</th>\n",
       "      <td>12</td>\n",
       "      <td>12</td>\n",
       "      <td>12</td>\n",
       "      <td>12</td>\n",
       "      <td>12</td>\n",
       "      <td>12</td>\n",
       "    </tr>\n",
       "  </tbody>\n",
       "</table>\n",
       "<p>6798 rows × 6 columns</p>\n",
       "</div>"
      ],
      "text/plain": [
       "           id  id_order  product_id  product_quantity  unit_price  date\n",
       "sku                                                                    \n",
       "8MO0001-A   2         2           2                 2           2     2\n",
       "8MO0003-A   3         3           3                 3           3     3\n",
       "8MO0007    29        29          29                29          29    29\n",
       "8MO0008    30        30          30                30          30    30\n",
       "8MO0009    28        28          28                28          28    28\n",
       "...        ..       ...         ...               ...         ...   ...\n",
       "ZAG0041     2         2           2                 2           2     2\n",
       "ZAG0042     1         1           1                 1           1     1\n",
       "ZEP0007     5         5           5                 5           5     5\n",
       "ZEP0008     1         1           1                 1           1     1\n",
       "par0072    12        12          12                12          12    12\n",
       "\n",
       "[6798 rows x 6 columns]"
      ]
     },
     "execution_count": 7,
     "metadata": {},
     "output_type": "execute_result"
    }
   ],
   "source": [
    "ol_df.groupby(\"sku\").count()"
   ]
  },
  {
   "cell_type": "markdown",
   "metadata": {
    "id": "Jpu853EhFWD2"
   },
   "source": [
    "Notice how in this \"grouped\" DataFrame we have 6798 rows: one row for each unique `sku`. In the original DataFrame we had many more rows:"
   ]
  },
  {
   "cell_type": "code",
   "execution_count": 8,
   "metadata": {
    "colab": {
     "base_uri": "https://localhost:8080/"
    },
    "id": "fRrHMdH1Fgpf",
    "outputId": "04a6483c-f293-4bc4-fd31-8ff4d562d111"
   },
   "outputs": [
    {
     "data": {
      "text/plain": [
       "(216250, 7)"
      ]
     },
     "execution_count": 8,
     "metadata": {},
     "output_type": "execute_result"
    }
   ],
   "source": [
    "ol_df.shape"
   ]
  },
  {
   "cell_type": "markdown",
   "metadata": {
    "id": "NXx21qYyVM76"
   },
   "source": [
    "As you can see above, the same number of rows were condensed for each column, this is to be expected when we use `count()` as the aggregation function. However, if we use an aggregate such as `.sum()`, then we get the total for the condensed values of each column:"
   ]
  },
  {
   "cell_type": "code",
   "execution_count": 9,
   "metadata": {},
   "outputs": [
    {
     "name": "stdout",
     "output_type": "stream",
     "text": [
      "<class 'pandas.core.frame.DataFrame'>\n",
      "RangeIndex: 216250 entries, 0 to 216249\n",
      "Data columns (total 7 columns):\n",
      " #   Column            Non-Null Count   Dtype         \n",
      "---  ------            --------------   -----         \n",
      " 0   id                216250 non-null  int64         \n",
      " 1   id_order          216250 non-null  int64         \n",
      " 2   product_id        216250 non-null  int64         \n",
      " 3   product_quantity  216250 non-null  int64         \n",
      " 4   sku               216250 non-null  object        \n",
      " 5   unit_price        216250 non-null  float64       \n",
      " 6   date              216250 non-null  datetime64[ns]\n",
      "dtypes: datetime64[ns](1), float64(1), int64(4), object(1)\n",
      "memory usage: 11.5+ MB\n"
     ]
    }
   ],
   "source": [
    "ol_df.info()"
   ]
  },
  {
   "cell_type": "code",
   "execution_count": 10,
   "metadata": {
    "colab": {
     "base_uri": "https://localhost:8080/",
     "height": 509
    },
    "id": "UJhFi7a3Vr7c",
    "outputId": "487d307a-204c-4f32-ca7a-aa1a4f369bb6"
   },
   "outputs": [
    {
     "ename": "TypeError",
     "evalue": "datetime64 type does not support sum operations",
     "output_type": "error",
     "traceback": [
      "\u001b[0;31m---------------------------------------------------------------------------\u001b[0m",
      "\u001b[0;31mTypeError\u001b[0m                                 Traceback (most recent call last)",
      "Cell \u001b[0;32mIn[10], line 1\u001b[0m\n\u001b[0;32m----> 1\u001b[0m \u001b[43mol_df\u001b[49m\u001b[38;5;241;43m.\u001b[39;49m\u001b[43mgroupby\u001b[49m\u001b[43m(\u001b[49m\u001b[38;5;124;43m\"\u001b[39;49m\u001b[38;5;124;43msku\u001b[39;49m\u001b[38;5;124;43m\"\u001b[39;49m\u001b[43m)\u001b[49m\u001b[38;5;241;43m.\u001b[39;49m\u001b[43msum\u001b[49m\u001b[43m(\u001b[49m\u001b[43m)\u001b[49m\n",
      "File \u001b[0;32m~/.local/lib/python3.10/site-packages/pandas/core/groupby/groupby.py:3063\u001b[0m, in \u001b[0;36mGroupBy.sum\u001b[0;34m(self, numeric_only, min_count, engine, engine_kwargs)\u001b[0m\n\u001b[1;32m   3058\u001b[0m \u001b[38;5;28;01melse\u001b[39;00m:\n\u001b[1;32m   3059\u001b[0m     \u001b[38;5;66;03m# If we are grouping on categoricals we want unobserved categories to\u001b[39;00m\n\u001b[1;32m   3060\u001b[0m     \u001b[38;5;66;03m# return zero, rather than the default of NaN which the reindexing in\u001b[39;00m\n\u001b[1;32m   3061\u001b[0m     \u001b[38;5;66;03m# _agg_general() returns. GH #31422\u001b[39;00m\n\u001b[1;32m   3062\u001b[0m     \u001b[38;5;28;01mwith\u001b[39;00m com\u001b[38;5;241m.\u001b[39mtemp_setattr(\u001b[38;5;28mself\u001b[39m, \u001b[38;5;124m\"\u001b[39m\u001b[38;5;124mobserved\u001b[39m\u001b[38;5;124m\"\u001b[39m, \u001b[38;5;28;01mTrue\u001b[39;00m):\n\u001b[0;32m-> 3063\u001b[0m         result \u001b[38;5;241m=\u001b[39m \u001b[38;5;28;43mself\u001b[39;49m\u001b[38;5;241;43m.\u001b[39;49m\u001b[43m_agg_general\u001b[49m\u001b[43m(\u001b[49m\n\u001b[1;32m   3064\u001b[0m \u001b[43m            \u001b[49m\u001b[43mnumeric_only\u001b[49m\u001b[38;5;241;43m=\u001b[39;49m\u001b[43mnumeric_only\u001b[49m\u001b[43m,\u001b[49m\n\u001b[1;32m   3065\u001b[0m \u001b[43m            \u001b[49m\u001b[43mmin_count\u001b[49m\u001b[38;5;241;43m=\u001b[39;49m\u001b[43mmin_count\u001b[49m\u001b[43m,\u001b[49m\n\u001b[1;32m   3066\u001b[0m \u001b[43m            \u001b[49m\u001b[43malias\u001b[49m\u001b[38;5;241;43m=\u001b[39;49m\u001b[38;5;124;43m\"\u001b[39;49m\u001b[38;5;124;43msum\u001b[39;49m\u001b[38;5;124;43m\"\u001b[39;49m\u001b[43m,\u001b[49m\n\u001b[1;32m   3067\u001b[0m \u001b[43m            \u001b[49m\u001b[43mnpfunc\u001b[49m\u001b[38;5;241;43m=\u001b[39;49m\u001b[43mnp\u001b[49m\u001b[38;5;241;43m.\u001b[39;49m\u001b[43msum\u001b[49m\u001b[43m,\u001b[49m\n\u001b[1;32m   3068\u001b[0m \u001b[43m        \u001b[49m\u001b[43m)\u001b[49m\n\u001b[1;32m   3070\u001b[0m     \u001b[38;5;28;01mreturn\u001b[39;00m \u001b[38;5;28mself\u001b[39m\u001b[38;5;241m.\u001b[39m_reindex_output(result, fill_value\u001b[38;5;241m=\u001b[39m\u001b[38;5;241m0\u001b[39m)\n",
      "File \u001b[0;32m~/.local/lib/python3.10/site-packages/pandas/core/groupby/groupby.py:1839\u001b[0m, in \u001b[0;36mGroupBy._agg_general\u001b[0;34m(self, numeric_only, min_count, alias, npfunc)\u001b[0m\n\u001b[1;32m   1830\u001b[0m \u001b[38;5;129m@final\u001b[39m\n\u001b[1;32m   1831\u001b[0m \u001b[38;5;28;01mdef\u001b[39;00m \u001b[38;5;21m_agg_general\u001b[39m(\n\u001b[1;32m   1832\u001b[0m     \u001b[38;5;28mself\u001b[39m,\n\u001b[0;32m   (...)\u001b[0m\n\u001b[1;32m   1837\u001b[0m     npfunc: Callable,\n\u001b[1;32m   1838\u001b[0m ):\n\u001b[0;32m-> 1839\u001b[0m     result \u001b[38;5;241m=\u001b[39m \u001b[38;5;28;43mself\u001b[39;49m\u001b[38;5;241;43m.\u001b[39;49m\u001b[43m_cython_agg_general\u001b[49m\u001b[43m(\u001b[49m\n\u001b[1;32m   1840\u001b[0m \u001b[43m        \u001b[49m\u001b[43mhow\u001b[49m\u001b[38;5;241;43m=\u001b[39;49m\u001b[43malias\u001b[49m\u001b[43m,\u001b[49m\n\u001b[1;32m   1841\u001b[0m \u001b[43m        \u001b[49m\u001b[43malt\u001b[49m\u001b[38;5;241;43m=\u001b[39;49m\u001b[43mnpfunc\u001b[49m\u001b[43m,\u001b[49m\n\u001b[1;32m   1842\u001b[0m \u001b[43m        \u001b[49m\u001b[43mnumeric_only\u001b[49m\u001b[38;5;241;43m=\u001b[39;49m\u001b[43mnumeric_only\u001b[49m\u001b[43m,\u001b[49m\n\u001b[1;32m   1843\u001b[0m \u001b[43m        \u001b[49m\u001b[43mmin_count\u001b[49m\u001b[38;5;241;43m=\u001b[39;49m\u001b[43mmin_count\u001b[49m\u001b[43m,\u001b[49m\n\u001b[1;32m   1844\u001b[0m \u001b[43m    \u001b[49m\u001b[43m)\u001b[49m\n\u001b[1;32m   1845\u001b[0m     \u001b[38;5;28;01mreturn\u001b[39;00m result\u001b[38;5;241m.\u001b[39m__finalize__(\u001b[38;5;28mself\u001b[39m\u001b[38;5;241m.\u001b[39mobj, method\u001b[38;5;241m=\u001b[39m\u001b[38;5;124m\"\u001b[39m\u001b[38;5;124mgroupby\u001b[39m\u001b[38;5;124m\"\u001b[39m)\n",
      "File \u001b[0;32m~/.local/lib/python3.10/site-packages/pandas/core/groupby/groupby.py:1929\u001b[0m, in \u001b[0;36mGroupBy._cython_agg_general\u001b[0;34m(self, how, alt, numeric_only, min_count, **kwargs)\u001b[0m\n\u001b[1;32m   1926\u001b[0m     result \u001b[38;5;241m=\u001b[39m \u001b[38;5;28mself\u001b[39m\u001b[38;5;241m.\u001b[39m_agg_py_fallback(how, values, ndim\u001b[38;5;241m=\u001b[39mdata\u001b[38;5;241m.\u001b[39mndim, alt\u001b[38;5;241m=\u001b[39malt)\n\u001b[1;32m   1927\u001b[0m     \u001b[38;5;28;01mreturn\u001b[39;00m result\n\u001b[0;32m-> 1929\u001b[0m new_mgr \u001b[38;5;241m=\u001b[39m \u001b[43mdata\u001b[49m\u001b[38;5;241;43m.\u001b[39;49m\u001b[43mgrouped_reduce\u001b[49m\u001b[43m(\u001b[49m\u001b[43marray_func\u001b[49m\u001b[43m)\u001b[49m\n\u001b[1;32m   1930\u001b[0m res \u001b[38;5;241m=\u001b[39m \u001b[38;5;28mself\u001b[39m\u001b[38;5;241m.\u001b[39m_wrap_agged_manager(new_mgr)\n\u001b[1;32m   1931\u001b[0m out \u001b[38;5;241m=\u001b[39m \u001b[38;5;28mself\u001b[39m\u001b[38;5;241m.\u001b[39m_wrap_aggregated_output(res)\n",
      "File \u001b[0;32m~/.local/lib/python3.10/site-packages/pandas/core/internals/managers.py:1431\u001b[0m, in \u001b[0;36mBlockManager.grouped_reduce\u001b[0;34m(self, func)\u001b[0m\n\u001b[1;32m   1429\u001b[0m             result_blocks \u001b[38;5;241m=\u001b[39m extend_blocks(applied, result_blocks)\n\u001b[1;32m   1430\u001b[0m     \u001b[38;5;28;01melse\u001b[39;00m:\n\u001b[0;32m-> 1431\u001b[0m         applied \u001b[38;5;241m=\u001b[39m \u001b[43mblk\u001b[49m\u001b[38;5;241;43m.\u001b[39;49m\u001b[43mapply\u001b[49m\u001b[43m(\u001b[49m\u001b[43mfunc\u001b[49m\u001b[43m)\u001b[49m\n\u001b[1;32m   1432\u001b[0m         result_blocks \u001b[38;5;241m=\u001b[39m extend_blocks(applied, result_blocks)\n\u001b[1;32m   1434\u001b[0m \u001b[38;5;28;01mif\u001b[39;00m \u001b[38;5;28mlen\u001b[39m(result_blocks) \u001b[38;5;241m==\u001b[39m \u001b[38;5;241m0\u001b[39m:\n",
      "File \u001b[0;32m~/.local/lib/python3.10/site-packages/pandas/core/internals/blocks.py:366\u001b[0m, in \u001b[0;36mBlock.apply\u001b[0;34m(self, func, **kwargs)\u001b[0m\n\u001b[1;32m    360\u001b[0m \u001b[38;5;129m@final\u001b[39m\n\u001b[1;32m    361\u001b[0m \u001b[38;5;28;01mdef\u001b[39;00m \u001b[38;5;21mapply\u001b[39m(\u001b[38;5;28mself\u001b[39m, func, \u001b[38;5;241m*\u001b[39m\u001b[38;5;241m*\u001b[39mkwargs) \u001b[38;5;241m-\u001b[39m\u001b[38;5;241m>\u001b[39m \u001b[38;5;28mlist\u001b[39m[Block]:\n\u001b[1;32m    362\u001b[0m \u001b[38;5;250m    \u001b[39m\u001b[38;5;124;03m\"\"\"\u001b[39;00m\n\u001b[1;32m    363\u001b[0m \u001b[38;5;124;03m    apply the function to my values; return a block if we are not\u001b[39;00m\n\u001b[1;32m    364\u001b[0m \u001b[38;5;124;03m    one\u001b[39;00m\n\u001b[1;32m    365\u001b[0m \u001b[38;5;124;03m    \"\"\"\u001b[39;00m\n\u001b[0;32m--> 366\u001b[0m     result \u001b[38;5;241m=\u001b[39m \u001b[43mfunc\u001b[49m\u001b[43m(\u001b[49m\u001b[38;5;28;43mself\u001b[39;49m\u001b[38;5;241;43m.\u001b[39;49m\u001b[43mvalues\u001b[49m\u001b[43m,\u001b[49m\u001b[43m \u001b[49m\u001b[38;5;241;43m*\u001b[39;49m\u001b[38;5;241;43m*\u001b[39;49m\u001b[43mkwargs\u001b[49m\u001b[43m)\u001b[49m\n\u001b[1;32m    368\u001b[0m     result \u001b[38;5;241m=\u001b[39m maybe_coerce_values(result)\n\u001b[1;32m    369\u001b[0m     \u001b[38;5;28;01mreturn\u001b[39;00m \u001b[38;5;28mself\u001b[39m\u001b[38;5;241m.\u001b[39m_split_op_result(result)\n",
      "File \u001b[0;32m~/.local/lib/python3.10/site-packages/pandas/core/groupby/groupby.py:1905\u001b[0m, in \u001b[0;36mGroupBy._cython_agg_general.<locals>.array_func\u001b[0;34m(values)\u001b[0m\n\u001b[1;32m   1903\u001b[0m \u001b[38;5;28;01mdef\u001b[39;00m \u001b[38;5;21marray_func\u001b[39m(values: ArrayLike) \u001b[38;5;241m-\u001b[39m\u001b[38;5;241m>\u001b[39m ArrayLike:\n\u001b[1;32m   1904\u001b[0m     \u001b[38;5;28;01mtry\u001b[39;00m:\n\u001b[0;32m-> 1905\u001b[0m         result \u001b[38;5;241m=\u001b[39m \u001b[38;5;28;43mself\u001b[39;49m\u001b[38;5;241;43m.\u001b[39;49m\u001b[43mgrouper\u001b[49m\u001b[38;5;241;43m.\u001b[39;49m\u001b[43m_cython_operation\u001b[49m\u001b[43m(\u001b[49m\n\u001b[1;32m   1906\u001b[0m \u001b[43m            \u001b[49m\u001b[38;5;124;43m\"\u001b[39;49m\u001b[38;5;124;43maggregate\u001b[39;49m\u001b[38;5;124;43m\"\u001b[39;49m\u001b[43m,\u001b[49m\n\u001b[1;32m   1907\u001b[0m \u001b[43m            \u001b[49m\u001b[43mvalues\u001b[49m\u001b[43m,\u001b[49m\n\u001b[1;32m   1908\u001b[0m \u001b[43m            \u001b[49m\u001b[43mhow\u001b[49m\u001b[43m,\u001b[49m\n\u001b[1;32m   1909\u001b[0m \u001b[43m            \u001b[49m\u001b[43maxis\u001b[49m\u001b[38;5;241;43m=\u001b[39;49m\u001b[43mdata\u001b[49m\u001b[38;5;241;43m.\u001b[39;49m\u001b[43mndim\u001b[49m\u001b[43m \u001b[49m\u001b[38;5;241;43m-\u001b[39;49m\u001b[43m \u001b[49m\u001b[38;5;241;43m1\u001b[39;49m\u001b[43m,\u001b[49m\n\u001b[1;32m   1910\u001b[0m \u001b[43m            \u001b[49m\u001b[43mmin_count\u001b[49m\u001b[38;5;241;43m=\u001b[39;49m\u001b[43mmin_count\u001b[49m\u001b[43m,\u001b[49m\n\u001b[1;32m   1911\u001b[0m \u001b[43m            \u001b[49m\u001b[38;5;241;43m*\u001b[39;49m\u001b[38;5;241;43m*\u001b[39;49m\u001b[43mkwargs\u001b[49m\u001b[43m,\u001b[49m\n\u001b[1;32m   1912\u001b[0m \u001b[43m        \u001b[49m\u001b[43m)\u001b[49m\n\u001b[1;32m   1913\u001b[0m     \u001b[38;5;28;01mexcept\u001b[39;00m \u001b[38;5;167;01mNotImplementedError\u001b[39;00m:\n\u001b[1;32m   1914\u001b[0m         \u001b[38;5;66;03m# generally if we have numeric_only=False\u001b[39;00m\n\u001b[1;32m   1915\u001b[0m         \u001b[38;5;66;03m# and non-applicable functions\u001b[39;00m\n\u001b[1;32m   1916\u001b[0m         \u001b[38;5;66;03m# try to python agg\u001b[39;00m\n\u001b[1;32m   1917\u001b[0m         \u001b[38;5;66;03m# TODO: shouldn't min_count matter?\u001b[39;00m\n\u001b[1;32m   1918\u001b[0m         \u001b[38;5;66;03m# TODO: avoid special casing SparseArray here\u001b[39;00m\n\u001b[1;32m   1919\u001b[0m         \u001b[38;5;28;01mif\u001b[39;00m how \u001b[38;5;129;01min\u001b[39;00m [\u001b[38;5;124m\"\u001b[39m\u001b[38;5;124many\u001b[39m\u001b[38;5;124m\"\u001b[39m, \u001b[38;5;124m\"\u001b[39m\u001b[38;5;124mall\u001b[39m\u001b[38;5;124m\"\u001b[39m] \u001b[38;5;129;01mand\u001b[39;00m \u001b[38;5;28misinstance\u001b[39m(values, SparseArray):\n",
      "File \u001b[0;32m~/.local/lib/python3.10/site-packages/pandas/core/groupby/ops.py:816\u001b[0m, in \u001b[0;36mBaseGrouper._cython_operation\u001b[0;34m(self, kind, values, how, axis, min_count, **kwargs)\u001b[0m\n\u001b[1;32m    814\u001b[0m ids, _, _ \u001b[38;5;241m=\u001b[39m \u001b[38;5;28mself\u001b[39m\u001b[38;5;241m.\u001b[39mgroup_info\n\u001b[1;32m    815\u001b[0m ngroups \u001b[38;5;241m=\u001b[39m \u001b[38;5;28mself\u001b[39m\u001b[38;5;241m.\u001b[39mngroups\n\u001b[0;32m--> 816\u001b[0m \u001b[38;5;28;01mreturn\u001b[39;00m \u001b[43mcy_op\u001b[49m\u001b[38;5;241;43m.\u001b[39;49m\u001b[43mcython_operation\u001b[49m\u001b[43m(\u001b[49m\n\u001b[1;32m    817\u001b[0m \u001b[43m    \u001b[49m\u001b[43mvalues\u001b[49m\u001b[38;5;241;43m=\u001b[39;49m\u001b[43mvalues\u001b[49m\u001b[43m,\u001b[49m\n\u001b[1;32m    818\u001b[0m \u001b[43m    \u001b[49m\u001b[43maxis\u001b[49m\u001b[38;5;241;43m=\u001b[39;49m\u001b[43maxis\u001b[49m\u001b[43m,\u001b[49m\n\u001b[1;32m    819\u001b[0m \u001b[43m    \u001b[49m\u001b[43mmin_count\u001b[49m\u001b[38;5;241;43m=\u001b[39;49m\u001b[43mmin_count\u001b[49m\u001b[43m,\u001b[49m\n\u001b[1;32m    820\u001b[0m \u001b[43m    \u001b[49m\u001b[43mcomp_ids\u001b[49m\u001b[38;5;241;43m=\u001b[39;49m\u001b[43mids\u001b[49m\u001b[43m,\u001b[49m\n\u001b[1;32m    821\u001b[0m \u001b[43m    \u001b[49m\u001b[43mngroups\u001b[49m\u001b[38;5;241;43m=\u001b[39;49m\u001b[43mngroups\u001b[49m\u001b[43m,\u001b[49m\n\u001b[1;32m    822\u001b[0m \u001b[43m    \u001b[49m\u001b[38;5;241;43m*\u001b[39;49m\u001b[38;5;241;43m*\u001b[39;49m\u001b[43mkwargs\u001b[49m\u001b[43m,\u001b[49m\n\u001b[1;32m    823\u001b[0m \u001b[43m\u001b[49m\u001b[43m)\u001b[49m\n",
      "File \u001b[0;32m~/.local/lib/python3.10/site-packages/pandas/core/groupby/ops.py:526\u001b[0m, in \u001b[0;36mWrappedCythonOp.cython_operation\u001b[0;34m(self, values, axis, min_count, comp_ids, ngroups, **kwargs)\u001b[0m\n\u001b[1;32m    522\u001b[0m \u001b[38;5;28mself\u001b[39m\u001b[38;5;241m.\u001b[39m_validate_axis(axis, values)\n\u001b[1;32m    524\u001b[0m \u001b[38;5;28;01mif\u001b[39;00m \u001b[38;5;129;01mnot\u001b[39;00m \u001b[38;5;28misinstance\u001b[39m(values, np\u001b[38;5;241m.\u001b[39mndarray):\n\u001b[1;32m    525\u001b[0m     \u001b[38;5;66;03m# i.e. ExtensionArray\u001b[39;00m\n\u001b[0;32m--> 526\u001b[0m     \u001b[38;5;28;01mreturn\u001b[39;00m \u001b[43mvalues\u001b[49m\u001b[38;5;241;43m.\u001b[39;49m\u001b[43m_groupby_op\u001b[49m\u001b[43m(\u001b[49m\n\u001b[1;32m    527\u001b[0m \u001b[43m        \u001b[49m\u001b[43mhow\u001b[49m\u001b[38;5;241;43m=\u001b[39;49m\u001b[38;5;28;43mself\u001b[39;49m\u001b[38;5;241;43m.\u001b[39;49m\u001b[43mhow\u001b[49m\u001b[43m,\u001b[49m\n\u001b[1;32m    528\u001b[0m \u001b[43m        \u001b[49m\u001b[43mhas_dropped_na\u001b[49m\u001b[38;5;241;43m=\u001b[39;49m\u001b[38;5;28;43mself\u001b[39;49m\u001b[38;5;241;43m.\u001b[39;49m\u001b[43mhas_dropped_na\u001b[49m\u001b[43m,\u001b[49m\n\u001b[1;32m    529\u001b[0m \u001b[43m        \u001b[49m\u001b[43mmin_count\u001b[49m\u001b[38;5;241;43m=\u001b[39;49m\u001b[43mmin_count\u001b[49m\u001b[43m,\u001b[49m\n\u001b[1;32m    530\u001b[0m \u001b[43m        \u001b[49m\u001b[43mngroups\u001b[49m\u001b[38;5;241;43m=\u001b[39;49m\u001b[43mngroups\u001b[49m\u001b[43m,\u001b[49m\n\u001b[1;32m    531\u001b[0m \u001b[43m        \u001b[49m\u001b[43mids\u001b[49m\u001b[38;5;241;43m=\u001b[39;49m\u001b[43mcomp_ids\u001b[49m\u001b[43m,\u001b[49m\n\u001b[1;32m    532\u001b[0m \u001b[43m        \u001b[49m\u001b[38;5;241;43m*\u001b[39;49m\u001b[38;5;241;43m*\u001b[39;49m\u001b[43mkwargs\u001b[49m\u001b[43m,\u001b[49m\n\u001b[1;32m    533\u001b[0m \u001b[43m    \u001b[49m\u001b[43m)\u001b[49m\n\u001b[1;32m    535\u001b[0m \u001b[38;5;28;01mreturn\u001b[39;00m \u001b[38;5;28mself\u001b[39m\u001b[38;5;241m.\u001b[39m_cython_op_ndim_compat(\n\u001b[1;32m    536\u001b[0m     values,\n\u001b[1;32m    537\u001b[0m     min_count\u001b[38;5;241m=\u001b[39mmin_count,\n\u001b[0;32m   (...)\u001b[0m\n\u001b[1;32m    541\u001b[0m     \u001b[38;5;241m*\u001b[39m\u001b[38;5;241m*\u001b[39mkwargs,\n\u001b[1;32m    542\u001b[0m )\n",
      "File \u001b[0;32m~/.local/lib/python3.10/site-packages/pandas/core/arrays/datetimelike.py:1637\u001b[0m, in \u001b[0;36mDatetimeLikeArrayMixin._groupby_op\u001b[0;34m(self, how, has_dropped_na, min_count, ngroups, ids, **kwargs)\u001b[0m\n\u001b[1;32m   1634\u001b[0m \u001b[38;5;28;01mif\u001b[39;00m dtype\u001b[38;5;241m.\u001b[39mkind \u001b[38;5;241m==\u001b[39m \u001b[38;5;124m\"\u001b[39m\u001b[38;5;124mM\u001b[39m\u001b[38;5;124m\"\u001b[39m:\n\u001b[1;32m   1635\u001b[0m     \u001b[38;5;66;03m# Adding/multiplying datetimes is not valid\u001b[39;00m\n\u001b[1;32m   1636\u001b[0m     \u001b[38;5;28;01mif\u001b[39;00m how \u001b[38;5;129;01min\u001b[39;00m [\u001b[38;5;124m\"\u001b[39m\u001b[38;5;124msum\u001b[39m\u001b[38;5;124m\"\u001b[39m, \u001b[38;5;124m\"\u001b[39m\u001b[38;5;124mprod\u001b[39m\u001b[38;5;124m\"\u001b[39m, \u001b[38;5;124m\"\u001b[39m\u001b[38;5;124mcumsum\u001b[39m\u001b[38;5;124m\"\u001b[39m, \u001b[38;5;124m\"\u001b[39m\u001b[38;5;124mcumprod\u001b[39m\u001b[38;5;124m\"\u001b[39m, \u001b[38;5;124m\"\u001b[39m\u001b[38;5;124mvar\u001b[39m\u001b[38;5;124m\"\u001b[39m, \u001b[38;5;124m\"\u001b[39m\u001b[38;5;124mskew\u001b[39m\u001b[38;5;124m\"\u001b[39m]:\n\u001b[0;32m-> 1637\u001b[0m         \u001b[38;5;28;01mraise\u001b[39;00m \u001b[38;5;167;01mTypeError\u001b[39;00m(\u001b[38;5;124mf\u001b[39m\u001b[38;5;124m\"\u001b[39m\u001b[38;5;124mdatetime64 type does not support \u001b[39m\u001b[38;5;132;01m{\u001b[39;00mhow\u001b[38;5;132;01m}\u001b[39;00m\u001b[38;5;124m operations\u001b[39m\u001b[38;5;124m\"\u001b[39m)\n\u001b[1;32m   1638\u001b[0m     \u001b[38;5;28;01mif\u001b[39;00m how \u001b[38;5;129;01min\u001b[39;00m [\u001b[38;5;124m\"\u001b[39m\u001b[38;5;124many\u001b[39m\u001b[38;5;124m\"\u001b[39m, \u001b[38;5;124m\"\u001b[39m\u001b[38;5;124mall\u001b[39m\u001b[38;5;124m\"\u001b[39m]:\n\u001b[1;32m   1639\u001b[0m         \u001b[38;5;66;03m# GH#34479\u001b[39;00m\n\u001b[1;32m   1640\u001b[0m         warnings\u001b[38;5;241m.\u001b[39mwarn(\n\u001b[1;32m   1641\u001b[0m             \u001b[38;5;124mf\u001b[39m\u001b[38;5;124m\"\u001b[39m\u001b[38;5;124m'\u001b[39m\u001b[38;5;132;01m{\u001b[39;00mhow\u001b[38;5;132;01m}\u001b[39;00m\u001b[38;5;124m'\u001b[39m\u001b[38;5;124m with datetime64 dtypes is deprecated and will raise in a \u001b[39m\u001b[38;5;124m\"\u001b[39m\n\u001b[1;32m   1642\u001b[0m             \u001b[38;5;124mf\u001b[39m\u001b[38;5;124m\"\u001b[39m\u001b[38;5;124mfuture version. Use (obj != pd.Timestamp(0)).\u001b[39m\u001b[38;5;132;01m{\u001b[39;00mhow\u001b[38;5;132;01m}\u001b[39;00m\u001b[38;5;124m() instead.\u001b[39m\u001b[38;5;124m\"\u001b[39m,\n\u001b[1;32m   1643\u001b[0m             \u001b[38;5;167;01mFutureWarning\u001b[39;00m,\n\u001b[1;32m   1644\u001b[0m             stacklevel\u001b[38;5;241m=\u001b[39mfind_stack_level(),\n\u001b[1;32m   1645\u001b[0m         )\n",
      "\u001b[0;31mTypeError\u001b[0m: datetime64 type does not support sum operations"
     ]
    }
   ],
   "source": [
    "ol_df.groupby(\"sku\").sum()"
   ]
  },
  {
   "cell_type": "markdown",
   "metadata": {
    "id": "qxpruL7bV26a"
   },
   "source": [
    "Now, obviously, not all of the information above matters: it's not relevant what the sum of the `id`'s is. So, let's select the `product_quantity` and see how many units of each product were sold:"
   ]
  },
  {
   "cell_type": "code",
   "execution_count": 11,
   "metadata": {
    "colab": {
     "base_uri": "https://localhost:8080/"
    },
    "id": "156UzFjzSpuS",
    "outputId": "fe774226-436a-4eac-8df3-ca837165fe04"
   },
   "outputs": [
    {
     "data": {
      "text/plain": [
       "sku\n",
       "8MO0001-A     2\n",
       "8MO0003-A     3\n",
       "8MO0007      30\n",
       "8MO0008      31\n",
       "8MO0009      30\n",
       "             ..\n",
       "ZAG0041       2\n",
       "ZAG0042       1\n",
       "ZEP0007       5\n",
       "ZEP0008       1\n",
       "par0072      13\n",
       "Name: product_quantity, Length: 6798, dtype: int64"
      ]
     },
     "execution_count": 11,
     "metadata": {},
     "output_type": "execute_result"
    }
   ],
   "source": [
    "ol_df.groupby(\"sku\")[\"product_quantity\"].sum()"
   ]
  },
  {
   "cell_type": "markdown",
   "metadata": {
    "id": "JGyvEWtKWiBn"
   },
   "source": [
    "It can be useful sometimes to sort the values from highest to lowest. With the `.sum()` of `product_quantity` this will help us to see how many of each item we sold in order of quantity."
   ]
  },
  {
   "cell_type": "code",
   "execution_count": 12,
   "metadata": {
    "colab": {
     "base_uri": "https://localhost:8080/"
    },
    "id": "A99m-tRCT9RK",
    "outputId": "369f793c-5a4d-47c1-f02c-cced13eb4fd2"
   },
   "outputs": [
    {
     "data": {
      "text/plain": [
       "sku\n",
       "APP1190      5576\n",
       "APP0698      2337\n",
       "WDT0183      1828\n",
       "APP1922      1663\n",
       "APP0927      1618\n",
       "             ... \n",
       "PAC2241         1\n",
       "JBL0156         1\n",
       "PAC2237         1\n",
       "TIG0018-A       1\n",
       "APP0241-A       1\n",
       "Name: product_quantity, Length: 6798, dtype: int64"
      ]
     },
     "execution_count": 12,
     "metadata": {},
     "output_type": "execute_result"
    }
   ],
   "source": [
    "(\n",
    "    ol_df\n",
    "    .groupby(\"sku\")[\"product_quantity\"]\n",
    "    .sum()\n",
    "    .sort_values(ascending=False)\n",
    ")"
   ]
  },
  {
   "cell_type": "markdown",
   "metadata": {
    "id": "D58-EP0Snmi-"
   },
   "source": [
    "Or if you wish for only a certain number of the largest of smallest numbers, remember you can use `.nlargest()` or `.nsmallest()`"
   ]
  },
  {
   "cell_type": "code",
   "execution_count": 13,
   "metadata": {
    "colab": {
     "base_uri": "https://localhost:8080/"
    },
    "id": "jPKxQPDen0tO",
    "outputId": "f3e1f82e-b195-4320-b09b-04713ca15889"
   },
   "outputs": [
    {
     "data": {
      "text/plain": [
       "sku\n",
       "APP1190    5576\n",
       "APP0698    2337\n",
       "WDT0183    1828\n",
       "APP1922    1663\n",
       "APP0927    1618\n",
       "Name: product_quantity, dtype: int64"
      ]
     },
     "execution_count": 13,
     "metadata": {},
     "output_type": "execute_result"
    }
   ],
   "source": [
    "(\n",
    "    ol_df\n",
    "    .groupby(\"sku\")[\"product_quantity\"]\n",
    "    .sum()\n",
    "    .nlargest(5)\n",
    ")"
   ]
  },
  {
   "cell_type": "markdown",
   "metadata": {
    "id": "A8fNKlbMkC9c"
   },
   "source": [
    "### 1.1.&nbsp; List of aggregates\n",
    "\n",
    "It is possible to use many different aggregates besides just `.sum()` and `.count()`. A full list can be found [here](https://pandas.pydata.org/docs/reference/groupby.html), and below are a few of the most useful.\n",
    "\n",
    "* `.count()` – Number of non-null observations\n",
    "* `.sum()` – Sum of values\n",
    "* `.mean()` – Mean of values\n",
    "* `.median()` – Median of values\n",
    "* `.min()` – Minimum\n",
    "* `.max()` – Maximum\n",
    "* `.std()` – Standard deviation"
   ]
  },
  {
   "cell_type": "markdown",
   "metadata": {
    "id": "2hCaahyEki_6"
   },
   "source": [
    "### 1.2.&nbsp; `.agg()`\n",
    "We are not restricted to only using one aggregate at a time. We can use the `.agg()` method to see multiple aggregates at once."
   ]
  },
  {
   "cell_type": "markdown",
   "metadata": {
    "id": "_4uueTuf_Ypk"
   },
   "source": [
    "#### 1.2.1.&nbsp; multiple aggregates for one column\n",
    "Here we first `.groupby()` the `sku`'s, then take the column `product quantity`, and look at both the `.sum()` and `.count()` of `product_quantity`. We also here reduced our DataFrame to the 10 largest `sku`\"s according to the `.sum()` of `product_quantity`.\n",
    "\n",
    "> **Tip:** when working with many Pandas methods chained one after the other, wrap all the statement in parenthesis and add a line break before any `.method()`. It will improve the readability of the code*"
   ]
  },
  {
   "cell_type": "code",
   "execution_count": 14,
   "metadata": {
    "colab": {
     "base_uri": "https://localhost:8080/",
     "height": 394
    },
    "id": "AMktUr14kGv0",
    "outputId": "51b80c77-4440-4ec0-f9dc-d1e498d5af40"
   },
   "outputs": [
    {
     "data": {
      "text/html": [
       "<div>\n",
       "<style scoped>\n",
       "    .dataframe tbody tr th:only-of-type {\n",
       "        vertical-align: middle;\n",
       "    }\n",
       "\n",
       "    .dataframe tbody tr th {\n",
       "        vertical-align: top;\n",
       "    }\n",
       "\n",
       "    .dataframe thead th {\n",
       "        text-align: right;\n",
       "    }\n",
       "</style>\n",
       "<table border=\"1\" class=\"dataframe\">\n",
       "  <thead>\n",
       "    <tr style=\"text-align: right;\">\n",
       "      <th></th>\n",
       "      <th>sum</th>\n",
       "      <th>count</th>\n",
       "    </tr>\n",
       "    <tr>\n",
       "      <th>sku</th>\n",
       "      <th></th>\n",
       "      <th></th>\n",
       "    </tr>\n",
       "  </thead>\n",
       "  <tbody>\n",
       "    <tr>\n",
       "      <th>APP1190</th>\n",
       "      <td>5576</td>\n",
       "      <td>4306</td>\n",
       "    </tr>\n",
       "    <tr>\n",
       "      <th>APP0698</th>\n",
       "      <td>2337</td>\n",
       "      <td>1615</td>\n",
       "    </tr>\n",
       "    <tr>\n",
       "      <th>WDT0183</th>\n",
       "      <td>1828</td>\n",
       "      <td>1124</td>\n",
       "    </tr>\n",
       "    <tr>\n",
       "      <th>APP1922</th>\n",
       "      <td>1663</td>\n",
       "      <td>1560</td>\n",
       "    </tr>\n",
       "    <tr>\n",
       "      <th>APP0927</th>\n",
       "      <td>1618</td>\n",
       "      <td>1369</td>\n",
       "    </tr>\n",
       "    <tr>\n",
       "      <th>SAM0074</th>\n",
       "      <td>1346</td>\n",
       "      <td>1259</td>\n",
       "    </tr>\n",
       "    <tr>\n",
       "      <th>APP1970</th>\n",
       "      <td>1182</td>\n",
       "      <td>1007</td>\n",
       "    </tr>\n",
       "    <tr>\n",
       "      <th>APP1221</th>\n",
       "      <td>1131</td>\n",
       "      <td>1108</td>\n",
       "    </tr>\n",
       "    <tr>\n",
       "      <th>CRU0051</th>\n",
       "      <td>1122</td>\n",
       "      <td>948</td>\n",
       "    </tr>\n",
       "    <tr>\n",
       "      <th>WDT0141</th>\n",
       "      <td>1048</td>\n",
       "      <td>671</td>\n",
       "    </tr>\n",
       "  </tbody>\n",
       "</table>\n",
       "</div>"
      ],
      "text/plain": [
       "          sum  count\n",
       "sku                 \n",
       "APP1190  5576   4306\n",
       "APP0698  2337   1615\n",
       "WDT0183  1828   1124\n",
       "APP1922  1663   1560\n",
       "APP0927  1618   1369\n",
       "SAM0074  1346   1259\n",
       "APP1970  1182   1007\n",
       "APP1221  1131   1108\n",
       "CRU0051  1122    948\n",
       "WDT0141  1048    671"
      ]
     },
     "execution_count": 14,
     "metadata": {},
     "output_type": "execute_result"
    }
   ],
   "source": [
    "(\n",
    "    ol_df\n",
    "    .groupby(\"sku\")[\"product_quantity\"]\n",
    "    .agg([\"sum\", \"count\"])\n",
    "    .nlargest(10, \"sum\")\n",
    ")"
   ]
  },
  {
   "cell_type": "markdown",
   "metadata": {
    "id": "5TqpcLupNU7n"
   },
   "source": [
    "#### 1.2.2.&nbsp; mutliple aggregates for more than one column\n",
    "Not only can we look at multiple aggregates for one column. We can also look at multiple aggregates over multiple columns. Here we again `.groupby()` `sku` and take the `.sum()` and `.count()` of `product_quantity`, **and also** look at the `.mean()` of the `unit_price`."
   ]
  },
  {
   "cell_type": "code",
   "execution_count": 15,
   "metadata": {
    "colab": {
     "base_uri": "https://localhost:8080/",
     "height": 425
    },
    "id": "yGPFDBBl35VV",
    "outputId": "4e10043e-1950-416d-cb1c-a070f17f58af"
   },
   "outputs": [
    {
     "data": {
      "text/html": [
       "<div>\n",
       "<style scoped>\n",
       "    .dataframe tbody tr th:only-of-type {\n",
       "        vertical-align: middle;\n",
       "    }\n",
       "\n",
       "    .dataframe tbody tr th {\n",
       "        vertical-align: top;\n",
       "    }\n",
       "\n",
       "    .dataframe thead tr th {\n",
       "        text-align: left;\n",
       "    }\n",
       "\n",
       "    .dataframe thead tr:last-of-type th {\n",
       "        text-align: right;\n",
       "    }\n",
       "</style>\n",
       "<table border=\"1\" class=\"dataframe\">\n",
       "  <thead>\n",
       "    <tr>\n",
       "      <th></th>\n",
       "      <th colspan=\"2\" halign=\"left\">product_quantity</th>\n",
       "      <th>unit_price</th>\n",
       "    </tr>\n",
       "    <tr>\n",
       "      <th></th>\n",
       "      <th>sum</th>\n",
       "      <th>count</th>\n",
       "      <th>mean</th>\n",
       "    </tr>\n",
       "    <tr>\n",
       "      <th>sku</th>\n",
       "      <th></th>\n",
       "      <th></th>\n",
       "      <th></th>\n",
       "    </tr>\n",
       "  </thead>\n",
       "  <tbody>\n",
       "    <tr>\n",
       "      <th>APP1190</th>\n",
       "      <td>5576</td>\n",
       "      <td>4306</td>\n",
       "      <td>56.014057</td>\n",
       "    </tr>\n",
       "    <tr>\n",
       "      <th>APP0698</th>\n",
       "      <td>2337</td>\n",
       "      <td>1615</td>\n",
       "      <td>10.116279</td>\n",
       "    </tr>\n",
       "    <tr>\n",
       "      <th>WDT0183</th>\n",
       "      <td>1828</td>\n",
       "      <td>1124</td>\n",
       "      <td>139.061770</td>\n",
       "    </tr>\n",
       "    <tr>\n",
       "      <th>APP1922</th>\n",
       "      <td>1663</td>\n",
       "      <td>1560</td>\n",
       "      <td>162.143968</td>\n",
       "    </tr>\n",
       "    <tr>\n",
       "      <th>APP0927</th>\n",
       "      <td>1618</td>\n",
       "      <td>1369</td>\n",
       "      <td>17.038773</td>\n",
       "    </tr>\n",
       "    <tr>\n",
       "      <th>SAM0074</th>\n",
       "      <td>1346</td>\n",
       "      <td>1259</td>\n",
       "      <td>152.823606</td>\n",
       "    </tr>\n",
       "    <tr>\n",
       "      <th>APP1970</th>\n",
       "      <td>1182</td>\n",
       "      <td>1007</td>\n",
       "      <td>362.970417</td>\n",
       "    </tr>\n",
       "    <tr>\n",
       "      <th>APP1221</th>\n",
       "      <td>1131</td>\n",
       "      <td>1108</td>\n",
       "      <td>106.131146</td>\n",
       "    </tr>\n",
       "    <tr>\n",
       "      <th>CRU0051</th>\n",
       "      <td>1122</td>\n",
       "      <td>948</td>\n",
       "      <td>140.734863</td>\n",
       "    </tr>\n",
       "    <tr>\n",
       "      <th>WDT0141</th>\n",
       "      <td>1048</td>\n",
       "      <td>671</td>\n",
       "      <td>109.266259</td>\n",
       "    </tr>\n",
       "  </tbody>\n",
       "</table>\n",
       "</div>"
      ],
      "text/plain": [
       "        product_quantity        unit_price\n",
       "                     sum count        mean\n",
       "sku                                       \n",
       "APP1190             5576  4306   56.014057\n",
       "APP0698             2337  1615   10.116279\n",
       "WDT0183             1828  1124  139.061770\n",
       "APP1922             1663  1560  162.143968\n",
       "APP0927             1618  1369   17.038773\n",
       "SAM0074             1346  1259  152.823606\n",
       "APP1970             1182  1007  362.970417\n",
       "APP1221             1131  1108  106.131146\n",
       "CRU0051             1122   948  140.734863\n",
       "WDT0141             1048   671  109.266259"
      ]
     },
     "execution_count": 15,
     "metadata": {},
     "output_type": "execute_result"
    }
   ],
   "source": [
    "(\n",
    "    ol_df\n",
    "    .groupby(\"sku\")\n",
    "    .agg({\"product_quantity\": [\"sum\", \"count\"], \"unit_price\": \"mean\"})\n",
    "    .nlargest(10, (\"product_quantity\", \"sum\"))\n",
    ")"
   ]
  },
  {
   "cell_type": "markdown",
   "metadata": {
    "id": "VtQqcHUj2bxn"
   },
   "source": [
    "## 2.&nbsp; `.groupby()` multiple features\n",
    "It's also possible to `.groupby()` multiple categories. Let's see how many products we sold each month."
   ]
  },
  {
   "cell_type": "code",
   "execution_count": 16,
   "metadata": {
    "colab": {
     "base_uri": "https://localhost:8080/"
    },
    "id": "Gx3zB61ZX_NM",
    "outputId": "b944baa3-134f-40b1-a429-35612085e95e"
   },
   "outputs": [
    {
     "data": {
      "text/plain": [
       "date  date\n",
       "2017  1       22363\n",
       "      2       14616\n",
       "      3       12443\n",
       "      4       13781\n",
       "      5       11665\n",
       "      6       11221\n",
       "      7       15347\n",
       "      8       11530\n",
       "      9       12213\n",
       "      10      15387\n",
       "      11      33082\n",
       "      12      24455\n",
       "2018  1       23810\n",
       "      2       15831\n",
       "      3        8067\n",
       "Name: product_quantity, dtype: int64"
      ]
     },
     "execution_count": 16,
     "metadata": {},
     "output_type": "execute_result"
    }
   ],
   "source": [
    "(\n",
    "    ol_df\n",
    "    .groupby([ol_df[\"date\"].dt.year,\n",
    "              ol_df[\"date\"].dt.month])[\"product_quantity\"]\n",
    "    .sum()\n",
    " )"
   ]
  },
  {
   "cell_type": "markdown",
   "metadata": {
    "id": "5eCJ-0YCqdMH"
   },
   "source": [
    "Looks like the end of the year and the begining of the year are the busiest times."
   ]
  },
  {
   "cell_type": "markdown",
   "metadata": {
    "id": "fhSTALCdHNs4"
   },
   "source": [
    "### 1.4.&nbsp; `.groupby()` aggregate plotting\n",
    "It's also possible to quickly plot aggregates with `.groupby()`, which can help us better understand the data. Let's plot the above values showing how many products we sold each month."
   ]
  },
  {
   "cell_type": "code",
   "execution_count": 17,
   "metadata": {
    "colab": {
     "base_uri": "https://localhost:8080/",
     "height": 503
    },
    "id": "fYcSi8rbvqkc",
    "outputId": "e4b82946-088c-4cd5-d283-b4061d0fd3f6"
   },
   "outputs": [
    {
     "data": {
      "image/png": "[encoded data removed]",
      "text/plain": [
       "<Figure size 800x600 with 1 Axes>"
      ]
     },
     "metadata": {},
     "output_type": "display_data"
    }
   ],
   "source": [
    "(\n",
    "    ol_df.groupby([ol_df[\"date\"].dt.year,\n",
    "                   ol_df[\"date\"].dt.month])[\"product_quantity\"]\n",
    "    .sum()\n",
    "    .plot(figsize=(8, 6))\n",
    ");"
   ]
  },
  {
   "cell_type": "markdown",
   "metadata": {
    "id": "6LDe4vd8wOJS"
   },
   "source": [
    "## 3.&nbsp; `.resample()`\n",
    "\n",
    "Resampling allows us to easily aggregate time series data. When using `.resample()`, we have to define:\n",
    "- The frequency of time for which to group the data (e.g. 5 minutely, hourly, daily...) expressed as a \"frequency string\" (`\"W\"` for weekly, `\"M\"` for monthly...). Find all available frequency strings [here](https://pandas.pydata.org/pandas-docs/stable/user_guide/timeseries.html#dateoffset-objects).\n",
    "- The column with the dates group by needs to be passed to the `on` parameter (unless you want group by the index).\n",
    "- The aggregate function (`sum()`, `count()`, `mean()`...)\n",
    "- The numerical column/s to aggregate.\n",
    "\n",
    "With this we can easily recreate our groupby above, where we looked at the amount of products sold each month. The date displayed is the last day of the given month."
   ]
  },
  {
   "cell_type": "code",
   "execution_count": 18,
   "metadata": {
    "colab": {
     "base_uri": "https://localhost:8080/"
    },
    "id": "R8hb5n2zwfct",
    "outputId": "991a76f0-0bb6-465d-8c82-2306b011a6db"
   },
   "outputs": [
    {
     "data": {
      "text/plain": [
       "date\n",
       "2017-11-30    33082\n",
       "2017-12-31    24455\n",
       "2018-01-31    23810\n",
       "2017-01-31    22363\n",
       "2018-02-28    15831\n",
       "2017-10-31    15387\n",
       "2017-07-31    15347\n",
       "2017-02-28    14616\n",
       "2017-04-30    13781\n",
       "2017-03-31    12443\n",
       "2017-09-30    12213\n",
       "2017-05-31    11665\n",
       "2017-08-31    11530\n",
       "2017-06-30    11221\n",
       "2018-03-31     8067\n",
       "Name: product_quantity, dtype: int64"
      ]
     },
     "execution_count": 18,
     "metadata": {},
     "output_type": "execute_result"
    }
   ],
   "source": [
    "(\n",
    "    ol_df\n",
    "    .resample(\"M\", on=\"date\")[\"product_quantity\"]\n",
    "    .sum()\n",
    "    .sort_values(ascending=False)\n",
    ")"
   ]
  },
  {
   "cell_type": "code",
   "execution_count": 19,
   "metadata": {
    "colab": {
     "base_uri": "https://localhost:8080/"
    },
    "id": "R8hb5n2zwfct",
    "outputId": "991a76f0-0bb6-465d-8c82-2306b011a6db"
   },
   "outputs": [
    {
     "data": {
      "text/html": [
       "<div>\n",
       "<style scoped>\n",
       "    .dataframe tbody tr th:only-of-type {\n",
       "        vertical-align: middle;\n",
       "    }\n",
       "\n",
       "    .dataframe tbody tr th {\n",
       "        vertical-align: top;\n",
       "    }\n",
       "\n",
       "    .dataframe thead th {\n",
       "        text-align: right;\n",
       "    }\n",
       "</style>\n",
       "<table border=\"1\" class=\"dataframe\">\n",
       "  <thead>\n",
       "    <tr style=\"text-align: right;\">\n",
       "      <th></th>\n",
       "      <th>product_quantity</th>\n",
       "    </tr>\n",
       "    <tr>\n",
       "      <th>date</th>\n",
       "      <th></th>\n",
       "    </tr>\n",
       "  </thead>\n",
       "  <tbody>\n",
       "    <tr>\n",
       "      <th>2017-01-01 22:36:45</th>\n",
       "      <td>76</td>\n",
       "    </tr>\n",
       "    <tr>\n",
       "      <th>2017-01-01 20:06:00</th>\n",
       "      <td>122</td>\n",
       "    </tr>\n",
       "    <tr>\n",
       "      <th>2017-01-01 17:35:15</th>\n",
       "      <td>105</td>\n",
       "    </tr>\n",
       "    <tr>\n",
       "      <th>2017-01-01 15:04:30</th>\n",
       "      <td>74</td>\n",
       "    </tr>\n",
       "    <tr>\n",
       "      <th>2017-01-01 12:33:45</th>\n",
       "      <td>78</td>\n",
       "    </tr>\n",
       "    <tr>\n",
       "      <th>2017-01-01 10:03:00</th>\n",
       "      <td>77</td>\n",
       "    </tr>\n",
       "    <tr>\n",
       "      <th>2017-01-01 07:32:15</th>\n",
       "      <td>27</td>\n",
       "    </tr>\n",
       "    <tr>\n",
       "      <th>2017-01-01 05:01:30</th>\n",
       "      <td>3</td>\n",
       "    </tr>\n",
       "    <tr>\n",
       "      <th>2017-01-01 02:30:45</th>\n",
       "      <td>15</td>\n",
       "    </tr>\n",
       "    <tr>\n",
       "      <th>2017-01-01 00:00:00</th>\n",
       "      <td>32</td>\n",
       "    </tr>\n",
       "  </tbody>\n",
       "</table>\n",
       "</div>"
      ],
      "text/plain": [
       "                     product_quantity\n",
       "date                                 \n",
       "2017-01-01 22:36:45                76\n",
       "2017-01-01 20:06:00               122\n",
       "2017-01-01 17:35:15               105\n",
       "2017-01-01 15:04:30                74\n",
       "2017-01-01 12:33:45                78\n",
       "2017-01-01 10:03:00                77\n",
       "2017-01-01 07:32:15                27\n",
       "2017-01-01 05:01:30                 3\n",
       "2017-01-01 02:30:45                15\n",
       "2017-01-01 00:00:00                32"
      ]
     },
     "execution_count": 19,
     "metadata": {},
     "output_type": "execute_result"
    }
   ],
   "source": [
    "(\n",
    "    ol_df.loc[ol_df[\"date\"].between(\"2017-01-1\", \"2017-01-02\"), :]\n",
    "    .resample(\"2H30min45s\", on=\"date\")[[\"product_quantity\"]]\n",
    "    .sum()\n",
    "    .sort_values(by='date', ascending=False)\n",
    ")#.count()"
   ]
  },
  {
   "cell_type": "markdown",
   "metadata": {
    "id": "HL0K2INaC5TC"
   },
   "source": [
    "We can also quickly plot a daily graph for the amount of products sold."
   ]
  },
  {
   "cell_type": "code",
   "execution_count": 20,
   "metadata": {
    "colab": {
     "base_uri": "https://localhost:8080/",
     "height": 524
    },
    "id": "mJylW2glwdge",
    "outputId": "cdc6c122-94f8-4a33-cca9-478774ec3e92"
   },
   "outputs": [
    {
     "data": {
      "image/png": "[encoded data removed]",
      "text/plain": [
       "<Figure size 1200x800 with 1 Axes>"
      ]
     },
     "metadata": {},
     "output_type": "display_data"
    }
   ],
   "source": [
    "(\n",
    "    ol_df\n",
    "    .resample(\"1H\", on=\"date\")\n",
    "    .sum()[\"product_quantity\"]\n",
    "    .plot(figsize=(12, 8))\n",
    " );"
   ]
  },
  {
   "cell_type": "markdown",
   "metadata": {
    "id": "WFFTrGagraNu"
   },
   "source": [
    "We can create the same graph as above using `.groupby()`, it just takes a little more code"
   ]
  },
  {
   "cell_type": "code",
   "execution_count": 21,
   "metadata": {
    "colab": {
     "base_uri": "https://localhost:8080/",
     "height": 458
    },
    "id": "L7LQ7w6Qrlnb",
    "outputId": "feb2ea1e-fa19-437c-e362-326c6ed70a9d"
   },
   "outputs": [
    {
     "data": {
      "image/png": "[encoded data removed]",
      "text/plain": [
       "<Figure size 1200x800 with 1 Axes>"
      ]
     },
     "metadata": {},
     "output_type": "display_data"
    }
   ],
   "source": [
    "(\n",
    "    ol_df\n",
    "    .groupby([ol_df.date.dt.year,\n",
    "              ol_df.date.dt.month,\n",
    "              ol_df.date.dt.day])[\"product_quantity\"]\n",
    "    .sum()\n",
    "    .plot(figsize=(12, 8))\n",
    " );"
   ]
  },
  {
   "cell_type": "code",
   "execution_count": 22,
   "metadata": {
    "colab": {
     "base_uri": "https://localhost:8080/",
     "height": 458
    },
    "id": "L7LQ7w6Qrlnb",
    "outputId": "feb2ea1e-fa19-437c-e362-326c6ed70a9d"
   },
   "outputs": [
    {
     "data": {
      "text/plain": [
       "date  date  date\n",
       "2017  11    24      6055\n",
       "            23      3866\n",
       "            27      3645\n",
       "            26      2293\n",
       "            25      2250\n",
       "            22      1926\n",
       "2018  1     2       1506\n",
       "2017  12    27      1490\n",
       "            28      1484\n",
       "2018  1     8       1296\n",
       "2017  12    29      1255\n",
       "            26      1252\n",
       "      4     25      1238\n",
       "      1     9       1216\n",
       "            2       1210\n",
       "Name: product_quantity, dtype: int64"
      ]
     },
     "execution_count": 22,
     "metadata": {},
     "output_type": "execute_result"
    }
   ],
   "source": [
    "ol_df.groupby([ ol_df.date.dt.year,\n",
    "                ol_df.date.dt.month,\n",
    "                ol_df.date.dt.day])[\"product_quantity\"].sum().nlargest(15)"
   ]
  },
  {
   "cell_type": "markdown",
   "metadata": {
    "id": "zMBquCgarx0E"
   },
   "source": [
    "As you can see from the x-axis of the two charts above, `.resample()` works a little more inuitvely when you want to group by datetimes. This isn't to say that you cannot use `.groupby()` with datetimes, of course you can. `.resample()` just provides us with a little extra flexibility to group datetime by specific groups. For example, you can create `.resample()` input strings such as `2H20min` for groups of 2 hours 20minutes, `3min` for groups of 3 minutes, `1D3H` for 1 day 3hours etc..."
   ]
  },
  {
   "cell_type": "markdown",
   "metadata": {
    "id": "m050CtFNk0aG"
   },
   "source": [
    "# Challenges"
   ]
  },
  {
   "cell_type": "code",
   "execution_count": 23,
   "metadata": {},
   "outputs": [
    {
     "name": "stdout",
     "output_type": "stream",
     "text": [
      "<class 'pandas.core.frame.DataFrame'>\n",
      "RangeIndex: 216250 entries, 0 to 216249\n",
      "Data columns (total 7 columns):\n",
      " #   Column            Non-Null Count   Dtype         \n",
      "---  ------            --------------   -----         \n",
      " 0   id                216250 non-null  int64         \n",
      " 1   id_order          216250 non-null  int64         \n",
      " 2   product_id        216250 non-null  int64         \n",
      " 3   product_quantity  216250 non-null  int64         \n",
      " 4   sku               216250 non-null  object        \n",
      " 5   unit_price        216250 non-null  float64       \n",
      " 6   date              216250 non-null  datetime64[ns]\n",
      "dtypes: datetime64[ns](1), float64(1), int64(4), object(1)\n",
      "memory usage: 11.5+ MB\n"
     ]
    }
   ],
   "source": [
    "ol_df.info()"
   ]
  },
  {
   "cell_type": "markdown",
   "metadata": {
    "id": "qzK9J3B2mWyT"
   },
   "source": [
    "## Challenge 1. What are the top 8 most sold products?"
   ]
  },
  {
   "cell_type": "code",
   "execution_count": 24,
   "metadata": {
    "id": "ykMv1QQN5Ujx"
   },
   "outputs": [
    {
     "data": {
      "text/plain": [
       "sku\n",
       "APP1190    5576\n",
       "APP0698    2337\n",
       "WDT0183    1828\n",
       "APP1922    1663\n",
       "APP0927    1618\n",
       "SAM0074    1346\n",
       "APP1970    1182\n",
       "APP1221    1131\n",
       "Name: product_quantity, dtype: int64"
      ]
     },
     "execution_count": 24,
     "metadata": {},
     "output_type": "execute_result"
    }
   ],
   "source": [
    "# your code here\n",
    "ol_df.groupby('sku')['product_quantity'].sum().nlargest(8)"
   ]
  },
  {
   "cell_type": "markdown",
   "metadata": {
    "id": "PXYMOnwWyfkf"
   },
   "source": [
    "## Challenge 2. How many products did each of the 5 largest orders contain?"
   ]
  },
  {
   "cell_type": "code",
   "execution_count": 25,
   "metadata": {
    "id": "EStMw8mQ5hkz"
   },
   "outputs": [
    {
     "data": {
      "text/plain": [
       "id_order\n",
       "346221    999\n",
       "349475    800\n",
       "349133    555\n",
       "335057    202\n",
       "417536    200\n",
       "Name: product_quantity, dtype: int64"
      ]
     },
     "execution_count": 25,
     "metadata": {},
     "output_type": "execute_result"
    }
   ],
   "source": [
    "# your code here\n",
    "ol_df.groupby('id_order')['product_quantity'].sum().nlargest(5)"
   ]
  },
  {
   "cell_type": "code",
   "execution_count": 26,
   "metadata": {},
   "outputs": [
    {
     "data": {
      "text/html": [
       "<div>\n",
       "<style scoped>\n",
       "    .dataframe tbody tr th:only-of-type {\n",
       "        vertical-align: middle;\n",
       "    }\n",
       "\n",
       "    .dataframe tbody tr th {\n",
       "        vertical-align: top;\n",
       "    }\n",
       "\n",
       "    .dataframe thead th {\n",
       "        text-align: right;\n",
       "    }\n",
       "</style>\n",
       "<table border=\"1\" class=\"dataframe\">\n",
       "  <thead>\n",
       "    <tr style=\"text-align: right;\">\n",
       "      <th></th>\n",
       "      <th>id</th>\n",
       "      <th>id_order</th>\n",
       "      <th>product_id</th>\n",
       "      <th>product_quantity</th>\n",
       "      <th>sku</th>\n",
       "      <th>unit_price</th>\n",
       "      <th>date</th>\n",
       "    </tr>\n",
       "  </thead>\n",
       "  <tbody>\n",
       "    <tr>\n",
       "      <th>36697</th>\n",
       "      <td>1204788</td>\n",
       "      <td>335057</td>\n",
       "      <td>0</td>\n",
       "      <td>201</td>\n",
       "      <td>THU0029</td>\n",
       "      <td>80.99</td>\n",
       "      <td>2017-03-14 15:25:53</td>\n",
       "    </tr>\n",
       "    <tr>\n",
       "      <th>36698</th>\n",
       "      <td>1204789</td>\n",
       "      <td>335057</td>\n",
       "      <td>0</td>\n",
       "      <td>1</td>\n",
       "      <td>THU0031</td>\n",
       "      <td>80.99</td>\n",
       "      <td>2017-03-14 15:28:16</td>\n",
       "    </tr>\n",
       "  </tbody>\n",
       "</table>\n",
       "</div>"
      ],
      "text/plain": [
       "            id  id_order  product_id  product_quantity      sku  unit_price  \\\n",
       "36697  1204788    335057           0               201  THU0029       80.99   \n",
       "36698  1204789    335057           0                 1  THU0031       80.99   \n",
       "\n",
       "                     date  \n",
       "36697 2017-03-14 15:25:53  \n",
       "36698 2017-03-14 15:28:16  "
      ]
     },
     "execution_count": 26,
     "metadata": {},
     "output_type": "execute_result"
    }
   ],
   "source": [
    "ol_df.loc[ol_df['id_order']==335057]"
   ]
  },
  {
   "cell_type": "markdown",
   "metadata": {
    "id": "4LhlPkykEOZT"
   },
   "source": [
    "## Challenge 3. We want to see how busy the days of the week are to know when we need more staff. Rank the days of the week from busiest to least busiest.\n",
    "Bonus points for using your pandas plotting skills."
   ]
  },
  {
   "cell_type": "code",
   "execution_count": 27,
   "metadata": {},
   "outputs": [
    {
     "data": {
      "text/plain": [
       "date\n",
       "0    15401244013\n",
       "1    13387814759\n",
       "2    14282432231\n",
       "3    12633253656\n",
       "4    14175749375\n",
       "5     8622598901\n",
       "6     9936105526\n",
       "Name: id_order, dtype: int64"
      ]
     },
     "execution_count": 27,
     "metadata": {},
     "output_type": "execute_result"
    }
   ],
   "source": [
    "ol_df.groupby([ol_df.date.dt.weekday])[\"id_order\"].sum()"
   ]
  },
  {
   "cell_type": "code",
   "execution_count": 35,
   "metadata": {
    "id": "vJFw9Tmrvswv"
   },
   "outputs": [
    {
     "data": {
      "image/png": "[encoded data removed]",
      "text/plain": [
       "<Figure size 640x480 with 1 Axes>"
      ]
     },
     "metadata": {},
     "output_type": "display_data"
    }
   ],
   "source": [
    "# your code here\n",
    "#ol_df.groupby([ol_df.date.dt.weekday])[\"id_order\"].sum().plot(figsize=(6, 4))\n",
    "\n",
    "weeekdays = ol_df.groupby([ol_df.date.dt.weekday])[\"id_order\"].sum()\n",
    "top_3_days = weeekdays.nlargest(3)\n",
    "\n",
    "color_pattern = ['b'\n",
    "                  if day in top_3_days.index\n",
    "                  else 'y'\n",
    "                      for day in weeekdays.index ]\n",
    "\n",
    "\n",
    "ol_df.groupby([ol_df.date.dt.weekday])[\"id_order\"].sum().plot.bar(color=color_pattern);"
   ]
  },
  {
   "cell_type": "markdown",
   "metadata": {
    "id": "lO2HC3vYzBB3"
   },
   "source": [
    "## Challenge 4. Which brands sell the most products?"
   ]
  },
  {
   "cell_type": "code",
   "execution_count": 29,
   "metadata": {
    "id": "0lPd1Y_ZIhkD"
   },
   "outputs": [
    {
     "name": "stdout",
     "output_type": "stream",
     "text": [
      "<class 'pandas.core.frame.DataFrame'>\n",
      "RangeIndex: 216250 entries, 0 to 216249\n",
      "Data columns (total 7 columns):\n",
      " #   Column            Non-Null Count   Dtype         \n",
      "---  ------            --------------   -----         \n",
      " 0   id                216250 non-null  int64         \n",
      " 1   id_order          216250 non-null  int64         \n",
      " 2   product_id        216250 non-null  int64         \n",
      " 3   product_quantity  216250 non-null  int64         \n",
      " 4   sku               216250 non-null  object        \n",
      " 5   unit_price        216250 non-null  float64       \n",
      " 6   date              216250 non-null  datetime64[ns]\n",
      "dtypes: datetime64[ns](1), float64(1), int64(4), object(1)\n",
      "memory usage: 11.5+ MB\n"
     ]
    }
   ],
   "source": [
    "# your code here\n",
    "ol_df.info()"
   ]
  },
  {
   "cell_type": "code",
   "execution_count": 30,
   "metadata": {},
   "outputs": [
    {
     "data": {
      "text/plain": [
       "sku\n",
       "APP    55118\n",
       "OWC    12069\n",
       "WDT     9821\n",
       "PAC     8004\n",
       "CRU     7955\n",
       "Name: product_quantity, dtype: int64"
      ]
     },
     "execution_count": 30,
     "metadata": {},
     "output_type": "execute_result"
    }
   ],
   "source": [
    "ol_df.groupby(ol_df['sku'].str[:3])['product_quantity'].sum().nlargest()\n",
    "# TODO improvement: merge: orderlines.sku(first 3 letters) == brands.short"
   ]
  },
  {
   "cell_type": "markdown",
   "metadata": {
    "id": "Nwvy0aVmQl_v"
   },
   "source": [
    "## Challenge 5. Plot a line chart for the amount of orders each hour of November 2017"
   ]
  },
  {
   "cell_type": "code",
   "execution_count": 31,
   "metadata": {
    "id": "GTYN3cYAIjSr"
   },
   "outputs": [
    {
     "data": {
      "image/png": "[encoded data removed]",
      "text/plain": [
       "<Figure size 1000x500 with 1 Axes>"
      ]
     },
     "metadata": {},
     "output_type": "display_data"
    }
   ],
   "source": [
    "# your code here\n",
    "nov_17_ol_df = ol_df.loc[ol_df[\"date\"].dt.strftime(\"%Y-%m\") == \"2017-11\"]\n",
    "(\n",
    "    nov_17_ol_df\n",
    "    .resample(\"1H\", on=\"date\")\n",
    "    .sum()[\"product_quantity\"]\n",
    "    .plot(figsize=(10, 5))\n",
    " );"
   ]
  },
  {
   "cell_type": "code",
   "execution_count": 37,
   "metadata": {},
   "outputs": [
    {
     "data": {
      "text/html": [
       "<div>\n",
       "<style scoped>\n",
       "    .dataframe tbody tr th:only-of-type {\n",
       "        vertical-align: middle;\n",
       "    }\n",
       "\n",
       "    .dataframe tbody tr th {\n",
       "        vertical-align: top;\n",
       "    }\n",
       "\n",
       "    .dataframe thead th {\n",
       "        text-align: right;\n",
       "    }\n",
       "</style>\n",
       "<table border=\"1\" class=\"dataframe\">\n",
       "  <thead>\n",
       "    <tr style=\"text-align: right;\">\n",
       "      <th></th>\n",
       "      <th>id</th>\n",
       "      <th>id_order</th>\n",
       "      <th>product_id</th>\n",
       "      <th>product_quantity</th>\n",
       "      <th>sku</th>\n",
       "      <th>unit_price</th>\n",
       "      <th>date</th>\n",
       "    </tr>\n",
       "  </thead>\n",
       "  <tbody>\n",
       "    <tr>\n",
       "      <th>121228</th>\n",
       "      <td>1394791</td>\n",
       "      <td>420581</td>\n",
       "      <td>0</td>\n",
       "      <td>1</td>\n",
       "      <td>APP2504</td>\n",
       "      <td>391.02</td>\n",
       "      <td>2017-11-01 00:19:03</td>\n",
       "    </tr>\n",
       "    <tr>\n",
       "      <th>121229</th>\n",
       "      <td>1394796</td>\n",
       "      <td>420583</td>\n",
       "      <td>0</td>\n",
       "      <td>1</td>\n",
       "      <td>OWC0194-4</td>\n",
       "      <td>374.99</td>\n",
       "      <td>2017-11-01 00:44:48</td>\n",
       "    </tr>\n",
       "    <tr>\n",
       "      <th>121230</th>\n",
       "      <td>1394801</td>\n",
       "      <td>420586</td>\n",
       "      <td>0</td>\n",
       "      <td>1</td>\n",
       "      <td>PAC2194</td>\n",
       "      <td>255.59</td>\n",
       "      <td>2017-11-01 00:57:03</td>\n",
       "    </tr>\n",
       "    <tr>\n",
       "      <th>121231</th>\n",
       "      <td>1394802</td>\n",
       "      <td>420586</td>\n",
       "      <td>0</td>\n",
       "      <td>1</td>\n",
       "      <td>APP1215</td>\n",
       "      <td>105.00</td>\n",
       "      <td>2017-11-01 00:57:03</td>\n",
       "    </tr>\n",
       "    <tr>\n",
       "      <th>121232</th>\n",
       "      <td>1394803</td>\n",
       "      <td>420586</td>\n",
       "      <td>0</td>\n",
       "      <td>1</td>\n",
       "      <td>APP1214</td>\n",
       "      <td>78.00</td>\n",
       "      <td>2017-11-01 00:57:03</td>\n",
       "    </tr>\n",
       "    <tr>\n",
       "      <th>...</th>\n",
       "      <td>...</td>\n",
       "      <td>...</td>\n",
       "      <td>...</td>\n",
       "      <td>...</td>\n",
       "      <td>...</td>\n",
       "      <td>...</td>\n",
       "      <td>...</td>\n",
       "    </tr>\n",
       "    <tr>\n",
       "      <th>151124</th>\n",
       "      <td>1470650</td>\n",
       "      <td>452966</td>\n",
       "      <td>0</td>\n",
       "      <td>1</td>\n",
       "      <td>BEL0275</td>\n",
       "      <td>14.99</td>\n",
       "      <td>2017-11-30 23:48:45</td>\n",
       "    </tr>\n",
       "    <tr>\n",
       "      <th>151125</th>\n",
       "      <td>1470653</td>\n",
       "      <td>452967</td>\n",
       "      <td>0</td>\n",
       "      <td>1</td>\n",
       "      <td>WAC0225</td>\n",
       "      <td>444.99</td>\n",
       "      <td>2017-11-30 23:49:35</td>\n",
       "    </tr>\n",
       "    <tr>\n",
       "      <th>151126</th>\n",
       "      <td>1470655</td>\n",
       "      <td>452966</td>\n",
       "      <td>0</td>\n",
       "      <td>1</td>\n",
       "      <td>ZAG0034</td>\n",
       "      <td>9.99</td>\n",
       "      <td>2017-11-30 23:52:18</td>\n",
       "    </tr>\n",
       "    <tr>\n",
       "      <th>151127</th>\n",
       "      <td>1470656</td>\n",
       "      <td>452961</td>\n",
       "      <td>0</td>\n",
       "      <td>1</td>\n",
       "      <td>OTT0175</td>\n",
       "      <td>19.99</td>\n",
       "      <td>2017-11-30 23:53:26</td>\n",
       "    </tr>\n",
       "    <tr>\n",
       "      <th>151128</th>\n",
       "      <td>1470659</td>\n",
       "      <td>452969</td>\n",
       "      <td>0</td>\n",
       "      <td>1</td>\n",
       "      <td>JMO0104</td>\n",
       "      <td>19.99</td>\n",
       "      <td>2017-11-30 23:57:33</td>\n",
       "    </tr>\n",
       "  </tbody>\n",
       "</table>\n",
       "<p>29901 rows × 7 columns</p>\n",
       "</div>"
      ],
      "text/plain": [
       "             id  id_order  product_id  product_quantity        sku  \\\n",
       "121228  1394791    420581           0                 1    APP2504   \n",
       "121229  1394796    420583           0                 1  OWC0194-4   \n",
       "121230  1394801    420586           0                 1    PAC2194   \n",
       "121231  1394802    420586           0                 1    APP1215   \n",
       "121232  1394803    420586           0                 1    APP1214   \n",
       "...         ...       ...         ...               ...        ...   \n",
       "151124  1470650    452966           0                 1    BEL0275   \n",
       "151125  1470653    452967           0                 1    WAC0225   \n",
       "151126  1470655    452966           0                 1    ZAG0034   \n",
       "151127  1470656    452961           0                 1    OTT0175   \n",
       "151128  1470659    452969           0                 1    JMO0104   \n",
       "\n",
       "        unit_price                date  \n",
       "121228      391.02 2017-11-01 00:19:03  \n",
       "121229      374.99 2017-11-01 00:44:48  \n",
       "121230      255.59 2017-11-01 00:57:03  \n",
       "121231      105.00 2017-11-01 00:57:03  \n",
       "121232       78.00 2017-11-01 00:57:03  \n",
       "...            ...                 ...  \n",
       "151124       14.99 2017-11-30 23:48:45  \n",
       "151125      444.99 2017-11-30 23:49:35  \n",
       "151126        9.99 2017-11-30 23:52:18  \n",
       "151127       19.99 2017-11-30 23:53:26  \n",
       "151128       19.99 2017-11-30 23:57:33  \n",
       "\n",
       "[29901 rows x 7 columns]"
      ]
     },
     "execution_count": 37,
     "metadata": {},
     "output_type": "execute_result"
    }
   ],
   "source": [
    "nov_17_ol_df = ol_df.loc[ol_df[\"date\"].dt.strftime(\"%Y-%m\") == \"2017-11\"]\n",
    "nov_17_ol_df"
   ]
  },
  {
   "cell_type": "code",
   "execution_count": 38,
   "metadata": {},
   "outputs": [
    {
     "data": {
      "text/plain": [
       "date\n",
       "2017-11-24 12:00:00    434\n",
       "2017-11-24 10:00:00    427\n",
       "2017-11-24 11:00:00    404\n",
       "2017-11-24 18:00:00    391\n",
       "2017-11-24 17:00:00    360\n",
       "Name: product_quantity, dtype: int64"
      ]
     },
     "execution_count": 38,
     "metadata": {},
     "output_type": "execute_result"
    }
   ],
   "source": [
    "nov_17_ol_df.resample(\"1H\", on=\"date\").sum()[\"product_quantity\"].nlargest()"
   ]
  },
  {
   "cell_type": "code",
   "execution_count": null,
   "metadata": {},
   "outputs": [],
   "source": []
  },
  {
   "cell_type": "code",
   "execution_count": null,
   "metadata": {},
   "outputs": [],
   "source": []
  }
 ],
 "metadata": {
  "colab": {
   "provenance": []
  },
  "kernelspec": {
   "display_name": "Python 3 (ipykernel)",
   "language": "python",
   "name": "python3"
  },
  "language_info": {
   "codemirror_mode": {
    "name": "ipython",
    "version": 3
   },
   "file_extension": ".py",
   "mimetype": "text/x-python",
   "name": "python",
   "nbconvert_exporter": "python",
   "pygments_lexer": "ipython3",
   "version": "3.10.12"
  }
 },
 "nbformat": 4,
 "nbformat_minor": 4
}
