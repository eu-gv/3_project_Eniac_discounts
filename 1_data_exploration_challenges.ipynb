{
 "cells": [
  {
   "cell_type": "markdown",
   "id": "b4e61b2f-c7b8-43b0-a245-66814b8ae1ed",
   "metadata": {},
   "source": [
    "# PERSONAL CHEAT-SHEET DataFrames\n",
    "###############################################################################################"
   ]
  },
  {
   "cell_type": "markdown",
   "id": "5d1046f6-38e3-4016-9478-2052101120c2",
   "metadata": {},
   "source": [
    "## TWO WAYS to select values in a DF by a condition:"
   ]
  },
  {
   "cell_type": "code",
   "execution_count": null,
   "id": "03cb4db1-c7eb-48fb-a21c-f29773503c18",
   "metadata": {},
   "outputs": [],
   "source": [
    "#df[ CONDITION ][[ Columns ]] : e.g.:\n",
    "sales[(sales['qty']>24) & (sales['qty']<46)][['ord_num', 'qty']]\n",
    "\n",
    "\n",
    "#df.loc[ CONDITION, [ Columns ]], e.g.:\n",
    "sales.loc[(sales['qty']>24) & (sales['qty']<46), ['ord_num', 'qty']]\n",
    "\n",
    "# further you can also apply these conditions only on specific columns of the df as:\n",
    "#df[specific columns].loc[ CONDITION, [ Columns ]],"
   ]
  },
  {
   "cell_type": "markdown",
   "id": "87d5c22e-edba-4011-96f9-ac1a77b485b0",
   "metadata": {},
   "source": [
    "## create a new column in DataFrame:"
   ]
  },
  {
   "cell_type": "code",
   "execution_count": null,
   "id": "26121a80-c1d4-4417-838b-e50e55374320",
   "metadata": {},
   "outputs": [],
   "source": [
    "titles.loc[titles.price <= 5, ['price_category']] = 'super low'\n",
    "titles.loc[titles.price <= 10, ['price_category']] = 'low'\n",
    "titles.loc[titles.price <= 15, ['price_category']] = 'medium'\n",
    "titles.loc[titles.price > 15, ['price_category']] = 'high'\n",
    "titles.head()"
   ]
  },
  {
   "cell_type": "markdown",
   "id": "f2d9845a-93c3-4228-8488-151112f12c1d",
   "metadata": {},
   "source": [
    "## create a new column in the DataFrame based on a condition:"
   ]
  },
  {
   "cell_type": "code",
   "execution_count": null,
   "id": "20d4b894-2827-400e-95fe-029f298fe619",
   "metadata": {},
   "outputs": [],
   "source": [
    "import numpy as np\n",
    "titles['price_category'] = np.where(titles['price']>15 , 'high price', \n",
    "                                    np.where(titles['price'].between(10,15), 'medium price', \n",
    "                                    np.where(titles['price'].between(5,10), 'low price',  'super low price')))\n",
    "titles.loc[titles['type'].isin(['business','trad_cook','psychology'])].groupby(['pub_id','price_category']).agg({'price':'mean'}).round()"
   ]
  },
  {
   "cell_type": "markdown",
   "id": "cd676685-837a-4755-8573-ecf21a31b9ac",
   "metadata": {},
   "source": [
    "###############################################################################################\n",
    "###############################################################################################\n",
    "###############################################################################################\n",
    "###############################################################################################\n",
    "###############################################################################################"
   ]
  },
  {
   "cell_type": "markdown",
   "id": "s8fhxlKY3G09",
   "metadata": {
    "id": "s8fhxlKY3G09"
   },
   "source": [
    "# A quick recap on Pandas DataFrames\n",
    "\n",
    "Pandas DataFrames are mutable two-dimensional structures of data with labeled axes where:\n",
    "* each row represents a different observation\n",
    "* each column represents a different variable\n",
    "\n",
    "As always, we first need to import the Pandas module:"
   ]
  },
  {
   "cell_type": "code",
   "execution_count": 3,
   "id": "-TpFexIq3G1B",
   "metadata": {
    "id": "-TpFexIq3G1B"
   },
   "outputs": [],
   "source": [
    "import pandas as pd"
   ]
  },
  {
   "cell_type": "markdown",
   "id": "dxOHIz6E3G1F",
   "metadata": {
    "id": "dxOHIz6E3G1F"
   },
   "source": [
    "## 1.&nbsp; Import a csv file to DataFrame\n",
    "\n",
    "Most of the time, you will not be creating DataFrames yourself, but importing (or \"reading\") data from a csv file or a database into a pandas DataFrame. It's easy to do with pandas' read functions. We will read one of the datasets from the Eniac project, which we have stored in a Google Drive folder:"
   ]
  },
  {
   "cell_type": "code",
   "execution_count": 4,
   "id": "86542fe7-30f1-4457-b816-84eca93e86a5",
   "metadata": {
    "id": "jy28BixO3G1G"
   },
   "outputs": [
    {
     "data": {
      "text/html": [
       "<div>\n",
       "<style scoped>\n",
       "    .dataframe tbody tr th:only-of-type {\n",
       "        vertical-align: middle;\n",
       "    }\n",
       "\n",
       "    .dataframe tbody tr th {\n",
       "        vertical-align: top;\n",
       "    }\n",
       "\n",
       "    .dataframe thead th {\n",
       "        text-align: right;\n",
       "    }\n",
       "</style>\n",
       "<table border=\"1\" class=\"dataframe\">\n",
       "  <thead>\n",
       "    <tr style=\"text-align: right;\">\n",
       "      <th></th>\n",
       "      <th>id</th>\n",
       "      <th>id_order</th>\n",
       "      <th>product_id</th>\n",
       "      <th>product_quantity</th>\n",
       "      <th>sku</th>\n",
       "      <th>unit_price</th>\n",
       "      <th>date</th>\n",
       "    </tr>\n",
       "  </thead>\n",
       "  <tbody>\n",
       "    <tr>\n",
       "      <th>0</th>\n",
       "      <td>1119109</td>\n",
       "      <td>299539</td>\n",
       "      <td>0</td>\n",
       "      <td>1</td>\n",
       "      <td>OTT0133</td>\n",
       "      <td>18.99</td>\n",
       "      <td>2017-01-01 00:07:19</td>\n",
       "    </tr>\n",
       "    <tr>\n",
       "      <th>1</th>\n",
       "      <td>1119110</td>\n",
       "      <td>299540</td>\n",
       "      <td>0</td>\n",
       "      <td>1</td>\n",
       "      <td>LGE0043</td>\n",
       "      <td>399.00</td>\n",
       "      <td>2017-01-01 00:19:45</td>\n",
       "    </tr>\n",
       "    <tr>\n",
       "      <th>2</th>\n",
       "      <td>1119111</td>\n",
       "      <td>299541</td>\n",
       "      <td>0</td>\n",
       "      <td>1</td>\n",
       "      <td>PAR0071</td>\n",
       "      <td>474.05</td>\n",
       "      <td>2017-01-01 00:20:57</td>\n",
       "    </tr>\n",
       "    <tr>\n",
       "      <th>3</th>\n",
       "      <td>1119112</td>\n",
       "      <td>299542</td>\n",
       "      <td>0</td>\n",
       "      <td>1</td>\n",
       "      <td>WDT0315</td>\n",
       "      <td>68.39</td>\n",
       "      <td>2017-01-01 00:51:40</td>\n",
       "    </tr>\n",
       "    <tr>\n",
       "      <th>4</th>\n",
       "      <td>1119113</td>\n",
       "      <td>299543</td>\n",
       "      <td>0</td>\n",
       "      <td>1</td>\n",
       "      <td>JBL0104</td>\n",
       "      <td>23.74</td>\n",
       "      <td>2017-01-01 01:06:38</td>\n",
       "    </tr>\n",
       "    <tr>\n",
       "      <th>...</th>\n",
       "      <td>...</td>\n",
       "      <td>...</td>\n",
       "      <td>...</td>\n",
       "      <td>...</td>\n",
       "      <td>...</td>\n",
       "      <td>...</td>\n",
       "      <td>...</td>\n",
       "    </tr>\n",
       "    <tr>\n",
       "      <th>293978</th>\n",
       "      <td>1650199</td>\n",
       "      <td>527398</td>\n",
       "      <td>0</td>\n",
       "      <td>1</td>\n",
       "      <td>JBL0122</td>\n",
       "      <td>42.99</td>\n",
       "      <td>2018-03-14 13:57:25</td>\n",
       "    </tr>\n",
       "    <tr>\n",
       "      <th>293979</th>\n",
       "      <td>1650200</td>\n",
       "      <td>527399</td>\n",
       "      <td>0</td>\n",
       "      <td>1</td>\n",
       "      <td>PAC0653</td>\n",
       "      <td>141.58</td>\n",
       "      <td>2018-03-14 13:57:34</td>\n",
       "    </tr>\n",
       "    <tr>\n",
       "      <th>293980</th>\n",
       "      <td>1650201</td>\n",
       "      <td>527400</td>\n",
       "      <td>0</td>\n",
       "      <td>2</td>\n",
       "      <td>APP0698</td>\n",
       "      <td>9.99</td>\n",
       "      <td>2018-03-14 13:57:41</td>\n",
       "    </tr>\n",
       "    <tr>\n",
       "      <th>293981</th>\n",
       "      <td>1650202</td>\n",
       "      <td>527388</td>\n",
       "      <td>0</td>\n",
       "      <td>1</td>\n",
       "      <td>BEZ0204</td>\n",
       "      <td>19.99</td>\n",
       "      <td>2018-03-14 13:58:01</td>\n",
       "    </tr>\n",
       "    <tr>\n",
       "      <th>293982</th>\n",
       "      <td>1650203</td>\n",
       "      <td>527401</td>\n",
       "      <td>0</td>\n",
       "      <td>1</td>\n",
       "      <td>APP0927</td>\n",
       "      <td>13.99</td>\n",
       "      <td>2018-03-14 13:58:36</td>\n",
       "    </tr>\n",
       "  </tbody>\n",
       "</table>\n",
       "<p>293983 rows × 7 columns</p>\n",
       "</div>"
      ],
      "text/plain": [
       "             id  id_order  product_id  product_quantity      sku unit_price  \\\n",
       "0       1119109    299539           0                 1  OTT0133      18.99   \n",
       "1       1119110    299540           0                 1  LGE0043     399.00   \n",
       "2       1119111    299541           0                 1  PAR0071     474.05   \n",
       "3       1119112    299542           0                 1  WDT0315      68.39   \n",
       "4       1119113    299543           0                 1  JBL0104      23.74   \n",
       "...         ...       ...         ...               ...      ...        ...   \n",
       "293978  1650199    527398           0                 1  JBL0122      42.99   \n",
       "293979  1650200    527399           0                 1  PAC0653     141.58   \n",
       "293980  1650201    527400           0                 2  APP0698       9.99   \n",
       "293981  1650202    527388           0                 1  BEZ0204      19.99   \n",
       "293982  1650203    527401           0                 1  APP0927      13.99   \n",
       "\n",
       "                       date  \n",
       "0       2017-01-01 00:07:19  \n",
       "1       2017-01-01 00:19:45  \n",
       "2       2017-01-01 00:20:57  \n",
       "3       2017-01-01 00:51:40  \n",
       "4       2017-01-01 01:06:38  \n",
       "...                     ...  \n",
       "293978  2018-03-14 13:57:25  \n",
       "293979  2018-03-14 13:57:34  \n",
       "293980  2018-03-14 13:57:41  \n",
       "293981  2018-03-14 13:58:01  \n",
       "293982  2018-03-14 13:58:36  \n",
       "\n",
       "[293983 rows x 7 columns]"
      ]
     },
     "execution_count": 4,
     "metadata": {},
     "output_type": "execute_result"
    }
   ],
   "source": [
    "#url = \"https://drive.google.com/file/d/1FYhN_2AzTBFuWcfHaRuKcuCE6CWXsWtG/view?usp=sharing\" # orderlines.csv\n",
    "#path = \"https://drive.google.com/uc?export=download&id=\"+url.split(\"/\")[-2]\n",
    "#df = pd.read_csv(path)\n",
    "\n",
    "df = pd.read_csv('orderlines.csv')\n",
    "df"
   ]
  },
  {
   "cell_type": "code",
   "execution_count": 15,
   "id": "aef59e37-ae9a-4193-91b0-16c8dfe19232",
   "metadata": {
    "id": "jy28BixO3G1G"
   },
   "outputs": [
    {
     "name": "stdout",
     "output_type": "stream",
     "text": [
      "<class 'pandas.core.frame.DataFrame'>\n",
      "RangeIndex: 187 entries, 0 to 186\n",
      "Data columns (total 2 columns):\n",
      " #   Column  Non-Null Count  Dtype \n",
      "---  ------  --------------  ----- \n",
      " 0   short   187 non-null    object\n",
      " 1   long    187 non-null    object\n",
      "dtypes: object(2)\n",
      "memory usage: 3.0+ KB\n"
     ]
    },
    {
     "data": {
      "text/html": [
       "<div>\n",
       "<style scoped>\n",
       "    .dataframe tbody tr th:only-of-type {\n",
       "        vertical-align: middle;\n",
       "    }\n",
       "\n",
       "    .dataframe tbody tr th {\n",
       "        vertical-align: top;\n",
       "    }\n",
       "\n",
       "    .dataframe thead th {\n",
       "        text-align: right;\n",
       "    }\n",
       "</style>\n",
       "<table border=\"1\" class=\"dataframe\">\n",
       "  <thead>\n",
       "    <tr style=\"text-align: right;\">\n",
       "      <th></th>\n",
       "      <th>short</th>\n",
       "      <th>long</th>\n",
       "    </tr>\n",
       "  </thead>\n",
       "  <tbody>\n",
       "    <tr>\n",
       "      <th>0</th>\n",
       "      <td>8MO</td>\n",
       "      <td>8Mobility</td>\n",
       "    </tr>\n",
       "    <tr>\n",
       "      <th>1</th>\n",
       "      <td>ACM</td>\n",
       "      <td>Acme</td>\n",
       "    </tr>\n",
       "    <tr>\n",
       "      <th>2</th>\n",
       "      <td>ADN</td>\n",
       "      <td>Adonit</td>\n",
       "    </tr>\n",
       "    <tr>\n",
       "      <th>3</th>\n",
       "      <td>AII</td>\n",
       "      <td>Aiino</td>\n",
       "    </tr>\n",
       "    <tr>\n",
       "      <th>4</th>\n",
       "      <td>AKI</td>\n",
       "      <td>Akitio</td>\n",
       "    </tr>\n",
       "    <tr>\n",
       "      <th>...</th>\n",
       "      <td>...</td>\n",
       "      <td>...</td>\n",
       "    </tr>\n",
       "    <tr>\n",
       "      <th>182</th>\n",
       "      <td>XOO</td>\n",
       "      <td>Xoopar</td>\n",
       "    </tr>\n",
       "    <tr>\n",
       "      <th>183</th>\n",
       "      <td>XRI</td>\n",
       "      <td>X-Rite</td>\n",
       "    </tr>\n",
       "    <tr>\n",
       "      <th>184</th>\n",
       "      <td>XTO</td>\n",
       "      <td>Xtorm</td>\n",
       "    </tr>\n",
       "    <tr>\n",
       "      <th>185</th>\n",
       "      <td>ZAG</td>\n",
       "      <td>ZaggKeys</td>\n",
       "    </tr>\n",
       "    <tr>\n",
       "      <th>186</th>\n",
       "      <td>ZEP</td>\n",
       "      <td>Zepp</td>\n",
       "    </tr>\n",
       "  </tbody>\n",
       "</table>\n",
       "<p>187 rows × 2 columns</p>\n",
       "</div>"
      ],
      "text/plain": [
       "    short       long\n",
       "0     8MO  8Mobility\n",
       "1     ACM       Acme\n",
       "2     ADN     Adonit\n",
       "3     AII      Aiino\n",
       "4     AKI     Akitio\n",
       "..    ...        ...\n",
       "182   XOO     Xoopar\n",
       "183   XRI     X-Rite\n",
       "184   XTO      Xtorm\n",
       "185   ZAG   ZaggKeys\n",
       "186   ZEP       Zepp\n",
       "\n",
       "[187 rows x 2 columns]"
      ]
     },
     "execution_count": 15,
     "metadata": {},
     "output_type": "execute_result"
    }
   ],
   "source": [
    "brands = pd.read_csv('brands.csv')\n",
    "brands.info()\n",
    "brands#.head()"
   ]
  },
  {
   "cell_type": "code",
   "execution_count": 37,
   "id": "be5446a2-2101-47d8-9906-2601de9e5146",
   "metadata": {},
   "outputs": [
    {
     "name": "stdout",
     "output_type": "stream",
     "text": [
      "<class 'pandas.core.frame.DataFrame'>\n",
      "RangeIndex: 226909 entries, 0 to 226908\n",
      "Data columns (total 4 columns):\n",
      " #   Column        Non-Null Count   Dtype  \n",
      "---  ------        --------------   -----  \n",
      " 0   order_id      226909 non-null  int64  \n",
      " 1   created_date  226909 non-null  object \n",
      " 2   total_paid    226904 non-null  float64\n",
      " 3   state         226909 non-null  object \n",
      "dtypes: float64(1), int64(1), object(2)\n",
      "memory usage: 6.9+ MB\n"
     ]
    },
    {
     "data": {
      "text/plain": [
       "order_id        226909\n",
       "created_date    224828\n",
       "total_paid       31236\n",
       "state                5\n",
       "dtype: int64"
      ]
     },
     "execution_count": 37,
     "metadata": {},
     "output_type": "execute_result"
    }
   ],
   "source": [
    "orders = pd.read_csv('orders.csv')\n",
    "orders.info()\n",
    "orders.nunique()\n",
    "#orders.state.value_counts()#.sum"
   ]
  },
  {
   "cell_type": "code",
   "execution_count": 120,
   "id": "4b40d1e1-ec25-44e6-9c7b-75f07b67999a",
   "metadata": {},
   "outputs": [
    {
     "data": {
      "text/html": [
       "<div>\n",
       "<style scoped>\n",
       "    .dataframe tbody tr th:only-of-type {\n",
       "        vertical-align: middle;\n",
       "    }\n",
       "\n",
       "    .dataframe tbody tr th {\n",
       "        vertical-align: top;\n",
       "    }\n",
       "\n",
       "    .dataframe thead th {\n",
       "        text-align: right;\n",
       "    }\n",
       "</style>\n",
       "<table border=\"1\" class=\"dataframe\">\n",
       "  <thead>\n",
       "    <tr style=\"text-align: right;\">\n",
       "      <th></th>\n",
       "      <th>sku</th>\n",
       "      <th>name</th>\n",
       "      <th>desc</th>\n",
       "      <th>price</th>\n",
       "      <th>promo_price</th>\n",
       "      <th>in_stock</th>\n",
       "      <th>type</th>\n",
       "    </tr>\n",
       "  </thead>\n",
       "  <tbody>\n",
       "    <tr>\n",
       "      <th>0</th>\n",
       "      <td>RAI0007</td>\n",
       "      <td>Silver Rain Design mStand Support</td>\n",
       "      <td>Aluminum support compatible with all MacBook</td>\n",
       "      <td>59.99</td>\n",
       "      <td>499.899</td>\n",
       "      <td>1</td>\n",
       "      <td>8696</td>\n",
       "    </tr>\n",
       "    <tr>\n",
       "      <th>1</th>\n",
       "      <td>APP0023</td>\n",
       "      <td>Apple Mac Keyboard Keypad Spanish</td>\n",
       "      <td>USB ultrathin keyboard Apple Mac Spanish.</td>\n",
       "      <td>59</td>\n",
       "      <td>589.996</td>\n",
       "      <td>0</td>\n",
       "      <td>13855401</td>\n",
       "    </tr>\n",
       "    <tr>\n",
       "      <th>2</th>\n",
       "      <td>APP0025</td>\n",
       "      <td>Mighty Mouse Apple Mouse for Mac</td>\n",
       "      <td>mouse Apple USB cable.</td>\n",
       "      <td>59</td>\n",
       "      <td>569.898</td>\n",
       "      <td>0</td>\n",
       "      <td>1387</td>\n",
       "    </tr>\n",
       "    <tr>\n",
       "      <th>3</th>\n",
       "      <td>APP0072</td>\n",
       "      <td>Apple Dock to USB Cable iPhone and iPod white</td>\n",
       "      <td>IPhone dock and USB Cable Apple iPod.</td>\n",
       "      <td>25</td>\n",
       "      <td>229.997</td>\n",
       "      <td>0</td>\n",
       "      <td>1230</td>\n",
       "    </tr>\n",
       "    <tr>\n",
       "      <th>4</th>\n",
       "      <td>KIN0007</td>\n",
       "      <td>Mac Memory Kingston 2GB 667MHz DDR2 SO-DIMM</td>\n",
       "      <td>2GB RAM Mac mini and iMac (2006/07) MacBook Pr...</td>\n",
       "      <td>34.99</td>\n",
       "      <td>31.99</td>\n",
       "      <td>1</td>\n",
       "      <td>1364</td>\n",
       "    </tr>\n",
       "    <tr>\n",
       "      <th>...</th>\n",
       "      <td>...</td>\n",
       "      <td>...</td>\n",
       "      <td>...</td>\n",
       "      <td>...</td>\n",
       "      <td>...</td>\n",
       "      <td>...</td>\n",
       "      <td>...</td>\n",
       "    </tr>\n",
       "    <tr>\n",
       "      <th>19321</th>\n",
       "      <td>BEL0376</td>\n",
       "      <td>Belkin Travel Support Apple Watch Black</td>\n",
       "      <td>compact and portable stand vertically or horiz...</td>\n",
       "      <td>29.99</td>\n",
       "      <td>269.903</td>\n",
       "      <td>1</td>\n",
       "      <td>12282</td>\n",
       "    </tr>\n",
       "    <tr>\n",
       "      <th>19322</th>\n",
       "      <td>THU0060</td>\n",
       "      <td>Enroute Thule 14L Backpack MacBook 13 \"Black</td>\n",
       "      <td>Backpack with capacity of 14 liter compartment...</td>\n",
       "      <td>69.95</td>\n",
       "      <td>649.903</td>\n",
       "      <td>1</td>\n",
       "      <td>1392</td>\n",
       "    </tr>\n",
       "    <tr>\n",
       "      <th>19323</th>\n",
       "      <td>THU0061</td>\n",
       "      <td>Enroute Thule 14L Backpack MacBook 13 \"Blue</td>\n",
       "      <td>Backpack with capacity of 14 liter compartment...</td>\n",
       "      <td>69.95</td>\n",
       "      <td>649.903</td>\n",
       "      <td>1</td>\n",
       "      <td>1392</td>\n",
       "    </tr>\n",
       "    <tr>\n",
       "      <th>19324</th>\n",
       "      <td>THU0062</td>\n",
       "      <td>Enroute Thule 14L Backpack MacBook 13 \"Red</td>\n",
       "      <td>Backpack with capacity of 14 liter compartment...</td>\n",
       "      <td>69.95</td>\n",
       "      <td>649.903</td>\n",
       "      <td>0</td>\n",
       "      <td>1392</td>\n",
       "    </tr>\n",
       "    <tr>\n",
       "      <th>19325</th>\n",
       "      <td>THU0063</td>\n",
       "      <td>Enroute Thule 14L Backpack MacBook 13 \"Green</td>\n",
       "      <td>Backpack with capacity of 14 liter compartment...</td>\n",
       "      <td>69.95</td>\n",
       "      <td>649.903</td>\n",
       "      <td>1</td>\n",
       "      <td>1392</td>\n",
       "    </tr>\n",
       "  </tbody>\n",
       "</table>\n",
       "<p>19326 rows × 7 columns</p>\n",
       "</div>"
      ],
      "text/plain": [
       "           sku                                           name  \\\n",
       "0      RAI0007              Silver Rain Design mStand Support   \n",
       "1      APP0023              Apple Mac Keyboard Keypad Spanish   \n",
       "2      APP0025               Mighty Mouse Apple Mouse for Mac   \n",
       "3      APP0072  Apple Dock to USB Cable iPhone and iPod white   \n",
       "4      KIN0007    Mac Memory Kingston 2GB 667MHz DDR2 SO-DIMM   \n",
       "...        ...                                            ...   \n",
       "19321  BEL0376        Belkin Travel Support Apple Watch Black   \n",
       "19322  THU0060   Enroute Thule 14L Backpack MacBook 13 \"Black   \n",
       "19323  THU0061    Enroute Thule 14L Backpack MacBook 13 \"Blue   \n",
       "19324  THU0062     Enroute Thule 14L Backpack MacBook 13 \"Red   \n",
       "19325  THU0063   Enroute Thule 14L Backpack MacBook 13 \"Green   \n",
       "\n",
       "                                                    desc  price promo_price  \\\n",
       "0           Aluminum support compatible with all MacBook  59.99     499.899   \n",
       "1              USB ultrathin keyboard Apple Mac Spanish.     59     589.996   \n",
       "2                                 mouse Apple USB cable.     59     569.898   \n",
       "3                  IPhone dock and USB Cable Apple iPod.     25     229.997   \n",
       "4      2GB RAM Mac mini and iMac (2006/07) MacBook Pr...  34.99       31.99   \n",
       "...                                                  ...    ...         ...   \n",
       "19321  compact and portable stand vertically or horiz...  29.99     269.903   \n",
       "19322  Backpack with capacity of 14 liter compartment...  69.95     649.903   \n",
       "19323  Backpack with capacity of 14 liter compartment...  69.95     649.903   \n",
       "19324  Backpack with capacity of 14 liter compartment...  69.95     649.903   \n",
       "19325  Backpack with capacity of 14 liter compartment...  69.95     649.903   \n",
       "\n",
       "       in_stock      type  \n",
       "0             1      8696  \n",
       "1             0  13855401  \n",
       "2             0      1387  \n",
       "3             0      1230  \n",
       "4             1      1364  \n",
       "...         ...       ...  \n",
       "19321         1     12282  \n",
       "19322         1      1392  \n",
       "19323         1      1392  \n",
       "19324         0      1392  \n",
       "19325         1      1392  \n",
       "\n",
       "[19326 rows x 7 columns]"
      ]
     },
     "execution_count": 120,
     "metadata": {},
     "output_type": "execute_result"
    }
   ],
   "source": [
    "url = \"https://drive.google.com/file/d/1afxwDXfl-7cQ_qLwyDitfcCx3u7WMvkU/view?usp=sharing\" # products.csv\n",
    "path = \"https://drive.google.com/uc?export=download&id=\"+url.split(\"/\")[-2]\n",
    "products = pd.read_csv(path)\n",
    "products\n",
    "\n",
    "# products = pd.read_csv('products.csv')\n",
    "# products"
   ]
  },
  {
   "cell_type": "markdown",
   "id": "UXNi42Dd3G1G",
   "metadata": {
    "id": "UXNi42Dd3G1G"
   },
   "source": [
    "## 2.&nbsp; DataFrame dimensions\n",
    "\n",
    "With the [DataFrame.shape](https://pandas.pydata.org/docs/reference/api/pandas.DataFrame.shape.html) attribute we can calculate the dimensions (number of rows and columns) of the DataFrame."
   ]
  },
  {
   "cell_type": "code",
   "execution_count": 18,
   "id": "8e55da94-265c-47e2-92d7-5a0796ca1072",
   "metadata": {
    "colab": {
     "base_uri": "https://localhost:8080/"
    },
    "id": "cnC6vIW93G1G",
    "outputId": "d19f0def-e84f-45a4-cee0-b6af125783ef"
   },
   "outputs": [
    {
     "data": {
      "text/plain": [
       "(293983, 7)"
      ]
     },
     "execution_count": 18,
     "metadata": {},
     "output_type": "execute_result"
    }
   ],
   "source": [
    "df.shape"
   ]
  },
  {
   "cell_type": "code",
   "execution_count": 19,
   "id": "a161dae5-6f1e-4b4a-a26c-d595b44b8d9e",
   "metadata": {
    "colab": {
     "base_uri": "https://localhost:8080/"
    },
    "id": "cnC6vIW93G1G",
    "outputId": "d19f0def-e84f-45a4-cee0-b6af125783ef"
   },
   "outputs": [
    {
     "name": "stdout",
     "output_type": "stream",
     "text": [
      "<class 'pandas.core.frame.DataFrame'>\n",
      "RangeIndex: 293983 entries, 0 to 293982\n",
      "Data columns (total 7 columns):\n",
      " #   Column            Non-Null Count   Dtype \n",
      "---  ------            --------------   ----- \n",
      " 0   id                293983 non-null  int64 \n",
      " 1   id_order          293983 non-null  int64 \n",
      " 2   product_id        293983 non-null  int64 \n",
      " 3   product_quantity  293983 non-null  int64 \n",
      " 4   sku               293983 non-null  object\n",
      " 5   unit_price        293983 non-null  object\n",
      " 6   date              293983 non-null  object\n",
      "dtypes: int64(4), object(3)\n",
      "memory usage: 15.7+ MB\n"
     ]
    }
   ],
   "source": [
    "df.info()"
   ]
  },
  {
   "cell_type": "markdown",
   "id": "5oLX6uZQ3G1H",
   "metadata": {
    "id": "5oLX6uZQ3G1H"
   },
   "source": [
    "As a result we obtain a [tuple](https://www.w3schools.com/python/python_tuples.asp) where the first element is the number of rows, which in our case is 293983, while the second element is the number of columns, which in our example was 7."
   ]
  },
  {
   "cell_type": "code",
   "execution_count": 20,
   "id": "L6FAi4DN3G1H",
   "metadata": {
    "colab": {
     "base_uri": "https://localhost:8080/"
    },
    "id": "L6FAi4DN3G1H",
    "outputId": "dd880fb5-a1bd-4995-b413-53a49699a10f"
   },
   "outputs": [
    {
     "name": "stdout",
     "output_type": "stream",
     "text": [
      "The number of rows is 293983\n",
      "The number of columns is 7\n"
     ]
    }
   ],
   "source": [
    "nrows = df.shape[0]\n",
    "ncols = df.shape[1]\n",
    "print(\"The number of rows is\", nrows)\n",
    "print(\"The number of columns is\", ncols)"
   ]
  },
  {
   "cell_type": "markdown",
   "id": "RjHf6uXq3G1H",
   "metadata": {
    "id": "RjHf6uXq3G1H"
   },
   "source": [
    "[DataFrame.size](https://pandas.pydata.org/docs/reference/api/pandas.DataFrame.size.html) returns the total number of values that the DataFrame has (the number of rows multiplied by the number of columns):"
   ]
  },
  {
   "cell_type": "code",
   "execution_count": 21,
   "id": "mHVz_-yA3G1H",
   "metadata": {
    "colab": {
     "base_uri": "https://localhost:8080/"
    },
    "id": "mHVz_-yA3G1H",
    "outputId": "7d81c609-54c7-4d7a-f6ed-cbb3a198a9f4"
   },
   "outputs": [
    {
     "data": {
      "text/plain": [
       "2057881"
      ]
     },
     "execution_count": 21,
     "metadata": {},
     "output_type": "execute_result"
    }
   ],
   "source": [
    "df.size"
   ]
  },
  {
   "cell_type": "markdown",
   "id": "ncyEOZxWJvHj",
   "metadata": {
    "id": "ncyEOZxWJvHj"
   },
   "source": [
    "We can check if the `.size` and `.shape` agree"
   ]
  },
  {
   "cell_type": "code",
   "execution_count": 22,
   "id": "t_8Y1rsD3G1H",
   "metadata": {
    "colab": {
     "base_uri": "https://localhost:8080/"
    },
    "id": "t_8Y1rsD3G1H",
    "outputId": "b75c50f4-8ee2-4ced-87bb-2818ad6f75c3"
   },
   "outputs": [
    {
     "data": {
      "text/plain": [
       "True"
      ]
     },
     "execution_count": 22,
     "metadata": {},
     "output_type": "execute_result"
    }
   ],
   "source": [
    "df.shape[0] * df.shape[1] == df.size"
   ]
  },
  {
   "cell_type": "markdown",
   "id": "d9_rKAd13G1I",
   "metadata": {
    "id": "d9_rKAd13G1I"
   },
   "source": [
    "With the [DataFrame.ndim](https://pandas.pydata.org/docs/reference/api/pandas.DataFrame.ndim.html) attribute we calculate the number of dimensions that the DataFrame has. This will always be 2, as it consists of rows and columns."
   ]
  },
  {
   "cell_type": "code",
   "execution_count": 23,
   "id": "OkKrVfnB3G1I",
   "metadata": {
    "colab": {
     "base_uri": "https://localhost:8080/"
    },
    "id": "OkKrVfnB3G1I",
    "outputId": "e482d558-5464-4729-d040-65256d70b701"
   },
   "outputs": [
    {
     "data": {
      "text/plain": [
       "2"
      ]
     },
     "execution_count": 23,
     "metadata": {},
     "output_type": "execute_result"
    }
   ],
   "source": [
    "df.ndim"
   ]
  },
  {
   "cell_type": "markdown",
   "id": "HWSKDRiF3G1I",
   "metadata": {
    "id": "HWSKDRiF3G1I"
   },
   "source": [
    "## 3.&nbsp; DataFrames exploration\n",
    "\n",
    "The [DataFrame.head()](https://pandas.pydata.org/docs/reference/api/pandas.DataFrame.head.html) and [DataFrame.tail()](https://pandas.pydata.org/docs/reference/api/pandas.DataFrame.tail.html) methods are used to display the first or last rows of the DataFrame. Looking at the raw data is a great way to get a grasp of what's in there. By default, 5 rows will be shown, but you can change that:"
   ]
  },
  {
   "cell_type": "code",
   "execution_count": 24,
   "id": "eEn0y8Wv3G1I",
   "metadata": {
    "colab": {
     "base_uri": "https://localhost:8080/"
    },
    "id": "eEn0y8Wv3G1I",
    "outputId": "b6e71868-457b-4eb3-93f4-d93bc374edf6"
   },
   "outputs": [
    {
     "data": {
      "text/html": [
       "<div>\n",
       "<style scoped>\n",
       "    .dataframe tbody tr th:only-of-type {\n",
       "        vertical-align: middle;\n",
       "    }\n",
       "\n",
       "    .dataframe tbody tr th {\n",
       "        vertical-align: top;\n",
       "    }\n",
       "\n",
       "    .dataframe thead th {\n",
       "        text-align: right;\n",
       "    }\n",
       "</style>\n",
       "<table border=\"1\" class=\"dataframe\">\n",
       "  <thead>\n",
       "    <tr style=\"text-align: right;\">\n",
       "      <th></th>\n",
       "      <th>id</th>\n",
       "      <th>id_order</th>\n",
       "      <th>product_id</th>\n",
       "      <th>product_quantity</th>\n",
       "      <th>sku</th>\n",
       "      <th>unit_price</th>\n",
       "      <th>date</th>\n",
       "    </tr>\n",
       "  </thead>\n",
       "  <tbody>\n",
       "    <tr>\n",
       "      <th>0</th>\n",
       "      <td>1119109</td>\n",
       "      <td>299539</td>\n",
       "      <td>0</td>\n",
       "      <td>1</td>\n",
       "      <td>OTT0133</td>\n",
       "      <td>18.99</td>\n",
       "      <td>2017-01-01 00:07:19</td>\n",
       "    </tr>\n",
       "    <tr>\n",
       "      <th>1</th>\n",
       "      <td>1119110</td>\n",
       "      <td>299540</td>\n",
       "      <td>0</td>\n",
       "      <td>1</td>\n",
       "      <td>LGE0043</td>\n",
       "      <td>399.00</td>\n",
       "      <td>2017-01-01 00:19:45</td>\n",
       "    </tr>\n",
       "    <tr>\n",
       "      <th>2</th>\n",
       "      <td>1119111</td>\n",
       "      <td>299541</td>\n",
       "      <td>0</td>\n",
       "      <td>1</td>\n",
       "      <td>PAR0071</td>\n",
       "      <td>474.05</td>\n",
       "      <td>2017-01-01 00:20:57</td>\n",
       "    </tr>\n",
       "    <tr>\n",
       "      <th>3</th>\n",
       "      <td>1119112</td>\n",
       "      <td>299542</td>\n",
       "      <td>0</td>\n",
       "      <td>1</td>\n",
       "      <td>WDT0315</td>\n",
       "      <td>68.39</td>\n",
       "      <td>2017-01-01 00:51:40</td>\n",
       "    </tr>\n",
       "    <tr>\n",
       "      <th>4</th>\n",
       "      <td>1119113</td>\n",
       "      <td>299543</td>\n",
       "      <td>0</td>\n",
       "      <td>1</td>\n",
       "      <td>JBL0104</td>\n",
       "      <td>23.74</td>\n",
       "      <td>2017-01-01 01:06:38</td>\n",
       "    </tr>\n",
       "  </tbody>\n",
       "</table>\n",
       "</div>"
      ],
      "text/plain": [
       "        id  id_order  product_id  product_quantity      sku unit_price  \\\n",
       "0  1119109    299539           0                 1  OTT0133      18.99   \n",
       "1  1119110    299540           0                 1  LGE0043     399.00   \n",
       "2  1119111    299541           0                 1  PAR0071     474.05   \n",
       "3  1119112    299542           0                 1  WDT0315      68.39   \n",
       "4  1119113    299543           0                 1  JBL0104      23.74   \n",
       "\n",
       "                  date  \n",
       "0  2017-01-01 00:07:19  \n",
       "1  2017-01-01 00:19:45  \n",
       "2  2017-01-01 00:20:57  \n",
       "3  2017-01-01 00:51:40  \n",
       "4  2017-01-01 01:06:38  "
      ]
     },
     "execution_count": 24,
     "metadata": {},
     "output_type": "execute_result"
    }
   ],
   "source": [
    "df.head()"
   ]
  },
  {
   "cell_type": "code",
   "execution_count": 25,
   "id": "6IJWPJqr3G1I",
   "metadata": {
    "colab": {
     "base_uri": "https://localhost:8080/"
    },
    "id": "6IJWPJqr3G1I",
    "outputId": "163b8e6f-bf3d-4c4e-bc61-648c21d066dd"
   },
   "outputs": [
    {
     "data": {
      "text/html": [
       "<div>\n",
       "<style scoped>\n",
       "    .dataframe tbody tr th:only-of-type {\n",
       "        vertical-align: middle;\n",
       "    }\n",
       "\n",
       "    .dataframe tbody tr th {\n",
       "        vertical-align: top;\n",
       "    }\n",
       "\n",
       "    .dataframe thead th {\n",
       "        text-align: right;\n",
       "    }\n",
       "</style>\n",
       "<table border=\"1\" class=\"dataframe\">\n",
       "  <thead>\n",
       "    <tr style=\"text-align: right;\">\n",
       "      <th></th>\n",
       "      <th>id</th>\n",
       "      <th>id_order</th>\n",
       "      <th>product_id</th>\n",
       "      <th>product_quantity</th>\n",
       "      <th>sku</th>\n",
       "      <th>unit_price</th>\n",
       "      <th>date</th>\n",
       "    </tr>\n",
       "  </thead>\n",
       "  <tbody>\n",
       "    <tr>\n",
       "      <th>0</th>\n",
       "      <td>1119109</td>\n",
       "      <td>299539</td>\n",
       "      <td>0</td>\n",
       "      <td>1</td>\n",
       "      <td>OTT0133</td>\n",
       "      <td>18.99</td>\n",
       "      <td>2017-01-01 00:07:19</td>\n",
       "    </tr>\n",
       "    <tr>\n",
       "      <th>1</th>\n",
       "      <td>1119110</td>\n",
       "      <td>299540</td>\n",
       "      <td>0</td>\n",
       "      <td>1</td>\n",
       "      <td>LGE0043</td>\n",
       "      <td>399.00</td>\n",
       "      <td>2017-01-01 00:19:45</td>\n",
       "    </tr>\n",
       "    <tr>\n",
       "      <th>2</th>\n",
       "      <td>1119111</td>\n",
       "      <td>299541</td>\n",
       "      <td>0</td>\n",
       "      <td>1</td>\n",
       "      <td>PAR0071</td>\n",
       "      <td>474.05</td>\n",
       "      <td>2017-01-01 00:20:57</td>\n",
       "    </tr>\n",
       "    <tr>\n",
       "      <th>3</th>\n",
       "      <td>1119112</td>\n",
       "      <td>299542</td>\n",
       "      <td>0</td>\n",
       "      <td>1</td>\n",
       "      <td>WDT0315</td>\n",
       "      <td>68.39</td>\n",
       "      <td>2017-01-01 00:51:40</td>\n",
       "    </tr>\n",
       "    <tr>\n",
       "      <th>4</th>\n",
       "      <td>1119113</td>\n",
       "      <td>299543</td>\n",
       "      <td>0</td>\n",
       "      <td>1</td>\n",
       "      <td>JBL0104</td>\n",
       "      <td>23.74</td>\n",
       "      <td>2017-01-01 01:06:38</td>\n",
       "    </tr>\n",
       "    <tr>\n",
       "      <th>5</th>\n",
       "      <td>1119114</td>\n",
       "      <td>295310</td>\n",
       "      <td>0</td>\n",
       "      <td>10</td>\n",
       "      <td>WDT0249</td>\n",
       "      <td>231.79</td>\n",
       "      <td>2017-01-01 01:14:27</td>\n",
       "    </tr>\n",
       "    <tr>\n",
       "      <th>6</th>\n",
       "      <td>1119115</td>\n",
       "      <td>299544</td>\n",
       "      <td>0</td>\n",
       "      <td>1</td>\n",
       "      <td>APP1582</td>\n",
       "      <td>1.137.99</td>\n",
       "      <td>2017-01-01 01:17:21</td>\n",
       "    </tr>\n",
       "    <tr>\n",
       "      <th>7</th>\n",
       "      <td>1119116</td>\n",
       "      <td>299545</td>\n",
       "      <td>0</td>\n",
       "      <td>1</td>\n",
       "      <td>OWC0100</td>\n",
       "      <td>47.49</td>\n",
       "      <td>2017-01-01 01:46:16</td>\n",
       "    </tr>\n",
       "    <tr>\n",
       "      <th>8</th>\n",
       "      <td>1119119</td>\n",
       "      <td>299546</td>\n",
       "      <td>0</td>\n",
       "      <td>1</td>\n",
       "      <td>IOT0014</td>\n",
       "      <td>18.99</td>\n",
       "      <td>2017-01-01 01:50:34</td>\n",
       "    </tr>\n",
       "  </tbody>\n",
       "</table>\n",
       "</div>"
      ],
      "text/plain": [
       "        id  id_order  product_id  product_quantity      sku unit_price  \\\n",
       "0  1119109    299539           0                 1  OTT0133      18.99   \n",
       "1  1119110    299540           0                 1  LGE0043     399.00   \n",
       "2  1119111    299541           0                 1  PAR0071     474.05   \n",
       "3  1119112    299542           0                 1  WDT0315      68.39   \n",
       "4  1119113    299543           0                 1  JBL0104      23.74   \n",
       "5  1119114    295310           0                10  WDT0249     231.79   \n",
       "6  1119115    299544           0                 1  APP1582   1.137.99   \n",
       "7  1119116    299545           0                 1  OWC0100      47.49   \n",
       "8  1119119    299546           0                 1  IOT0014      18.99   \n",
       "\n",
       "                  date  \n",
       "0  2017-01-01 00:07:19  \n",
       "1  2017-01-01 00:19:45  \n",
       "2  2017-01-01 00:20:57  \n",
       "3  2017-01-01 00:51:40  \n",
       "4  2017-01-01 01:06:38  \n",
       "5  2017-01-01 01:14:27  \n",
       "6  2017-01-01 01:17:21  \n",
       "7  2017-01-01 01:46:16  \n",
       "8  2017-01-01 01:50:34  "
      ]
     },
     "execution_count": 25,
     "metadata": {},
     "output_type": "execute_result"
    }
   ],
   "source": [
    "df.head(9)"
   ]
  },
  {
   "cell_type": "code",
   "execution_count": 26,
   "id": "9JMHjCMs3G1J",
   "metadata": {
    "colab": {
     "base_uri": "https://localhost:8080/"
    },
    "id": "9JMHjCMs3G1J",
    "outputId": "8d0aaf49-6c3f-40fd-dace-bda3365692cf"
   },
   "outputs": [
    {
     "data": {
      "text/html": [
       "<div>\n",
       "<style scoped>\n",
       "    .dataframe tbody tr th:only-of-type {\n",
       "        vertical-align: middle;\n",
       "    }\n",
       "\n",
       "    .dataframe tbody tr th {\n",
       "        vertical-align: top;\n",
       "    }\n",
       "\n",
       "    .dataframe thead th {\n",
       "        text-align: right;\n",
       "    }\n",
       "</style>\n",
       "<table border=\"1\" class=\"dataframe\">\n",
       "  <thead>\n",
       "    <tr style=\"text-align: right;\">\n",
       "      <th></th>\n",
       "      <th>id</th>\n",
       "      <th>id_order</th>\n",
       "      <th>product_id</th>\n",
       "      <th>product_quantity</th>\n",
       "      <th>sku</th>\n",
       "      <th>unit_price</th>\n",
       "      <th>date</th>\n",
       "    </tr>\n",
       "  </thead>\n",
       "  <tbody>\n",
       "    <tr>\n",
       "      <th>293978</th>\n",
       "      <td>1650199</td>\n",
       "      <td>527398</td>\n",
       "      <td>0</td>\n",
       "      <td>1</td>\n",
       "      <td>JBL0122</td>\n",
       "      <td>42.99</td>\n",
       "      <td>2018-03-14 13:57:25</td>\n",
       "    </tr>\n",
       "    <tr>\n",
       "      <th>293979</th>\n",
       "      <td>1650200</td>\n",
       "      <td>527399</td>\n",
       "      <td>0</td>\n",
       "      <td>1</td>\n",
       "      <td>PAC0653</td>\n",
       "      <td>141.58</td>\n",
       "      <td>2018-03-14 13:57:34</td>\n",
       "    </tr>\n",
       "    <tr>\n",
       "      <th>293980</th>\n",
       "      <td>1650201</td>\n",
       "      <td>527400</td>\n",
       "      <td>0</td>\n",
       "      <td>2</td>\n",
       "      <td>APP0698</td>\n",
       "      <td>9.99</td>\n",
       "      <td>2018-03-14 13:57:41</td>\n",
       "    </tr>\n",
       "    <tr>\n",
       "      <th>293981</th>\n",
       "      <td>1650202</td>\n",
       "      <td>527388</td>\n",
       "      <td>0</td>\n",
       "      <td>1</td>\n",
       "      <td>BEZ0204</td>\n",
       "      <td>19.99</td>\n",
       "      <td>2018-03-14 13:58:01</td>\n",
       "    </tr>\n",
       "    <tr>\n",
       "      <th>293982</th>\n",
       "      <td>1650203</td>\n",
       "      <td>527401</td>\n",
       "      <td>0</td>\n",
       "      <td>1</td>\n",
       "      <td>APP0927</td>\n",
       "      <td>13.99</td>\n",
       "      <td>2018-03-14 13:58:36</td>\n",
       "    </tr>\n",
       "  </tbody>\n",
       "</table>\n",
       "</div>"
      ],
      "text/plain": [
       "             id  id_order  product_id  product_quantity      sku unit_price  \\\n",
       "293978  1650199    527398           0                 1  JBL0122      42.99   \n",
       "293979  1650200    527399           0                 1  PAC0653     141.58   \n",
       "293980  1650201    527400           0                 2  APP0698       9.99   \n",
       "293981  1650202    527388           0                 1  BEZ0204      19.99   \n",
       "293982  1650203    527401           0                 1  APP0927      13.99   \n",
       "\n",
       "                       date  \n",
       "293978  2018-03-14 13:57:25  \n",
       "293979  2018-03-14 13:57:34  \n",
       "293980  2018-03-14 13:57:41  \n",
       "293981  2018-03-14 13:58:01  \n",
       "293982  2018-03-14 13:58:36  "
      ]
     },
     "execution_count": 26,
     "metadata": {},
     "output_type": "execute_result"
    }
   ],
   "source": [
    "df.tail()"
   ]
  },
  {
   "cell_type": "markdown",
   "id": "-JQjo2ZD3G1J",
   "metadata": {
    "id": "-JQjo2ZD3G1J"
   },
   "source": [
    "The methods [DataFrame.info()](https://pandas.pydata.org/docs/reference/api/pandas.DataFrame.info.html), [DataFrame.describe()](https://pandas.pydata.org/docs/reference/api/pandas.DataFrame.describe.html) and [DataFrame.nunique()](https://pandas.pydata.org/docs/reference/api/pandas.core.groupby.DataFrameGroupBy.nunique.html) give a general overview of what's in the DataFrame:"
   ]
  },
  {
   "cell_type": "markdown",
   "id": "lNgOc5RpIszg",
   "metadata": {
    "id": "lNgOc5RpIszg"
   },
   "source": [
    "`.info()` tells us about how pandas sees the data - how it is stored, whether there's any missing values, and how many columns and rows we have."
   ]
  },
  {
   "cell_type": "code",
   "execution_count": 176,
   "id": "8N7pC22c3G1J",
   "metadata": {
    "colab": {
     "base_uri": "https://localhost:8080/"
    },
    "id": "8N7pC22c3G1J",
    "outputId": "693b4f5f-5723-4bf0-fd0e-5134bb0f2fb2"
   },
   "outputs": [
    {
     "name": "stdout",
     "output_type": "stream",
     "text": [
      "<class 'pandas.core.frame.DataFrame'>\n",
      "RangeIndex: 293983 entries, 0 to 293982\n",
      "Data columns (total 7 columns):\n",
      " #   Column            Non-Null Count   Dtype \n",
      "---  ------            --------------   ----- \n",
      " 0   id                293983 non-null  int64 \n",
      " 1   id_order          293983 non-null  int64 \n",
      " 2   product_id        293983 non-null  int64 \n",
      " 3   product_quantity  293983 non-null  int64 \n",
      " 4   sku               293983 non-null  object\n",
      " 5   unit_price        293983 non-null  object\n",
      " 6   date              293983 non-null  object\n",
      "dtypes: int64(4), object(3)\n",
      "memory usage: 15.7+ MB\n"
     ]
    }
   ],
   "source": [
    "df.info()"
   ]
  },
  {
   "cell_type": "markdown",
   "id": "B4zDaO3zIx6_",
   "metadata": {
    "id": "B4zDaO3zIx6_"
   },
   "source": [
    "`.describe()` gives us an overview of the [descriptive statistics](https://www.scribbr.com/statistics/descriptive-statistics/) for the numerical columns of our DataFrame."
   ]
  },
  {
   "cell_type": "code",
   "execution_count": 177,
   "id": "uYp_rSRa3G1J",
   "metadata": {
    "colab": {
     "base_uri": "https://localhost:8080/"
    },
    "id": "uYp_rSRa3G1J",
    "outputId": "7ee1178c-ee67-4116-ecea-9fd17f8b3204"
   },
   "outputs": [
    {
     "data": {
      "text/html": [
       "<div>\n",
       "<style scoped>\n",
       "    .dataframe tbody tr th:only-of-type {\n",
       "        vertical-align: middle;\n",
       "    }\n",
       "\n",
       "    .dataframe tbody tr th {\n",
       "        vertical-align: top;\n",
       "    }\n",
       "\n",
       "    .dataframe thead th {\n",
       "        text-align: right;\n",
       "    }\n",
       "</style>\n",
       "<table border=\"1\" class=\"dataframe\">\n",
       "  <thead>\n",
       "    <tr style=\"text-align: right;\">\n",
       "      <th></th>\n",
       "      <th>id</th>\n",
       "      <th>id_order</th>\n",
       "      <th>product_id</th>\n",
       "      <th>product_quantity</th>\n",
       "    </tr>\n",
       "  </thead>\n",
       "  <tbody>\n",
       "    <tr>\n",
       "      <th>count</th>\n",
       "      <td>2.939830e+05</td>\n",
       "      <td>293983.000000</td>\n",
       "      <td>293983.0</td>\n",
       "      <td>293983.000000</td>\n",
       "    </tr>\n",
       "    <tr>\n",
       "      <th>mean</th>\n",
       "      <td>1.397918e+06</td>\n",
       "      <td>419999.116544</td>\n",
       "      <td>0.0</td>\n",
       "      <td>1.121126</td>\n",
       "    </tr>\n",
       "    <tr>\n",
       "      <th>std</th>\n",
       "      <td>1.530096e+05</td>\n",
       "      <td>66344.486479</td>\n",
       "      <td>0.0</td>\n",
       "      <td>3.396569</td>\n",
       "    </tr>\n",
       "    <tr>\n",
       "      <th>min</th>\n",
       "      <td>1.119109e+06</td>\n",
       "      <td>241319.000000</td>\n",
       "      <td>0.0</td>\n",
       "      <td>1.000000</td>\n",
       "    </tr>\n",
       "    <tr>\n",
       "      <th>25%</th>\n",
       "      <td>1.262542e+06</td>\n",
       "      <td>362258.500000</td>\n",
       "      <td>0.0</td>\n",
       "      <td>1.000000</td>\n",
       "    </tr>\n",
       "    <tr>\n",
       "      <th>50%</th>\n",
       "      <td>1.406940e+06</td>\n",
       "      <td>425956.000000</td>\n",
       "      <td>0.0</td>\n",
       "      <td>1.000000</td>\n",
       "    </tr>\n",
       "    <tr>\n",
       "      <th>75%</th>\n",
       "      <td>1.531322e+06</td>\n",
       "      <td>478657.000000</td>\n",
       "      <td>0.0</td>\n",
       "      <td>1.000000</td>\n",
       "    </tr>\n",
       "    <tr>\n",
       "      <th>max</th>\n",
       "      <td>1.650203e+06</td>\n",
       "      <td>527401.000000</td>\n",
       "      <td>0.0</td>\n",
       "      <td>999.000000</td>\n",
       "    </tr>\n",
       "  </tbody>\n",
       "</table>\n",
       "</div>"
      ],
      "text/plain": [
       "                 id       id_order  product_id  product_quantity\n",
       "count  2.939830e+05  293983.000000    293983.0     293983.000000\n",
       "mean   1.397918e+06  419999.116544         0.0          1.121126\n",
       "std    1.530096e+05   66344.486479         0.0          3.396569\n",
       "min    1.119109e+06  241319.000000         0.0          1.000000\n",
       "25%    1.262542e+06  362258.500000         0.0          1.000000\n",
       "50%    1.406940e+06  425956.000000         0.0          1.000000\n",
       "75%    1.531322e+06  478657.000000         0.0          1.000000\n",
       "max    1.650203e+06  527401.000000         0.0        999.000000"
      ]
     },
     "execution_count": 177,
     "metadata": {},
     "output_type": "execute_result"
    }
   ],
   "source": [
    "df.describe()"
   ]
  },
  {
   "cell_type": "code",
   "execution_count": 29,
   "id": "cXMZsav-3G1J",
   "metadata": {
    "colab": {
     "base_uri": "https://localhost:8080/"
    },
    "id": "cXMZsav-3G1J",
    "outputId": "29780cae-5cd2-44c3-8295-857dd53a73e6"
   },
   "outputs": [
    {
     "data": {
      "text/plain": [
       "id                  293983\n",
       "id_order            204855\n",
       "product_id               1\n",
       "product_quantity        67\n",
       "sku                   7951\n",
       "unit_price           11329\n",
       "date                251631\n",
       "dtype: int64"
      ]
     },
     "execution_count": 29,
     "metadata": {},
     "output_type": "execute_result"
    }
   ],
   "source": [
    "df.nunique()"
   ]
  },
  {
   "cell_type": "markdown",
   "id": "MiUZS2983G1J",
   "metadata": {
    "id": "MiUZS2983G1J"
   },
   "source": [
    "If we wish, we can also view the unique values counted by `series.nunique()`. The [.unique()](https://pandas.pydata.org/docs/reference/api/pandas.Series.unique.html) method returns the unique values from a column as a numpy array, which can be indexed with `[]`:"
   ]
  },
  {
   "cell_type": "code",
   "execution_count": null,
   "id": "-vwHHjvR3G1K",
   "metadata": {
    "colab": {
     "base_uri": "https://localhost:8080/"
    },
    "id": "-vwHHjvR3G1K",
    "outputId": "1d03b4cd-a599-4b9c-b59d-19e647eefff9"
   },
   "outputs": [
    {
     "data": {
      "text/plain": [
       "array(['OTT0133', 'LGE0043', 'PAR0071', 'WDT0315', 'JBL0104', 'WDT0249',\n",
       "       'APP1582', 'OWC0100', 'IOT0014', 'APP0700'], dtype=object)"
      ]
     },
     "execution_count": 16,
     "metadata": {},
     "output_type": "execute_result"
    }
   ],
   "source": [
    "df[\"sku\"].unique()[:10]"
   ]
  },
  {
   "cell_type": "markdown",
   "id": "35e48954-5c1d-4047-b379-38ac599f9bad",
   "metadata": {},
   "source": [
    "## CHECK FOR MISSING VALUES IN THE df, e.g. NaN"
   ]
  },
  {
   "cell_type": "markdown",
   "id": "gr9AteWL3G1K",
   "metadata": {
    "id": "gr9AteWL3G1K"
   },
   "source": [
    "The [DataFrame.isna()](https://pandas.pydata.org/docs/reference/api/pandas.DataFrame.isna.html) method returns a boolean for each value: `True` if that value is \"missing\" (which is represented as `NaN` in numpy and pandas) and `False` if the value is not missing:"
   ]
  },
  {
   "cell_type": "code",
   "execution_count": 174,
   "id": "tILEtcSP3G1K",
   "metadata": {
    "colab": {
     "base_uri": "https://localhost:8080/"
    },
    "id": "tILEtcSP3G1K",
    "outputId": "a07c3ade-a55c-433c-c9b4-2afb1c772307",
    "scrolled": true
   },
   "outputs": [
    {
     "data": {
      "text/html": [
       "<div>\n",
       "<style scoped>\n",
       "    .dataframe tbody tr th:only-of-type {\n",
       "        vertical-align: middle;\n",
       "    }\n",
       "\n",
       "    .dataframe tbody tr th {\n",
       "        vertical-align: top;\n",
       "    }\n",
       "\n",
       "    .dataframe thead th {\n",
       "        text-align: right;\n",
       "    }\n",
       "</style>\n",
       "<table border=\"1\" class=\"dataframe\">\n",
       "  <thead>\n",
       "    <tr style=\"text-align: right;\">\n",
       "      <th></th>\n",
       "      <th>id</th>\n",
       "      <th>id_order</th>\n",
       "      <th>product_id</th>\n",
       "      <th>product_quantity</th>\n",
       "      <th>sku</th>\n",
       "      <th>unit_price</th>\n",
       "      <th>date</th>\n",
       "    </tr>\n",
       "  </thead>\n",
       "  <tbody>\n",
       "    <tr>\n",
       "      <th>0</th>\n",
       "      <td>False</td>\n",
       "      <td>False</td>\n",
       "      <td>False</td>\n",
       "      <td>False</td>\n",
       "      <td>False</td>\n",
       "      <td>False</td>\n",
       "      <td>False</td>\n",
       "    </tr>\n",
       "    <tr>\n",
       "      <th>1</th>\n",
       "      <td>False</td>\n",
       "      <td>False</td>\n",
       "      <td>False</td>\n",
       "      <td>False</td>\n",
       "      <td>False</td>\n",
       "      <td>False</td>\n",
       "      <td>False</td>\n",
       "    </tr>\n",
       "    <tr>\n",
       "      <th>2</th>\n",
       "      <td>False</td>\n",
       "      <td>False</td>\n",
       "      <td>False</td>\n",
       "      <td>False</td>\n",
       "      <td>False</td>\n",
       "      <td>False</td>\n",
       "      <td>False</td>\n",
       "    </tr>\n",
       "    <tr>\n",
       "      <th>3</th>\n",
       "      <td>False</td>\n",
       "      <td>False</td>\n",
       "      <td>False</td>\n",
       "      <td>False</td>\n",
       "      <td>False</td>\n",
       "      <td>False</td>\n",
       "      <td>False</td>\n",
       "    </tr>\n",
       "    <tr>\n",
       "      <th>4</th>\n",
       "      <td>False</td>\n",
       "      <td>False</td>\n",
       "      <td>False</td>\n",
       "      <td>False</td>\n",
       "      <td>False</td>\n",
       "      <td>False</td>\n",
       "      <td>False</td>\n",
       "    </tr>\n",
       "    <tr>\n",
       "      <th>...</th>\n",
       "      <td>...</td>\n",
       "      <td>...</td>\n",
       "      <td>...</td>\n",
       "      <td>...</td>\n",
       "      <td>...</td>\n",
       "      <td>...</td>\n",
       "      <td>...</td>\n",
       "    </tr>\n",
       "    <tr>\n",
       "      <th>293978</th>\n",
       "      <td>False</td>\n",
       "      <td>False</td>\n",
       "      <td>False</td>\n",
       "      <td>False</td>\n",
       "      <td>False</td>\n",
       "      <td>False</td>\n",
       "      <td>False</td>\n",
       "    </tr>\n",
       "    <tr>\n",
       "      <th>293979</th>\n",
       "      <td>False</td>\n",
       "      <td>False</td>\n",
       "      <td>False</td>\n",
       "      <td>False</td>\n",
       "      <td>False</td>\n",
       "      <td>False</td>\n",
       "      <td>False</td>\n",
       "    </tr>\n",
       "    <tr>\n",
       "      <th>293980</th>\n",
       "      <td>False</td>\n",
       "      <td>False</td>\n",
       "      <td>False</td>\n",
       "      <td>False</td>\n",
       "      <td>False</td>\n",
       "      <td>False</td>\n",
       "      <td>False</td>\n",
       "    </tr>\n",
       "    <tr>\n",
       "      <th>293981</th>\n",
       "      <td>False</td>\n",
       "      <td>False</td>\n",
       "      <td>False</td>\n",
       "      <td>False</td>\n",
       "      <td>False</td>\n",
       "      <td>False</td>\n",
       "      <td>False</td>\n",
       "    </tr>\n",
       "    <tr>\n",
       "      <th>293982</th>\n",
       "      <td>False</td>\n",
       "      <td>False</td>\n",
       "      <td>False</td>\n",
       "      <td>False</td>\n",
       "      <td>False</td>\n",
       "      <td>False</td>\n",
       "      <td>False</td>\n",
       "    </tr>\n",
       "  </tbody>\n",
       "</table>\n",
       "<p>293983 rows × 7 columns</p>\n",
       "</div>"
      ],
      "text/plain": [
       "           id  id_order  product_id  product_quantity    sku  unit_price  \\\n",
       "0       False     False       False             False  False       False   \n",
       "1       False     False       False             False  False       False   \n",
       "2       False     False       False             False  False       False   \n",
       "3       False     False       False             False  False       False   \n",
       "4       False     False       False             False  False       False   \n",
       "...       ...       ...         ...               ...    ...         ...   \n",
       "293978  False     False       False             False  False       False   \n",
       "293979  False     False       False             False  False       False   \n",
       "293980  False     False       False             False  False       False   \n",
       "293981  False     False       False             False  False       False   \n",
       "293982  False     False       False             False  False       False   \n",
       "\n",
       "         date  \n",
       "0       False  \n",
       "1       False  \n",
       "2       False  \n",
       "3       False  \n",
       "4       False  \n",
       "...       ...  \n",
       "293978  False  \n",
       "293979  False  \n",
       "293980  False  \n",
       "293981  False  \n",
       "293982  False  \n",
       "\n",
       "[293983 rows x 7 columns]"
      ]
     },
     "execution_count": 174,
     "metadata": {},
     "output_type": "execute_result"
    }
   ],
   "source": [
    "df.isna()"
   ]
  },
  {
   "cell_type": "markdown",
   "id": "TduVg5qx3G1K",
   "metadata": {
    "id": "TduVg5qx3G1K"
   },
   "source": [
    "We can then use [DataFrame.sum()](https://pandas.pydata.org/docs/reference/api/pandas.DataFrame.sum.html) to add up all these booleans for each column, and count how many missing values are there in the DataFrame, since `True` is interpreted as `1` and `False` as `0`:"
   ]
  },
  {
   "cell_type": "code",
   "execution_count": 40,
   "id": "vd-_DsOy3G1K",
   "metadata": {
    "colab": {
     "base_uri": "https://localhost:8080/"
    },
    "id": "vd-_DsOy3G1K",
    "outputId": "f60ee1ae-730a-4f82-9d85-c65d8cf1d43e"
   },
   "outputs": [
    {
     "data": {
      "text/plain": [
       "id                  0\n",
       "id_order            0\n",
       "product_id          0\n",
       "product_quantity    0\n",
       "sku                 0\n",
       "unit_price          0\n",
       "date                0\n",
       "dtype: int64"
      ]
     },
     "execution_count": 40,
     "metadata": {},
     "output_type": "execute_result"
    }
   ],
   "source": [
    "df.isna().sum()"
   ]
  },
  {
   "cell_type": "markdown",
   "id": "3a9fd35c-1150-40e1-82f8-558626a9ac19",
   "metadata": {},
   "source": [
    "## CHECK FOR EQUAL ROWS IN THE df"
   ]
  },
  {
   "cell_type": "markdown",
   "id": "CsDhKqdG3G1K",
   "metadata": {
    "id": "CsDhKqdG3G1K"
   },
   "source": [
    "[DataFrame.duplicated()](https://pandas.pydata.org/docs/reference/api/pandas.DataFrame.duplicated.html) also returns a boolean output, but in this case just one value per row: `True` if that row is duplicated and `False` if it's not. Again, using `sum()` allows us to count how many `True` values (i.e. duplicated rows) are there in total:"
   ]
  },
  {
   "cell_type": "code",
   "execution_count": 41,
   "id": "vE-E_D2i3G1K",
   "metadata": {
    "colab": {
     "base_uri": "https://localhost:8080/"
    },
    "id": "vE-E_D2i3G1K",
    "outputId": "0a0ce320-db59-4c17-d723-73a94e10c021"
   },
   "outputs": [
    {
     "data": {
      "text/plain": [
       "0"
      ]
     },
     "execution_count": 41,
     "metadata": {},
     "output_type": "execute_result"
    }
   ],
   "source": [
    "df.duplicated().sum()"
   ]
  },
  {
   "cell_type": "markdown",
   "id": "74PzmnGf3G1K",
   "metadata": {
    "id": "74PzmnGf3G1K"
   },
   "source": [
    "[DataFrame.nlargest(n, columns)](https://pandas.pydata.org/docs/reference/api/pandas.DataFrame.nlargest.html) will return the top `n` rows with the largest value for whatever column we specify in `columns`. Below, we see the rows with the largest product quantity values:"
   ]
  },
  {
   "cell_type": "code",
   "execution_count": 158,
   "id": "BJqMsFIn3G1K",
   "metadata": {
    "colab": {
     "base_uri": "https://localhost:8080/"
    },
    "id": "BJqMsFIn3G1K",
    "outputId": "e815e908-9ca6-4149-b61f-a4b42db6bbc7"
   },
   "outputs": [
    {
     "data": {
      "text/html": [
       "<div>\n",
       "<style scoped>\n",
       "    .dataframe tbody tr th:only-of-type {\n",
       "        vertical-align: middle;\n",
       "    }\n",
       "\n",
       "    .dataframe tbody tr th {\n",
       "        vertical-align: top;\n",
       "    }\n",
       "\n",
       "    .dataframe thead th {\n",
       "        text-align: right;\n",
       "    }\n",
       "</style>\n",
       "<table border=\"1\" class=\"dataframe\">\n",
       "  <thead>\n",
       "    <tr style=\"text-align: right;\">\n",
       "      <th></th>\n",
       "      <th>id</th>\n",
       "      <th>id_order</th>\n",
       "      <th>product_id</th>\n",
       "      <th>product_quantity</th>\n",
       "      <th>sku</th>\n",
       "      <th>unit_price</th>\n",
       "      <th>date</th>\n",
       "    </tr>\n",
       "  </thead>\n",
       "  <tbody>\n",
       "    <tr>\n",
       "      <th>53860</th>\n",
       "      <td>1228150</td>\n",
       "      <td>346221</td>\n",
       "      <td>0</td>\n",
       "      <td>999</td>\n",
       "      <td>APP1190</td>\n",
       "      <td>55.99</td>\n",
       "      <td>2017-04-14 21:50:52</td>\n",
       "    </tr>\n",
       "    <tr>\n",
       "      <th>68712</th>\n",
       "      <td>1254032</td>\n",
       "      <td>358747</td>\n",
       "      <td>0</td>\n",
       "      <td>999</td>\n",
       "      <td>SEV0028</td>\n",
       "      <td>19.99</td>\n",
       "      <td>2017-05-24 14:51:58</td>\n",
       "    </tr>\n",
       "    <tr>\n",
       "      <th>57796</th>\n",
       "      <td>1234924</td>\n",
       "      <td>349475</td>\n",
       "      <td>0</td>\n",
       "      <td>800</td>\n",
       "      <td>KIN0137</td>\n",
       "      <td>7.49</td>\n",
       "      <td>2017-04-25 09:59:00</td>\n",
       "    </tr>\n",
       "    <tr>\n",
       "      <th>57306</th>\n",
       "      <td>1234111</td>\n",
       "      <td>349133</td>\n",
       "      <td>0</td>\n",
       "      <td>555</td>\n",
       "      <td>APP0665</td>\n",
       "      <td>70.99</td>\n",
       "      <td>2017-04-24 10:20:13</td>\n",
       "    </tr>\n",
       "    <tr>\n",
       "      <th>40813</th>\n",
       "      <td>1204788</td>\n",
       "      <td>335057</td>\n",
       "      <td>0</td>\n",
       "      <td>201</td>\n",
       "      <td>THU0029</td>\n",
       "      <td>80.99</td>\n",
       "      <td>2017-03-14 15:25:53</td>\n",
       "    </tr>\n",
       "  </tbody>\n",
       "</table>\n",
       "</div>"
      ],
      "text/plain": [
       "            id  id_order  product_id  product_quantity      sku unit_price  \\\n",
       "53860  1228150    346221           0               999  APP1190      55.99   \n",
       "68712  1254032    358747           0               999  SEV0028      19.99   \n",
       "57796  1234924    349475           0               800  KIN0137       7.49   \n",
       "57306  1234111    349133           0               555  APP0665      70.99   \n",
       "40813  1204788    335057           0               201  THU0029      80.99   \n",
       "\n",
       "                      date  \n",
       "53860  2017-04-14 21:50:52  \n",
       "68712  2017-05-24 14:51:58  \n",
       "57796  2017-04-25 09:59:00  \n",
       "57306  2017-04-24 10:20:13  \n",
       "40813  2017-03-14 15:25:53  "
      ]
     },
     "execution_count": 158,
     "metadata": {},
     "output_type": "execute_result"
    }
   ],
   "source": [
    "df.nlargest(5, \"product_quantity\")"
   ]
  },
  {
   "cell_type": "markdown",
   "id": "c6wXOPu83G1L",
   "metadata": {
    "id": "c6wXOPu83G1L"
   },
   "source": [
    "[DataFrame.nsmallest()](https://pandas.pydata.org/docs/reference/api/pandas.DataFrame.nsmallest.html) does the same, for the smallest values:"
   ]
  },
  {
   "cell_type": "code",
   "execution_count": 54,
   "id": "44bf16bd-b245-41f4-b4a9-b4506de67a10",
   "metadata": {
    "colab": {
     "base_uri": "https://localhost:8080/"
    },
    "id": "MskkIhU_3G1L",
    "outputId": "f968bff3-931a-47be-f478-d1b4357c2783"
   },
   "outputs": [
    {
     "data": {
      "text/plain": [
       "id                  277058\n",
       "id_order            277058\n",
       "product_id          277058\n",
       "product_quantity    277058\n",
       "sku                 277058\n",
       "unit_price          277058\n",
       "date                277058\n",
       "dtype: int64"
      ]
     },
     "execution_count": 54,
     "metadata": {},
     "output_type": "execute_result"
    }
   ],
   "source": [
    "df.nsmallest(5, \"product_quantity\")\n",
    "df.loc[df[\"product_quantity\"]==1, :].count()"
   ]
  },
  {
   "cell_type": "markdown",
   "id": "NPaxO3ecXuCO",
   "metadata": {
    "id": "NPaxO3ecXuCO"
   },
   "source": [
    "So far, we have seen two ways to explore DataFrames:\n",
    "\n",
    "* **Attributes:** `.shape`, `.size` and `.ndim`, and others. They are written without parentheses and give you raw \"metadata\" about the DataFrame you are calling them on.\n",
    "* **Methods:** `.head()`, `.describe()` and `.isna()`, and others. They are written with parentheses and perform some sort of calculation, transformation or aggregation. A method is like a function that is tied to a specific object type.\n",
    "\n",
    "DataFrames have a lot of attributes and methods and may not be obvious whether something belongs to one type or the other. Whenever in doubt, check [the documentation](https://pandas.pydata.org/docs/reference/api/pandas.DataFrame.html?highlight=DataFrame#pandas.DataFrame). If you scroll down past the list of examples you will find two sections listing all the attributes and methods."
   ]
  },
  {
   "cell_type": "markdown",
   "id": "MFV6C4zW3G1L",
   "metadata": {
    "id": "MFV6C4zW3G1L"
   },
   "source": [
    "## 4.&nbsp; Select Columns\n",
    "\n",
    "Given a DataFrame, we can select a particular column in several ways:\n",
    "\n",
    "* Indicating the name of the column between square brackets, `[]`\n",
    "* With the `.loc[]` attribute (by name or tag)\n",
    "* With the `.iloc[]` attribute (by position)"
   ]
  },
  {
   "cell_type": "markdown",
   "id": "Z6P2fDJr3G1L",
   "metadata": {
    "id": "Z6P2fDJr3G1L"
   },
   "source": [
    "Plain square brackets `[]` are used to just view a column if you know its name and **don't want to modify it**:"
   ]
  },
  {
   "cell_type": "code",
   "execution_count": null,
   "id": "IKK6Fucf3G1L",
   "metadata": {
    "colab": {
     "base_uri": "https://localhost:8080/"
    },
    "id": "IKK6Fucf3G1L",
    "outputId": "77cfc11f-064d-4ab5-baca-01aa867d501f"
   },
   "outputs": [
    {
     "data": {
      "text/plain": [
       "0         299539\n",
       "1         299540\n",
       "2         299541\n",
       "3         299542\n",
       "4         299543\n",
       "           ...  \n",
       "293978    527398\n",
       "293979    527399\n",
       "293980    527400\n",
       "293981    527388\n",
       "293982    527401\n",
       "Name: id_order, Length: 293983, dtype: int64"
      ]
     },
     "execution_count": 22,
     "metadata": {},
     "output_type": "execute_result"
    }
   ],
   "source": [
    "df[\"id_order\"]"
   ]
  },
  {
   "cell_type": "markdown",
   "id": "Hwd-yBuB3G1L",
   "metadata": {
    "id": "Hwd-yBuB3G1L"
   },
   "source": [
    "`.loc[]` takes two arguments: `[rows, columns]`. Passing `:` to the rows argument means \"grabbing all the rows\", which allows you to select a whole column, if you know its name. This method is more flexible as you will see in the future, and allows you to modify the data.\n",
    "\n",
    "We recommend using `loc[]` as the primary option for selecting data."
   ]
  },
  {
   "cell_type": "code",
   "execution_count": 55,
   "id": "qYwX2tQU3G1L",
   "metadata": {
    "colab": {
     "base_uri": "https://localhost:8080/"
    },
    "id": "qYwX2tQU3G1L",
    "outputId": "e00b654a-f33a-463a-ac04-78ff9d7dc14a"
   },
   "outputs": [
    {
     "data": {
      "text/plain": [
       "0         299539\n",
       "1         299540\n",
       "2         299541\n",
       "3         299542\n",
       "4         299543\n",
       "           ...  \n",
       "293978    527398\n",
       "293979    527399\n",
       "293980    527400\n",
       "293981    527388\n",
       "293982    527401\n",
       "Name: id_order, Length: 293983, dtype: int64"
      ]
     },
     "execution_count": 55,
     "metadata": {},
     "output_type": "execute_result"
    }
   ],
   "source": [
    "df.loc[:, \"id_order\"]"
   ]
  },
  {
   "cell_type": "markdown",
   "id": "2gTOrkQh3G1L",
   "metadata": {
    "id": "2gTOrkQh3G1L"
   },
   "source": [
    "`.iloc[]` works similarly to `.loc[]`, but it only accepts integers, which represent the positions of the rows and columns:"
   ]
  },
  {
   "cell_type": "code",
   "execution_count": 56,
   "id": "51vu5OgL3G1L",
   "metadata": {
    "colab": {
     "base_uri": "https://localhost:8080/"
    },
    "id": "51vu5OgL3G1L",
    "outputId": "7e6d07d9-a985-4b38-c067-126797aae035"
   },
   "outputs": [
    {
     "data": {
      "text/plain": [
       "0         299539\n",
       "1         299540\n",
       "2         299541\n",
       "3         299542\n",
       "4         299543\n",
       "           ...  \n",
       "293978    527398\n",
       "293979    527399\n",
       "293980    527400\n",
       "293981    527388\n",
       "293982    527401\n",
       "Name: id_order, Length: 293983, dtype: int64"
      ]
     },
     "execution_count": 56,
     "metadata": {},
     "output_type": "execute_result"
    }
   ],
   "source": [
    "df.iloc[:, 1]"
   ]
  },
  {
   "cell_type": "markdown",
   "id": "mCG96SJS3G1M",
   "metadata": {
    "id": "mCG96SJS3G1M"
   },
   "source": [
    "### 4.1.&nbsp; Select multiple columns\n",
    "\n",
    "If we want to select more than one column, we can do it with all the options listed above, with slight modifications in some cases:\n",
    "\n",
    "> **Note:** we pass a list inside of the `[]`, a list is also represented by `[]`, hence why we have 2 sets of square brackets"
   ]
  },
  {
   "cell_type": "code",
   "execution_count": 57,
   "id": "nE6QOfSw3G1M",
   "metadata": {
    "colab": {
     "base_uri": "https://localhost:8080/"
    },
    "id": "nE6QOfSw3G1M",
    "outputId": "68009563-eb62-47ec-fc8f-fdc7f6da0cc1"
   },
   "outputs": [
    {
     "data": {
      "text/html": [
       "<div>\n",
       "<style scoped>\n",
       "    .dataframe tbody tr th:only-of-type {\n",
       "        vertical-align: middle;\n",
       "    }\n",
       "\n",
       "    .dataframe tbody tr th {\n",
       "        vertical-align: top;\n",
       "    }\n",
       "\n",
       "    .dataframe thead th {\n",
       "        text-align: right;\n",
       "    }\n",
       "</style>\n",
       "<table border=\"1\" class=\"dataframe\">\n",
       "  <thead>\n",
       "    <tr style=\"text-align: right;\">\n",
       "      <th></th>\n",
       "      <th>id_order</th>\n",
       "      <th>sku</th>\n",
       "    </tr>\n",
       "  </thead>\n",
       "  <tbody>\n",
       "    <tr>\n",
       "      <th>0</th>\n",
       "      <td>299539</td>\n",
       "      <td>OTT0133</td>\n",
       "    </tr>\n",
       "    <tr>\n",
       "      <th>1</th>\n",
       "      <td>299540</td>\n",
       "      <td>LGE0043</td>\n",
       "    </tr>\n",
       "    <tr>\n",
       "      <th>2</th>\n",
       "      <td>299541</td>\n",
       "      <td>PAR0071</td>\n",
       "    </tr>\n",
       "    <tr>\n",
       "      <th>3</th>\n",
       "      <td>299542</td>\n",
       "      <td>WDT0315</td>\n",
       "    </tr>\n",
       "    <tr>\n",
       "      <th>4</th>\n",
       "      <td>299543</td>\n",
       "      <td>JBL0104</td>\n",
       "    </tr>\n",
       "    <tr>\n",
       "      <th>...</th>\n",
       "      <td>...</td>\n",
       "      <td>...</td>\n",
       "    </tr>\n",
       "    <tr>\n",
       "      <th>293978</th>\n",
       "      <td>527398</td>\n",
       "      <td>JBL0122</td>\n",
       "    </tr>\n",
       "    <tr>\n",
       "      <th>293979</th>\n",
       "      <td>527399</td>\n",
       "      <td>PAC0653</td>\n",
       "    </tr>\n",
       "    <tr>\n",
       "      <th>293980</th>\n",
       "      <td>527400</td>\n",
       "      <td>APP0698</td>\n",
       "    </tr>\n",
       "    <tr>\n",
       "      <th>293981</th>\n",
       "      <td>527388</td>\n",
       "      <td>BEZ0204</td>\n",
       "    </tr>\n",
       "    <tr>\n",
       "      <th>293982</th>\n",
       "      <td>527401</td>\n",
       "      <td>APP0927</td>\n",
       "    </tr>\n",
       "  </tbody>\n",
       "</table>\n",
       "<p>293983 rows × 2 columns</p>\n",
       "</div>"
      ],
      "text/plain": [
       "        id_order      sku\n",
       "0         299539  OTT0133\n",
       "1         299540  LGE0043\n",
       "2         299541  PAR0071\n",
       "3         299542  WDT0315\n",
       "4         299543  JBL0104\n",
       "...          ...      ...\n",
       "293978    527398  JBL0122\n",
       "293979    527399  PAC0653\n",
       "293980    527400  APP0698\n",
       "293981    527388  BEZ0204\n",
       "293982    527401  APP0927\n",
       "\n",
       "[293983 rows x 2 columns]"
      ]
     },
     "execution_count": 57,
     "metadata": {},
     "output_type": "execute_result"
    }
   ],
   "source": [
    "df[[\"id_order\",\"sku\"]]"
   ]
  },
  {
   "cell_type": "code",
   "execution_count": 58,
   "id": "sPN9LgVP3G1M",
   "metadata": {
    "colab": {
     "base_uri": "https://localhost:8080/"
    },
    "id": "sPN9LgVP3G1M",
    "outputId": "46b4ae65-330f-476b-d749-85b11578c9a3"
   },
   "outputs": [
    {
     "data": {
      "text/html": [
       "<div>\n",
       "<style scoped>\n",
       "    .dataframe tbody tr th:only-of-type {\n",
       "        vertical-align: middle;\n",
       "    }\n",
       "\n",
       "    .dataframe tbody tr th {\n",
       "        vertical-align: top;\n",
       "    }\n",
       "\n",
       "    .dataframe thead th {\n",
       "        text-align: right;\n",
       "    }\n",
       "</style>\n",
       "<table border=\"1\" class=\"dataframe\">\n",
       "  <thead>\n",
       "    <tr style=\"text-align: right;\">\n",
       "      <th></th>\n",
       "      <th>id_order</th>\n",
       "      <th>sku</th>\n",
       "    </tr>\n",
       "  </thead>\n",
       "  <tbody>\n",
       "    <tr>\n",
       "      <th>0</th>\n",
       "      <td>299539</td>\n",
       "      <td>OTT0133</td>\n",
       "    </tr>\n",
       "    <tr>\n",
       "      <th>1</th>\n",
       "      <td>299540</td>\n",
       "      <td>LGE0043</td>\n",
       "    </tr>\n",
       "    <tr>\n",
       "      <th>2</th>\n",
       "      <td>299541</td>\n",
       "      <td>PAR0071</td>\n",
       "    </tr>\n",
       "    <tr>\n",
       "      <th>3</th>\n",
       "      <td>299542</td>\n",
       "      <td>WDT0315</td>\n",
       "    </tr>\n",
       "    <tr>\n",
       "      <th>4</th>\n",
       "      <td>299543</td>\n",
       "      <td>JBL0104</td>\n",
       "    </tr>\n",
       "    <tr>\n",
       "      <th>...</th>\n",
       "      <td>...</td>\n",
       "      <td>...</td>\n",
       "    </tr>\n",
       "    <tr>\n",
       "      <th>293978</th>\n",
       "      <td>527398</td>\n",
       "      <td>JBL0122</td>\n",
       "    </tr>\n",
       "    <tr>\n",
       "      <th>293979</th>\n",
       "      <td>527399</td>\n",
       "      <td>PAC0653</td>\n",
       "    </tr>\n",
       "    <tr>\n",
       "      <th>293980</th>\n",
       "      <td>527400</td>\n",
       "      <td>APP0698</td>\n",
       "    </tr>\n",
       "    <tr>\n",
       "      <th>293981</th>\n",
       "      <td>527388</td>\n",
       "      <td>BEZ0204</td>\n",
       "    </tr>\n",
       "    <tr>\n",
       "      <th>293982</th>\n",
       "      <td>527401</td>\n",
       "      <td>APP0927</td>\n",
       "    </tr>\n",
       "  </tbody>\n",
       "</table>\n",
       "<p>293983 rows × 2 columns</p>\n",
       "</div>"
      ],
      "text/plain": [
       "        id_order      sku\n",
       "0         299539  OTT0133\n",
       "1         299540  LGE0043\n",
       "2         299541  PAR0071\n",
       "3         299542  WDT0315\n",
       "4         299543  JBL0104\n",
       "...          ...      ...\n",
       "293978    527398  JBL0122\n",
       "293979    527399  PAC0653\n",
       "293980    527400  APP0698\n",
       "293981    527388  BEZ0204\n",
       "293982    527401  APP0927\n",
       "\n",
       "[293983 rows x 2 columns]"
      ]
     },
     "execution_count": 58,
     "metadata": {},
     "output_type": "execute_result"
    }
   ],
   "source": [
    "df.loc[:, [\"id_order\", \"sku\"]]"
   ]
  },
  {
   "cell_type": "markdown",
   "id": "kFzAPFl23G1M",
   "metadata": {
    "id": "kFzAPFl23G1M"
   },
   "source": [
    "With `.loc[]` and `:` you can select all columns between two columns you specify."
   ]
  },
  {
   "cell_type": "code",
   "execution_count": 59,
   "id": "Ew-dOjYs3G1M",
   "metadata": {
    "colab": {
     "base_uri": "https://localhost:8080/"
    },
    "id": "Ew-dOjYs3G1M",
    "outputId": "9565c450-d4d5-4289-a562-f800a7674bf2"
   },
   "outputs": [
    {
     "data": {
      "text/html": [
       "<div>\n",
       "<style scoped>\n",
       "    .dataframe tbody tr th:only-of-type {\n",
       "        vertical-align: middle;\n",
       "    }\n",
       "\n",
       "    .dataframe tbody tr th {\n",
       "        vertical-align: top;\n",
       "    }\n",
       "\n",
       "    .dataframe thead th {\n",
       "        text-align: right;\n",
       "    }\n",
       "</style>\n",
       "<table border=\"1\" class=\"dataframe\">\n",
       "  <thead>\n",
       "    <tr style=\"text-align: right;\">\n",
       "      <th></th>\n",
       "      <th>id_order</th>\n",
       "      <th>product_id</th>\n",
       "      <th>product_quantity</th>\n",
       "      <th>sku</th>\n",
       "    </tr>\n",
       "  </thead>\n",
       "  <tbody>\n",
       "    <tr>\n",
       "      <th>0</th>\n",
       "      <td>299539</td>\n",
       "      <td>0</td>\n",
       "      <td>1</td>\n",
       "      <td>OTT0133</td>\n",
       "    </tr>\n",
       "    <tr>\n",
       "      <th>1</th>\n",
       "      <td>299540</td>\n",
       "      <td>0</td>\n",
       "      <td>1</td>\n",
       "      <td>LGE0043</td>\n",
       "    </tr>\n",
       "    <tr>\n",
       "      <th>2</th>\n",
       "      <td>299541</td>\n",
       "      <td>0</td>\n",
       "      <td>1</td>\n",
       "      <td>PAR0071</td>\n",
       "    </tr>\n",
       "    <tr>\n",
       "      <th>3</th>\n",
       "      <td>299542</td>\n",
       "      <td>0</td>\n",
       "      <td>1</td>\n",
       "      <td>WDT0315</td>\n",
       "    </tr>\n",
       "    <tr>\n",
       "      <th>4</th>\n",
       "      <td>299543</td>\n",
       "      <td>0</td>\n",
       "      <td>1</td>\n",
       "      <td>JBL0104</td>\n",
       "    </tr>\n",
       "    <tr>\n",
       "      <th>...</th>\n",
       "      <td>...</td>\n",
       "      <td>...</td>\n",
       "      <td>...</td>\n",
       "      <td>...</td>\n",
       "    </tr>\n",
       "    <tr>\n",
       "      <th>293978</th>\n",
       "      <td>527398</td>\n",
       "      <td>0</td>\n",
       "      <td>1</td>\n",
       "      <td>JBL0122</td>\n",
       "    </tr>\n",
       "    <tr>\n",
       "      <th>293979</th>\n",
       "      <td>527399</td>\n",
       "      <td>0</td>\n",
       "      <td>1</td>\n",
       "      <td>PAC0653</td>\n",
       "    </tr>\n",
       "    <tr>\n",
       "      <th>293980</th>\n",
       "      <td>527400</td>\n",
       "      <td>0</td>\n",
       "      <td>2</td>\n",
       "      <td>APP0698</td>\n",
       "    </tr>\n",
       "    <tr>\n",
       "      <th>293981</th>\n",
       "      <td>527388</td>\n",
       "      <td>0</td>\n",
       "      <td>1</td>\n",
       "      <td>BEZ0204</td>\n",
       "    </tr>\n",
       "    <tr>\n",
       "      <th>293982</th>\n",
       "      <td>527401</td>\n",
       "      <td>0</td>\n",
       "      <td>1</td>\n",
       "      <td>APP0927</td>\n",
       "    </tr>\n",
       "  </tbody>\n",
       "</table>\n",
       "<p>293983 rows × 4 columns</p>\n",
       "</div>"
      ],
      "text/plain": [
       "        id_order  product_id  product_quantity      sku\n",
       "0         299539           0                 1  OTT0133\n",
       "1         299540           0                 1  LGE0043\n",
       "2         299541           0                 1  PAR0071\n",
       "3         299542           0                 1  WDT0315\n",
       "4         299543           0                 1  JBL0104\n",
       "...          ...         ...               ...      ...\n",
       "293978    527398           0                 1  JBL0122\n",
       "293979    527399           0                 1  PAC0653\n",
       "293980    527400           0                 2  APP0698\n",
       "293981    527388           0                 1  BEZ0204\n",
       "293982    527401           0                 1  APP0927\n",
       "\n",
       "[293983 rows x 4 columns]"
      ]
     },
     "execution_count": 59,
     "metadata": {},
     "output_type": "execute_result"
    }
   ],
   "source": [
    "df.loc[:, \"id_order\":\"sku\"]"
   ]
  },
  {
   "cell_type": "code",
   "execution_count": 60,
   "id": "vl4yNTak3G1M",
   "metadata": {
    "colab": {
     "base_uri": "https://localhost:8080/"
    },
    "id": "vl4yNTak3G1M",
    "outputId": "3ee0f899-6ac1-41db-c5fe-8228b1ffa8a3"
   },
   "outputs": [
    {
     "data": {
      "text/html": [
       "<div>\n",
       "<style scoped>\n",
       "    .dataframe tbody tr th:only-of-type {\n",
       "        vertical-align: middle;\n",
       "    }\n",
       "\n",
       "    .dataframe tbody tr th {\n",
       "        vertical-align: top;\n",
       "    }\n",
       "\n",
       "    .dataframe thead th {\n",
       "        text-align: right;\n",
       "    }\n",
       "</style>\n",
       "<table border=\"1\" class=\"dataframe\">\n",
       "  <thead>\n",
       "    <tr style=\"text-align: right;\">\n",
       "      <th></th>\n",
       "      <th>id_order</th>\n",
       "      <th>sku</th>\n",
       "    </tr>\n",
       "  </thead>\n",
       "  <tbody>\n",
       "    <tr>\n",
       "      <th>0</th>\n",
       "      <td>299539</td>\n",
       "      <td>OTT0133</td>\n",
       "    </tr>\n",
       "    <tr>\n",
       "      <th>1</th>\n",
       "      <td>299540</td>\n",
       "      <td>LGE0043</td>\n",
       "    </tr>\n",
       "    <tr>\n",
       "      <th>2</th>\n",
       "      <td>299541</td>\n",
       "      <td>PAR0071</td>\n",
       "    </tr>\n",
       "    <tr>\n",
       "      <th>3</th>\n",
       "      <td>299542</td>\n",
       "      <td>WDT0315</td>\n",
       "    </tr>\n",
       "    <tr>\n",
       "      <th>4</th>\n",
       "      <td>299543</td>\n",
       "      <td>JBL0104</td>\n",
       "    </tr>\n",
       "    <tr>\n",
       "      <th>...</th>\n",
       "      <td>...</td>\n",
       "      <td>...</td>\n",
       "    </tr>\n",
       "    <tr>\n",
       "      <th>293978</th>\n",
       "      <td>527398</td>\n",
       "      <td>JBL0122</td>\n",
       "    </tr>\n",
       "    <tr>\n",
       "      <th>293979</th>\n",
       "      <td>527399</td>\n",
       "      <td>PAC0653</td>\n",
       "    </tr>\n",
       "    <tr>\n",
       "      <th>293980</th>\n",
       "      <td>527400</td>\n",
       "      <td>APP0698</td>\n",
       "    </tr>\n",
       "    <tr>\n",
       "      <th>293981</th>\n",
       "      <td>527388</td>\n",
       "      <td>BEZ0204</td>\n",
       "    </tr>\n",
       "    <tr>\n",
       "      <th>293982</th>\n",
       "      <td>527401</td>\n",
       "      <td>APP0927</td>\n",
       "    </tr>\n",
       "  </tbody>\n",
       "</table>\n",
       "<p>293983 rows × 2 columns</p>\n",
       "</div>"
      ],
      "text/plain": [
       "        id_order      sku\n",
       "0         299539  OTT0133\n",
       "1         299540  LGE0043\n",
       "2         299541  PAR0071\n",
       "3         299542  WDT0315\n",
       "4         299543  JBL0104\n",
       "...          ...      ...\n",
       "293978    527398  JBL0122\n",
       "293979    527399  PAC0653\n",
       "293980    527400  APP0698\n",
       "293981    527388  BEZ0204\n",
       "293982    527401  APP0927\n",
       "\n",
       "[293983 rows x 2 columns]"
      ]
     },
     "execution_count": 60,
     "metadata": {},
     "output_type": "execute_result"
    }
   ],
   "source": [
    "df.iloc[:, [1, 4]]"
   ]
  },
  {
   "cell_type": "code",
   "execution_count": 61,
   "id": "YulMzlS_3G1M",
   "metadata": {
    "colab": {
     "base_uri": "https://localhost:8080/"
    },
    "id": "YulMzlS_3G1M",
    "outputId": "d5de9286-745a-4081-d54d-1bdbf90df7ed"
   },
   "outputs": [
    {
     "data": {
      "text/html": [
       "<div>\n",
       "<style scoped>\n",
       "    .dataframe tbody tr th:only-of-type {\n",
       "        vertical-align: middle;\n",
       "    }\n",
       "\n",
       "    .dataframe tbody tr th {\n",
       "        vertical-align: top;\n",
       "    }\n",
       "\n",
       "    .dataframe thead th {\n",
       "        text-align: right;\n",
       "    }\n",
       "</style>\n",
       "<table border=\"1\" class=\"dataframe\">\n",
       "  <thead>\n",
       "    <tr style=\"text-align: right;\">\n",
       "      <th></th>\n",
       "      <th>id_order</th>\n",
       "      <th>product_id</th>\n",
       "      <th>product_quantity</th>\n",
       "      <th>sku</th>\n",
       "    </tr>\n",
       "  </thead>\n",
       "  <tbody>\n",
       "    <tr>\n",
       "      <th>0</th>\n",
       "      <td>299539</td>\n",
       "      <td>0</td>\n",
       "      <td>1</td>\n",
       "      <td>OTT0133</td>\n",
       "    </tr>\n",
       "    <tr>\n",
       "      <th>1</th>\n",
       "      <td>299540</td>\n",
       "      <td>0</td>\n",
       "      <td>1</td>\n",
       "      <td>LGE0043</td>\n",
       "    </tr>\n",
       "    <tr>\n",
       "      <th>2</th>\n",
       "      <td>299541</td>\n",
       "      <td>0</td>\n",
       "      <td>1</td>\n",
       "      <td>PAR0071</td>\n",
       "    </tr>\n",
       "    <tr>\n",
       "      <th>3</th>\n",
       "      <td>299542</td>\n",
       "      <td>0</td>\n",
       "      <td>1</td>\n",
       "      <td>WDT0315</td>\n",
       "    </tr>\n",
       "    <tr>\n",
       "      <th>4</th>\n",
       "      <td>299543</td>\n",
       "      <td>0</td>\n",
       "      <td>1</td>\n",
       "      <td>JBL0104</td>\n",
       "    </tr>\n",
       "    <tr>\n",
       "      <th>...</th>\n",
       "      <td>...</td>\n",
       "      <td>...</td>\n",
       "      <td>...</td>\n",
       "      <td>...</td>\n",
       "    </tr>\n",
       "    <tr>\n",
       "      <th>293978</th>\n",
       "      <td>527398</td>\n",
       "      <td>0</td>\n",
       "      <td>1</td>\n",
       "      <td>JBL0122</td>\n",
       "    </tr>\n",
       "    <tr>\n",
       "      <th>293979</th>\n",
       "      <td>527399</td>\n",
       "      <td>0</td>\n",
       "      <td>1</td>\n",
       "      <td>PAC0653</td>\n",
       "    </tr>\n",
       "    <tr>\n",
       "      <th>293980</th>\n",
       "      <td>527400</td>\n",
       "      <td>0</td>\n",
       "      <td>2</td>\n",
       "      <td>APP0698</td>\n",
       "    </tr>\n",
       "    <tr>\n",
       "      <th>293981</th>\n",
       "      <td>527388</td>\n",
       "      <td>0</td>\n",
       "      <td>1</td>\n",
       "      <td>BEZ0204</td>\n",
       "    </tr>\n",
       "    <tr>\n",
       "      <th>293982</th>\n",
       "      <td>527401</td>\n",
       "      <td>0</td>\n",
       "      <td>1</td>\n",
       "      <td>APP0927</td>\n",
       "    </tr>\n",
       "  </tbody>\n",
       "</table>\n",
       "<p>293983 rows × 4 columns</p>\n",
       "</div>"
      ],
      "text/plain": [
       "        id_order  product_id  product_quantity      sku\n",
       "0         299539           0                 1  OTT0133\n",
       "1         299540           0                 1  LGE0043\n",
       "2         299541           0                 1  PAR0071\n",
       "3         299542           0                 1  WDT0315\n",
       "4         299543           0                 1  JBL0104\n",
       "...          ...         ...               ...      ...\n",
       "293978    527398           0                 1  JBL0122\n",
       "293979    527399           0                 1  PAC0653\n",
       "293980    527400           0                 2  APP0698\n",
       "293981    527388           0                 1  BEZ0204\n",
       "293982    527401           0                 1  APP0927\n",
       "\n",
       "[293983 rows x 4 columns]"
      ]
     },
     "execution_count": 61,
     "metadata": {},
     "output_type": "execute_result"
    }
   ],
   "source": [
    "df.iloc[:, 1:5]"
   ]
  },
  {
   "cell_type": "markdown",
   "id": "t6ff3smA3G1M",
   "metadata": {
    "id": "t6ff3smA3G1M"
   },
   "source": [
    "## 5.&nbsp; Select Rows\n",
    "\n",
    "Selecting rows is easy if you know how to select columns. You have two options:\n",
    "\n",
    "* With `.loc[]` (by name or tag)\n",
    "* With `.iloc[]` (by position)"
   ]
  },
  {
   "cell_type": "markdown",
   "id": "NONgKdat3G1M",
   "metadata": {
    "id": "NONgKdat3G1M"
   },
   "source": [
    "Selecting a single row returns a pandas Series (a 1-dimensional object):"
   ]
  },
  {
   "cell_type": "code",
   "execution_count": 62,
   "id": "1VMW2DjU3G1N",
   "metadata": {
    "colab": {
     "base_uri": "https://localhost:8080/"
    },
    "id": "1VMW2DjU3G1N",
    "outputId": "7a17e4fd-bbce-44eb-c744-e709b5e768fd"
   },
   "outputs": [
    {
     "data": {
      "text/plain": [
       "id                              1119109\n",
       "id_order                         299539\n",
       "product_id                            0\n",
       "product_quantity                      1\n",
       "sku                             OTT0133\n",
       "unit_price                        18.99\n",
       "date                2017-01-01 00:07:19\n",
       "Name: 0, dtype: object"
      ]
     },
     "execution_count": 62,
     "metadata": {},
     "output_type": "execute_result"
    }
   ],
   "source": [
    "df.loc[0, :]"
   ]
  },
  {
   "cell_type": "markdown",
   "id": "sB8ABuQC3G1N",
   "metadata": {
    "id": "sB8ABuQC3G1N"
   },
   "source": [
    "With `.loc[]`, rows are selected by their index name:"
   ]
  },
  {
   "cell_type": "code",
   "execution_count": 63,
   "id": "b3x_Zfcn3G1N",
   "metadata": {
    "colab": {
     "base_uri": "https://localhost:8080/"
    },
    "id": "b3x_Zfcn3G1N",
    "outputId": "011d9ffa-c6b6-469f-d1ac-ead26966fe3c"
   },
   "outputs": [
    {
     "data": {
      "text/html": [
       "<div>\n",
       "<style scoped>\n",
       "    .dataframe tbody tr th:only-of-type {\n",
       "        vertical-align: middle;\n",
       "    }\n",
       "\n",
       "    .dataframe tbody tr th {\n",
       "        vertical-align: top;\n",
       "    }\n",
       "\n",
       "    .dataframe thead th {\n",
       "        text-align: right;\n",
       "    }\n",
       "</style>\n",
       "<table border=\"1\" class=\"dataframe\">\n",
       "  <thead>\n",
       "    <tr style=\"text-align: right;\">\n",
       "      <th></th>\n",
       "      <th>id</th>\n",
       "      <th>id_order</th>\n",
       "      <th>product_id</th>\n",
       "      <th>product_quantity</th>\n",
       "      <th>sku</th>\n",
       "      <th>unit_price</th>\n",
       "      <th>date</th>\n",
       "    </tr>\n",
       "  </thead>\n",
       "  <tbody>\n",
       "    <tr>\n",
       "      <th>0</th>\n",
       "      <td>1119109</td>\n",
       "      <td>299539</td>\n",
       "      <td>0</td>\n",
       "      <td>1</td>\n",
       "      <td>OTT0133</td>\n",
       "      <td>18.99</td>\n",
       "      <td>2017-01-01 00:07:19</td>\n",
       "    </tr>\n",
       "    <tr>\n",
       "      <th>1</th>\n",
       "      <td>1119110</td>\n",
       "      <td>299540</td>\n",
       "      <td>0</td>\n",
       "      <td>1</td>\n",
       "      <td>LGE0043</td>\n",
       "      <td>399.00</td>\n",
       "      <td>2017-01-01 00:19:45</td>\n",
       "    </tr>\n",
       "    <tr>\n",
       "      <th>2</th>\n",
       "      <td>1119111</td>\n",
       "      <td>299541</td>\n",
       "      <td>0</td>\n",
       "      <td>1</td>\n",
       "      <td>PAR0071</td>\n",
       "      <td>474.05</td>\n",
       "      <td>2017-01-01 00:20:57</td>\n",
       "    </tr>\n",
       "    <tr>\n",
       "      <th>3</th>\n",
       "      <td>1119112</td>\n",
       "      <td>299542</td>\n",
       "      <td>0</td>\n",
       "      <td>1</td>\n",
       "      <td>WDT0315</td>\n",
       "      <td>68.39</td>\n",
       "      <td>2017-01-01 00:51:40</td>\n",
       "    </tr>\n",
       "  </tbody>\n",
       "</table>\n",
       "</div>"
      ],
      "text/plain": [
       "        id  id_order  product_id  product_quantity      sku unit_price  \\\n",
       "0  1119109    299539           0                 1  OTT0133      18.99   \n",
       "1  1119110    299540           0                 1  LGE0043     399.00   \n",
       "2  1119111    299541           0                 1  PAR0071     474.05   \n",
       "3  1119112    299542           0                 1  WDT0315      68.39   \n",
       "\n",
       "                  date  \n",
       "0  2017-01-01 00:07:19  \n",
       "1  2017-01-01 00:19:45  \n",
       "2  2017-01-01 00:20:57  \n",
       "3  2017-01-01 00:51:40  "
      ]
     },
     "execution_count": 63,
     "metadata": {},
     "output_type": "execute_result"
    }
   ],
   "source": [
    "df.loc[0:3, :]"
   ]
  },
  {
   "cell_type": "markdown",
   "id": "_UUQqfTT3G1N",
   "metadata": {
    "id": "_UUQqfTT3G1N"
   },
   "source": [
    "If we change the index and set it to the `id` column, now the first rows can not be selected the same way:\n",
    "> **Note:** `inplace = True` is the same as doing `df = df.set_index(\"id\")`, i.e. it modifies the DataFrame"
   ]
  },
  {
   "cell_type": "code",
   "execution_count": 70,
   "id": "ZWZkhVd_3G1N",
   "metadata": {
    "id": "ZWZkhVd_3G1N"
   },
   "outputs": [],
   "source": [
    "df.set_index(\"id\", inplace=True) # use the id column as Index column rather that the normal index line numbers"
   ]
  },
  {
   "cell_type": "code",
   "execution_count": 73,
   "id": "60181b32-4bcc-404f-be51-1a0dbb634c54",
   "metadata": {},
   "outputs": [
    {
     "data": {
      "text/html": [
       "<div>\n",
       "<style scoped>\n",
       "    .dataframe tbody tr th:only-of-type {\n",
       "        vertical-align: middle;\n",
       "    }\n",
       "\n",
       "    .dataframe tbody tr th {\n",
       "        vertical-align: top;\n",
       "    }\n",
       "\n",
       "    .dataframe thead th {\n",
       "        text-align: right;\n",
       "    }\n",
       "</style>\n",
       "<table border=\"1\" class=\"dataframe\">\n",
       "  <thead>\n",
       "    <tr style=\"text-align: right;\">\n",
       "      <th></th>\n",
       "      <th>id_order</th>\n",
       "      <th>product_id</th>\n",
       "      <th>product_quantity</th>\n",
       "      <th>sku</th>\n",
       "      <th>unit_price</th>\n",
       "      <th>date</th>\n",
       "    </tr>\n",
       "    <tr>\n",
       "      <th>id</th>\n",
       "      <th></th>\n",
       "      <th></th>\n",
       "      <th></th>\n",
       "      <th></th>\n",
       "      <th></th>\n",
       "      <th></th>\n",
       "    </tr>\n",
       "  </thead>\n",
       "  <tbody>\n",
       "    <tr>\n",
       "      <th>1119109</th>\n",
       "      <td>299539</td>\n",
       "      <td>0</td>\n",
       "      <td>1</td>\n",
       "      <td>OTT0133</td>\n",
       "      <td>18.99</td>\n",
       "      <td>2017-01-01 00:07:19</td>\n",
       "    </tr>\n",
       "    <tr>\n",
       "      <th>1119110</th>\n",
       "      <td>299540</td>\n",
       "      <td>0</td>\n",
       "      <td>1</td>\n",
       "      <td>LGE0043</td>\n",
       "      <td>399.00</td>\n",
       "      <td>2017-01-01 00:19:45</td>\n",
       "    </tr>\n",
       "    <tr>\n",
       "      <th>1119111</th>\n",
       "      <td>299541</td>\n",
       "      <td>0</td>\n",
       "      <td>1</td>\n",
       "      <td>PAR0071</td>\n",
       "      <td>474.05</td>\n",
       "      <td>2017-01-01 00:20:57</td>\n",
       "    </tr>\n",
       "    <tr>\n",
       "      <th>1119112</th>\n",
       "      <td>299542</td>\n",
       "      <td>0</td>\n",
       "      <td>1</td>\n",
       "      <td>WDT0315</td>\n",
       "      <td>68.39</td>\n",
       "      <td>2017-01-01 00:51:40</td>\n",
       "    </tr>\n",
       "    <tr>\n",
       "      <th>1119113</th>\n",
       "      <td>299543</td>\n",
       "      <td>0</td>\n",
       "      <td>1</td>\n",
       "      <td>JBL0104</td>\n",
       "      <td>23.74</td>\n",
       "      <td>2017-01-01 01:06:38</td>\n",
       "    </tr>\n",
       "    <tr>\n",
       "      <th>...</th>\n",
       "      <td>...</td>\n",
       "      <td>...</td>\n",
       "      <td>...</td>\n",
       "      <td>...</td>\n",
       "      <td>...</td>\n",
       "      <td>...</td>\n",
       "    </tr>\n",
       "    <tr>\n",
       "      <th>1650199</th>\n",
       "      <td>527398</td>\n",
       "      <td>0</td>\n",
       "      <td>1</td>\n",
       "      <td>JBL0122</td>\n",
       "      <td>42.99</td>\n",
       "      <td>2018-03-14 13:57:25</td>\n",
       "    </tr>\n",
       "    <tr>\n",
       "      <th>1650200</th>\n",
       "      <td>527399</td>\n",
       "      <td>0</td>\n",
       "      <td>1</td>\n",
       "      <td>PAC0653</td>\n",
       "      <td>141.58</td>\n",
       "      <td>2018-03-14 13:57:34</td>\n",
       "    </tr>\n",
       "    <tr>\n",
       "      <th>1650201</th>\n",
       "      <td>527400</td>\n",
       "      <td>0</td>\n",
       "      <td>2</td>\n",
       "      <td>APP0698</td>\n",
       "      <td>9.99</td>\n",
       "      <td>2018-03-14 13:57:41</td>\n",
       "    </tr>\n",
       "    <tr>\n",
       "      <th>1650202</th>\n",
       "      <td>527388</td>\n",
       "      <td>0</td>\n",
       "      <td>1</td>\n",
       "      <td>BEZ0204</td>\n",
       "      <td>19.99</td>\n",
       "      <td>2018-03-14 13:58:01</td>\n",
       "    </tr>\n",
       "    <tr>\n",
       "      <th>1650203</th>\n",
       "      <td>527401</td>\n",
       "      <td>0</td>\n",
       "      <td>1</td>\n",
       "      <td>APP0927</td>\n",
       "      <td>13.99</td>\n",
       "      <td>2018-03-14 13:58:36</td>\n",
       "    </tr>\n",
       "  </tbody>\n",
       "</table>\n",
       "<p>293983 rows × 6 columns</p>\n",
       "</div>"
      ],
      "text/plain": [
       "         id_order  product_id  product_quantity      sku unit_price  \\\n",
       "id                                                                    \n",
       "1119109    299539           0                 1  OTT0133      18.99   \n",
       "1119110    299540           0                 1  LGE0043     399.00   \n",
       "1119111    299541           0                 1  PAR0071     474.05   \n",
       "1119112    299542           0                 1  WDT0315      68.39   \n",
       "1119113    299543           0                 1  JBL0104      23.74   \n",
       "...           ...         ...               ...      ...        ...   \n",
       "1650199    527398           0                 1  JBL0122      42.99   \n",
       "1650200    527399           0                 1  PAC0653     141.58   \n",
       "1650201    527400           0                 2  APP0698       9.99   \n",
       "1650202    527388           0                 1  BEZ0204      19.99   \n",
       "1650203    527401           0                 1  APP0927      13.99   \n",
       "\n",
       "                        date  \n",
       "id                            \n",
       "1119109  2017-01-01 00:07:19  \n",
       "1119110  2017-01-01 00:19:45  \n",
       "1119111  2017-01-01 00:20:57  \n",
       "1119112  2017-01-01 00:51:40  \n",
       "1119113  2017-01-01 01:06:38  \n",
       "...                      ...  \n",
       "1650199  2018-03-14 13:57:25  \n",
       "1650200  2018-03-14 13:57:34  \n",
       "1650201  2018-03-14 13:57:41  \n",
       "1650202  2018-03-14 13:58:01  \n",
       "1650203  2018-03-14 13:58:36  \n",
       "\n",
       "[293983 rows x 6 columns]"
      ]
     },
     "execution_count": 73,
     "metadata": {},
     "output_type": "execute_result"
    }
   ],
   "source": [
    "df"
   ]
  },
  {
   "cell_type": "markdown",
   "id": "rVo5D8FxpjmC",
   "metadata": {
    "id": "rVo5D8FxpjmC"
   },
   "source": [
    "Look, the same code as above no longer works. The index has been changed to the `id` column, if we want to use `.loc` we now need to use the names/numbers from `id`"
   ]
  },
  {
   "cell_type": "code",
   "execution_count": 74,
   "id": "GfbGU34H3G1N",
   "metadata": {
    "colab": {
     "base_uri": "https://localhost:8080/"
    },
    "id": "GfbGU34H3G1N",
    "outputId": "527929d8-1d8b-43c5-95ee-8b48168b5e8d"
   },
   "outputs": [
    {
     "data": {
      "text/html": [
       "<div>\n",
       "<style scoped>\n",
       "    .dataframe tbody tr th:only-of-type {\n",
       "        vertical-align: middle;\n",
       "    }\n",
       "\n",
       "    .dataframe tbody tr th {\n",
       "        vertical-align: top;\n",
       "    }\n",
       "\n",
       "    .dataframe thead th {\n",
       "        text-align: right;\n",
       "    }\n",
       "</style>\n",
       "<table border=\"1\" class=\"dataframe\">\n",
       "  <thead>\n",
       "    <tr style=\"text-align: right;\">\n",
       "      <th></th>\n",
       "      <th>id_order</th>\n",
       "      <th>product_id</th>\n",
       "      <th>product_quantity</th>\n",
       "      <th>sku</th>\n",
       "      <th>unit_price</th>\n",
       "      <th>date</th>\n",
       "    </tr>\n",
       "    <tr>\n",
       "      <th>id</th>\n",
       "      <th></th>\n",
       "      <th></th>\n",
       "      <th></th>\n",
       "      <th></th>\n",
       "      <th></th>\n",
       "      <th></th>\n",
       "    </tr>\n",
       "  </thead>\n",
       "  <tbody>\n",
       "  </tbody>\n",
       "</table>\n",
       "</div>"
      ],
      "text/plain": [
       "Empty DataFrame\n",
       "Columns: [id_order, product_id, product_quantity, sku, unit_price, date]\n",
       "Index: []"
      ]
     },
     "execution_count": 74,
     "metadata": {},
     "output_type": "execute_result"
    }
   ],
   "source": [
    "df.loc[0:3, :]"
   ]
  },
  {
   "cell_type": "code",
   "execution_count": 76,
   "id": "H2UMedJo3G1N",
   "metadata": {
    "colab": {
     "base_uri": "https://localhost:8080/"
    },
    "id": "H2UMedJo3G1N",
    "outputId": "f52dc14a-aafb-4a68-93a0-90a9d2836812"
   },
   "outputs": [
    {
     "data": {
      "text/html": [
       "<div>\n",
       "<style scoped>\n",
       "    .dataframe tbody tr th:only-of-type {\n",
       "        vertical-align: middle;\n",
       "    }\n",
       "\n",
       "    .dataframe tbody tr th {\n",
       "        vertical-align: top;\n",
       "    }\n",
       "\n",
       "    .dataframe thead th {\n",
       "        text-align: right;\n",
       "    }\n",
       "</style>\n",
       "<table border=\"1\" class=\"dataframe\">\n",
       "  <thead>\n",
       "    <tr style=\"text-align: right;\">\n",
       "      <th></th>\n",
       "      <th>id_order</th>\n",
       "      <th>product_id</th>\n",
       "      <th>product_quantity</th>\n",
       "      <th>sku</th>\n",
       "      <th>unit_price</th>\n",
       "      <th>date</th>\n",
       "    </tr>\n",
       "    <tr>\n",
       "      <th>id</th>\n",
       "      <th></th>\n",
       "      <th></th>\n",
       "      <th></th>\n",
       "      <th></th>\n",
       "      <th></th>\n",
       "      <th></th>\n",
       "    </tr>\n",
       "  </thead>\n",
       "  <tbody>\n",
       "    <tr>\n",
       "      <th>1119109</th>\n",
       "      <td>299539</td>\n",
       "      <td>0</td>\n",
       "      <td>1</td>\n",
       "      <td>OTT0133</td>\n",
       "      <td>18.99</td>\n",
       "      <td>2017-01-01 00:07:19</td>\n",
       "    </tr>\n",
       "    <tr>\n",
       "      <th>1119110</th>\n",
       "      <td>299540</td>\n",
       "      <td>0</td>\n",
       "      <td>1</td>\n",
       "      <td>LGE0043</td>\n",
       "      <td>399.00</td>\n",
       "      <td>2017-01-01 00:19:45</td>\n",
       "    </tr>\n",
       "    <tr>\n",
       "      <th>1119111</th>\n",
       "      <td>299541</td>\n",
       "      <td>0</td>\n",
       "      <td>1</td>\n",
       "      <td>PAR0071</td>\n",
       "      <td>474.05</td>\n",
       "      <td>2017-01-01 00:20:57</td>\n",
       "    </tr>\n",
       "    <tr>\n",
       "      <th>1119112</th>\n",
       "      <td>299542</td>\n",
       "      <td>0</td>\n",
       "      <td>1</td>\n",
       "      <td>WDT0315</td>\n",
       "      <td>68.39</td>\n",
       "      <td>2017-01-01 00:51:40</td>\n",
       "    </tr>\n",
       "  </tbody>\n",
       "</table>\n",
       "</div>"
      ],
      "text/plain": [
       "         id_order  product_id  product_quantity      sku unit_price  \\\n",
       "id                                                                    \n",
       "1119109    299539           0                 1  OTT0133      18.99   \n",
       "1119110    299540           0                 1  LGE0043     399.00   \n",
       "1119111    299541           0                 1  PAR0071     474.05   \n",
       "1119112    299542           0                 1  WDT0315      68.39   \n",
       "\n",
       "                        date  \n",
       "id                            \n",
       "1119109  2017-01-01 00:07:19  \n",
       "1119110  2017-01-01 00:19:45  \n",
       "1119111  2017-01-01 00:20:57  \n",
       "1119112  2017-01-01 00:51:40  "
      ]
     },
     "execution_count": 76,
     "metadata": {},
     "output_type": "execute_result"
    }
   ],
   "source": [
    "df.loc[1119109:1119112, :]"
   ]
  },
  {
   "cell_type": "markdown",
   "id": "n_cOlxFPrEtJ",
   "metadata": {
    "id": "n_cOlxFPrEtJ"
   },
   "source": [
    "You can always tell the index column as it will be in bold"
   ]
  },
  {
   "cell_type": "markdown",
   "id": "UrwM_2w73G1N",
   "metadata": {
    "id": "UrwM_2w73G1N"
   },
   "source": [
    "With the `.iloc[]` method we don't need to know the row names to select rows at a certain position. Every row and column is instead nominally indexed, starting from the number 0:"
   ]
  },
  {
   "cell_type": "code",
   "execution_count": 77,
   "id": "R7P8gqaF3G1N",
   "metadata": {
    "colab": {
     "base_uri": "https://localhost:8080/"
    },
    "id": "R7P8gqaF3G1N",
    "outputId": "6d89ae78-4f0d-44e6-ae2a-9c21d6e19ea9"
   },
   "outputs": [
    {
     "data": {
      "text/html": [
       "<div>\n",
       "<style scoped>\n",
       "    .dataframe tbody tr th:only-of-type {\n",
       "        vertical-align: middle;\n",
       "    }\n",
       "\n",
       "    .dataframe tbody tr th {\n",
       "        vertical-align: top;\n",
       "    }\n",
       "\n",
       "    .dataframe thead th {\n",
       "        text-align: right;\n",
       "    }\n",
       "</style>\n",
       "<table border=\"1\" class=\"dataframe\">\n",
       "  <thead>\n",
       "    <tr style=\"text-align: right;\">\n",
       "      <th></th>\n",
       "      <th>id_order</th>\n",
       "      <th>product_id</th>\n",
       "      <th>product_quantity</th>\n",
       "      <th>sku</th>\n",
       "      <th>unit_price</th>\n",
       "      <th>date</th>\n",
       "    </tr>\n",
       "    <tr>\n",
       "      <th>id</th>\n",
       "      <th></th>\n",
       "      <th></th>\n",
       "      <th></th>\n",
       "      <th></th>\n",
       "      <th></th>\n",
       "      <th></th>\n",
       "    </tr>\n",
       "  </thead>\n",
       "  <tbody>\n",
       "    <tr>\n",
       "      <th>1119109</th>\n",
       "      <td>299539</td>\n",
       "      <td>0</td>\n",
       "      <td>1</td>\n",
       "      <td>OTT0133</td>\n",
       "      <td>18.99</td>\n",
       "      <td>2017-01-01 00:07:19</td>\n",
       "    </tr>\n",
       "    <tr>\n",
       "      <th>1119110</th>\n",
       "      <td>299540</td>\n",
       "      <td>0</td>\n",
       "      <td>1</td>\n",
       "      <td>LGE0043</td>\n",
       "      <td>399.00</td>\n",
       "      <td>2017-01-01 00:19:45</td>\n",
       "    </tr>\n",
       "    <tr>\n",
       "      <th>1119111</th>\n",
       "      <td>299541</td>\n",
       "      <td>0</td>\n",
       "      <td>1</td>\n",
       "      <td>PAR0071</td>\n",
       "      <td>474.05</td>\n",
       "      <td>2017-01-01 00:20:57</td>\n",
       "    </tr>\n",
       "    <tr>\n",
       "      <th>1119112</th>\n",
       "      <td>299542</td>\n",
       "      <td>0</td>\n",
       "      <td>1</td>\n",
       "      <td>WDT0315</td>\n",
       "      <td>68.39</td>\n",
       "      <td>2017-01-01 00:51:40</td>\n",
       "    </tr>\n",
       "  </tbody>\n",
       "</table>\n",
       "</div>"
      ],
      "text/plain": [
       "         id_order  product_id  product_quantity      sku unit_price  \\\n",
       "id                                                                    \n",
       "1119109    299539           0                 1  OTT0133      18.99   \n",
       "1119110    299540           0                 1  LGE0043     399.00   \n",
       "1119111    299541           0                 1  PAR0071     474.05   \n",
       "1119112    299542           0                 1  WDT0315      68.39   \n",
       "\n",
       "                        date  \n",
       "id                            \n",
       "1119109  2017-01-01 00:07:19  \n",
       "1119110  2017-01-01 00:19:45  \n",
       "1119111  2017-01-01 00:20:57  \n",
       "1119112  2017-01-01 00:51:40  "
      ]
     },
     "execution_count": 77,
     "metadata": {},
     "output_type": "execute_result"
    }
   ],
   "source": [
    "df.iloc[0:4]"
   ]
  },
  {
   "cell_type": "markdown",
   "id": "UfUYQFZKsf6f",
   "metadata": {
    "id": "UfUYQFZKsf6f"
   },
   "source": [
    "We can select the last observation with the method `.iloc[]` by using negative numbers"
   ]
  },
  {
   "cell_type": "code",
   "execution_count": 78,
   "id": "q5yP3x7W3G1O",
   "metadata": {
    "colab": {
     "base_uri": "https://localhost:8080/"
    },
    "id": "q5yP3x7W3G1O",
    "outputId": "327157c9-4518-47dc-af48-faaf4e9972f3"
   },
   "outputs": [
    {
     "data": {
      "text/plain": [
       "id_order                         527401\n",
       "product_id                            0\n",
       "product_quantity                      1\n",
       "sku                             APP0927\n",
       "unit_price                        13.99\n",
       "date                2018-03-14 13:58:36\n",
       "Name: 1650203, dtype: object"
      ]
     },
     "execution_count": 78,
     "metadata": {},
     "output_type": "execute_result"
    }
   ],
   "source": [
    "df.iloc[-1]"
   ]
  },
  {
   "cell_type": "markdown",
   "id": "siiaQDfvs4rw",
   "metadata": {
    "id": "siiaQDfvs4rw"
   },
   "source": [
    "We can, whenever necessary, reset the index to a set of numbers starting from 0. This would also make the `id` column a normal column once again"
   ]
  },
  {
   "cell_type": "code",
   "execution_count": 79,
   "id": "DBELgGe_3G1O",
   "metadata": {
    "id": "DBELgGe_3G1O"
   },
   "outputs": [],
   "source": [
    "df.reset_index(inplace=True)"
   ]
  },
  {
   "cell_type": "markdown",
   "id": "5C394I2F3G1O",
   "metadata": {
    "id": "5C394I2F3G1O"
   },
   "source": [
    "Indexing can get tricky sometimes, it's ok to take some time to get used to the methods we presented, and it's ok to have some trouble selecting the rows and columns you need. For an exhaustive guide on Pandas indexing, check out this link: https://pandas.pydata.org/docs/user_guide/indexing.html#indexing"
   ]
  },
  {
   "cell_type": "code",
   "execution_count": 80,
   "id": "cc53389f-4eec-4f7f-95e5-a421590c480a",
   "metadata": {},
   "outputs": [
    {
     "data": {
      "text/html": [
       "<div>\n",
       "<style scoped>\n",
       "    .dataframe tbody tr th:only-of-type {\n",
       "        vertical-align: middle;\n",
       "    }\n",
       "\n",
       "    .dataframe tbody tr th {\n",
       "        vertical-align: top;\n",
       "    }\n",
       "\n",
       "    .dataframe thead th {\n",
       "        text-align: right;\n",
       "    }\n",
       "</style>\n",
       "<table border=\"1\" class=\"dataframe\">\n",
       "  <thead>\n",
       "    <tr style=\"text-align: right;\">\n",
       "      <th></th>\n",
       "      <th>id</th>\n",
       "      <th>id_order</th>\n",
       "      <th>product_id</th>\n",
       "      <th>product_quantity</th>\n",
       "      <th>sku</th>\n",
       "      <th>unit_price</th>\n",
       "      <th>date</th>\n",
       "    </tr>\n",
       "  </thead>\n",
       "  <tbody>\n",
       "    <tr>\n",
       "      <th>0</th>\n",
       "      <td>1119109</td>\n",
       "      <td>299539</td>\n",
       "      <td>0</td>\n",
       "      <td>1</td>\n",
       "      <td>OTT0133</td>\n",
       "      <td>18.99</td>\n",
       "      <td>2017-01-01 00:07:19</td>\n",
       "    </tr>\n",
       "    <tr>\n",
       "      <th>1</th>\n",
       "      <td>1119110</td>\n",
       "      <td>299540</td>\n",
       "      <td>0</td>\n",
       "      <td>1</td>\n",
       "      <td>LGE0043</td>\n",
       "      <td>399.00</td>\n",
       "      <td>2017-01-01 00:19:45</td>\n",
       "    </tr>\n",
       "    <tr>\n",
       "      <th>2</th>\n",
       "      <td>1119111</td>\n",
       "      <td>299541</td>\n",
       "      <td>0</td>\n",
       "      <td>1</td>\n",
       "      <td>PAR0071</td>\n",
       "      <td>474.05</td>\n",
       "      <td>2017-01-01 00:20:57</td>\n",
       "    </tr>\n",
       "    <tr>\n",
       "      <th>3</th>\n",
       "      <td>1119112</td>\n",
       "      <td>299542</td>\n",
       "      <td>0</td>\n",
       "      <td>1</td>\n",
       "      <td>WDT0315</td>\n",
       "      <td>68.39</td>\n",
       "      <td>2017-01-01 00:51:40</td>\n",
       "    </tr>\n",
       "    <tr>\n",
       "      <th>4</th>\n",
       "      <td>1119113</td>\n",
       "      <td>299543</td>\n",
       "      <td>0</td>\n",
       "      <td>1</td>\n",
       "      <td>JBL0104</td>\n",
       "      <td>23.74</td>\n",
       "      <td>2017-01-01 01:06:38</td>\n",
       "    </tr>\n",
       "    <tr>\n",
       "      <th>...</th>\n",
       "      <td>...</td>\n",
       "      <td>...</td>\n",
       "      <td>...</td>\n",
       "      <td>...</td>\n",
       "      <td>...</td>\n",
       "      <td>...</td>\n",
       "      <td>...</td>\n",
       "    </tr>\n",
       "    <tr>\n",
       "      <th>293978</th>\n",
       "      <td>1650199</td>\n",
       "      <td>527398</td>\n",
       "      <td>0</td>\n",
       "      <td>1</td>\n",
       "      <td>JBL0122</td>\n",
       "      <td>42.99</td>\n",
       "      <td>2018-03-14 13:57:25</td>\n",
       "    </tr>\n",
       "    <tr>\n",
       "      <th>293979</th>\n",
       "      <td>1650200</td>\n",
       "      <td>527399</td>\n",
       "      <td>0</td>\n",
       "      <td>1</td>\n",
       "      <td>PAC0653</td>\n",
       "      <td>141.58</td>\n",
       "      <td>2018-03-14 13:57:34</td>\n",
       "    </tr>\n",
       "    <tr>\n",
       "      <th>293980</th>\n",
       "      <td>1650201</td>\n",
       "      <td>527400</td>\n",
       "      <td>0</td>\n",
       "      <td>2</td>\n",
       "      <td>APP0698</td>\n",
       "      <td>9.99</td>\n",
       "      <td>2018-03-14 13:57:41</td>\n",
       "    </tr>\n",
       "    <tr>\n",
       "      <th>293981</th>\n",
       "      <td>1650202</td>\n",
       "      <td>527388</td>\n",
       "      <td>0</td>\n",
       "      <td>1</td>\n",
       "      <td>BEZ0204</td>\n",
       "      <td>19.99</td>\n",
       "      <td>2018-03-14 13:58:01</td>\n",
       "    </tr>\n",
       "    <tr>\n",
       "      <th>293982</th>\n",
       "      <td>1650203</td>\n",
       "      <td>527401</td>\n",
       "      <td>0</td>\n",
       "      <td>1</td>\n",
       "      <td>APP0927</td>\n",
       "      <td>13.99</td>\n",
       "      <td>2018-03-14 13:58:36</td>\n",
       "    </tr>\n",
       "  </tbody>\n",
       "</table>\n",
       "<p>293983 rows × 7 columns</p>\n",
       "</div>"
      ],
      "text/plain": [
       "             id  id_order  product_id  product_quantity      sku unit_price  \\\n",
       "0       1119109    299539           0                 1  OTT0133      18.99   \n",
       "1       1119110    299540           0                 1  LGE0043     399.00   \n",
       "2       1119111    299541           0                 1  PAR0071     474.05   \n",
       "3       1119112    299542           0                 1  WDT0315      68.39   \n",
       "4       1119113    299543           0                 1  JBL0104      23.74   \n",
       "...         ...       ...         ...               ...      ...        ...   \n",
       "293978  1650199    527398           0                 1  JBL0122      42.99   \n",
       "293979  1650200    527399           0                 1  PAC0653     141.58   \n",
       "293980  1650201    527400           0                 2  APP0698       9.99   \n",
       "293981  1650202    527388           0                 1  BEZ0204      19.99   \n",
       "293982  1650203    527401           0                 1  APP0927      13.99   \n",
       "\n",
       "                       date  \n",
       "0       2017-01-01 00:07:19  \n",
       "1       2017-01-01 00:19:45  \n",
       "2       2017-01-01 00:20:57  \n",
       "3       2017-01-01 00:51:40  \n",
       "4       2017-01-01 01:06:38  \n",
       "...                     ...  \n",
       "293978  2018-03-14 13:57:25  \n",
       "293979  2018-03-14 13:57:34  \n",
       "293980  2018-03-14 13:57:41  \n",
       "293981  2018-03-14 13:58:01  \n",
       "293982  2018-03-14 13:58:36  \n",
       "\n",
       "[293983 rows x 7 columns]"
      ]
     },
     "execution_count": 80,
     "metadata": {},
     "output_type": "execute_result"
    }
   ],
   "source": [
    "df"
   ]
  },
  {
   "cell_type": "markdown",
   "id": "nUTQs-aM3G1O",
   "metadata": {
    "id": "nUTQs-aM3G1O"
   },
   "source": [
    "## 6.&nbsp; Drop Columns"
   ]
  },
  {
   "cell_type": "markdown",
   "id": "I-3vooKB3G1O",
   "metadata": {
    "id": "I-3vooKB3G1O"
   },
   "source": [
    "The `.drop()` method allows us to delete the rows or columns.\n",
    "\n",
    "> **Note:** Again, if we want to directly apply the changes to the original DataFrame, we need to indicate `inplace = True`. Otherwise, we are getting as an output just a \"view\" of how the DataFrame looks like after the drop, but the original DataFrame remains unchanged.\n",
    "\n",
    "> **Note:** `axis=1` means we want to drop a column, not a row. For rows we would use `axis=0`"
   ]
  },
  {
   "cell_type": "code",
   "execution_count": 81,
   "id": "kXuJacQh3G1O",
   "metadata": {
    "colab": {
     "base_uri": "https://localhost:8080/"
    },
    "id": "kXuJacQh3G1O",
    "outputId": "79d97394-7cc4-4eea-ba08-ee2e7e68f253"
   },
   "outputs": [
    {
     "data": {
      "text/html": [
       "<div>\n",
       "<style scoped>\n",
       "    .dataframe tbody tr th:only-of-type {\n",
       "        vertical-align: middle;\n",
       "    }\n",
       "\n",
       "    .dataframe tbody tr th {\n",
       "        vertical-align: top;\n",
       "    }\n",
       "\n",
       "    .dataframe thead th {\n",
       "        text-align: right;\n",
       "    }\n",
       "</style>\n",
       "<table border=\"1\" class=\"dataframe\">\n",
       "  <thead>\n",
       "    <tr style=\"text-align: right;\">\n",
       "      <th></th>\n",
       "      <th>id</th>\n",
       "      <th>id_order</th>\n",
       "      <th>product_id</th>\n",
       "      <th>product_quantity</th>\n",
       "      <th>sku</th>\n",
       "      <th>date</th>\n",
       "    </tr>\n",
       "  </thead>\n",
       "  <tbody>\n",
       "    <tr>\n",
       "      <th>0</th>\n",
       "      <td>1119109</td>\n",
       "      <td>299539</td>\n",
       "      <td>0</td>\n",
       "      <td>1</td>\n",
       "      <td>OTT0133</td>\n",
       "      <td>2017-01-01 00:07:19</td>\n",
       "    </tr>\n",
       "    <tr>\n",
       "      <th>1</th>\n",
       "      <td>1119110</td>\n",
       "      <td>299540</td>\n",
       "      <td>0</td>\n",
       "      <td>1</td>\n",
       "      <td>LGE0043</td>\n",
       "      <td>2017-01-01 00:19:45</td>\n",
       "    </tr>\n",
       "    <tr>\n",
       "      <th>2</th>\n",
       "      <td>1119111</td>\n",
       "      <td>299541</td>\n",
       "      <td>0</td>\n",
       "      <td>1</td>\n",
       "      <td>PAR0071</td>\n",
       "      <td>2017-01-01 00:20:57</td>\n",
       "    </tr>\n",
       "    <tr>\n",
       "      <th>3</th>\n",
       "      <td>1119112</td>\n",
       "      <td>299542</td>\n",
       "      <td>0</td>\n",
       "      <td>1</td>\n",
       "      <td>WDT0315</td>\n",
       "      <td>2017-01-01 00:51:40</td>\n",
       "    </tr>\n",
       "    <tr>\n",
       "      <th>4</th>\n",
       "      <td>1119113</td>\n",
       "      <td>299543</td>\n",
       "      <td>0</td>\n",
       "      <td>1</td>\n",
       "      <td>JBL0104</td>\n",
       "      <td>2017-01-01 01:06:38</td>\n",
       "    </tr>\n",
       "    <tr>\n",
       "      <th>...</th>\n",
       "      <td>...</td>\n",
       "      <td>...</td>\n",
       "      <td>...</td>\n",
       "      <td>...</td>\n",
       "      <td>...</td>\n",
       "      <td>...</td>\n",
       "    </tr>\n",
       "    <tr>\n",
       "      <th>293978</th>\n",
       "      <td>1650199</td>\n",
       "      <td>527398</td>\n",
       "      <td>0</td>\n",
       "      <td>1</td>\n",
       "      <td>JBL0122</td>\n",
       "      <td>2018-03-14 13:57:25</td>\n",
       "    </tr>\n",
       "    <tr>\n",
       "      <th>293979</th>\n",
       "      <td>1650200</td>\n",
       "      <td>527399</td>\n",
       "      <td>0</td>\n",
       "      <td>1</td>\n",
       "      <td>PAC0653</td>\n",
       "      <td>2018-03-14 13:57:34</td>\n",
       "    </tr>\n",
       "    <tr>\n",
       "      <th>293980</th>\n",
       "      <td>1650201</td>\n",
       "      <td>527400</td>\n",
       "      <td>0</td>\n",
       "      <td>2</td>\n",
       "      <td>APP0698</td>\n",
       "      <td>2018-03-14 13:57:41</td>\n",
       "    </tr>\n",
       "    <tr>\n",
       "      <th>293981</th>\n",
       "      <td>1650202</td>\n",
       "      <td>527388</td>\n",
       "      <td>0</td>\n",
       "      <td>1</td>\n",
       "      <td>BEZ0204</td>\n",
       "      <td>2018-03-14 13:58:01</td>\n",
       "    </tr>\n",
       "    <tr>\n",
       "      <th>293982</th>\n",
       "      <td>1650203</td>\n",
       "      <td>527401</td>\n",
       "      <td>0</td>\n",
       "      <td>1</td>\n",
       "      <td>APP0927</td>\n",
       "      <td>2018-03-14 13:58:36</td>\n",
       "    </tr>\n",
       "  </tbody>\n",
       "</table>\n",
       "<p>293983 rows × 6 columns</p>\n",
       "</div>"
      ],
      "text/plain": [
       "             id  id_order  product_id  product_quantity      sku  \\\n",
       "0       1119109    299539           0                 1  OTT0133   \n",
       "1       1119110    299540           0                 1  LGE0043   \n",
       "2       1119111    299541           0                 1  PAR0071   \n",
       "3       1119112    299542           0                 1  WDT0315   \n",
       "4       1119113    299543           0                 1  JBL0104   \n",
       "...         ...       ...         ...               ...      ...   \n",
       "293978  1650199    527398           0                 1  JBL0122   \n",
       "293979  1650200    527399           0                 1  PAC0653   \n",
       "293980  1650201    527400           0                 2  APP0698   \n",
       "293981  1650202    527388           0                 1  BEZ0204   \n",
       "293982  1650203    527401           0                 1  APP0927   \n",
       "\n",
       "                       date  \n",
       "0       2017-01-01 00:07:19  \n",
       "1       2017-01-01 00:19:45  \n",
       "2       2017-01-01 00:20:57  \n",
       "3       2017-01-01 00:51:40  \n",
       "4       2017-01-01 01:06:38  \n",
       "...                     ...  \n",
       "293978  2018-03-14 13:57:25  \n",
       "293979  2018-03-14 13:57:34  \n",
       "293980  2018-03-14 13:57:41  \n",
       "293981  2018-03-14 13:58:01  \n",
       "293982  2018-03-14 13:58:36  \n",
       "\n",
       "[293983 rows x 6 columns]"
      ]
     },
     "execution_count": 81,
     "metadata": {},
     "output_type": "execute_result"
    }
   ],
   "source": [
    "df.drop([\"unit_price\"], axis=1)"
   ]
  },
  {
   "cell_type": "markdown",
   "id": "LOuOppjLAztn",
   "metadata": {
    "id": "LOuOppjLAztn"
   },
   "source": [
    "See how our output above shows no column `unit_price`. Then look at the output below, `unit_price` is magically back. We didn't use `inplace=True` above, which means that our output displayed what we asked, but didn't alter the original DataFrame. Be careful of this, Pandas only changes data if you explicitly tell it to do so."
   ]
  },
  {
   "cell_type": "code",
   "execution_count": 82,
   "id": "z7prVCC0XFuQ",
   "metadata": {
    "id": "z7prVCC0XFuQ"
   },
   "outputs": [
    {
     "data": {
      "text/html": [
       "<div>\n",
       "<style scoped>\n",
       "    .dataframe tbody tr th:only-of-type {\n",
       "        vertical-align: middle;\n",
       "    }\n",
       "\n",
       "    .dataframe tbody tr th {\n",
       "        vertical-align: top;\n",
       "    }\n",
       "\n",
       "    .dataframe thead th {\n",
       "        text-align: right;\n",
       "    }\n",
       "</style>\n",
       "<table border=\"1\" class=\"dataframe\">\n",
       "  <thead>\n",
       "    <tr style=\"text-align: right;\">\n",
       "      <th></th>\n",
       "      <th>id</th>\n",
       "      <th>id_order</th>\n",
       "      <th>product_id</th>\n",
       "      <th>product_quantity</th>\n",
       "      <th>sku</th>\n",
       "      <th>unit_price</th>\n",
       "      <th>date</th>\n",
       "    </tr>\n",
       "  </thead>\n",
       "  <tbody>\n",
       "    <tr>\n",
       "      <th>0</th>\n",
       "      <td>1119109</td>\n",
       "      <td>299539</td>\n",
       "      <td>0</td>\n",
       "      <td>1</td>\n",
       "      <td>OTT0133</td>\n",
       "      <td>18.99</td>\n",
       "      <td>2017-01-01 00:07:19</td>\n",
       "    </tr>\n",
       "    <tr>\n",
       "      <th>1</th>\n",
       "      <td>1119110</td>\n",
       "      <td>299540</td>\n",
       "      <td>0</td>\n",
       "      <td>1</td>\n",
       "      <td>LGE0043</td>\n",
       "      <td>399.00</td>\n",
       "      <td>2017-01-01 00:19:45</td>\n",
       "    </tr>\n",
       "    <tr>\n",
       "      <th>2</th>\n",
       "      <td>1119111</td>\n",
       "      <td>299541</td>\n",
       "      <td>0</td>\n",
       "      <td>1</td>\n",
       "      <td>PAR0071</td>\n",
       "      <td>474.05</td>\n",
       "      <td>2017-01-01 00:20:57</td>\n",
       "    </tr>\n",
       "    <tr>\n",
       "      <th>3</th>\n",
       "      <td>1119112</td>\n",
       "      <td>299542</td>\n",
       "      <td>0</td>\n",
       "      <td>1</td>\n",
       "      <td>WDT0315</td>\n",
       "      <td>68.39</td>\n",
       "      <td>2017-01-01 00:51:40</td>\n",
       "    </tr>\n",
       "    <tr>\n",
       "      <th>4</th>\n",
       "      <td>1119113</td>\n",
       "      <td>299543</td>\n",
       "      <td>0</td>\n",
       "      <td>1</td>\n",
       "      <td>JBL0104</td>\n",
       "      <td>23.74</td>\n",
       "      <td>2017-01-01 01:06:38</td>\n",
       "    </tr>\n",
       "    <tr>\n",
       "      <th>...</th>\n",
       "      <td>...</td>\n",
       "      <td>...</td>\n",
       "      <td>...</td>\n",
       "      <td>...</td>\n",
       "      <td>...</td>\n",
       "      <td>...</td>\n",
       "      <td>...</td>\n",
       "    </tr>\n",
       "    <tr>\n",
       "      <th>293978</th>\n",
       "      <td>1650199</td>\n",
       "      <td>527398</td>\n",
       "      <td>0</td>\n",
       "      <td>1</td>\n",
       "      <td>JBL0122</td>\n",
       "      <td>42.99</td>\n",
       "      <td>2018-03-14 13:57:25</td>\n",
       "    </tr>\n",
       "    <tr>\n",
       "      <th>293979</th>\n",
       "      <td>1650200</td>\n",
       "      <td>527399</td>\n",
       "      <td>0</td>\n",
       "      <td>1</td>\n",
       "      <td>PAC0653</td>\n",
       "      <td>141.58</td>\n",
       "      <td>2018-03-14 13:57:34</td>\n",
       "    </tr>\n",
       "    <tr>\n",
       "      <th>293980</th>\n",
       "      <td>1650201</td>\n",
       "      <td>527400</td>\n",
       "      <td>0</td>\n",
       "      <td>2</td>\n",
       "      <td>APP0698</td>\n",
       "      <td>9.99</td>\n",
       "      <td>2018-03-14 13:57:41</td>\n",
       "    </tr>\n",
       "    <tr>\n",
       "      <th>293981</th>\n",
       "      <td>1650202</td>\n",
       "      <td>527388</td>\n",
       "      <td>0</td>\n",
       "      <td>1</td>\n",
       "      <td>BEZ0204</td>\n",
       "      <td>19.99</td>\n",
       "      <td>2018-03-14 13:58:01</td>\n",
       "    </tr>\n",
       "    <tr>\n",
       "      <th>293982</th>\n",
       "      <td>1650203</td>\n",
       "      <td>527401</td>\n",
       "      <td>0</td>\n",
       "      <td>1</td>\n",
       "      <td>APP0927</td>\n",
       "      <td>13.99</td>\n",
       "      <td>2018-03-14 13:58:36</td>\n",
       "    </tr>\n",
       "  </tbody>\n",
       "</table>\n",
       "<p>293983 rows × 7 columns</p>\n",
       "</div>"
      ],
      "text/plain": [
       "             id  id_order  product_id  product_quantity      sku unit_price  \\\n",
       "0       1119109    299539           0                 1  OTT0133      18.99   \n",
       "1       1119110    299540           0                 1  LGE0043     399.00   \n",
       "2       1119111    299541           0                 1  PAR0071     474.05   \n",
       "3       1119112    299542           0                 1  WDT0315      68.39   \n",
       "4       1119113    299543           0                 1  JBL0104      23.74   \n",
       "...         ...       ...         ...               ...      ...        ...   \n",
       "293978  1650199    527398           0                 1  JBL0122      42.99   \n",
       "293979  1650200    527399           0                 1  PAC0653     141.58   \n",
       "293980  1650201    527400           0                 2  APP0698       9.99   \n",
       "293981  1650202    527388           0                 1  BEZ0204      19.99   \n",
       "293982  1650203    527401           0                 1  APP0927      13.99   \n",
       "\n",
       "                       date  \n",
       "0       2017-01-01 00:07:19  \n",
       "1       2017-01-01 00:19:45  \n",
       "2       2017-01-01 00:20:57  \n",
       "3       2017-01-01 00:51:40  \n",
       "4       2017-01-01 01:06:38  \n",
       "...                     ...  \n",
       "293978  2018-03-14 13:57:25  \n",
       "293979  2018-03-14 13:57:34  \n",
       "293980  2018-03-14 13:57:41  \n",
       "293981  2018-03-14 13:58:01  \n",
       "293982  2018-03-14 13:58:36  \n",
       "\n",
       "[293983 rows x 7 columns]"
      ]
     },
     "execution_count": 82,
     "metadata": {},
     "output_type": "execute_result"
    }
   ],
   "source": [
    "df"
   ]
  },
  {
   "cell_type": "markdown",
   "id": "4Labqke33G1O",
   "metadata": {
    "id": "4Labqke33G1O"
   },
   "source": [
    "## 7.&nbsp; Filter rows based on conditions"
   ]
  },
  {
   "cell_type": "markdown",
   "id": "IVYuL86eBxoD",
   "metadata": {
    "id": "IVYuL86eBxoD"
   },
   "source": [
    "Using `.loc` to filter for rows that have a `product_quantity greater than 100`"
   ]
  },
  {
   "cell_type": "code",
   "execution_count": 83,
   "id": "HRi9zIme3G1O",
   "metadata": {
    "colab": {
     "base_uri": "https://localhost:8080/",
     "height": 774
    },
    "id": "HRi9zIme3G1O",
    "outputId": "1a5a3caa-236e-4724-e21b-ec0d88ecb6de"
   },
   "outputs": [
    {
     "data": {
      "text/html": [
       "<div>\n",
       "<style scoped>\n",
       "    .dataframe tbody tr th:only-of-type {\n",
       "        vertical-align: middle;\n",
       "    }\n",
       "\n",
       "    .dataframe tbody tr th {\n",
       "        vertical-align: top;\n",
       "    }\n",
       "\n",
       "    .dataframe thead th {\n",
       "        text-align: right;\n",
       "    }\n",
       "</style>\n",
       "<table border=\"1\" class=\"dataframe\">\n",
       "  <thead>\n",
       "    <tr style=\"text-align: right;\">\n",
       "      <th></th>\n",
       "      <th>id</th>\n",
       "      <th>id_order</th>\n",
       "      <th>product_id</th>\n",
       "      <th>product_quantity</th>\n",
       "      <th>sku</th>\n",
       "      <th>unit_price</th>\n",
       "      <th>date</th>\n",
       "    </tr>\n",
       "  </thead>\n",
       "  <tbody>\n",
       "    <tr>\n",
       "      <th>27779</th>\n",
       "      <td>1180010</td>\n",
       "      <td>323959</td>\n",
       "      <td>0</td>\n",
       "      <td>126</td>\n",
       "      <td>ADN0039</td>\n",
       "      <td>34.99</td>\n",
       "      <td>2017-02-14 10:21:12</td>\n",
       "    </tr>\n",
       "    <tr>\n",
       "      <th>40813</th>\n",
       "      <td>1204788</td>\n",
       "      <td>335057</td>\n",
       "      <td>0</td>\n",
       "      <td>201</td>\n",
       "      <td>THU0029</td>\n",
       "      <td>80.99</td>\n",
       "      <td>2017-03-14 15:25:53</td>\n",
       "    </tr>\n",
       "    <tr>\n",
       "      <th>53860</th>\n",
       "      <td>1228150</td>\n",
       "      <td>346221</td>\n",
       "      <td>0</td>\n",
       "      <td>999</td>\n",
       "      <td>APP1190</td>\n",
       "      <td>55.99</td>\n",
       "      <td>2017-04-14 21:50:52</td>\n",
       "    </tr>\n",
       "    <tr>\n",
       "      <th>57306</th>\n",
       "      <td>1234111</td>\n",
       "      <td>349133</td>\n",
       "      <td>0</td>\n",
       "      <td>555</td>\n",
       "      <td>APP0665</td>\n",
       "      <td>70.99</td>\n",
       "      <td>2017-04-24 10:20:13</td>\n",
       "    </tr>\n",
       "    <tr>\n",
       "      <th>57796</th>\n",
       "      <td>1234924</td>\n",
       "      <td>349475</td>\n",
       "      <td>0</td>\n",
       "      <td>800</td>\n",
       "      <td>KIN0137</td>\n",
       "      <td>7.49</td>\n",
       "      <td>2017-04-25 09:59:00</td>\n",
       "    </tr>\n",
       "    <tr>\n",
       "      <th>68712</th>\n",
       "      <td>1254032</td>\n",
       "      <td>358747</td>\n",
       "      <td>0</td>\n",
       "      <td>999</td>\n",
       "      <td>SEV0028</td>\n",
       "      <td>19.99</td>\n",
       "      <td>2017-05-24 14:51:58</td>\n",
       "    </tr>\n",
       "    <tr>\n",
       "      <th>136675</th>\n",
       "      <td>1388261</td>\n",
       "      <td>417536</td>\n",
       "      <td>0</td>\n",
       "      <td>200</td>\n",
       "      <td>TRK0009</td>\n",
       "      <td>29.99</td>\n",
       "      <td>2017-10-25 15:02:39</td>\n",
       "    </tr>\n",
       "    <tr>\n",
       "      <th>204637</th>\n",
       "      <td>1500715</td>\n",
       "      <td>464858</td>\n",
       "      <td>0</td>\n",
       "      <td>192</td>\n",
       "      <td>APP1662</td>\n",
       "      <td>519.00</td>\n",
       "      <td>2017-12-17 15:53:04</td>\n",
       "    </tr>\n",
       "    <tr>\n",
       "      <th>246048</th>\n",
       "      <td>1574262</td>\n",
       "      <td>496172</td>\n",
       "      <td>0</td>\n",
       "      <td>164</td>\n",
       "      <td>EVU0013</td>\n",
       "      <td>19.99</td>\n",
       "      <td>2018-01-22 16:14:42</td>\n",
       "    </tr>\n",
       "    <tr>\n",
       "      <th>285492</th>\n",
       "      <td>1637611</td>\n",
       "      <td>522075</td>\n",
       "      <td>0</td>\n",
       "      <td>125</td>\n",
       "      <td>XDO0047</td>\n",
       "      <td>25.99</td>\n",
       "      <td>2018-03-06 10:07:54</td>\n",
       "    </tr>\n",
       "  </tbody>\n",
       "</table>\n",
       "</div>"
      ],
      "text/plain": [
       "             id  id_order  product_id  product_quantity      sku unit_price  \\\n",
       "27779   1180010    323959           0               126  ADN0039      34.99   \n",
       "40813   1204788    335057           0               201  THU0029      80.99   \n",
       "53860   1228150    346221           0               999  APP1190      55.99   \n",
       "57306   1234111    349133           0               555  APP0665      70.99   \n",
       "57796   1234924    349475           0               800  KIN0137       7.49   \n",
       "68712   1254032    358747           0               999  SEV0028      19.99   \n",
       "136675  1388261    417536           0               200  TRK0009      29.99   \n",
       "204637  1500715    464858           0               192  APP1662     519.00   \n",
       "246048  1574262    496172           0               164  EVU0013      19.99   \n",
       "285492  1637611    522075           0               125  XDO0047      25.99   \n",
       "\n",
       "                       date  \n",
       "27779   2017-02-14 10:21:12  \n",
       "40813   2017-03-14 15:25:53  \n",
       "53860   2017-04-14 21:50:52  \n",
       "57306   2017-04-24 10:20:13  \n",
       "57796   2017-04-25 09:59:00  \n",
       "68712   2017-05-24 14:51:58  \n",
       "136675  2017-10-25 15:02:39  \n",
       "204637  2017-12-17 15:53:04  \n",
       "246048  2018-01-22 16:14:42  \n",
       "285492  2018-03-06 10:07:54  "
      ]
     },
     "execution_count": 83,
     "metadata": {},
     "output_type": "execute_result"
    }
   ],
   "source": [
    "df.loc[df[\"product_quantity\"] > 100, :]"
   ]
  },
  {
   "cell_type": "code",
   "execution_count": 85,
   "id": "947df222-b8ba-451a-92cd-de6e86f0effc",
   "metadata": {},
   "outputs": [
    {
     "name": "stdout",
     "output_type": "stream",
     "text": [
      "<class 'pandas.core.frame.DataFrame'>\n",
      "RangeIndex: 293983 entries, 0 to 293982\n",
      "Data columns (total 7 columns):\n",
      " #   Column            Non-Null Count   Dtype \n",
      "---  ------            --------------   ----- \n",
      " 0   id                293983 non-null  int64 \n",
      " 1   id_order          293983 non-null  int64 \n",
      " 2   product_id        293983 non-null  int64 \n",
      " 3   product_quantity  293983 non-null  int64 \n",
      " 4   sku               293983 non-null  object\n",
      " 5   unit_price        293983 non-null  object\n",
      " 6   date              293983 non-null  object\n",
      "dtypes: int64(4), object(3)\n",
      "memory usage: 15.7+ MB\n"
     ]
    }
   ],
   "source": [
    "df.info()"
   ]
  },
  {
   "cell_type": "markdown",
   "id": "BHaXdzx53G1P",
   "metadata": {
    "id": "BHaXdzx53G1P"
   },
   "source": [
    "The `.query()` method can be useful for this purpose. Some of you may prefer it as it resembles SQL syntax. You can use any **Python Comparison Operators** you want inside the query method (find more information on this [link](https://www.w3schools.com/python/python_operators.asp)).\n",
    "> **Note:** `.query()` only works when the named column does not contain any white space and string values are contained within a separate set of quotes (the string value may contain white space). For example, if you have a column `a b` and you wish to query it `df.query(\"a b == 5\")`, this would throw up an error. For column names you should always be using an underscore `_` not a space."
   ]
  },
  {
   "cell_type": "code",
   "execution_count": 86,
   "id": "Imd3FNA73G1P",
   "metadata": {
    "colab": {
     "base_uri": "https://localhost:8080/",
     "height": 774
    },
    "id": "Imd3FNA73G1P",
    "outputId": "7ef898e7-4580-491f-98a2-45b346a47a66"
   },
   "outputs": [
    {
     "data": {
      "text/html": [
       "<div>\n",
       "<style scoped>\n",
       "    .dataframe tbody tr th:only-of-type {\n",
       "        vertical-align: middle;\n",
       "    }\n",
       "\n",
       "    .dataframe tbody tr th {\n",
       "        vertical-align: top;\n",
       "    }\n",
       "\n",
       "    .dataframe thead th {\n",
       "        text-align: right;\n",
       "    }\n",
       "</style>\n",
       "<table border=\"1\" class=\"dataframe\">\n",
       "  <thead>\n",
       "    <tr style=\"text-align: right;\">\n",
       "      <th></th>\n",
       "      <th>id</th>\n",
       "      <th>id_order</th>\n",
       "      <th>product_id</th>\n",
       "      <th>product_quantity</th>\n",
       "      <th>sku</th>\n",
       "      <th>unit_price</th>\n",
       "      <th>date</th>\n",
       "    </tr>\n",
       "  </thead>\n",
       "  <tbody>\n",
       "    <tr>\n",
       "      <th>27779</th>\n",
       "      <td>1180010</td>\n",
       "      <td>323959</td>\n",
       "      <td>0</td>\n",
       "      <td>126</td>\n",
       "      <td>ADN0039</td>\n",
       "      <td>34.99</td>\n",
       "      <td>2017-02-14 10:21:12</td>\n",
       "    </tr>\n",
       "    <tr>\n",
       "      <th>40813</th>\n",
       "      <td>1204788</td>\n",
       "      <td>335057</td>\n",
       "      <td>0</td>\n",
       "      <td>201</td>\n",
       "      <td>THU0029</td>\n",
       "      <td>80.99</td>\n",
       "      <td>2017-03-14 15:25:53</td>\n",
       "    </tr>\n",
       "    <tr>\n",
       "      <th>53860</th>\n",
       "      <td>1228150</td>\n",
       "      <td>346221</td>\n",
       "      <td>0</td>\n",
       "      <td>999</td>\n",
       "      <td>APP1190</td>\n",
       "      <td>55.99</td>\n",
       "      <td>2017-04-14 21:50:52</td>\n",
       "    </tr>\n",
       "    <tr>\n",
       "      <th>57306</th>\n",
       "      <td>1234111</td>\n",
       "      <td>349133</td>\n",
       "      <td>0</td>\n",
       "      <td>555</td>\n",
       "      <td>APP0665</td>\n",
       "      <td>70.99</td>\n",
       "      <td>2017-04-24 10:20:13</td>\n",
       "    </tr>\n",
       "    <tr>\n",
       "      <th>57796</th>\n",
       "      <td>1234924</td>\n",
       "      <td>349475</td>\n",
       "      <td>0</td>\n",
       "      <td>800</td>\n",
       "      <td>KIN0137</td>\n",
       "      <td>7.49</td>\n",
       "      <td>2017-04-25 09:59:00</td>\n",
       "    </tr>\n",
       "    <tr>\n",
       "      <th>68712</th>\n",
       "      <td>1254032</td>\n",
       "      <td>358747</td>\n",
       "      <td>0</td>\n",
       "      <td>999</td>\n",
       "      <td>SEV0028</td>\n",
       "      <td>19.99</td>\n",
       "      <td>2017-05-24 14:51:58</td>\n",
       "    </tr>\n",
       "    <tr>\n",
       "      <th>136675</th>\n",
       "      <td>1388261</td>\n",
       "      <td>417536</td>\n",
       "      <td>0</td>\n",
       "      <td>200</td>\n",
       "      <td>TRK0009</td>\n",
       "      <td>29.99</td>\n",
       "      <td>2017-10-25 15:02:39</td>\n",
       "    </tr>\n",
       "    <tr>\n",
       "      <th>204637</th>\n",
       "      <td>1500715</td>\n",
       "      <td>464858</td>\n",
       "      <td>0</td>\n",
       "      <td>192</td>\n",
       "      <td>APP1662</td>\n",
       "      <td>519.00</td>\n",
       "      <td>2017-12-17 15:53:04</td>\n",
       "    </tr>\n",
       "    <tr>\n",
       "      <th>246048</th>\n",
       "      <td>1574262</td>\n",
       "      <td>496172</td>\n",
       "      <td>0</td>\n",
       "      <td>164</td>\n",
       "      <td>EVU0013</td>\n",
       "      <td>19.99</td>\n",
       "      <td>2018-01-22 16:14:42</td>\n",
       "    </tr>\n",
       "    <tr>\n",
       "      <th>285492</th>\n",
       "      <td>1637611</td>\n",
       "      <td>522075</td>\n",
       "      <td>0</td>\n",
       "      <td>125</td>\n",
       "      <td>XDO0047</td>\n",
       "      <td>25.99</td>\n",
       "      <td>2018-03-06 10:07:54</td>\n",
       "    </tr>\n",
       "  </tbody>\n",
       "</table>\n",
       "</div>"
      ],
      "text/plain": [
       "             id  id_order  product_id  product_quantity      sku unit_price  \\\n",
       "27779   1180010    323959           0               126  ADN0039      34.99   \n",
       "40813   1204788    335057           0               201  THU0029      80.99   \n",
       "53860   1228150    346221           0               999  APP1190      55.99   \n",
       "57306   1234111    349133           0               555  APP0665      70.99   \n",
       "57796   1234924    349475           0               800  KIN0137       7.49   \n",
       "68712   1254032    358747           0               999  SEV0028      19.99   \n",
       "136675  1388261    417536           0               200  TRK0009      29.99   \n",
       "204637  1500715    464858           0               192  APP1662     519.00   \n",
       "246048  1574262    496172           0               164  EVU0013      19.99   \n",
       "285492  1637611    522075           0               125  XDO0047      25.99   \n",
       "\n",
       "                       date  \n",
       "27779   2017-02-14 10:21:12  \n",
       "40813   2017-03-14 15:25:53  \n",
       "53860   2017-04-14 21:50:52  \n",
       "57306   2017-04-24 10:20:13  \n",
       "57796   2017-04-25 09:59:00  \n",
       "68712   2017-05-24 14:51:58  \n",
       "136675  2017-10-25 15:02:39  \n",
       "204637  2017-12-17 15:53:04  \n",
       "246048  2018-01-22 16:14:42  \n",
       "285492  2018-03-06 10:07:54  "
      ]
     },
     "execution_count": 86,
     "metadata": {},
     "output_type": "execute_result"
    }
   ],
   "source": [
    "df.query(\"product_quantity > 100\")"
   ]
  },
  {
   "cell_type": "markdown",
   "id": "gsRzSuU63G1P",
   "metadata": {
    "id": "gsRzSuU63G1P"
   },
   "source": [
    "The `isin()` method is very useful to find rows that match any of the values you have **in a list**. For example, here we are searching for rows where its `sku` matches any of the 2 sku's we listed:"
   ]
  },
  {
   "cell_type": "code",
   "execution_count": 98,
   "id": "L1TEQt9I3G1P",
   "metadata": {
    "colab": {
     "base_uri": "https://localhost:8080/"
    },
    "id": "L1TEQt9I3G1P",
    "outputId": "0e041f82-6af9-4b85-9f8b-4c5fe6f2cca4"
   },
   "outputs": [
    {
     "data": {
      "text/plain": [
       "65"
      ]
     },
     "execution_count": 98,
     "metadata": {},
     "output_type": "execute_result"
    }
   ],
   "source": [
    "# find out a column that contains a list\n",
    "df[\"sku\"].isin([\"JBL0104\", \"ADN0039\"])\n",
    "list_sku = list(df[\"sku\"].isin([\"JBL0104\", \"ADN0039\"]))\n",
    "list_sku.count(True)"
   ]
  },
  {
   "cell_type": "markdown",
   "id": "YmXRUlSn3G1P",
   "metadata": {
    "id": "YmXRUlSn3G1P"
   },
   "source": [
    "This expression can be used inside of `[]` or `.loc[]` to filter the rows that have a `True` value. This is called \"boolean indexing\" and it is really useful:"
   ]
  },
  {
   "cell_type": "code",
   "execution_count": 100,
   "id": "atw7-ACt3G1P",
   "metadata": {
    "colab": {
     "base_uri": "https://localhost:8080/",
     "height": 835
    },
    "id": "atw7-ACt3G1P",
    "outputId": "619f4b2c-94c7-4beb-b93c-7e4e82c82caf"
   },
   "outputs": [
    {
     "data": {
      "text/html": [
       "<div>\n",
       "<style scoped>\n",
       "    .dataframe tbody tr th:only-of-type {\n",
       "        vertical-align: middle;\n",
       "    }\n",
       "\n",
       "    .dataframe tbody tr th {\n",
       "        vertical-align: top;\n",
       "    }\n",
       "\n",
       "    .dataframe thead th {\n",
       "        text-align: right;\n",
       "    }\n",
       "</style>\n",
       "<table border=\"1\" class=\"dataframe\">\n",
       "  <thead>\n",
       "    <tr style=\"text-align: right;\">\n",
       "      <th></th>\n",
       "      <th>id</th>\n",
       "      <th>id_order</th>\n",
       "      <th>product_id</th>\n",
       "      <th>product_quantity</th>\n",
       "      <th>sku</th>\n",
       "      <th>unit_price</th>\n",
       "      <th>date</th>\n",
       "    </tr>\n",
       "  </thead>\n",
       "  <tbody>\n",
       "    <tr>\n",
       "      <th>4</th>\n",
       "      <td>1119113</td>\n",
       "      <td>299543</td>\n",
       "      <td>0</td>\n",
       "      <td>1</td>\n",
       "      <td>JBL0104</td>\n",
       "      <td>23.74</td>\n",
       "      <td>2017-01-01 01:06:38</td>\n",
       "    </tr>\n",
       "    <tr>\n",
       "      <th>716</th>\n",
       "      <td>1120463</td>\n",
       "      <td>300212</td>\n",
       "      <td>0</td>\n",
       "      <td>2</td>\n",
       "      <td>JBL0104</td>\n",
       "      <td>26.99</td>\n",
       "      <td>2017-01-02 01:44:05</td>\n",
       "    </tr>\n",
       "    <tr>\n",
       "      <th>774</th>\n",
       "      <td>1120607</td>\n",
       "      <td>300272</td>\n",
       "      <td>0</td>\n",
       "      <td>1</td>\n",
       "      <td>JBL0104</td>\n",
       "      <td>24.99</td>\n",
       "      <td>2017-01-02 08:57:07</td>\n",
       "    </tr>\n",
       "    <tr>\n",
       "      <th>866</th>\n",
       "      <td>1120758</td>\n",
       "      <td>300349</td>\n",
       "      <td>0</td>\n",
       "      <td>1</td>\n",
       "      <td>JBL0104</td>\n",
       "      <td>24.99</td>\n",
       "      <td>2017-01-02 10:41:29</td>\n",
       "    </tr>\n",
       "    <tr>\n",
       "      <th>1411</th>\n",
       "      <td>1122014</td>\n",
       "      <td>300851</td>\n",
       "      <td>0</td>\n",
       "      <td>1</td>\n",
       "      <td>JBL0104</td>\n",
       "      <td>24.99</td>\n",
       "      <td>2017-01-02 18:50:13</td>\n",
       "    </tr>\n",
       "    <tr>\n",
       "      <th>...</th>\n",
       "      <td>...</td>\n",
       "      <td>...</td>\n",
       "      <td>...</td>\n",
       "      <td>...</td>\n",
       "      <td>...</td>\n",
       "      <td>...</td>\n",
       "      <td>...</td>\n",
       "    </tr>\n",
       "    <tr>\n",
       "      <th>258180</th>\n",
       "      <td>1593360</td>\n",
       "      <td>503247</td>\n",
       "      <td>0</td>\n",
       "      <td>1</td>\n",
       "      <td>JBL0104</td>\n",
       "      <td>23.99</td>\n",
       "      <td>2018-01-31 20:55:50</td>\n",
       "    </tr>\n",
       "    <tr>\n",
       "      <th>263790</th>\n",
       "      <td>1601885</td>\n",
       "      <td>506553</td>\n",
       "      <td>0</td>\n",
       "      <td>1</td>\n",
       "      <td>JBL0104</td>\n",
       "      <td>24.99</td>\n",
       "      <td>2018-02-05 22:41:40</td>\n",
       "    </tr>\n",
       "    <tr>\n",
       "      <th>266635</th>\n",
       "      <td>1606326</td>\n",
       "      <td>508345</td>\n",
       "      <td>0</td>\n",
       "      <td>2</td>\n",
       "      <td>JBL0104</td>\n",
       "      <td>24.99</td>\n",
       "      <td>2018-02-08 19:20:21</td>\n",
       "    </tr>\n",
       "    <tr>\n",
       "      <th>268446</th>\n",
       "      <td>1608949</td>\n",
       "      <td>509377</td>\n",
       "      <td>0</td>\n",
       "      <td>1</td>\n",
       "      <td>JBL0104</td>\n",
       "      <td>24.99</td>\n",
       "      <td>2018-02-10 18:02:37</td>\n",
       "    </tr>\n",
       "    <tr>\n",
       "      <th>279801</th>\n",
       "      <td>1628218</td>\n",
       "      <td>517916</td>\n",
       "      <td>0</td>\n",
       "      <td>1</td>\n",
       "      <td>JBL0104</td>\n",
       "      <td>27.99</td>\n",
       "      <td>2018-02-26 20:51:30</td>\n",
       "    </tr>\n",
       "  </tbody>\n",
       "</table>\n",
       "<p>65 rows × 7 columns</p>\n",
       "</div>"
      ],
      "text/plain": [
       "             id  id_order  product_id  product_quantity      sku unit_price  \\\n",
       "4       1119113    299543           0                 1  JBL0104      23.74   \n",
       "716     1120463    300212           0                 2  JBL0104      26.99   \n",
       "774     1120607    300272           0                 1  JBL0104      24.99   \n",
       "866     1120758    300349           0                 1  JBL0104      24.99   \n",
       "1411    1122014    300851           0                 1  JBL0104      24.99   \n",
       "...         ...       ...         ...               ...      ...        ...   \n",
       "258180  1593360    503247           0                 1  JBL0104      23.99   \n",
       "263790  1601885    506553           0                 1  JBL0104      24.99   \n",
       "266635  1606326    508345           0                 2  JBL0104      24.99   \n",
       "268446  1608949    509377           0                 1  JBL0104      24.99   \n",
       "279801  1628218    517916           0                 1  JBL0104      27.99   \n",
       "\n",
       "                       date  \n",
       "4       2017-01-01 01:06:38  \n",
       "716     2017-01-02 01:44:05  \n",
       "774     2017-01-02 08:57:07  \n",
       "866     2017-01-02 10:41:29  \n",
       "1411    2017-01-02 18:50:13  \n",
       "...                     ...  \n",
       "258180  2018-01-31 20:55:50  \n",
       "263790  2018-02-05 22:41:40  \n",
       "266635  2018-02-08 19:20:21  \n",
       "268446  2018-02-10 18:02:37  \n",
       "279801  2018-02-26 20:51:30  \n",
       "\n",
       "[65 rows x 7 columns]"
      ]
     },
     "execution_count": 100,
     "metadata": {},
     "output_type": "execute_result"
    }
   ],
   "source": [
    "df.loc[df[\"sku\"].isin([\"JBL0104\", \"ADN0039\"]), :]"
   ]
  },
  {
   "cell_type": "markdown",
   "id": "QLwMs-3a3G1P",
   "metadata": {
    "id": "QLwMs-3a3G1P"
   },
   "source": [
    "# Change the default number of rows that are displayed\n",
    "\n",
    "Pandas compresses large outputs in Colab/Jupyter Notebooks. If you want to see more rows, you can change the options:\n",
    "> **Note:** after running this cell, run the code above again and you will see all the rows\n",
    ">"
   ]
  },
  {
   "cell_type": "code",
   "execution_count": 106,
   "id": "mNETSG7G3G1P",
   "metadata": {
    "id": "mNETSG7G3G1P"
   },
   "outputs": [],
   "source": [
    "pd.options.display.max_rows = 50"
   ]
  },
  {
   "cell_type": "code",
   "execution_count": 107,
   "id": "da617c6b-e0af-4882-927d-d856d4de2379",
   "metadata": {},
   "outputs": [
    {
     "data": {
      "text/html": [
       "<div>\n",
       "<style scoped>\n",
       "    .dataframe tbody tr th:only-of-type {\n",
       "        vertical-align: middle;\n",
       "    }\n",
       "\n",
       "    .dataframe tbody tr th {\n",
       "        vertical-align: top;\n",
       "    }\n",
       "\n",
       "    .dataframe thead th {\n",
       "        text-align: right;\n",
       "    }\n",
       "</style>\n",
       "<table border=\"1\" class=\"dataframe\">\n",
       "  <thead>\n",
       "    <tr style=\"text-align: right;\">\n",
       "      <th></th>\n",
       "      <th>id</th>\n",
       "      <th>id_order</th>\n",
       "      <th>product_id</th>\n",
       "      <th>product_quantity</th>\n",
       "      <th>sku</th>\n",
       "      <th>unit_price</th>\n",
       "      <th>date</th>\n",
       "    </tr>\n",
       "  </thead>\n",
       "  <tbody>\n",
       "    <tr>\n",
       "      <th>4</th>\n",
       "      <td>1119113</td>\n",
       "      <td>299543</td>\n",
       "      <td>0</td>\n",
       "      <td>1</td>\n",
       "      <td>JBL0104</td>\n",
       "      <td>23.74</td>\n",
       "      <td>2017-01-01 01:06:38</td>\n",
       "    </tr>\n",
       "    <tr>\n",
       "      <th>716</th>\n",
       "      <td>1120463</td>\n",
       "      <td>300212</td>\n",
       "      <td>0</td>\n",
       "      <td>2</td>\n",
       "      <td>JBL0104</td>\n",
       "      <td>26.99</td>\n",
       "      <td>2017-01-02 01:44:05</td>\n",
       "    </tr>\n",
       "    <tr>\n",
       "      <th>774</th>\n",
       "      <td>1120607</td>\n",
       "      <td>300272</td>\n",
       "      <td>0</td>\n",
       "      <td>1</td>\n",
       "      <td>JBL0104</td>\n",
       "      <td>24.99</td>\n",
       "      <td>2017-01-02 08:57:07</td>\n",
       "    </tr>\n",
       "    <tr>\n",
       "      <th>866</th>\n",
       "      <td>1120758</td>\n",
       "      <td>300349</td>\n",
       "      <td>0</td>\n",
       "      <td>1</td>\n",
       "      <td>JBL0104</td>\n",
       "      <td>24.99</td>\n",
       "      <td>2017-01-02 10:41:29</td>\n",
       "    </tr>\n",
       "    <tr>\n",
       "      <th>1411</th>\n",
       "      <td>1122014</td>\n",
       "      <td>300851</td>\n",
       "      <td>0</td>\n",
       "      <td>1</td>\n",
       "      <td>JBL0104</td>\n",
       "      <td>24.99</td>\n",
       "      <td>2017-01-02 18:50:13</td>\n",
       "    </tr>\n",
       "    <tr>\n",
       "      <th>...</th>\n",
       "      <td>...</td>\n",
       "      <td>...</td>\n",
       "      <td>...</td>\n",
       "      <td>...</td>\n",
       "      <td>...</td>\n",
       "      <td>...</td>\n",
       "      <td>...</td>\n",
       "    </tr>\n",
       "    <tr>\n",
       "      <th>258180</th>\n",
       "      <td>1593360</td>\n",
       "      <td>503247</td>\n",
       "      <td>0</td>\n",
       "      <td>1</td>\n",
       "      <td>JBL0104</td>\n",
       "      <td>23.99</td>\n",
       "      <td>2018-01-31 20:55:50</td>\n",
       "    </tr>\n",
       "    <tr>\n",
       "      <th>263790</th>\n",
       "      <td>1601885</td>\n",
       "      <td>506553</td>\n",
       "      <td>0</td>\n",
       "      <td>1</td>\n",
       "      <td>JBL0104</td>\n",
       "      <td>24.99</td>\n",
       "      <td>2018-02-05 22:41:40</td>\n",
       "    </tr>\n",
       "    <tr>\n",
       "      <th>266635</th>\n",
       "      <td>1606326</td>\n",
       "      <td>508345</td>\n",
       "      <td>0</td>\n",
       "      <td>2</td>\n",
       "      <td>JBL0104</td>\n",
       "      <td>24.99</td>\n",
       "      <td>2018-02-08 19:20:21</td>\n",
       "    </tr>\n",
       "    <tr>\n",
       "      <th>268446</th>\n",
       "      <td>1608949</td>\n",
       "      <td>509377</td>\n",
       "      <td>0</td>\n",
       "      <td>1</td>\n",
       "      <td>JBL0104</td>\n",
       "      <td>24.99</td>\n",
       "      <td>2018-02-10 18:02:37</td>\n",
       "    </tr>\n",
       "    <tr>\n",
       "      <th>279801</th>\n",
       "      <td>1628218</td>\n",
       "      <td>517916</td>\n",
       "      <td>0</td>\n",
       "      <td>1</td>\n",
       "      <td>JBL0104</td>\n",
       "      <td>27.99</td>\n",
       "      <td>2018-02-26 20:51:30</td>\n",
       "    </tr>\n",
       "  </tbody>\n",
       "</table>\n",
       "<p>65 rows × 7 columns</p>\n",
       "</div>"
      ],
      "text/plain": [
       "             id  id_order  product_id  product_quantity      sku unit_price  \\\n",
       "4       1119113    299543           0                 1  JBL0104      23.74   \n",
       "716     1120463    300212           0                 2  JBL0104      26.99   \n",
       "774     1120607    300272           0                 1  JBL0104      24.99   \n",
       "866     1120758    300349           0                 1  JBL0104      24.99   \n",
       "1411    1122014    300851           0                 1  JBL0104      24.99   \n",
       "...         ...       ...         ...               ...      ...        ...   \n",
       "258180  1593360    503247           0                 1  JBL0104      23.99   \n",
       "263790  1601885    506553           0                 1  JBL0104      24.99   \n",
       "266635  1606326    508345           0                 2  JBL0104      24.99   \n",
       "268446  1608949    509377           0                 1  JBL0104      24.99   \n",
       "279801  1628218    517916           0                 1  JBL0104      27.99   \n",
       "\n",
       "                       date  \n",
       "4       2017-01-01 01:06:38  \n",
       "716     2017-01-02 01:44:05  \n",
       "774     2017-01-02 08:57:07  \n",
       "866     2017-01-02 10:41:29  \n",
       "1411    2017-01-02 18:50:13  \n",
       "...                     ...  \n",
       "258180  2018-01-31 20:55:50  \n",
       "263790  2018-02-05 22:41:40  \n",
       "266635  2018-02-08 19:20:21  \n",
       "268446  2018-02-10 18:02:37  \n",
       "279801  2018-02-26 20:51:30  \n",
       "\n",
       "[65 rows x 7 columns]"
      ]
     },
     "execution_count": 107,
     "metadata": {},
     "output_type": "execute_result"
    }
   ],
   "source": [
    "df.loc[df[\"sku\"].isin([\"JBL0104\", \"ADN0039\"]), :]"
   ]
  },
  {
   "cell_type": "markdown",
   "id": "qJhIjHOs3G1P",
   "metadata": {
    "id": "qJhIjHOs3G1P"
   },
   "source": [
    "For a complete list of all settings and options that can be tweaked, check out this: https://pandas.pydata.org/pandas-docs/stable/user_guide/options.html"
   ]
  },
  {
   "cell_type": "markdown",
   "id": "v6D7KaoD3G1P",
   "metadata": {
    "id": "v6D7KaoD3G1P"
   },
   "source": [
    "#### 7.1.&nbsp; Modifying a DataFrame & the `.copy()` method"
   ]
  },
  {
   "cell_type": "markdown",
   "id": "zBZAnNeH3G1Q",
   "metadata": {
    "id": "zBZAnNeH3G1Q"
   },
   "source": [
    "Let's take a small sample of data from our DataFrame:"
   ]
  },
  {
   "cell_type": "code",
   "execution_count": 108,
   "id": "JZXlor-13G1Q",
   "metadata": {
    "colab": {
     "base_uri": "https://localhost:8080/"
    },
    "id": "JZXlor-13G1Q",
    "outputId": "9280a1bf-9152-49b9-b9fb-76a9419f7164"
   },
   "outputs": [
    {
     "data": {
      "text/html": [
       "<div>\n",
       "<style scoped>\n",
       "    .dataframe tbody tr th:only-of-type {\n",
       "        vertical-align: middle;\n",
       "    }\n",
       "\n",
       "    .dataframe tbody tr th {\n",
       "        vertical-align: top;\n",
       "    }\n",
       "\n",
       "    .dataframe thead th {\n",
       "        text-align: right;\n",
       "    }\n",
       "</style>\n",
       "<table border=\"1\" class=\"dataframe\">\n",
       "  <thead>\n",
       "    <tr style=\"text-align: right;\">\n",
       "      <th></th>\n",
       "      <th>id</th>\n",
       "      <th>id_order</th>\n",
       "      <th>product_id</th>\n",
       "      <th>product_quantity</th>\n",
       "      <th>sku</th>\n",
       "      <th>unit_price</th>\n",
       "      <th>date</th>\n",
       "    </tr>\n",
       "  </thead>\n",
       "  <tbody>\n",
       "    <tr>\n",
       "      <th>0</th>\n",
       "      <td>1119109</td>\n",
       "      <td>299539</td>\n",
       "      <td>0</td>\n",
       "      <td>1</td>\n",
       "      <td>OTT0133</td>\n",
       "      <td>18.99</td>\n",
       "      <td>2017-01-01 00:07:19</td>\n",
       "    </tr>\n",
       "    <tr>\n",
       "      <th>1</th>\n",
       "      <td>1119110</td>\n",
       "      <td>299540</td>\n",
       "      <td>0</td>\n",
       "      <td>1</td>\n",
       "      <td>LGE0043</td>\n",
       "      <td>399.00</td>\n",
       "      <td>2017-01-01 00:19:45</td>\n",
       "    </tr>\n",
       "    <tr>\n",
       "      <th>2</th>\n",
       "      <td>1119111</td>\n",
       "      <td>299541</td>\n",
       "      <td>0</td>\n",
       "      <td>1</td>\n",
       "      <td>PAR0071</td>\n",
       "      <td>474.05</td>\n",
       "      <td>2017-01-01 00:20:57</td>\n",
       "    </tr>\n",
       "  </tbody>\n",
       "</table>\n",
       "</div>"
      ],
      "text/plain": [
       "        id  id_order  product_id  product_quantity      sku unit_price  \\\n",
       "0  1119109    299539           0                 1  OTT0133      18.99   \n",
       "1  1119110    299540           0                 1  LGE0043     399.00   \n",
       "2  1119111    299541           0                 1  PAR0071     474.05   \n",
       "\n",
       "                  date  \n",
       "0  2017-01-01 00:07:19  \n",
       "1  2017-01-01 00:19:45  \n",
       "2  2017-01-01 00:20:57  "
      ]
     },
     "execution_count": 108,
     "metadata": {},
     "output_type": "execute_result"
    }
   ],
   "source": [
    "sample = df.iloc[:3,:]\n",
    "sample"
   ]
  },
  {
   "cell_type": "markdown",
   "id": "swYUYZjt3G1Q",
   "metadata": {
    "id": "swYUYZjt3G1Q"
   },
   "source": [
    "Now we pick a single cell from the sample we took and we assign a new value to it. A warning already tells us that this is a risky thing to do:"
   ]
  },
  {
   "cell_type": "code",
   "execution_count": 109,
   "id": "ixGPim2Y3G1Q",
   "metadata": {
    "colab": {
     "base_uri": "https://localhost:8080/"
    },
    "id": "ixGPim2Y3G1Q",
    "outputId": "67145130-a319-416c-d685-d2add46ba226"
   },
   "outputs": [],
   "source": [
    "sample.iloc[0,4] = \"NEW VALUE HERE\""
   ]
  },
  {
   "cell_type": "markdown",
   "id": "U8qhJ9O73G1Q",
   "metadata": {
    "id": "U8qhJ9O73G1Q"
   },
   "source": [
    "We can see the new value on the `sample` we took:"
   ]
  },
  {
   "cell_type": "code",
   "execution_count": 110,
   "id": "lk8IQI2a3G1Q",
   "metadata": {
    "colab": {
     "base_uri": "https://localhost:8080/"
    },
    "id": "lk8IQI2a3G1Q",
    "outputId": "07316d66-83ff-4fdf-dbb1-89d3074b81c2"
   },
   "outputs": [
    {
     "data": {
      "text/html": [
       "<div>\n",
       "<style scoped>\n",
       "    .dataframe tbody tr th:only-of-type {\n",
       "        vertical-align: middle;\n",
       "    }\n",
       "\n",
       "    .dataframe tbody tr th {\n",
       "        vertical-align: top;\n",
       "    }\n",
       "\n",
       "    .dataframe thead th {\n",
       "        text-align: right;\n",
       "    }\n",
       "</style>\n",
       "<table border=\"1\" class=\"dataframe\">\n",
       "  <thead>\n",
       "    <tr style=\"text-align: right;\">\n",
       "      <th></th>\n",
       "      <th>id</th>\n",
       "      <th>id_order</th>\n",
       "      <th>product_id</th>\n",
       "      <th>product_quantity</th>\n",
       "      <th>sku</th>\n",
       "      <th>unit_price</th>\n",
       "      <th>date</th>\n",
       "    </tr>\n",
       "  </thead>\n",
       "  <tbody>\n",
       "    <tr>\n",
       "      <th>0</th>\n",
       "      <td>1119109</td>\n",
       "      <td>299539</td>\n",
       "      <td>0</td>\n",
       "      <td>1</td>\n",
       "      <td>NEW VALUE HERE</td>\n",
       "      <td>18.99</td>\n",
       "      <td>2017-01-01 00:07:19</td>\n",
       "    </tr>\n",
       "    <tr>\n",
       "      <th>1</th>\n",
       "      <td>1119110</td>\n",
       "      <td>299540</td>\n",
       "      <td>0</td>\n",
       "      <td>1</td>\n",
       "      <td>LGE0043</td>\n",
       "      <td>399.00</td>\n",
       "      <td>2017-01-01 00:19:45</td>\n",
       "    </tr>\n",
       "    <tr>\n",
       "      <th>2</th>\n",
       "      <td>1119111</td>\n",
       "      <td>299541</td>\n",
       "      <td>0</td>\n",
       "      <td>1</td>\n",
       "      <td>PAR0071</td>\n",
       "      <td>474.05</td>\n",
       "      <td>2017-01-01 00:20:57</td>\n",
       "    </tr>\n",
       "  </tbody>\n",
       "</table>\n",
       "</div>"
      ],
      "text/plain": [
       "        id  id_order  product_id  product_quantity             sku unit_price  \\\n",
       "0  1119109    299539           0                 1  NEW VALUE HERE      18.99   \n",
       "1  1119110    299540           0                 1         LGE0043     399.00   \n",
       "2  1119111    299541           0                 1         PAR0071     474.05   \n",
       "\n",
       "                  date  \n",
       "0  2017-01-01 00:07:19  \n",
       "1  2017-01-01 00:19:45  \n",
       "2  2017-01-01 00:20:57  "
      ]
     },
     "execution_count": 110,
     "metadata": {},
     "output_type": "execute_result"
    }
   ],
   "source": [
    "sample"
   ]
  },
  {
   "cell_type": "markdown",
   "id": "QJj6Y3dX3G1Q",
   "metadata": {
    "id": "QJj6Y3dX3G1Q"
   },
   "source": [
    "..and, maybe to your surprise, we can see that the new value is also present on the original `df`!"
   ]
  },
  {
   "cell_type": "code",
   "execution_count": 111,
   "id": "DnuFofL63G1Q",
   "metadata": {
    "colab": {
     "base_uri": "https://localhost:8080/"
    },
    "id": "DnuFofL63G1Q",
    "outputId": "9b7c7b16-87ce-462b-fddc-1b8b57733678"
   },
   "outputs": [
    {
     "data": {
      "text/html": [
       "<div>\n",
       "<style scoped>\n",
       "    .dataframe tbody tr th:only-of-type {\n",
       "        vertical-align: middle;\n",
       "    }\n",
       "\n",
       "    .dataframe tbody tr th {\n",
       "        vertical-align: top;\n",
       "    }\n",
       "\n",
       "    .dataframe thead th {\n",
       "        text-align: right;\n",
       "    }\n",
       "</style>\n",
       "<table border=\"1\" class=\"dataframe\">\n",
       "  <thead>\n",
       "    <tr style=\"text-align: right;\">\n",
       "      <th></th>\n",
       "      <th>id</th>\n",
       "      <th>id_order</th>\n",
       "      <th>product_id</th>\n",
       "      <th>product_quantity</th>\n",
       "      <th>sku</th>\n",
       "      <th>unit_price</th>\n",
       "      <th>date</th>\n",
       "    </tr>\n",
       "  </thead>\n",
       "  <tbody>\n",
       "    <tr>\n",
       "      <th>0</th>\n",
       "      <td>1119109</td>\n",
       "      <td>299539</td>\n",
       "      <td>0</td>\n",
       "      <td>1</td>\n",
       "      <td>NEW VALUE HERE</td>\n",
       "      <td>18.99</td>\n",
       "      <td>2017-01-01 00:07:19</td>\n",
       "    </tr>\n",
       "    <tr>\n",
       "      <th>1</th>\n",
       "      <td>1119110</td>\n",
       "      <td>299540</td>\n",
       "      <td>0</td>\n",
       "      <td>1</td>\n",
       "      <td>LGE0043</td>\n",
       "      <td>399.00</td>\n",
       "      <td>2017-01-01 00:19:45</td>\n",
       "    </tr>\n",
       "    <tr>\n",
       "      <th>2</th>\n",
       "      <td>1119111</td>\n",
       "      <td>299541</td>\n",
       "      <td>0</td>\n",
       "      <td>1</td>\n",
       "      <td>PAR0071</td>\n",
       "      <td>474.05</td>\n",
       "      <td>2017-01-01 00:20:57</td>\n",
       "    </tr>\n",
       "    <tr>\n",
       "      <th>3</th>\n",
       "      <td>1119112</td>\n",
       "      <td>299542</td>\n",
       "      <td>0</td>\n",
       "      <td>1</td>\n",
       "      <td>WDT0315</td>\n",
       "      <td>68.39</td>\n",
       "      <td>2017-01-01 00:51:40</td>\n",
       "    </tr>\n",
       "    <tr>\n",
       "      <th>4</th>\n",
       "      <td>1119113</td>\n",
       "      <td>299543</td>\n",
       "      <td>0</td>\n",
       "      <td>1</td>\n",
       "      <td>JBL0104</td>\n",
       "      <td>23.74</td>\n",
       "      <td>2017-01-01 01:06:38</td>\n",
       "    </tr>\n",
       "  </tbody>\n",
       "</table>\n",
       "</div>"
      ],
      "text/plain": [
       "        id  id_order  product_id  product_quantity             sku unit_price  \\\n",
       "0  1119109    299539           0                 1  NEW VALUE HERE      18.99   \n",
       "1  1119110    299540           0                 1         LGE0043     399.00   \n",
       "2  1119111    299541           0                 1         PAR0071     474.05   \n",
       "3  1119112    299542           0                 1         WDT0315      68.39   \n",
       "4  1119113    299543           0                 1         JBL0104      23.74   \n",
       "\n",
       "                  date  \n",
       "0  2017-01-01 00:07:19  \n",
       "1  2017-01-01 00:19:45  \n",
       "2  2017-01-01 00:20:57  \n",
       "3  2017-01-01 00:51:40  \n",
       "4  2017-01-01 01:06:38  "
      ]
     },
     "execution_count": 111,
     "metadata": {},
     "output_type": "execute_result"
    }
   ],
   "source": [
    "df.head()"
   ]
  },
  {
   "cell_type": "markdown",
   "id": "hZ39MurF3G1Q",
   "metadata": {
    "id": "hZ39MurF3G1Q"
   },
   "source": [
    "When you take a sample of data using `.loc[]` or `iloc[]` and assign it to a new object, the new object is just a \"tag\" pointing to the very same data as the original DataFrame points to. We can avoid this using the method `.copy()`"
   ]
  },
  {
   "cell_type": "code",
   "execution_count": 114,
   "id": "n9Cj3-Ol3G1R",
   "metadata": {
    "id": "n9Cj3-Ol3G1R"
   },
   "outputs": [],
   "source": [
    "import pandas as pd\n",
    "url = \"https://drive.google.com/file/d/1FYhN_2AzTBFuWcfHaRuKcuCE6CWXsWtG/view?usp=sharing\" # orderlines.csv\n",
    "path = \"https://drive.google.com/uc?export=download&id=\"+url.split(\"/\")[-2]\n",
    "df = pd.read_csv(path)"
   ]
  },
  {
   "cell_type": "code",
   "execution_count": 115,
   "id": "MsHuo_10MKdD",
   "metadata": {
    "colab": {
     "base_uri": "https://localhost:8080/"
    },
    "id": "MsHuo_10MKdD",
    "outputId": "f0e94ad3-745f-4ee5-b72e-8ca4408b7251"
   },
   "outputs": [
    {
     "data": {
      "text/html": [
       "<div>\n",
       "<style scoped>\n",
       "    .dataframe tbody tr th:only-of-type {\n",
       "        vertical-align: middle;\n",
       "    }\n",
       "\n",
       "    .dataframe tbody tr th {\n",
       "        vertical-align: top;\n",
       "    }\n",
       "\n",
       "    .dataframe thead th {\n",
       "        text-align: right;\n",
       "    }\n",
       "</style>\n",
       "<table border=\"1\" class=\"dataframe\">\n",
       "  <thead>\n",
       "    <tr style=\"text-align: right;\">\n",
       "      <th></th>\n",
       "      <th>id</th>\n",
       "      <th>id_order</th>\n",
       "      <th>product_id</th>\n",
       "      <th>product_quantity</th>\n",
       "      <th>sku</th>\n",
       "      <th>unit_price</th>\n",
       "      <th>date</th>\n",
       "    </tr>\n",
       "  </thead>\n",
       "  <tbody>\n",
       "    <tr>\n",
       "      <th>0</th>\n",
       "      <td>1119109</td>\n",
       "      <td>299539</td>\n",
       "      <td>0</td>\n",
       "      <td>1</td>\n",
       "      <td>NEW VALUE HERE</td>\n",
       "      <td>18.99</td>\n",
       "      <td>2017-01-01 00:07:19</td>\n",
       "    </tr>\n",
       "    <tr>\n",
       "      <th>1</th>\n",
       "      <td>1119110</td>\n",
       "      <td>299540</td>\n",
       "      <td>0</td>\n",
       "      <td>1</td>\n",
       "      <td>LGE0043</td>\n",
       "      <td>399.00</td>\n",
       "      <td>2017-01-01 00:19:45</td>\n",
       "    </tr>\n",
       "    <tr>\n",
       "      <th>2</th>\n",
       "      <td>1119111</td>\n",
       "      <td>299541</td>\n",
       "      <td>0</td>\n",
       "      <td>1</td>\n",
       "      <td>PAR0071</td>\n",
       "      <td>474.05</td>\n",
       "      <td>2017-01-01 00:20:57</td>\n",
       "    </tr>\n",
       "  </tbody>\n",
       "</table>\n",
       "</div>"
      ],
      "text/plain": [
       "        id  id_order  product_id  product_quantity             sku unit_price  \\\n",
       "0  1119109    299539           0                 1  NEW VALUE HERE      18.99   \n",
       "1  1119110    299540           0                 1         LGE0043     399.00   \n",
       "2  1119111    299541           0                 1         PAR0071     474.05   \n",
       "\n",
       "                  date  \n",
       "0  2017-01-01 00:07:19  \n",
       "1  2017-01-01 00:19:45  \n",
       "2  2017-01-01 00:20:57  "
      ]
     },
     "execution_count": 115,
     "metadata": {},
     "output_type": "execute_result"
    }
   ],
   "source": [
    "sample = df.iloc[:3,:].copy()\n",
    "sample.iloc[0,4] = \"NEW VALUE HERE\"\n",
    "sample"
   ]
  },
  {
   "cell_type": "code",
   "execution_count": 116,
   "id": "Um3hCwSo3G1R",
   "metadata": {
    "colab": {
     "base_uri": "https://localhost:8080/"
    },
    "id": "Um3hCwSo3G1R",
    "outputId": "ccf714ae-92ee-40d2-e0e5-96d785069b5b",
    "scrolled": true
   },
   "outputs": [
    {
     "data": {
      "text/html": [
       "<div>\n",
       "<style scoped>\n",
       "    .dataframe tbody tr th:only-of-type {\n",
       "        vertical-align: middle;\n",
       "    }\n",
       "\n",
       "    .dataframe tbody tr th {\n",
       "        vertical-align: top;\n",
       "    }\n",
       "\n",
       "    .dataframe thead th {\n",
       "        text-align: right;\n",
       "    }\n",
       "</style>\n",
       "<table border=\"1\" class=\"dataframe\">\n",
       "  <thead>\n",
       "    <tr style=\"text-align: right;\">\n",
       "      <th></th>\n",
       "      <th>id</th>\n",
       "      <th>id_order</th>\n",
       "      <th>product_id</th>\n",
       "      <th>product_quantity</th>\n",
       "      <th>sku</th>\n",
       "      <th>unit_price</th>\n",
       "      <th>date</th>\n",
       "    </tr>\n",
       "  </thead>\n",
       "  <tbody>\n",
       "    <tr>\n",
       "      <th>0</th>\n",
       "      <td>1119109</td>\n",
       "      <td>299539</td>\n",
       "      <td>0</td>\n",
       "      <td>1</td>\n",
       "      <td>OTT0133</td>\n",
       "      <td>18.99</td>\n",
       "      <td>2017-01-01 00:07:19</td>\n",
       "    </tr>\n",
       "    <tr>\n",
       "      <th>1</th>\n",
       "      <td>1119110</td>\n",
       "      <td>299540</td>\n",
       "      <td>0</td>\n",
       "      <td>1</td>\n",
       "      <td>LGE0043</td>\n",
       "      <td>399.00</td>\n",
       "      <td>2017-01-01 00:19:45</td>\n",
       "    </tr>\n",
       "    <tr>\n",
       "      <th>2</th>\n",
       "      <td>1119111</td>\n",
       "      <td>299541</td>\n",
       "      <td>0</td>\n",
       "      <td>1</td>\n",
       "      <td>PAR0071</td>\n",
       "      <td>474.05</td>\n",
       "      <td>2017-01-01 00:20:57</td>\n",
       "    </tr>\n",
       "  </tbody>\n",
       "</table>\n",
       "</div>"
      ],
      "text/plain": [
       "        id  id_order  product_id  product_quantity      sku unit_price  \\\n",
       "0  1119109    299539           0                 1  OTT0133      18.99   \n",
       "1  1119110    299540           0                 1  LGE0043     399.00   \n",
       "2  1119111    299541           0                 1  PAR0071     474.05   \n",
       "\n",
       "                  date  \n",
       "0  2017-01-01 00:07:19  \n",
       "1  2017-01-01 00:19:45  \n",
       "2  2017-01-01 00:20:57  "
      ]
     },
     "execution_count": 116,
     "metadata": {},
     "output_type": "execute_result"
    }
   ],
   "source": [
    "df.head(3)"
   ]
  },
  {
   "cell_type": "markdown",
   "id": "5Qt54KJN3G1R",
   "metadata": {
    "id": "5Qt54KJN3G1R"
   },
   "source": [
    "As you can see, now it has not been modified."
   ]
  },
  {
   "cell_type": "markdown",
   "id": "xI15Yty93G1R",
   "metadata": {
    "id": "xI15Yty93G1R"
   },
   "source": [
    "# CHALLENGES"
   ]
  },
  {
   "cell_type": "code",
   "execution_count": 129,
   "id": "a55f90c3-2396-44bd-957e-65c1f79f7429",
   "metadata": {},
   "outputs": [
    {
     "name": "stdout",
     "output_type": "stream",
     "text": [
      "<class 'pandas.core.frame.DataFrame'>\n",
      "RangeIndex: 293983 entries, 0 to 293982\n",
      "Data columns (total 7 columns):\n",
      " #   Column            Non-Null Count   Dtype \n",
      "---  ------            --------------   ----- \n",
      " 0   id                293983 non-null  int64 \n",
      " 1   id_order          293983 non-null  int64 \n",
      " 2   product_id        293983 non-null  int64 \n",
      " 3   product_quantity  293983 non-null  int64 \n",
      " 4   sku               293983 non-null  object\n",
      " 5   unit_price        293983 non-null  object\n",
      " 6   date              293983 non-null  object\n",
      "dtypes: int64(4), object(3)\n",
      "memory usage: 15.7+ MB\n"
     ]
    }
   ],
   "source": [
    "df.info()"
   ]
  },
  {
   "cell_type": "markdown",
   "id": "jLucFFaF3G1R",
   "metadata": {
    "id": "jLucFFaF3G1R"
   },
   "source": [
    "## Challenge 1:\n",
    "How many different unit prices does the product with the sku JBL0104 have? Combine a pandas filter method with the method `.nunique()`."
   ]
  },
  {
   "cell_type": "code",
   "execution_count": 5,
   "id": "deb15db3-514d-48d3-8d01-0eb6d6981591",
   "metadata": {
    "id": "Z6OcFknu3G1R"
   },
   "outputs": [
    {
     "data": {
      "text/plain": [
       "7"
      ]
     },
     "execution_count": 5,
     "metadata": {},
     "output_type": "execute_result"
    }
   ],
   "source": [
    "# your code here\n",
    "df.loc[df['sku']=='JBL0104'].unit_price.nunique()"
   ]
  },
  {
   "cell_type": "code",
   "execution_count": 39,
   "id": "a29d7df4-a2a4-4e58-90ed-c808ed62c73d",
   "metadata": {
    "id": "Z6OcFknu3G1R"
   },
   "outputs": [
    {
     "data": {
      "text/plain": [
       "unit_price\n",
       "24.99    20\n",
       "23.74    15\n",
       "26.99     8\n",
       "23.99     8\n",
       "22.99     5\n",
       "22.31     1\n",
       "27.99     1\n",
       "Name: count, dtype: int64"
      ]
     },
     "execution_count": 39,
     "metadata": {},
     "output_type": "execute_result"
    }
   ],
   "source": [
    "df.loc[df['sku']=='JBL0104'].unit_price.value_counts()"
   ]
  },
  {
   "cell_type": "code",
   "execution_count": 8,
   "id": "542048bd-5bc5-4f30-9683-409167d09ad4",
   "metadata": {},
   "outputs": [
    {
     "data": {
      "text/plain": [
       "7"
      ]
     },
     "execution_count": 8,
     "metadata": {},
     "output_type": "execute_result"
    }
   ],
   "source": [
    "df.loc[df['sku']=='JBL0104'].unit_price.value_counts().count()"
   ]
  },
  {
   "cell_type": "code",
   "execution_count": 11,
   "id": "ef8082fd-b1b9-4e62-add3-73b22d142c5b",
   "metadata": {},
   "outputs": [
    {
     "data": {
      "text/plain": [
       "7"
      ]
     },
     "execution_count": 11,
     "metadata": {},
     "output_type": "execute_result"
    }
   ],
   "source": [
    "df.query(\"sku == 'JBL0104'\").unit_price.nunique()"
   ]
  },
  {
   "cell_type": "markdown",
   "id": "8814f624-2834-416a-9509-7f55f582e900",
   "metadata": {},
   "source": [
    "## how to plot it: use Unique() and not Nunique()"
   ]
  },
  {
   "cell_type": "code",
   "execution_count": 17,
   "id": "4c55f13c-45ce-417c-adc2-d3bbaf998277",
   "metadata": {},
   "outputs": [
    {
     "data": {
      "text/plain": [
       "array(['23.74', '26.99', '24.99', '22.31', '22.99', '23.99', '27.99'],\n",
       "      dtype=object)"
      ]
     },
     "execution_count": 17,
     "metadata": {},
     "output_type": "execute_result"
    }
   ],
   "source": [
    "df.loc[df['sku']=='JBL0104', 'unit_price'].unique()#.plot.bar()"
   ]
  },
  {
   "cell_type": "markdown",
   "id": "r9OJ3Q8e3G1R",
   "metadata": {
    "id": "r9OJ3Q8e3G1R"
   },
   "source": [
    "## Challenge 2:\n",
    "List the (unique) items that were sold in the order with the id_order 385921."
   ]
  },
  {
   "cell_type": "code",
   "execution_count": 46,
   "id": "89q-PEn9NWpD",
   "metadata": {
    "id": "89q-PEn9NWpD"
   },
   "outputs": [
    {
     "name": "stdout",
     "output_type": "stream",
     "text": [
      "Number of unique items sold: sku    19\n",
      "dtype: int64 \n",
      "\n"
     ]
    },
    {
     "data": {
      "text/plain": [
       "array(['APP2431', 'APP2348', 'APP2131', 'APP1630', 'APP1735', 'APP1216',\n",
       "       'APP2092', 'APP1215', 'ELA0017', 'MIN0010', 'ELA0039', 'BEA0046',\n",
       "       'BOS0034', 'BEA0071', 'ELA0029', 'APP2161', 'HOC0008', 'NOM0026',\n",
       "       'NOM0014'], dtype=object)"
      ]
     },
     "execution_count": 46,
     "metadata": {},
     "output_type": "execute_result"
    }
   ],
   "source": [
    "# your code here\n",
    "print('Number of unique items sold:', df.loc[df['id_order']==385921, ['sku']].count(), '\\n' )\n",
    "#tryl = list( df.loc[df['id_order']==385921, ['sku']].unique())\n",
    "df.loc[df['id_order']==385921, 'sku'].unique() # I use unique (to be used on a Series), just to create a list"
   ]
  },
  {
   "cell_type": "code",
   "execution_count": 24,
   "id": "090797c0-416c-4a45-8f65-09a6c3916e93",
   "metadata": {},
   "outputs": [
    {
     "data": {
      "text/plain": [
       "id    19\n",
       "dtype: int64"
      ]
     },
     "execution_count": 24,
     "metadata": {},
     "output_type": "execute_result"
    }
   ],
   "source": [
    "df.loc[df['id_order']==385921, ['id']].count()"
   ]
  },
  {
   "cell_type": "markdown",
   "id": "Hndvnnuy3G1R",
   "metadata": {
    "id": "Hndvnnuy3G1R"
   },
   "source": [
    "## Challenge 3:\n",
    "Consider the products with the skus APP2431 and APP2348. Find out in how many orders they were present."
   ]
  },
  {
   "cell_type": "code",
   "execution_count": 67,
   "id": "tQB2HCG33G1R",
   "metadata": {
    "id": "tQB2HCG33G1R"
   },
   "outputs": [
    {
     "data": {
      "text/plain": [
       "179"
      ]
     },
     "execution_count": 67,
     "metadata": {},
     "output_type": "execute_result"
    }
   ],
   "source": [
    "# your code here\n",
    "condition = df.sku.isin(['APP2431', 'APP2348'])\n",
    "df.loc[condition, :].id_order.value_counts().count()\n",
    "df.loc[condition, 'id_order'].nunique()"
   ]
  },
  {
   "cell_type": "code",
   "execution_count": 68,
   "id": "db9e77e2-b209-4d73-a747-7310cdcb25f0",
   "metadata": {},
   "outputs": [
    {
     "data": {
      "text/plain": [
       "id_order\n",
       "379659      2\n",
       "401302      2\n",
       "382460      2\n",
       "388422      2\n",
       "402265      2\n",
       "405858      2\n",
       "410438      2\n",
       "371564      2\n",
       "367892      2\n",
       "385921      2\n",
       "462765      1\n",
       "464845      1\n",
       "Name: count, dtype: int64"
      ]
     },
     "execution_count": 68,
     "metadata": {},
     "output_type": "execute_result"
    }
   ],
   "source": [
    "df.loc[condition, ['id_order']]\n",
    "df.loc[condition, ['id_order']].value_counts().head(12) # the two products were bought twice in 10 different orders\n",
    "# this is the reason of the difference in how many orders they were present and the total amount of times the two skus were found:\n",
    "# df.loc[condition, 'id_order'] -> shows 189 columns"
   ]
  },
  {
   "cell_type": "code",
   "execution_count": 69,
   "id": "bb1a5819-8308-4c60-8fe8-dce59a42de59",
   "metadata": {
    "id": "tQB2HCG33G1R"
   },
   "outputs": [
    {
     "data": {
      "text/plain": [
       "179"
      ]
     },
     "execution_count": 69,
     "metadata": {},
     "output_type": "execute_result"
    }
   ],
   "source": [
    "df.query(\"sku==['APP2431', 'APP2348']\")['id_order'].nunique()"
   ]
  },
  {
   "cell_type": "markdown",
   "id": "evf52afz3G1S",
   "metadata": {
    "id": "evf52afz3G1S"
   },
   "source": [
    "## Challenge 4:\n",
    "Create a new DataFrame, `df_50`, with all the rows that have a product quantity higher than 500 and only the columns `id`, `product_id`, `product_quantity` and `sku`. Be sure to use the method `.copy()`. Once the new DataFrame is created, modify the column \"product_quantity\" to \"quantity\", and \"sku\" to \"product_code\". To do so, you can use the method `.rename()` or assign a list of new names to the attribute `.columns`."
   ]
  },
  {
   "cell_type": "code",
   "execution_count": 155,
   "id": "707122d2-caad-45fe-a45c-e2999adb058e",
   "metadata": {},
   "outputs": [
    {
     "name": "stdout",
     "output_type": "stream",
     "text": [
      "<class 'pandas.core.frame.DataFrame'>\n",
      "RangeIndex: 293983 entries, 0 to 293982\n",
      "Data columns (total 7 columns):\n",
      " #   Column            Non-Null Count   Dtype \n",
      "---  ------            --------------   ----- \n",
      " 0   id                293983 non-null  int64 \n",
      " 1   id_order          293983 non-null  int64 \n",
      " 2   product_id        293983 non-null  int64 \n",
      " 3   product_quantity  293983 non-null  int64 \n",
      " 4   sku               293983 non-null  object\n",
      " 5   unit_price        293983 non-null  object\n",
      " 6   date              293983 non-null  object\n",
      "dtypes: int64(4), object(3)\n",
      "memory usage: 15.7+ MB\n"
     ]
    }
   ],
   "source": [
    "df.info()"
   ]
  },
  {
   "cell_type": "markdown",
   "id": "vwNLziymOj6r",
   "metadata": {
    "id": "vwNLziymOj6r"
   },
   "source": [
    "Creating `df_50`"
   ]
  },
  {
   "cell_type": "code",
   "execution_count": 71,
   "id": "10b169d3-3a6e-4eb7-abe4-14c0d0f2a435",
   "metadata": {
    "id": "BN90-eoyBtau"
   },
   "outputs": [
    {
     "data": {
      "text/html": [
       "<div>\n",
       "<style scoped>\n",
       "    .dataframe tbody tr th:only-of-type {\n",
       "        vertical-align: middle;\n",
       "    }\n",
       "\n",
       "    .dataframe tbody tr th {\n",
       "        vertical-align: top;\n",
       "    }\n",
       "\n",
       "    .dataframe thead th {\n",
       "        text-align: right;\n",
       "    }\n",
       "</style>\n",
       "<table border=\"1\" class=\"dataframe\">\n",
       "  <thead>\n",
       "    <tr style=\"text-align: right;\">\n",
       "      <th></th>\n",
       "      <th>id</th>\n",
       "      <th>product_id</th>\n",
       "      <th>product_quantity</th>\n",
       "      <th>sku</th>\n",
       "    </tr>\n",
       "  </thead>\n",
       "  <tbody>\n",
       "    <tr>\n",
       "      <th>53860</th>\n",
       "      <td>1228150</td>\n",
       "      <td>0</td>\n",
       "      <td>999</td>\n",
       "      <td>APP1190</td>\n",
       "    </tr>\n",
       "    <tr>\n",
       "      <th>57306</th>\n",
       "      <td>1234111</td>\n",
       "      <td>0</td>\n",
       "      <td>555</td>\n",
       "      <td>APP0665</td>\n",
       "    </tr>\n",
       "    <tr>\n",
       "      <th>57796</th>\n",
       "      <td>1234924</td>\n",
       "      <td>0</td>\n",
       "      <td>800</td>\n",
       "      <td>KIN0137</td>\n",
       "    </tr>\n",
       "    <tr>\n",
       "      <th>68712</th>\n",
       "      <td>1254032</td>\n",
       "      <td>0</td>\n",
       "      <td>999</td>\n",
       "      <td>SEV0028</td>\n",
       "    </tr>\n",
       "  </tbody>\n",
       "</table>\n",
       "</div>"
      ],
      "text/plain": [
       "            id  product_id  product_quantity      sku\n",
       "53860  1228150           0               999  APP1190\n",
       "57306  1234111           0               555  APP0665\n",
       "57796  1234924           0               800  KIN0137\n",
       "68712  1254032           0               999  SEV0028"
      ]
     },
     "execution_count": 71,
     "metadata": {},
     "output_type": "execute_result"
    }
   ],
   "source": [
    "# your code here\n",
    "condition = df['product_quantity']>500\n",
    "df_50 = df.loc[condition, ['id', 'product_id', 'product_quantity', 'sku']].copy()\n",
    "#df_50.iloc[0,4] = \"NEW VALUE HERE\"\n",
    "df_50"
   ]
  },
  {
   "cell_type": "markdown",
   "id": "6kKDrS5hOmU0",
   "metadata": {
    "id": "6kKDrS5hOmU0"
   },
   "source": [
    "Renaming columns of `df_50`"
   ]
  },
  {
   "cell_type": "code",
   "execution_count": 73,
   "id": "WR4-SUD3MZt6",
   "metadata": {
    "id": "WR4-SUD3MZt6"
   },
   "outputs": [
    {
     "data": {
      "text/html": [
       "<div>\n",
       "<style scoped>\n",
       "    .dataframe tbody tr th:only-of-type {\n",
       "        vertical-align: middle;\n",
       "    }\n",
       "\n",
       "    .dataframe tbody tr th {\n",
       "        vertical-align: top;\n",
       "    }\n",
       "\n",
       "    .dataframe thead th {\n",
       "        text-align: right;\n",
       "    }\n",
       "</style>\n",
       "<table border=\"1\" class=\"dataframe\">\n",
       "  <thead>\n",
       "    <tr style=\"text-align: right;\">\n",
       "      <th></th>\n",
       "      <th>id</th>\n",
       "      <th>product_id</th>\n",
       "      <th>quantity</th>\n",
       "      <th>product_code</th>\n",
       "    </tr>\n",
       "  </thead>\n",
       "  <tbody>\n",
       "    <tr>\n",
       "      <th>53860</th>\n",
       "      <td>1228150</td>\n",
       "      <td>0</td>\n",
       "      <td>999</td>\n",
       "      <td>APP1190</td>\n",
       "    </tr>\n",
       "    <tr>\n",
       "      <th>57306</th>\n",
       "      <td>1234111</td>\n",
       "      <td>0</td>\n",
       "      <td>555</td>\n",
       "      <td>APP0665</td>\n",
       "    </tr>\n",
       "    <tr>\n",
       "      <th>57796</th>\n",
       "      <td>1234924</td>\n",
       "      <td>0</td>\n",
       "      <td>800</td>\n",
       "      <td>KIN0137</td>\n",
       "    </tr>\n",
       "    <tr>\n",
       "      <th>68712</th>\n",
       "      <td>1254032</td>\n",
       "      <td>0</td>\n",
       "      <td>999</td>\n",
       "      <td>SEV0028</td>\n",
       "    </tr>\n",
       "  </tbody>\n",
       "</table>\n",
       "</div>"
      ],
      "text/plain": [
       "            id  product_id  quantity product_code\n",
       "53860  1228150           0       999      APP1190\n",
       "57306  1234111           0       555      APP0665\n",
       "57796  1234924           0       800      KIN0137\n",
       "68712  1254032           0       999      SEV0028"
      ]
     },
     "execution_count": 73,
     "metadata": {},
     "output_type": "execute_result"
    }
   ],
   "source": [
    "# your code here\n",
    "df_50.rename(columns={'product_quantity': 'quantity', 'sku': 'product_code'}, inplace=True)\n",
    "df_50"
   ]
  },
  {
   "cell_type": "code",
   "execution_count": 74,
   "id": "59c9c1fb-d7e6-4a3c-9b67-abea1bad1f59",
   "metadata": {},
   "outputs": [
    {
     "data": {
      "text/html": [
       "<div>\n",
       "<style scoped>\n",
       "    .dataframe tbody tr th:only-of-type {\n",
       "        vertical-align: middle;\n",
       "    }\n",
       "\n",
       "    .dataframe tbody tr th {\n",
       "        vertical-align: top;\n",
       "    }\n",
       "\n",
       "    .dataframe thead th {\n",
       "        text-align: right;\n",
       "    }\n",
       "</style>\n",
       "<table border=\"1\" class=\"dataframe\">\n",
       "  <thead>\n",
       "    <tr style=\"text-align: right;\">\n",
       "      <th></th>\n",
       "      <th>id</th>\n",
       "      <th>product_id</th>\n",
       "      <th>product_quantity</th>\n",
       "      <th>sku</th>\n",
       "    </tr>\n",
       "  </thead>\n",
       "  <tbody>\n",
       "    <tr>\n",
       "      <th>53860</th>\n",
       "      <td>1228150</td>\n",
       "      <td>0</td>\n",
       "      <td>999</td>\n",
       "      <td>APP1190</td>\n",
       "    </tr>\n",
       "    <tr>\n",
       "      <th>57306</th>\n",
       "      <td>1234111</td>\n",
       "      <td>0</td>\n",
       "      <td>555</td>\n",
       "      <td>APP0665</td>\n",
       "    </tr>\n",
       "    <tr>\n",
       "      <th>57796</th>\n",
       "      <td>1234924</td>\n",
       "      <td>0</td>\n",
       "      <td>800</td>\n",
       "      <td>KIN0137</td>\n",
       "    </tr>\n",
       "    <tr>\n",
       "      <th>68712</th>\n",
       "      <td>1254032</td>\n",
       "      <td>0</td>\n",
       "      <td>999</td>\n",
       "      <td>SEV0028</td>\n",
       "    </tr>\n",
       "  </tbody>\n",
       "</table>\n",
       "</div>"
      ],
      "text/plain": [
       "            id  product_id  product_quantity      sku\n",
       "53860  1228150           0               999  APP1190\n",
       "57306  1234111           0               555  APP0665\n",
       "57796  1234924           0               800  KIN0137\n",
       "68712  1254032           0               999  SEV0028"
      ]
     },
     "execution_count": 74,
     "metadata": {},
     "output_type": "execute_result"
    }
   ],
   "source": [
    "df_50.columns = ['id', 'product_id', 'product_quantity', 'sku']\n",
    "df_50"
   ]
  },
  {
   "cell_type": "code",
   "execution_count": null,
   "id": "635c5ce6-ba20-4ac9-a711-88e04aeb90be",
   "metadata": {},
   "outputs": [],
   "source": []
  },
  {
   "cell_type": "code",
   "execution_count": null,
   "id": "34201a21-397b-4dbc-a21f-157e3482f674",
   "metadata": {},
   "outputs": [],
   "source": []
  },
  {
   "cell_type": "code",
   "execution_count": null,
   "id": "c31bd2c2-85f0-4de0-a3b4-3ee446dd8db4",
   "metadata": {},
   "outputs": [],
   "source": []
  },
  {
   "cell_type": "code",
   "execution_count": 201,
   "id": "59278a4e-645f-4178-9a97-b78db94d27c4",
   "metadata": {},
   "outputs": [
    {
     "data": {
      "text/plain": [
       "id_order\n",
       "358747    1081\n",
       "346221     999\n",
       "349475     800\n",
       "349133     555\n",
       "484334     264\n",
       "Name: product_quantity, dtype: int64"
      ]
     },
     "execution_count": 201,
     "metadata": {},
     "output_type": "execute_result"
    }
   ],
   "source": [
    "df.groupby('id_order')['product_quantity'].sum().nlargest()"
   ]
  },
  {
   "cell_type": "code",
   "execution_count": 231,
   "id": "7a57727f-fe94-4523-88de-6f8fd0bc1567",
   "metadata": {},
   "outputs": [
    {
     "data": {
      "text/plain": [
       "<Axes: xlabel='id_order'>"
      ]
     },
     "execution_count": 231,
     "metadata": {},
     "output_type": "execute_result"
    },
    {
     "data": {
      "image/png": "[encoded data removed]",
      "text/plain": [
       "<Figure size 640x480 with 1 Axes>"
      ]
     },
     "metadata": {},
     "output_type": "display_data"
    }
   ],
   "source": [
    "df.groupby('id_order')['product_quantity'].sum().plot()"
   ]
  },
  {
   "cell_type": "code",
   "execution_count": 238,
   "id": "eed2f33f-9e57-4e39-aba1-88d7a4904e79",
   "metadata": {},
   "outputs": [
    {
     "name": "stderr",
     "output_type": "stream",
     "text": [
      "\n",
      "KeyboardInterrupt\n",
      "\n",
      "\n",
      "KeyboardInterrupt\n",
      "\n"
     ]
    },
    {
     "name": "stdout",
     "output_type": "stream",
     "text": [
      "Error in callback <function _draw_all_if_interactive at 0x7f2a75959750> (for post_execute):\n",
      "Error in callback <function flush_figures at 0x7f2a75a38c10> (for post_execute):\n"
     ]
    },
    {
     "name": "stderr",
     "output_type": "stream",
     "text": [
      "\n",
      "KeyboardInterrupt\n",
      "\n"
     ]
    }
   ],
   "source": [
    "# df.groupby('id_order')[['product_quantity']].sum().boxplot(by='sku')\n",
    "\n",
    "# your code here\n",
    "df.boxplot(column=[\"product_quantity\"],\n",
    "             by=\"id_order\"\n",
    "            );"
   ]
  },
  {
   "cell_type": "code",
   "execution_count": 219,
   "id": "fb59b847-e555-44cf-940d-1ff9c922a6a4",
   "metadata": {},
   "outputs": [
    {
     "name": "stdout",
     "output_type": "stream",
     "text": [
      "<class 'pandas.core.series.Series'>\n"
     ]
    },
    {
     "data": {
      "text/plain": [
       "id_order\n",
       "395611    256\n",
       "484334    140\n",
       "301934    131\n",
       "329309     73\n",
       "349364     72\n",
       "         ... \n",
       "381633      1\n",
       "381636      1\n",
       "381638      1\n",
       "381639      1\n",
       "527401      1\n",
       "Name: count, Length: 204855, dtype: int64"
      ]
     },
     "execution_count": 219,
     "metadata": {},
     "output_type": "execute_result"
    }
   ],
   "source": [
    "print(type(df.id_order.value_counts()))\n",
    "\n",
    "df.id_order.value_counts()#.sort_values(by=['id_order'])"
   ]
  },
  {
   "cell_type": "code",
   "execution_count": 197,
   "id": "7a222996-1b2f-4421-bc6c-861f0e77e4dd",
   "metadata": {},
   "outputs": [
    {
     "data": {
      "text/plain": [
       "204855"
      ]
     },
     "execution_count": 197,
     "metadata": {},
     "output_type": "execute_result"
    }
   ],
   "source": [
    "df.id_order.nunique()"
   ]
  },
  {
   "cell_type": "code",
   "execution_count": null,
   "id": "e2af0ba1-a001-4e44-8fd9-c62a04d370d3",
   "metadata": {},
   "outputs": [],
   "source": []
  }
 ],
 "metadata": {
  "colab": {
   "collapsed_sections": [
    "HWSKDRiF3G1I",
    "MFV6C4zW3G1L",
    "mCG96SJS3G1M",
    "t6ff3smA3G1M",
    "nUTQs-aM3G1O",
    "v6D7KaoD3G1P"
   ],
   "provenance": []
  },
  "kernelspec": {
   "display_name": "Python 3 (ipykernel)",
   "language": "python",
   "name": "python3"
  },
  "language_info": {
   "codemirror_mode": {
    "name": "ipython",
    "version": 3
   },
   "file_extension": ".py",
   "mimetype": "text/x-python",
   "name": "python",
   "nbconvert_exporter": "python",
   "pygments_lexer": "ipython3",
   "version": "3.10.12"
  }
 },
 "nbformat": 4,
 "nbformat_minor": 5
}
