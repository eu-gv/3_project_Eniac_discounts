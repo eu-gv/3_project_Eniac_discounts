{
 "cells": [
  {
   "cell_type": "markdown",
   "metadata": {
    "id": "kYo4UvcCvkUs"
   },
   "source": [
    "# Data Cleaning with Pandas\n",
    "\n",
    "In this notebook we'll go through a few basic data cleaning steps that should be performed on all new datasets where necessary.\n",
    "\n",
    "We'll go through the process with both the `orders` and `orderlines` datasets. You can then practice these skills by cleaning the `products` dataset yourself"
   ]
  },
  {
   "cell_type": "code",
   "execution_count": null,
   "metadata": {
    "id": "FgRIdUs1vcZ8"
   },
   "outputs": [],
   "source": [
    "import pandas as pd"
   ]
  },
  {
   "cell_type": "code",
   "execution_count": null,
   "metadata": {
    "id": "rCFadwwK6Ial"
   },
   "outputs": [],
   "source": [
    "pd.set_option('display.max_colwidth', None) # to increase the width of the columns"
   ]
  },
  {
   "cell_type": "code",
   "execution_count": null,
   "metadata": {
    "id": "_87JoNgVviOG"
   },
   "outputs": [],
   "source": [
    "# orders.csv\n",
    "url = \"https://drive.google.com/file/d/1Vu0q91qZw6lqhIqbjoXYvYAQTmVHh6uZ/view?usp=sharing\"\n",
    "path = \"https://drive.google.com/uc?export=download&id=\"+url.split(\"/\")[-2]\n",
    "orders = pd.read_csv(path)\n",
    "\n",
    "# orderlines.csv\n",
    "url = \"https://drive.google.com/file/d/1FYhN_2AzTBFuWcfHaRuKcuCE6CWXsWtG/view?usp=sharing\"\n",
    "path = \"https://drive.google.com/uc?export=download&id=\"+url.split(\"/\")[-2]\n",
    "orderlines = pd.read_csv(path)"
   ]
  },
  {
   "cell_type": "markdown",
   "metadata": {
    "id": "qS6O9HFLUgkU"
   },
   "source": [
    "Before we begin, let's create a copy of the `orders` and `orderlines` DataFrames. This way we are sure any of our changes won't affect the original DataFrames."
   ]
  },
  {
   "cell_type": "code",
   "execution_count": null,
   "metadata": {
    "id": "4QdMtar7_lrX"
   },
   "outputs": [],
   "source": [
    "orders_df = orders.copy()"
   ]
  },
  {
   "cell_type": "code",
   "execution_count": null,
   "metadata": {
    "id": "oka4mnqU_mds"
   },
   "outputs": [],
   "source": [
    "orderlines_df = orderlines.copy()"
   ]
  },
  {
   "cell_type": "markdown",
   "metadata": {
    "id": "fVLitYX1yhc6"
   },
   "source": [
    "One of the best ways to begin data cleaning is by exploring using `.info()`. This will tell us:\n",
    "* The shape of the DataFrame\n",
    "* The names of the columns\n",
    "* If there are any missing values\n",
    "* The datatypes of the columns\n",
    "\n",
    "By exploring the missing values and correcting any incorrect datatypes, we often come across inconsistencies in our data.\n",
    "\n",
    "Beyond this, we should also have a **check for any duplicate rows**.\n",
    "\n",
    "Let's first deal with the duplicates, as it's nice and easy, then we'll explore what `.info()` has to tell us."
   ]
  },
  {
   "cell_type": "markdown",
   "metadata": {
    "id": "036ciQ6rwBJm"
   },
   "source": [
    "## 1.&nbsp; Duplicates\n",
    "We can check for duplicates using the pandas [.duplicated()](https://pandas.pydata.org/docs/reference/api/pandas.DataFrame.duplicated.html) method.\n",
    "\n",
    "We can then delete these rows, if we wish, using [.drop_duplicates()](https://pandas.pydata.org/docs/reference/api/pandas.DataFrame.drop_duplicates.html)"
   ]
  },
  {
   "cell_type": "code",
   "execution_count": null,
   "metadata": {
    "colab": {
     "base_uri": "https://localhost:8080/"
    },
    "id": "6dVkoUu7wC-b",
    "outputId": "23209eae-cbf0-4685-a07f-76e896ff83da"
   },
   "outputs": [
    {
     "data": {
      "text/plain": [
       "0"
      ]
     },
     "execution_count": 26,
     "metadata": {},
     "output_type": "execute_result"
    }
   ],
   "source": [
    "# orders\n",
    "orders_df.duplicated().sum()"
   ]
  },
  {
   "cell_type": "code",
   "execution_count": null,
   "metadata": {
    "colab": {
     "base_uri": "https://localhost:8080/"
    },
    "id": "iaeAQB_3whli",
    "outputId": "436191c1-e76a-4d5e-8ba5-bcb236b517ba"
   },
   "outputs": [
    {
     "data": {
      "text/plain": [
       "0"
      ]
     },
     "execution_count": 27,
     "metadata": {},
     "output_type": "execute_result"
    }
   ],
   "source": [
    "# orderlines\n",
    "orderlines_df.duplicated().sum()"
   ]
  },
  {
   "cell_type": "markdown",
   "metadata": {
    "id": "3LbnJquF0vRe"
   },
   "source": [
    "We have no duplicate rows in either DataFrame. Easy, there is no problem to solve. Normally though, if there were some duplicates, we'd drop the extra rows."
   ]
  },
  {
   "cell_type": "markdown",
   "metadata": {
    "id": "9lX7YbHlzoEO"
   },
   "source": [
    "# 2.&nbsp; `.info()`"
   ]
  },
  {
   "cell_type": "code",
   "execution_count": null,
   "metadata": {
    "colab": {
     "base_uri": "https://localhost:8080/"
    },
    "id": "_AAsMOTS2L9r",
    "outputId": "95eab3c8-95f8-44bb-da15-a6e592549b71"
   },
   "outputs": [
    {
     "name": "stdout",
     "output_type": "stream",
     "text": [
      "<class 'pandas.core.frame.DataFrame'>\n",
      "RangeIndex: 226909 entries, 0 to 226908\n",
      "Data columns (total 4 columns):\n",
      " #   Column        Non-Null Count   Dtype  \n",
      "---  ------        --------------   -----  \n",
      " 0   order_id      226909 non-null  int64  \n",
      " 1   created_date  226909 non-null  object \n",
      " 2   total_paid    226904 non-null  float64\n",
      " 3   state         226909 non-null  object \n",
      "dtypes: float64(1), int64(1), object(2)\n",
      "memory usage: 6.9+ MB\n"
     ]
    }
   ],
   "source": [
    "orders_df.info()"
   ]
  },
  {
   "cell_type": "markdown",
   "metadata": {
    "id": "Txm3Bv952UCb"
   },
   "source": [
    "* `total_paid` has 5 missing values\n",
    "* `created_date` should become datetime datatype"
   ]
  },
  {
   "cell_type": "code",
   "execution_count": null,
   "metadata": {
    "colab": {
     "base_uri": "https://localhost:8080/"
    },
    "id": "kvDA-z032Rm2",
    "outputId": "a25d9bea-5be1-4a5d-face-e889cc1d1217"
   },
   "outputs": [
    {
     "name": "stdout",
     "output_type": "stream",
     "text": [
      "<class 'pandas.core.frame.DataFrame'>\n",
      "RangeIndex: 293983 entries, 0 to 293982\n",
      "Data columns (total 7 columns):\n",
      " #   Column            Non-Null Count   Dtype \n",
      "---  ------            --------------   ----- \n",
      " 0   id                293983 non-null  int64 \n",
      " 1   id_order          293983 non-null  int64 \n",
      " 2   product_id        293983 non-null  int64 \n",
      " 3   product_quantity  293983 non-null  int64 \n",
      " 4   sku               293983 non-null  object\n",
      " 5   unit_price        293983 non-null  object\n",
      " 6   date              293983 non-null  object\n",
      "dtypes: int64(4), object(3)\n",
      "memory usage: 15.7+ MB\n"
     ]
    }
   ],
   "source": [
    "orderlines_df.info()"
   ]
  },
  {
   "cell_type": "markdown",
   "metadata": {
    "id": "iLSpYm1G2sPD"
   },
   "source": [
    "* `date` should be a datetime datatype\n",
    "* `unit_price` should be a float datatype"
   ]
  },
  {
   "cell_type": "markdown",
   "metadata": {
    "id": "MlwJt5c-wiQh"
   },
   "source": [
    "## 3.&nbsp; Missing values"
   ]
  },
  {
   "cell_type": "markdown",
   "metadata": {
    "id": "63eKHGzJwkuT"
   },
   "source": [
    "### 3.1.&nbsp; Orders\n",
    "* `total_paid` has 5 missing values"
   ]
  },
  {
   "cell_type": "code",
   "execution_count": null,
   "metadata": {
    "colab": {
     "base_uri": "https://localhost:8080/"
    },
    "id": "Yh81k3ppwl37",
    "outputId": "214dfd6a-e28a-4af9-cc7f-16e7af95be29"
   },
   "outputs": [
    {
     "name": "stdout",
     "output_type": "stream",
     "text": [
      "5 missing values represents 0.0022% of the rows in our DataFrame\n"
     ]
    }
   ],
   "source": [
    "print(f\"5 missing values represents {((orders_df.total_paid.isna().sum() / orders_df.shape[0])*100).round(5)}% of the rows in our DataFrame\")"
   ]
  },
  {
   "cell_type": "markdown",
   "metadata": {
    "id": "8s6q6JScX9QV"
   },
   "source": [
    "A quick way to find out a percentage here, if you don't need to print out a sentence for yourself/students/colleagues is `.value_count(normalize=True)`"
   ]
  },
  {
   "cell_type": "code",
   "execution_count": null,
   "metadata": {
    "colab": {
     "base_uri": "https://localhost:8080/"
    },
    "id": "PJedh_tXX8jO",
    "outputId": "40d54c75-196f-42b9-b3cd-8c0f082dca74"
   },
   "outputs": [
    {
     "data": {
      "text/plain": [
       "False    0.999978\n",
       "True     0.000022\n",
       "Name: total_paid, dtype: float64"
      ]
     },
     "execution_count": 31,
     "metadata": {},
     "output_type": "execute_result"
    }
   ],
   "source": [
    "orders_df.total_paid.isna().value_counts(normalize=True)"
   ]
  },
  {
   "cell_type": "markdown",
   "metadata": {
    "id": "eMW6J-4v_iVM"
   },
   "source": [
    "As there is such a tiny amount of missing values, we will simply delete these rows, as we have enough data without them."
   ]
  },
  {
   "cell_type": "code",
   "execution_count": null,
   "metadata": {
    "id": "ohcl2Pb2B_Ch"
   },
   "outputs": [],
   "source": [
    "orders_df = orders_df.loc[~orders.total_paid.isna(), :]"
   ]
  },
  {
   "cell_type": "markdown",
   "metadata": {
    "id": "AIWAR4xI_3jv"
   },
   "source": [
    "Should you have a significant number of missing values in the future, you have a choice:\n",
    "+ you can impute the values\n",
    "+ you can take the values from other DataFrames, if they are present there\n",
    "+ you can delete the values\n",
    "+ or any number of other creative solutions\n",
    "\n",
    "Please, always consider how much time you have on your project, and what impact your method of choice will have on your final assesment."
   ]
  },
  {
   "cell_type": "markdown",
   "metadata": {
    "id": "nziIE3hbwmNa"
   },
   "source": [
    "### 3.2.&nbsp; Orderlines\n",
    "There are no missing values in `orderlines`"
   ]
  },
  {
   "cell_type": "markdown",
   "metadata": {
    "id": "_feog1aCwosJ"
   },
   "source": [
    "## 4.&nbsp; Datatypes"
   ]
  },
  {
   "cell_type": "markdown",
   "metadata": {
    "id": "wCJyQYkOwrBE"
   },
   "source": [
    "### 4.1.&nbsp; Orders\n",
    "* `created_date` should become datetime datatype"
   ]
  },
  {
   "cell_type": "code",
   "execution_count": null,
   "metadata": {
    "colab": {
     "base_uri": "https://localhost:8080/"
    },
    "id": "cF9roGlewr8j",
    "outputId": "99a5171c-6729-45f9-8601-b44bd54d52d5"
   },
   "outputs": [
    {
     "name": "stderr",
     "output_type": "stream",
     "text": [
      "<ipython-input-33-87c26cc5d8b0>:1: SettingWithCopyWarning: \n",
      "A value is trying to be set on a copy of a slice from a DataFrame.\n",
      "Try using .loc[row_indexer,col_indexer] = value instead\n",
      "\n",
      "See the caveats in the documentation: https://pandas.pydata.org/pandas-docs/stable/user_guide/indexing.html#returning-a-view-versus-a-copy\n",
      "  orders_df[\"created_date\"] = pd.to_datetime(orders_df[\"created_date\"])\n"
     ]
    }
   ],
   "source": [
    "orders_df[\"created_date\"] = pd.to_datetime(orders_df[\"created_date\"])"
   ]
  },
  {
   "cell_type": "markdown",
   "metadata": {
    "id": "osvynBTNwsin"
   },
   "source": [
    "### 4.1.&nbsp; Orderlines\n",
    "* `date` should be a datetime datatype\n",
    "* `unit_price` should be a float datatype"
   ]
  },
  {
   "cell_type": "markdown",
   "metadata": {
    "id": "PJcuKn8K06Yd"
   },
   "source": [
    "#### 4.1.1.&nbsp; `date`"
   ]
  },
  {
   "cell_type": "code",
   "execution_count": null,
   "metadata": {
    "id": "FnXgRKERwtvS"
   },
   "outputs": [],
   "source": [
    "orderlines_df[\"date\"] = pd.to_datetime(orderlines_df[\"date\"])"
   ]
  },
  {
   "cell_type": "markdown",
   "metadata": {
    "id": "F7i78NDY0-oF"
   },
   "source": [
    "#### 4.1.2.&nbsp;`unit_price`"
   ]
  },
  {
   "cell_type": "code",
   "execution_count": null,
   "metadata": {
    "colab": {
     "base_uri": "https://localhost:8080/",
     "height": 304
    },
    "id": "iOFBNmuRDuGU",
    "outputId": "1d066b83-b626-43d0-f4f3-61e4b8499041"
   },
   "outputs": [
    {
     "ename": "ValueError",
     "evalue": "Unable to parse string \"1.137.99\" at position 6",
     "output_type": "error",
     "traceback": [
      "\u001b[0;31m---------------------------------------------------------------------------\u001b[0m",
      "\u001b[0;31mValueError\u001b[0m                                Traceback (most recent call last)",
      "\u001b[0;32m/usr/local/lib/python3.10/dist-packages/pandas/_libs/lib.pyx\u001b[0m in \u001b[0;36mpandas._libs.lib.maybe_convert_numeric\u001b[0;34m()\u001b[0m\n",
      "\u001b[0;31mValueError\u001b[0m: Unable to parse string \"1.137.99\"",
      "\nDuring handling of the above exception, another exception occurred:\n",
      "\u001b[0;31mValueError\u001b[0m                                Traceback (most recent call last)",
      "\u001b[0;32m<ipython-input-15-d6bd38092a9f>\u001b[0m in \u001b[0;36m<cell line: 1>\u001b[0;34m()\u001b[0m\n\u001b[0;32m----> 1\u001b[0;31m \u001b[0morderlines_df\u001b[0m\u001b[0;34m[\u001b[0m\u001b[0;34m\"unit_price\"\u001b[0m\u001b[0;34m]\u001b[0m \u001b[0;34m=\u001b[0m \u001b[0mpd\u001b[0m\u001b[0;34m.\u001b[0m\u001b[0mto_numeric\u001b[0m\u001b[0;34m(\u001b[0m\u001b[0morderlines_df\u001b[0m\u001b[0;34m[\u001b[0m\u001b[0;34m\"unit_price\"\u001b[0m\u001b[0;34m]\u001b[0m\u001b[0;34m)\u001b[0m\u001b[0;34m\u001b[0m\u001b[0;34m\u001b[0m\u001b[0m\n\u001b[0m",
      "\u001b[0;32m/usr/local/lib/python3.10/dist-packages/pandas/core/tools/numeric.py\u001b[0m in \u001b[0;36mto_numeric\u001b[0;34m(arg, errors, downcast)\u001b[0m\n\u001b[1;32m    183\u001b[0m         \u001b[0mcoerce_numeric\u001b[0m \u001b[0;34m=\u001b[0m \u001b[0merrors\u001b[0m \u001b[0;32mnot\u001b[0m \u001b[0;32min\u001b[0m \u001b[0;34m(\u001b[0m\u001b[0;34m\"ignore\"\u001b[0m\u001b[0;34m,\u001b[0m \u001b[0;34m\"raise\"\u001b[0m\u001b[0;34m)\u001b[0m\u001b[0;34m\u001b[0m\u001b[0;34m\u001b[0m\u001b[0m\n\u001b[1;32m    184\u001b[0m         \u001b[0;32mtry\u001b[0m\u001b[0;34m:\u001b[0m\u001b[0;34m\u001b[0m\u001b[0;34m\u001b[0m\u001b[0m\n\u001b[0;32m--> 185\u001b[0;31m             values, _ = lib.maybe_convert_numeric(\n\u001b[0m\u001b[1;32m    186\u001b[0m                 \u001b[0mvalues\u001b[0m\u001b[0;34m,\u001b[0m \u001b[0mset\u001b[0m\u001b[0;34m(\u001b[0m\u001b[0;34m)\u001b[0m\u001b[0;34m,\u001b[0m \u001b[0mcoerce_numeric\u001b[0m\u001b[0;34m=\u001b[0m\u001b[0mcoerce_numeric\u001b[0m\u001b[0;34m\u001b[0m\u001b[0;34m\u001b[0m\u001b[0m\n\u001b[1;32m    187\u001b[0m             )\n",
      "\u001b[0;32m/usr/local/lib/python3.10/dist-packages/pandas/_libs/lib.pyx\u001b[0m in \u001b[0;36mpandas._libs.lib.maybe_convert_numeric\u001b[0;34m()\u001b[0m\n",
      "\u001b[0;31mValueError\u001b[0m: Unable to parse string \"1.137.99\" at position 6"
     ]
    }
   ],
   "source": [
    "orderlines_df[\"unit_price\"] = pd.to_numeric(orderlines_df[\"unit_price\"])"
   ]
  },
  {
   "cell_type": "markdown",
   "metadata": {
    "id": "xEqhP5RFSmRi"
   },
   "source": [
    "As you can see when we try to convert `unit_price` to a numerical datatype, we receive a `ValueError` telling us that pandas doesn't understand the number `1.137.99`. This is probably because numbers cannot have 2 decimal points. Let's see if there are any other numbers like this."
   ]
  },
  {
   "cell_type": "code",
   "execution_count": null,
   "metadata": {
    "colab": {
     "base_uri": "https://localhost:8080/"
    },
    "id": "ONy-oCt0SkrR",
    "outputId": "1221f3d3-e08e-4fe9-bf7e-f134cb932ced"
   },
   "outputs": [
    {
     "data": {
      "text/plain": [
       "False    257814\n",
       "True      36169\n",
       "Name: unit_price, dtype: int64"
      ]
     },
     "execution_count": 34,
     "metadata": {},
     "output_type": "execute_result"
    }
   ],
   "source": [
    "orderlines_df.unit_price.str.contains(\"\\d+\\.\\d+\\.\\d+\").value_counts()"
   ]
  },
  {
   "cell_type": "markdown",
   "metadata": {
    "id": "HSUPvFJU6Jv-"
   },
   "source": [
    "Looks like over 36000 rows in `orderlines` are affected by this problem. Let's work out how much that is as a percentage of our total data."
   ]
  },
  {
   "cell_type": "code",
   "execution_count": null,
   "metadata": {
    "colab": {
     "base_uri": "https://localhost:8080/"
    },
    "id": "r75Rm1EgVjpi",
    "outputId": "eebee901-6d21-4d0c-bf4e-8671a4401339"
   },
   "outputs": [
    {
     "name": "stdout",
     "output_type": "stream",
     "text": [
      "The 2 dot problem represents 12.3% of the rows in our DataFrame\n"
     ]
    }
   ],
   "source": [
    "two_dot_percentage = ((orderlines_df.unit_price.str.contains(\"\\d+\\.\\d+\\.\\d+\").value_counts()[1] / orderlines_df.shape[0])*100).round(2)\n",
    "print(f\"The 2 dot problem represents {two_dot_percentage}% of the rows in our DataFrame\")"
   ]
  },
  {
   "cell_type": "markdown",
   "metadata": {
    "id": "5Kp9_4pqeu5J"
   },
   "source": [
    "This is a bit of a tricky decision as 12.3% is a significant amount of our data... and we might even end up losing a larger portion of our data than this too. For the moment we will delete the rows as we only have 2 weeks for this project and I'd like some quick, accurate results to show. If we have time at the end, we can come back and investigate this problem further, maybe there's a solution?\n",
    "\n",
    "Each row of `orderlines` represents a product in an order. For example, if order number 175 contained 3 seperate products, then order 175 would have 3 rows in `orderlines`, one row for each of the products. If 2 of those products have 'normal' prices (14.99, 15.85) and 1 has a price with 2 decimal points (1.137.99), we need to remove the whole order and not just the affected row. If we only remove the row with 2 decimal places then any later analysis about products and prices could be misleading.\n",
    "\n",
    "We therefore need to find the order numbers associated with the rows that have 2 decimal points, and then remove all the associated rows."
   ]
  },
  {
   "cell_type": "code",
   "execution_count": null,
   "metadata": {
    "id": "wQnSe-n1WCqv"
   },
   "outputs": [],
   "source": [
    "two_dot_order_ids_list = orderlines_df.loc[orderlines_df.unit_price.str.contains(\"\\d+\\.\\d+\\.\\d+\"), \"id_order\"]\n",
    "\n",
    "orderlines_df = orderlines_df.loc[~orderlines_df.id_order.isin(two_dot_order_ids_list)]"
   ]
  },
  {
   "cell_type": "code",
   "execution_count": null,
   "metadata": {
    "colab": {
     "base_uri": "https://localhost:8080/"
    },
    "id": "k-GLzXuV0Ioj",
    "outputId": "928a4f80-8dc1-4b66-bf6b-6dea973d5926"
   },
   "outputs": [
    {
     "data": {
      "text/plain": [
       "216250"
      ]
     },
     "execution_count": 37,
     "metadata": {},
     "output_type": "execute_result"
    }
   ],
   "source": [
    "orderlines_df.shape[0]"
   ]
  },
  {
   "cell_type": "markdown",
   "metadata": {
    "id": "2pd5t4110iz3"
   },
   "source": [
    "We still have 216250 rows in orderlines to work with. This should be more than enough for our evaluation.\n",
    "\n",
    "Now that all of the 2 decimal point prices have been removed, let's try again to convert the column `unit_price` to the correct datatype."
   ]
  },
  {
   "cell_type": "code",
   "execution_count": null,
   "metadata": {
    "id": "Q4eDTAPs1HMZ"
   },
   "outputs": [],
   "source": [
    "orderlines_df[\"unit_price\"] = pd.to_numeric(orderlines_df[\"unit_price\"])"
   ]
  },
  {
   "cell_type": "markdown",
   "metadata": {
    "id": "sBudIQLm6oJQ"
   },
   "source": [
    "It worked perfectly"
   ]
  },
  {
   "cell_type": "markdown",
   "metadata": {
    "id": "1zGAzgIX8_-D"
   },
   "source": [
    "# Challenge: Clean the `products` DataFrame\n",
    "Now it's your turn. Use the lessons you learnt above and clean the products DataFrame. You don't have to copy exactly what we did. Think about the consequences of your actions, sometimes it is ok to delete rows, other times you may wish to come up with more creative solutions."
   ]
  },
  {
   "cell_type": "code",
   "execution_count": null,
   "metadata": {
    "id": "LtYqdFsa9KTS"
   },
   "outputs": [],
   "source": [
    "# products.csv\n",
    "url = \"https://drive.google.com/file/d/1afxwDXfl-7cQ_qLwyDitfcCx3u7WMvkU/view?usp=sharing\"\n",
    "path = \"https://drive.google.com/uc?export=download&id=\"+url.split(\"/\")[-2]\n",
    "products = pd.read_csv(path)"
   ]
  },
  {
   "cell_type": "code",
   "execution_count": null,
   "metadata": {
    "id": "-Vb3zvDwapQA"
   },
   "outputs": [],
   "source": [
    "products_df = products.copy()"
   ]
  },
  {
   "cell_type": "code",
   "execution_count": null,
   "metadata": {
    "colab": {
     "base_uri": "https://localhost:8080/",
     "height": 241
    },
    "id": "UW3zYoni9Vcy",
    "outputId": "08e74b7a-65b3-4b08-d0e9-d4a018ca1c7b"
   },
   "outputs": [
    {
     "data": {
      "text/html": [
       "\n",
       "  <div id=\"df-e9516338-62bc-4de3-ab55-89055a2a4361\" class=\"colab-df-container\">\n",
       "    <div>\n",
       "<style scoped>\n",
       "    .dataframe tbody tr th:only-of-type {\n",
       "        vertical-align: middle;\n",
       "    }\n",
       "\n",
       "    .dataframe tbody tr th {\n",
       "        vertical-align: top;\n",
       "    }\n",
       "\n",
       "    .dataframe thead th {\n",
       "        text-align: right;\n",
       "    }\n",
       "</style>\n",
       "<table border=\"1\" class=\"dataframe\">\n",
       "  <thead>\n",
       "    <tr style=\"text-align: right;\">\n",
       "      <th></th>\n",
       "      <th>sku</th>\n",
       "      <th>name</th>\n",
       "      <th>desc</th>\n",
       "      <th>price</th>\n",
       "      <th>promo_price</th>\n",
       "      <th>in_stock</th>\n",
       "      <th>type</th>\n",
       "    </tr>\n",
       "  </thead>\n",
       "  <tbody>\n",
       "    <tr>\n",
       "      <th>0</th>\n",
       "      <td>RAI0007</td>\n",
       "      <td>Silver Rain Design mStand Support</td>\n",
       "      <td>Aluminum support compatible with all MacBook</td>\n",
       "      <td>59.99</td>\n",
       "      <td>499.899</td>\n",
       "      <td>1</td>\n",
       "      <td>8696</td>\n",
       "    </tr>\n",
       "    <tr>\n",
       "      <th>1</th>\n",
       "      <td>APP0023</td>\n",
       "      <td>Apple Mac Keyboard Keypad Spanish</td>\n",
       "      <td>USB ultrathin keyboard Apple Mac Spanish.</td>\n",
       "      <td>59</td>\n",
       "      <td>589.996</td>\n",
       "      <td>0</td>\n",
       "      <td>13855401</td>\n",
       "    </tr>\n",
       "    <tr>\n",
       "      <th>2</th>\n",
       "      <td>APP0025</td>\n",
       "      <td>Mighty Mouse Apple Mouse for Mac</td>\n",
       "      <td>mouse Apple USB cable.</td>\n",
       "      <td>59</td>\n",
       "      <td>569.898</td>\n",
       "      <td>0</td>\n",
       "      <td>1387</td>\n",
       "    </tr>\n",
       "    <tr>\n",
       "      <th>3</th>\n",
       "      <td>APP0072</td>\n",
       "      <td>Apple Dock to USB Cable iPhone and iPod white</td>\n",
       "      <td>IPhone dock and USB Cable Apple iPod.</td>\n",
       "      <td>25</td>\n",
       "      <td>229.997</td>\n",
       "      <td>0</td>\n",
       "      <td>1230</td>\n",
       "    </tr>\n",
       "    <tr>\n",
       "      <th>4</th>\n",
       "      <td>KIN0007</td>\n",
       "      <td>Mac Memory Kingston 2GB 667MHz DDR2 SO-DIMM</td>\n",
       "      <td>2GB RAM Mac mini and iMac (2006/07) MacBook Pro (2006/07/08).</td>\n",
       "      <td>34.99</td>\n",
       "      <td>31.99</td>\n",
       "      <td>1</td>\n",
       "      <td>1364</td>\n",
       "    </tr>\n",
       "  </tbody>\n",
       "</table>\n",
       "</div>\n",
       "    <div class=\"colab-df-buttons\">\n",
       "\n",
       "  <div class=\"colab-df-container\">\n",
       "    <button class=\"colab-df-convert\" onclick=\"convertToInteractive('df-e9516338-62bc-4de3-ab55-89055a2a4361')\"\n",
       "            title=\"Convert this dataframe to an interactive table.\"\n",
       "            style=\"display:none;\">\n",
       "\n",
       "  <svg xmlns=\"http://www.w3.org/2000/svg\" height=\"24px\" viewBox=\"0 -960 960 960\">\n",
       "    <path d=\"M120-120v-720h720v720H120Zm60-500h600v-160H180v160Zm220 220h160v-160H400v160Zm0 220h160v-160H400v160ZM180-400h160v-160H180v160Zm440 0h160v-160H620v160ZM180-180h160v-160H180v160Zm440 0h160v-160H620v160Z\"/>\n",
       "  </svg>\n",
       "    </button>\n",
       "\n",
       "  <style>\n",
       "    .colab-df-container {\n",
       "      display:flex;\n",
       "      gap: 12px;\n",
       "    }\n",
       "\n",
       "    .colab-df-convert {\n",
       "      background-color: #E8F0FE;\n",
       "      border: none;\n",
       "      border-radius: 50%;\n",
       "      cursor: pointer;\n",
       "      display: none;\n",
       "      fill: #1967D2;\n",
       "      height: 32px;\n",
       "      padding: 0 0 0 0;\n",
       "      width: 32px;\n",
       "    }\n",
       "\n",
       "    .colab-df-convert:hover {\n",
       "      background-color: #E2EBFA;\n",
       "      box-shadow: 0px 1px 2px rgba(60, 64, 67, 0.3), 0px 1px 3px 1px rgba(60, 64, 67, 0.15);\n",
       "      fill: #174EA6;\n",
       "    }\n",
       "\n",
       "    .colab-df-buttons div {\n",
       "      margin-bottom: 4px;\n",
       "    }\n",
       "\n",
       "    [theme=dark] .colab-df-convert {\n",
       "      background-color: #3B4455;\n",
       "      fill: #D2E3FC;\n",
       "    }\n",
       "\n",
       "    [theme=dark] .colab-df-convert:hover {\n",
       "      background-color: #434B5C;\n",
       "      box-shadow: 0px 1px 3px 1px rgba(0, 0, 0, 0.15);\n",
       "      filter: drop-shadow(0px 1px 2px rgba(0, 0, 0, 0.3));\n",
       "      fill: #FFFFFF;\n",
       "    }\n",
       "  </style>\n",
       "\n",
       "    <script>\n",
       "      const buttonEl =\n",
       "        document.querySelector('#df-e9516338-62bc-4de3-ab55-89055a2a4361 button.colab-df-convert');\n",
       "      buttonEl.style.display =\n",
       "        google.colab.kernel.accessAllowed ? 'block' : 'none';\n",
       "\n",
       "      async function convertToInteractive(key) {\n",
       "        const element = document.querySelector('#df-e9516338-62bc-4de3-ab55-89055a2a4361');\n",
       "        const dataTable =\n",
       "          await google.colab.kernel.invokeFunction('convertToInteractive',\n",
       "                                                    [key], {});\n",
       "        if (!dataTable) return;\n",
       "\n",
       "        const docLinkHtml = 'Like what you see? Visit the ' +\n",
       "          '<a target=\"_blank\" href=https://colab.research.google.com/notebooks/data_table.ipynb>data table notebook</a>'\n",
       "          + ' to learn more about interactive tables.';\n",
       "        element.innerHTML = '';\n",
       "        dataTable['output_type'] = 'display_data';\n",
       "        await google.colab.output.renderOutput(dataTable, element);\n",
       "        const docLink = document.createElement('div');\n",
       "        docLink.innerHTML = docLinkHtml;\n",
       "        element.appendChild(docLink);\n",
       "      }\n",
       "    </script>\n",
       "  </div>\n",
       "\n",
       "\n",
       "<div id=\"df-0a25a995-0d26-4599-be7d-377a2908645f\">\n",
       "  <button class=\"colab-df-quickchart\" onclick=\"quickchart('df-0a25a995-0d26-4599-be7d-377a2908645f')\"\n",
       "            title=\"Suggest charts\"\n",
       "            style=\"display:none;\">\n",
       "\n",
       "<svg xmlns=\"http://www.w3.org/2000/svg\" height=\"24px\"viewBox=\"0 0 24 24\"\n",
       "     width=\"24px\">\n",
       "    <g>\n",
       "        <path d=\"M19 3H5c-1.1 0-2 .9-2 2v14c0 1.1.9 2 2 2h14c1.1 0 2-.9 2-2V5c0-1.1-.9-2-2-2zM9 17H7v-7h2v7zm4 0h-2V7h2v10zm4 0h-2v-4h2v4z\"/>\n",
       "    </g>\n",
       "</svg>\n",
       "  </button>\n",
       "\n",
       "<style>\n",
       "  .colab-df-quickchart {\n",
       "      --bg-color: #E8F0FE;\n",
       "      --fill-color: #1967D2;\n",
       "      --hover-bg-color: #E2EBFA;\n",
       "      --hover-fill-color: #174EA6;\n",
       "      --disabled-fill-color: #AAA;\n",
       "      --disabled-bg-color: #DDD;\n",
       "  }\n",
       "\n",
       "  [theme=dark] .colab-df-quickchart {\n",
       "      --bg-color: #3B4455;\n",
       "      --fill-color: #D2E3FC;\n",
       "      --hover-bg-color: #434B5C;\n",
       "      --hover-fill-color: #FFFFFF;\n",
       "      --disabled-bg-color: #3B4455;\n",
       "      --disabled-fill-color: #666;\n",
       "  }\n",
       "\n",
       "  .colab-df-quickchart {\n",
       "    background-color: var(--bg-color);\n",
       "    border: none;\n",
       "    border-radius: 50%;\n",
       "    cursor: pointer;\n",
       "    display: none;\n",
       "    fill: var(--fill-color);\n",
       "    height: 32px;\n",
       "    padding: 0;\n",
       "    width: 32px;\n",
       "  }\n",
       "\n",
       "  .colab-df-quickchart:hover {\n",
       "    background-color: var(--hover-bg-color);\n",
       "    box-shadow: 0 1px 2px rgba(60, 64, 67, 0.3), 0 1px 3px 1px rgba(60, 64, 67, 0.15);\n",
       "    fill: var(--button-hover-fill-color);\n",
       "  }\n",
       "\n",
       "  .colab-df-quickchart-complete:disabled,\n",
       "  .colab-df-quickchart-complete:disabled:hover {\n",
       "    background-color: var(--disabled-bg-color);\n",
       "    fill: var(--disabled-fill-color);\n",
       "    box-shadow: none;\n",
       "  }\n",
       "\n",
       "  .colab-df-spinner {\n",
       "    border: 2px solid var(--fill-color);\n",
       "    border-color: transparent;\n",
       "    border-bottom-color: var(--fill-color);\n",
       "    animation:\n",
       "      spin 1s steps(1) infinite;\n",
       "  }\n",
       "\n",
       "  @keyframes spin {\n",
       "    0% {\n",
       "      border-color: transparent;\n",
       "      border-bottom-color: var(--fill-color);\n",
       "      border-left-color: var(--fill-color);\n",
       "    }\n",
       "    20% {\n",
       "      border-color: transparent;\n",
       "      border-left-color: var(--fill-color);\n",
       "      border-top-color: var(--fill-color);\n",
       "    }\n",
       "    30% {\n",
       "      border-color: transparent;\n",
       "      border-left-color: var(--fill-color);\n",
       "      border-top-color: var(--fill-color);\n",
       "      border-right-color: var(--fill-color);\n",
       "    }\n",
       "    40% {\n",
       "      border-color: transparent;\n",
       "      border-right-color: var(--fill-color);\n",
       "      border-top-color: var(--fill-color);\n",
       "    }\n",
       "    60% {\n",
       "      border-color: transparent;\n",
       "      border-right-color: var(--fill-color);\n",
       "    }\n",
       "    80% {\n",
       "      border-color: transparent;\n",
       "      border-right-color: var(--fill-color);\n",
       "      border-bottom-color: var(--fill-color);\n",
       "    }\n",
       "    90% {\n",
       "      border-color: transparent;\n",
       "      border-bottom-color: var(--fill-color);\n",
       "    }\n",
       "  }\n",
       "</style>\n",
       "\n",
       "  <script>\n",
       "    async function quickchart(key) {\n",
       "      const quickchartButtonEl =\n",
       "        document.querySelector('#' + key + ' button');\n",
       "      quickchartButtonEl.disabled = true;  // To prevent multiple clicks.\n",
       "      quickchartButtonEl.classList.add('colab-df-spinner');\n",
       "      try {\n",
       "        const charts = await google.colab.kernel.invokeFunction(\n",
       "            'suggestCharts', [key], {});\n",
       "      } catch (error) {\n",
       "        console.error('Error during call to suggestCharts:', error);\n",
       "      }\n",
       "      quickchartButtonEl.classList.remove('colab-df-spinner');\n",
       "      quickchartButtonEl.classList.add('colab-df-quickchart-complete');\n",
       "    }\n",
       "    (() => {\n",
       "      let quickchartButtonEl =\n",
       "        document.querySelector('#df-0a25a995-0d26-4599-be7d-377a2908645f button');\n",
       "      quickchartButtonEl.style.display =\n",
       "        google.colab.kernel.accessAllowed ? 'block' : 'none';\n",
       "    })();\n",
       "  </script>\n",
       "</div>\n",
       "    </div>\n",
       "  </div>\n"
      ],
      "text/plain": [
       "       sku                                           name  \\\n",
       "0  RAI0007              Silver Rain Design mStand Support   \n",
       "1  APP0023              Apple Mac Keyboard Keypad Spanish   \n",
       "2  APP0025               Mighty Mouse Apple Mouse for Mac   \n",
       "3  APP0072  Apple Dock to USB Cable iPhone and iPod white   \n",
       "4  KIN0007    Mac Memory Kingston 2GB 667MHz DDR2 SO-DIMM   \n",
       "\n",
       "                                                            desc  price  \\\n",
       "0                   Aluminum support compatible with all MacBook  59.99   \n",
       "1                      USB ultrathin keyboard Apple Mac Spanish.     59   \n",
       "2                                         mouse Apple USB cable.     59   \n",
       "3                          IPhone dock and USB Cable Apple iPod.     25   \n",
       "4  2GB RAM Mac mini and iMac (2006/07) MacBook Pro (2006/07/08).  34.99   \n",
       "\n",
       "  promo_price  in_stock      type  \n",
       "0     499.899         1      8696  \n",
       "1     589.996         0  13855401  \n",
       "2     569.898         0      1387  \n",
       "3     229.997         0      1230  \n",
       "4       31.99         1      1364  "
      ]
     },
     "execution_count": 41,
     "metadata": {},
     "output_type": "execute_result"
    }
   ],
   "source": [
    "products_df.head()"
   ]
  },
  {
   "cell_type": "code",
   "execution_count": null,
   "metadata": {
    "colab": {
     "base_uri": "https://localhost:8080/"
    },
    "id": "per_bjhcO0_L",
    "outputId": "665ca858-ab7c-42a1-d338-d95ab2b60857"
   },
   "outputs": [
    {
     "name": "stdout",
     "output_type": "stream",
     "text": [
      "<class 'pandas.core.frame.DataFrame'>\n",
      "RangeIndex: 19326 entries, 0 to 19325\n",
      "Data columns (total 7 columns):\n",
      " #   Column       Non-Null Count  Dtype \n",
      "---  ------       --------------  ----- \n",
      " 0   sku          19326 non-null  object\n",
      " 1   name         19326 non-null  object\n",
      " 2   desc         19319 non-null  object\n",
      " 3   price        19280 non-null  object\n",
      " 4   promo_price  19326 non-null  object\n",
      " 5   in_stock     19326 non-null  int64 \n",
      " 6   type         19276 non-null  object\n",
      "dtypes: int64(1), object(6)\n",
      "memory usage: 1.0+ MB\n"
     ]
    }
   ],
   "source": [
    "products_df.info()"
   ]
  },
  {
   "cell_type": "markdown",
   "metadata": {
    "id": "eJJELJjD9l3W"
   },
   "source": [
    "We'll go through the steps above in order\n",
    "* Duplicates\n",
    "* Missing values\n",
    "* Datatypes\n",
    "\n",
    "But I think we can all see straight away from `products.head()` above that some of the prices in `promo_price` look wrong. Let's make sure we deal with this later."
   ]
  },
  {
   "cell_type": "markdown",
   "metadata": {
    "id": "DyTfC-WY-IWe"
   },
   "source": [
    "## Duplicates"
   ]
  },
  {
   "cell_type": "code",
   "execution_count": null,
   "metadata": {
    "colab": {
     "base_uri": "https://localhost:8080/"
    },
    "id": "7WzmgCuz9X1x",
    "outputId": "ecb39483-d6a0-478b-c1eb-d346f526d1d7"
   },
   "outputs": [
    {
     "data": {
      "text/plain": [
       "8746"
      ]
     },
     "execution_count": 43,
     "metadata": {},
     "output_type": "execute_result"
    }
   ],
   "source": [
    "products_df.duplicated().sum()"
   ]
  },
  {
   "cell_type": "markdown",
   "metadata": {
    "id": "goe2v94N-Oyk"
   },
   "source": [
    "Wow, that's a lot of duplicates. Let's get rid of them."
   ]
  },
  {
   "cell_type": "code",
   "execution_count": null,
   "metadata": {
    "id": "aP-EeieW-N5i"
   },
   "outputs": [],
   "source": [
    "products_df = products_df.drop_duplicates()"
   ]
  },
  {
   "cell_type": "code",
   "execution_count": null,
   "metadata": {
    "colab": {
     "base_uri": "https://localhost:8080/",
     "height": 597
    },
    "id": "i8kUJuWqbVXG",
    "outputId": "5d132fd4-19ca-427f-b1e6-83625d954171"
   },
   "outputs": [
    {
     "data": {
      "text/html": [
       "\n",
       "  <div id=\"df-f64297c5-a50e-4f62-ab17-f17997167256\" class=\"colab-df-container\">\n",
       "    <div>\n",
       "<style scoped>\n",
       "    .dataframe tbody tr th:only-of-type {\n",
       "        vertical-align: middle;\n",
       "    }\n",
       "\n",
       "    .dataframe tbody tr th {\n",
       "        vertical-align: top;\n",
       "    }\n",
       "\n",
       "    .dataframe thead th {\n",
       "        text-align: right;\n",
       "    }\n",
       "</style>\n",
       "<table border=\"1\" class=\"dataframe\">\n",
       "  <thead>\n",
       "    <tr style=\"text-align: right;\">\n",
       "      <th></th>\n",
       "      <th>sku</th>\n",
       "      <th>name</th>\n",
       "      <th>desc</th>\n",
       "      <th>price</th>\n",
       "      <th>promo_price</th>\n",
       "      <th>in_stock</th>\n",
       "      <th>type</th>\n",
       "    </tr>\n",
       "  </thead>\n",
       "  <tbody>\n",
       "    <tr>\n",
       "      <th>0</th>\n",
       "      <td>RAI0007</td>\n",
       "      <td>Silver Rain Design mStand Support</td>\n",
       "      <td>Aluminum support compatible with all MacBook</td>\n",
       "      <td>59.99</td>\n",
       "      <td>499.899</td>\n",
       "      <td>1</td>\n",
       "      <td>8696</td>\n",
       "    </tr>\n",
       "    <tr>\n",
       "      <th>1</th>\n",
       "      <td>APP0023</td>\n",
       "      <td>Apple Mac Keyboard Keypad Spanish</td>\n",
       "      <td>USB ultrathin keyboard Apple Mac Spanish.</td>\n",
       "      <td>59</td>\n",
       "      <td>589.996</td>\n",
       "      <td>0</td>\n",
       "      <td>13855401</td>\n",
       "    </tr>\n",
       "    <tr>\n",
       "      <th>2</th>\n",
       "      <td>APP0025</td>\n",
       "      <td>Mighty Mouse Apple Mouse for Mac</td>\n",
       "      <td>mouse Apple USB cable.</td>\n",
       "      <td>59</td>\n",
       "      <td>569.898</td>\n",
       "      <td>0</td>\n",
       "      <td>1387</td>\n",
       "    </tr>\n",
       "    <tr>\n",
       "      <th>3</th>\n",
       "      <td>APP0072</td>\n",
       "      <td>Apple Dock to USB Cable iPhone and iPod white</td>\n",
       "      <td>IPhone dock and USB Cable Apple iPod.</td>\n",
       "      <td>25</td>\n",
       "      <td>229.997</td>\n",
       "      <td>0</td>\n",
       "      <td>1230</td>\n",
       "    </tr>\n",
       "    <tr>\n",
       "      <th>4</th>\n",
       "      <td>KIN0007</td>\n",
       "      <td>Mac Memory Kingston 2GB 667MHz DDR2 SO-DIMM</td>\n",
       "      <td>2GB RAM Mac mini and iMac (2006/07) MacBook Pro (2006/07/08).</td>\n",
       "      <td>34.99</td>\n",
       "      <td>31.99</td>\n",
       "      <td>1</td>\n",
       "      <td>1364</td>\n",
       "    </tr>\n",
       "    <tr>\n",
       "      <th>...</th>\n",
       "      <td>...</td>\n",
       "      <td>...</td>\n",
       "      <td>...</td>\n",
       "      <td>...</td>\n",
       "      <td>...</td>\n",
       "      <td>...</td>\n",
       "      <td>...</td>\n",
       "    </tr>\n",
       "    <tr>\n",
       "      <th>19321</th>\n",
       "      <td>BEL0376</td>\n",
       "      <td>Belkin Travel Support Apple Watch Black</td>\n",
       "      <td>compact and portable stand vertically or horizontally for Apple Watch</td>\n",
       "      <td>29.99</td>\n",
       "      <td>269.903</td>\n",
       "      <td>1</td>\n",
       "      <td>12282</td>\n",
       "    </tr>\n",
       "    <tr>\n",
       "      <th>19322</th>\n",
       "      <td>THU0060</td>\n",
       "      <td>Enroute Thule 14L Backpack MacBook 13 \"Black</td>\n",
       "      <td>Backpack with capacity of 14 liter compartments MacBook up to 13 inches up to 10 inches Cases</td>\n",
       "      <td>69.95</td>\n",
       "      <td>649.903</td>\n",
       "      <td>1</td>\n",
       "      <td>1392</td>\n",
       "    </tr>\n",
       "    <tr>\n",
       "      <th>19323</th>\n",
       "      <td>THU0061</td>\n",
       "      <td>Enroute Thule 14L Backpack MacBook 13 \"Blue</td>\n",
       "      <td>Backpack with capacity of 14 liter compartments MacBook up to 13 inches up to 10 inches Cases</td>\n",
       "      <td>69.95</td>\n",
       "      <td>649.903</td>\n",
       "      <td>1</td>\n",
       "      <td>1392</td>\n",
       "    </tr>\n",
       "    <tr>\n",
       "      <th>19324</th>\n",
       "      <td>THU0062</td>\n",
       "      <td>Enroute Thule 14L Backpack MacBook 13 \"Red</td>\n",
       "      <td>Backpack with capacity of 14 liter compartments MacBook up to 13 inches up to 10 inches Cases</td>\n",
       "      <td>69.95</td>\n",
       "      <td>649.903</td>\n",
       "      <td>0</td>\n",
       "      <td>1392</td>\n",
       "    </tr>\n",
       "    <tr>\n",
       "      <th>19325</th>\n",
       "      <td>THU0063</td>\n",
       "      <td>Enroute Thule 14L Backpack MacBook 13 \"Green</td>\n",
       "      <td>Backpack with capacity of 14 liter compartments MacBook up to 13 inches up to 10 inches Cases</td>\n",
       "      <td>69.95</td>\n",
       "      <td>649.903</td>\n",
       "      <td>1</td>\n",
       "      <td>1392</td>\n",
       "    </tr>\n",
       "  </tbody>\n",
       "</table>\n",
       "<p>10580 rows × 7 columns</p>\n",
       "</div>\n",
       "    <div class=\"colab-df-buttons\">\n",
       "\n",
       "  <div class=\"colab-df-container\">\n",
       "    <button class=\"colab-df-convert\" onclick=\"convertToInteractive('df-f64297c5-a50e-4f62-ab17-f17997167256')\"\n",
       "            title=\"Convert this dataframe to an interactive table.\"\n",
       "            style=\"display:none;\">\n",
       "\n",
       "  <svg xmlns=\"http://www.w3.org/2000/svg\" height=\"24px\" viewBox=\"0 -960 960 960\">\n",
       "    <path d=\"M120-120v-720h720v720H120Zm60-500h600v-160H180v160Zm220 220h160v-160H400v160Zm0 220h160v-160H400v160ZM180-400h160v-160H180v160Zm440 0h160v-160H620v160ZM180-180h160v-160H180v160Zm440 0h160v-160H620v160Z\"/>\n",
       "  </svg>\n",
       "    </button>\n",
       "\n",
       "  <style>\n",
       "    .colab-df-container {\n",
       "      display:flex;\n",
       "      gap: 12px;\n",
       "    }\n",
       "\n",
       "    .colab-df-convert {\n",
       "      background-color: #E8F0FE;\n",
       "      border: none;\n",
       "      border-radius: 50%;\n",
       "      cursor: pointer;\n",
       "      display: none;\n",
       "      fill: #1967D2;\n",
       "      height: 32px;\n",
       "      padding: 0 0 0 0;\n",
       "      width: 32px;\n",
       "    }\n",
       "\n",
       "    .colab-df-convert:hover {\n",
       "      background-color: #E2EBFA;\n",
       "      box-shadow: 0px 1px 2px rgba(60, 64, 67, 0.3), 0px 1px 3px 1px rgba(60, 64, 67, 0.15);\n",
       "      fill: #174EA6;\n",
       "    }\n",
       "\n",
       "    .colab-df-buttons div {\n",
       "      margin-bottom: 4px;\n",
       "    }\n",
       "\n",
       "    [theme=dark] .colab-df-convert {\n",
       "      background-color: #3B4455;\n",
       "      fill: #D2E3FC;\n",
       "    }\n",
       "\n",
       "    [theme=dark] .colab-df-convert:hover {\n",
       "      background-color: #434B5C;\n",
       "      box-shadow: 0px 1px 3px 1px rgba(0, 0, 0, 0.15);\n",
       "      filter: drop-shadow(0px 1px 2px rgba(0, 0, 0, 0.3));\n",
       "      fill: #FFFFFF;\n",
       "    }\n",
       "  </style>\n",
       "\n",
       "    <script>\n",
       "      const buttonEl =\n",
       "        document.querySelector('#df-f64297c5-a50e-4f62-ab17-f17997167256 button.colab-df-convert');\n",
       "      buttonEl.style.display =\n",
       "        google.colab.kernel.accessAllowed ? 'block' : 'none';\n",
       "\n",
       "      async function convertToInteractive(key) {\n",
       "        const element = document.querySelector('#df-f64297c5-a50e-4f62-ab17-f17997167256');\n",
       "        const dataTable =\n",
       "          await google.colab.kernel.invokeFunction('convertToInteractive',\n",
       "                                                    [key], {});\n",
       "        if (!dataTable) return;\n",
       "\n",
       "        const docLinkHtml = 'Like what you see? Visit the ' +\n",
       "          '<a target=\"_blank\" href=https://colab.research.google.com/notebooks/data_table.ipynb>data table notebook</a>'\n",
       "          + ' to learn more about interactive tables.';\n",
       "        element.innerHTML = '';\n",
       "        dataTable['output_type'] = 'display_data';\n",
       "        await google.colab.output.renderOutput(dataTable, element);\n",
       "        const docLink = document.createElement('div');\n",
       "        docLink.innerHTML = docLinkHtml;\n",
       "        element.appendChild(docLink);\n",
       "      }\n",
       "    </script>\n",
       "  </div>\n",
       "\n",
       "\n",
       "<div id=\"df-5fbbd36c-6cd6-4f69-af67-1c364830d0da\">\n",
       "  <button class=\"colab-df-quickchart\" onclick=\"quickchart('df-5fbbd36c-6cd6-4f69-af67-1c364830d0da')\"\n",
       "            title=\"Suggest charts\"\n",
       "            style=\"display:none;\">\n",
       "\n",
       "<svg xmlns=\"http://www.w3.org/2000/svg\" height=\"24px\"viewBox=\"0 0 24 24\"\n",
       "     width=\"24px\">\n",
       "    <g>\n",
       "        <path d=\"M19 3H5c-1.1 0-2 .9-2 2v14c0 1.1.9 2 2 2h14c1.1 0 2-.9 2-2V5c0-1.1-.9-2-2-2zM9 17H7v-7h2v7zm4 0h-2V7h2v10zm4 0h-2v-4h2v4z\"/>\n",
       "    </g>\n",
       "</svg>\n",
       "  </button>\n",
       "\n",
       "<style>\n",
       "  .colab-df-quickchart {\n",
       "      --bg-color: #E8F0FE;\n",
       "      --fill-color: #1967D2;\n",
       "      --hover-bg-color: #E2EBFA;\n",
       "      --hover-fill-color: #174EA6;\n",
       "      --disabled-fill-color: #AAA;\n",
       "      --disabled-bg-color: #DDD;\n",
       "  }\n",
       "\n",
       "  [theme=dark] .colab-df-quickchart {\n",
       "      --bg-color: #3B4455;\n",
       "      --fill-color: #D2E3FC;\n",
       "      --hover-bg-color: #434B5C;\n",
       "      --hover-fill-color: #FFFFFF;\n",
       "      --disabled-bg-color: #3B4455;\n",
       "      --disabled-fill-color: #666;\n",
       "  }\n",
       "\n",
       "  .colab-df-quickchart {\n",
       "    background-color: var(--bg-color);\n",
       "    border: none;\n",
       "    border-radius: 50%;\n",
       "    cursor: pointer;\n",
       "    display: none;\n",
       "    fill: var(--fill-color);\n",
       "    height: 32px;\n",
       "    padding: 0;\n",
       "    width: 32px;\n",
       "  }\n",
       "\n",
       "  .colab-df-quickchart:hover {\n",
       "    background-color: var(--hover-bg-color);\n",
       "    box-shadow: 0 1px 2px rgba(60, 64, 67, 0.3), 0 1px 3px 1px rgba(60, 64, 67, 0.15);\n",
       "    fill: var(--button-hover-fill-color);\n",
       "  }\n",
       "\n",
       "  .colab-df-quickchart-complete:disabled,\n",
       "  .colab-df-quickchart-complete:disabled:hover {\n",
       "    background-color: var(--disabled-bg-color);\n",
       "    fill: var(--disabled-fill-color);\n",
       "    box-shadow: none;\n",
       "  }\n",
       "\n",
       "  .colab-df-spinner {\n",
       "    border: 2px solid var(--fill-color);\n",
       "    border-color: transparent;\n",
       "    border-bottom-color: var(--fill-color);\n",
       "    animation:\n",
       "      spin 1s steps(1) infinite;\n",
       "  }\n",
       "\n",
       "  @keyframes spin {\n",
       "    0% {\n",
       "      border-color: transparent;\n",
       "      border-bottom-color: var(--fill-color);\n",
       "      border-left-color: var(--fill-color);\n",
       "    }\n",
       "    20% {\n",
       "      border-color: transparent;\n",
       "      border-left-color: var(--fill-color);\n",
       "      border-top-color: var(--fill-color);\n",
       "    }\n",
       "    30% {\n",
       "      border-color: transparent;\n",
       "      border-left-color: var(--fill-color);\n",
       "      border-top-color: var(--fill-color);\n",
       "      border-right-color: var(--fill-color);\n",
       "    }\n",
       "    40% {\n",
       "      border-color: transparent;\n",
       "      border-right-color: var(--fill-color);\n",
       "      border-top-color: var(--fill-color);\n",
       "    }\n",
       "    60% {\n",
       "      border-color: transparent;\n",
       "      border-right-color: var(--fill-color);\n",
       "    }\n",
       "    80% {\n",
       "      border-color: transparent;\n",
       "      border-right-color: var(--fill-color);\n",
       "      border-bottom-color: var(--fill-color);\n",
       "    }\n",
       "    90% {\n",
       "      border-color: transparent;\n",
       "      border-bottom-color: var(--fill-color);\n",
       "    }\n",
       "  }\n",
       "</style>\n",
       "\n",
       "  <script>\n",
       "    async function quickchart(key) {\n",
       "      const quickchartButtonEl =\n",
       "        document.querySelector('#' + key + ' button');\n",
       "      quickchartButtonEl.disabled = true;  // To prevent multiple clicks.\n",
       "      quickchartButtonEl.classList.add('colab-df-spinner');\n",
       "      try {\n",
       "        const charts = await google.colab.kernel.invokeFunction(\n",
       "            'suggestCharts', [key], {});\n",
       "      } catch (error) {\n",
       "        console.error('Error during call to suggestCharts:', error);\n",
       "      }\n",
       "      quickchartButtonEl.classList.remove('colab-df-spinner');\n",
       "      quickchartButtonEl.classList.add('colab-df-quickchart-complete');\n",
       "    }\n",
       "    (() => {\n",
       "      let quickchartButtonEl =\n",
       "        document.querySelector('#df-5fbbd36c-6cd6-4f69-af67-1c364830d0da button');\n",
       "      quickchartButtonEl.style.display =\n",
       "        google.colab.kernel.accessAllowed ? 'block' : 'none';\n",
       "    })();\n",
       "  </script>\n",
       "</div>\n",
       "    </div>\n",
       "  </div>\n"
      ],
      "text/plain": [
       "           sku                                           name  \\\n",
       "0      RAI0007              Silver Rain Design mStand Support   \n",
       "1      APP0023              Apple Mac Keyboard Keypad Spanish   \n",
       "2      APP0025               Mighty Mouse Apple Mouse for Mac   \n",
       "3      APP0072  Apple Dock to USB Cable iPhone and iPod white   \n",
       "4      KIN0007    Mac Memory Kingston 2GB 667MHz DDR2 SO-DIMM   \n",
       "...        ...                                            ...   \n",
       "19321  BEL0376        Belkin Travel Support Apple Watch Black   \n",
       "19322  THU0060   Enroute Thule 14L Backpack MacBook 13 \"Black   \n",
       "19323  THU0061    Enroute Thule 14L Backpack MacBook 13 \"Blue   \n",
       "19324  THU0062     Enroute Thule 14L Backpack MacBook 13 \"Red   \n",
       "19325  THU0063   Enroute Thule 14L Backpack MacBook 13 \"Green   \n",
       "\n",
       "                                                                                                desc  \\\n",
       "0                                                       Aluminum support compatible with all MacBook   \n",
       "1                                                          USB ultrathin keyboard Apple Mac Spanish.   \n",
       "2                                                                             mouse Apple USB cable.   \n",
       "3                                                              IPhone dock and USB Cable Apple iPod.   \n",
       "4                                      2GB RAM Mac mini and iMac (2006/07) MacBook Pro (2006/07/08).   \n",
       "...                                                                                              ...   \n",
       "19321                          compact and portable stand vertically or horizontally for Apple Watch   \n",
       "19322  Backpack with capacity of 14 liter compartments MacBook up to 13 inches up to 10 inches Cases   \n",
       "19323  Backpack with capacity of 14 liter compartments MacBook up to 13 inches up to 10 inches Cases   \n",
       "19324  Backpack with capacity of 14 liter compartments MacBook up to 13 inches up to 10 inches Cases   \n",
       "19325  Backpack with capacity of 14 liter compartments MacBook up to 13 inches up to 10 inches Cases   \n",
       "\n",
       "       price promo_price  in_stock      type  \n",
       "0      59.99     499.899         1      8696  \n",
       "1         59     589.996         0  13855401  \n",
       "2         59     569.898         0      1387  \n",
       "3         25     229.997         0      1230  \n",
       "4      34.99       31.99         1      1364  \n",
       "...      ...         ...       ...       ...  \n",
       "19321  29.99     269.903         1     12282  \n",
       "19322  69.95     649.903         1      1392  \n",
       "19323  69.95     649.903         1      1392  \n",
       "19324  69.95     649.903         0      1392  \n",
       "19325  69.95     649.903         1      1392  \n",
       "\n",
       "[10580 rows x 7 columns]"
      ]
     },
     "execution_count": 45,
     "metadata": {},
     "output_type": "execute_result"
    }
   ],
   "source": [
    "products_df"
   ]
  },
  {
   "cell_type": "markdown",
   "metadata": {
    "id": "kAgpknOR-zAg"
   },
   "source": [
    "## `.info()`"
   ]
  },
  {
   "cell_type": "code",
   "execution_count": null,
   "metadata": {
    "colab": {
     "base_uri": "https://localhost:8080/"
    },
    "id": "MXZXRvUa_GTW",
    "outputId": "6f708b96-0bf1-4834-b1dc-eb558c279ffb"
   },
   "outputs": [
    {
     "name": "stdout",
     "output_type": "stream",
     "text": [
      "<class 'pandas.core.frame.DataFrame'>\n",
      "Int64Index: 10580 entries, 0 to 19325\n",
      "Data columns (total 7 columns):\n",
      " #   Column       Non-Null Count  Dtype \n",
      "---  ------       --------------  ----- \n",
      " 0   sku          10580 non-null  object\n",
      " 1   name         10580 non-null  object\n",
      " 2   desc         10573 non-null  object\n",
      " 3   price        10534 non-null  object\n",
      " 4   promo_price  10580 non-null  object\n",
      " 5   in_stock     10580 non-null  int64 \n",
      " 6   type         10530 non-null  object\n",
      "dtypes: int64(1), object(6)\n",
      "memory usage: 661.2+ KB\n"
     ]
    }
   ],
   "source": [
    "products_df.info()"
   ]
  },
  {
   "cell_type": "markdown",
   "metadata": {
    "id": "XTGqkqtm--ln"
   },
   "source": [
    "### Missing values\n",
    "We can see from `.info()` above that we have missing values in `desc` and `price`"
   ]
  },
  {
   "cell_type": "markdown",
   "metadata": {
    "id": "LnW3DuWh_ZFr"
   },
   "source": [
    "#### `desc`"
   ]
  },
  {
   "cell_type": "code",
   "execution_count": null,
   "metadata": {
    "colab": {
     "base_uri": "https://localhost:8080/"
    },
    "id": "1cS0Zz9kSNrr",
    "outputId": "138bc128-bac1-412c-8d5f-ea16dd15b9b6"
   },
   "outputs": [
    {
     "data": {
      "text/plain": [
       "7"
      ]
     },
     "execution_count": 47,
     "metadata": {},
     "output_type": "execute_result"
    }
   ],
   "source": [
    "products_df[\"desc\"].isna().sum()"
   ]
  },
  {
   "cell_type": "markdown",
   "metadata": {
    "id": "tiRskHsWlrqC"
   },
   "source": [
    "7 is a very small number to have missing, let's have a closer look"
   ]
  },
  {
   "cell_type": "code",
   "execution_count": null,
   "metadata": {
    "colab": {
     "base_uri": "https://localhost:8080/",
     "height": 269
    },
    "id": "eK9_QN6H-klR",
    "outputId": "49832ab8-bd31-42a9-9fc2-0af05c4fbea6"
   },
   "outputs": [
    {
     "data": {
      "text/html": [
       "\n",
       "  <div id=\"df-150b18e4-793e-4395-acb8-f042da714551\" class=\"colab-df-container\">\n",
       "    <div>\n",
       "<style scoped>\n",
       "    .dataframe tbody tr th:only-of-type {\n",
       "        vertical-align: middle;\n",
       "    }\n",
       "\n",
       "    .dataframe tbody tr th {\n",
       "        vertical-align: top;\n",
       "    }\n",
       "\n",
       "    .dataframe thead th {\n",
       "        text-align: right;\n",
       "    }\n",
       "</style>\n",
       "<table border=\"1\" class=\"dataframe\">\n",
       "  <thead>\n",
       "    <tr style=\"text-align: right;\">\n",
       "      <th></th>\n",
       "      <th>sku</th>\n",
       "      <th>name</th>\n",
       "      <th>desc</th>\n",
       "      <th>price</th>\n",
       "      <th>promo_price</th>\n",
       "      <th>in_stock</th>\n",
       "      <th>type</th>\n",
       "    </tr>\n",
       "  </thead>\n",
       "  <tbody>\n",
       "    <tr>\n",
       "      <th>16126</th>\n",
       "      <td>WDT0211-A</td>\n",
       "      <td>Open - Purple 2TB WD 35 \"PC Security Mac hard drive and NAS</td>\n",
       "      <td>NaN</td>\n",
       "      <td>107</td>\n",
       "      <td>814.659</td>\n",
       "      <td>0</td>\n",
       "      <td>1298</td>\n",
       "    </tr>\n",
       "    <tr>\n",
       "      <th>16128</th>\n",
       "      <td>APP1622-A</td>\n",
       "      <td>Open - Apple Smart Keyboard Pro Keyboard Folio iPad 9.7 \"</td>\n",
       "      <td>NaN</td>\n",
       "      <td>1.568.206</td>\n",
       "      <td>1.568.206</td>\n",
       "      <td>0</td>\n",
       "      <td>1298</td>\n",
       "    </tr>\n",
       "    <tr>\n",
       "      <th>17843</th>\n",
       "      <td>PAC2334</td>\n",
       "      <td>Synology DS718 + NAS Server | 10GB RAM</td>\n",
       "      <td>NaN</td>\n",
       "      <td>566.35</td>\n",
       "      <td>5.659.896</td>\n",
       "      <td>0</td>\n",
       "      <td>12175397</td>\n",
       "    </tr>\n",
       "    <tr>\n",
       "      <th>18152</th>\n",
       "      <td>KAN0034-A</td>\n",
       "      <td>Open - Kanex USB-C Gigabit Ethernet Adapter MacBook 12 \"</td>\n",
       "      <td>NaN</td>\n",
       "      <td>29.99</td>\n",
       "      <td>237.925</td>\n",
       "      <td>0</td>\n",
       "      <td>1298</td>\n",
       "    </tr>\n",
       "    <tr>\n",
       "      <th>18490</th>\n",
       "      <td>HTE0025</td>\n",
       "      <td>Hyper Pearl 1600mAh battery Mini USB Mirror and Comic Blond</td>\n",
       "      <td>NaN</td>\n",
       "      <td>24.99</td>\n",
       "      <td>22.99</td>\n",
       "      <td>1</td>\n",
       "      <td>1515</td>\n",
       "    </tr>\n",
       "    <tr>\n",
       "      <th>18612</th>\n",
       "      <td>OTT0200</td>\n",
       "      <td>OtterBox External Battery Power Pack 20000 mAHr</td>\n",
       "      <td>NaN</td>\n",
       "      <td>79.99</td>\n",
       "      <td>56.99</td>\n",
       "      <td>1</td>\n",
       "      <td>1515</td>\n",
       "    </tr>\n",
       "    <tr>\n",
       "      <th>18690</th>\n",
       "      <td>HOW0001-A</td>\n",
       "      <td>Open - Honeywell thermostat Lyric zonificador T6 Intelligent Wireless (cable)</td>\n",
       "      <td>NaN</td>\n",
       "      <td>199.99</td>\n",
       "      <td>1.441.174</td>\n",
       "      <td>0</td>\n",
       "      <td>11905404</td>\n",
       "    </tr>\n",
       "  </tbody>\n",
       "</table>\n",
       "</div>\n",
       "    <div class=\"colab-df-buttons\">\n",
       "\n",
       "  <div class=\"colab-df-container\">\n",
       "    <button class=\"colab-df-convert\" onclick=\"convertToInteractive('df-150b18e4-793e-4395-acb8-f042da714551')\"\n",
       "            title=\"Convert this dataframe to an interactive table.\"\n",
       "            style=\"display:none;\">\n",
       "\n",
       "  <svg xmlns=\"http://www.w3.org/2000/svg\" height=\"24px\" viewBox=\"0 -960 960 960\">\n",
       "    <path d=\"M120-120v-720h720v720H120Zm60-500h600v-160H180v160Zm220 220h160v-160H400v160Zm0 220h160v-160H400v160ZM180-400h160v-160H180v160Zm440 0h160v-160H620v160ZM180-180h160v-160H180v160Zm440 0h160v-160H620v160Z\"/>\n",
       "  </svg>\n",
       "    </button>\n",
       "\n",
       "  <style>\n",
       "    .colab-df-container {\n",
       "      display:flex;\n",
       "      gap: 12px;\n",
       "    }\n",
       "\n",
       "    .colab-df-convert {\n",
       "      background-color: #E8F0FE;\n",
       "      border: none;\n",
       "      border-radius: 50%;\n",
       "      cursor: pointer;\n",
       "      display: none;\n",
       "      fill: #1967D2;\n",
       "      height: 32px;\n",
       "      padding: 0 0 0 0;\n",
       "      width: 32px;\n",
       "    }\n",
       "\n",
       "    .colab-df-convert:hover {\n",
       "      background-color: #E2EBFA;\n",
       "      box-shadow: 0px 1px 2px rgba(60, 64, 67, 0.3), 0px 1px 3px 1px rgba(60, 64, 67, 0.15);\n",
       "      fill: #174EA6;\n",
       "    }\n",
       "\n",
       "    .colab-df-buttons div {\n",
       "      margin-bottom: 4px;\n",
       "    }\n",
       "\n",
       "    [theme=dark] .colab-df-convert {\n",
       "      background-color: #3B4455;\n",
       "      fill: #D2E3FC;\n",
       "    }\n",
       "\n",
       "    [theme=dark] .colab-df-convert:hover {\n",
       "      background-color: #434B5C;\n",
       "      box-shadow: 0px 1px 3px 1px rgba(0, 0, 0, 0.15);\n",
       "      filter: drop-shadow(0px 1px 2px rgba(0, 0, 0, 0.3));\n",
       "      fill: #FFFFFF;\n",
       "    }\n",
       "  </style>\n",
       "\n",
       "    <script>\n",
       "      const buttonEl =\n",
       "        document.querySelector('#df-150b18e4-793e-4395-acb8-f042da714551 button.colab-df-convert');\n",
       "      buttonEl.style.display =\n",
       "        google.colab.kernel.accessAllowed ? 'block' : 'none';\n",
       "\n",
       "      async function convertToInteractive(key) {\n",
       "        const element = document.querySelector('#df-150b18e4-793e-4395-acb8-f042da714551');\n",
       "        const dataTable =\n",
       "          await google.colab.kernel.invokeFunction('convertToInteractive',\n",
       "                                                    [key], {});\n",
       "        if (!dataTable) return;\n",
       "\n",
       "        const docLinkHtml = 'Like what you see? Visit the ' +\n",
       "          '<a target=\"_blank\" href=https://colab.research.google.com/notebooks/data_table.ipynb>data table notebook</a>'\n",
       "          + ' to learn more about interactive tables.';\n",
       "        element.innerHTML = '';\n",
       "        dataTable['output_type'] = 'display_data';\n",
       "        await google.colab.output.renderOutput(dataTable, element);\n",
       "        const docLink = document.createElement('div');\n",
       "        docLink.innerHTML = docLinkHtml;\n",
       "        element.appendChild(docLink);\n",
       "      }\n",
       "    </script>\n",
       "  </div>\n",
       "\n",
       "\n",
       "<div id=\"df-13c465e3-63a4-4984-80a6-f1d6fdbe715f\">\n",
       "  <button class=\"colab-df-quickchart\" onclick=\"quickchart('df-13c465e3-63a4-4984-80a6-f1d6fdbe715f')\"\n",
       "            title=\"Suggest charts\"\n",
       "            style=\"display:none;\">\n",
       "\n",
       "<svg xmlns=\"http://www.w3.org/2000/svg\" height=\"24px\"viewBox=\"0 0 24 24\"\n",
       "     width=\"24px\">\n",
       "    <g>\n",
       "        <path d=\"M19 3H5c-1.1 0-2 .9-2 2v14c0 1.1.9 2 2 2h14c1.1 0 2-.9 2-2V5c0-1.1-.9-2-2-2zM9 17H7v-7h2v7zm4 0h-2V7h2v10zm4 0h-2v-4h2v4z\"/>\n",
       "    </g>\n",
       "</svg>\n",
       "  </button>\n",
       "\n",
       "<style>\n",
       "  .colab-df-quickchart {\n",
       "      --bg-color: #E8F0FE;\n",
       "      --fill-color: #1967D2;\n",
       "      --hover-bg-color: #E2EBFA;\n",
       "      --hover-fill-color: #174EA6;\n",
       "      --disabled-fill-color: #AAA;\n",
       "      --disabled-bg-color: #DDD;\n",
       "  }\n",
       "\n",
       "  [theme=dark] .colab-df-quickchart {\n",
       "      --bg-color: #3B4455;\n",
       "      --fill-color: #D2E3FC;\n",
       "      --hover-bg-color: #434B5C;\n",
       "      --hover-fill-color: #FFFFFF;\n",
       "      --disabled-bg-color: #3B4455;\n",
       "      --disabled-fill-color: #666;\n",
       "  }\n",
       "\n",
       "  .colab-df-quickchart {\n",
       "    background-color: var(--bg-color);\n",
       "    border: none;\n",
       "    border-radius: 50%;\n",
       "    cursor: pointer;\n",
       "    display: none;\n",
       "    fill: var(--fill-color);\n",
       "    height: 32px;\n",
       "    padding: 0;\n",
       "    width: 32px;\n",
       "  }\n",
       "\n",
       "  .colab-df-quickchart:hover {\n",
       "    background-color: var(--hover-bg-color);\n",
       "    box-shadow: 0 1px 2px rgba(60, 64, 67, 0.3), 0 1px 3px 1px rgba(60, 64, 67, 0.15);\n",
       "    fill: var(--button-hover-fill-color);\n",
       "  }\n",
       "\n",
       "  .colab-df-quickchart-complete:disabled,\n",
       "  .colab-df-quickchart-complete:disabled:hover {\n",
       "    background-color: var(--disabled-bg-color);\n",
       "    fill: var(--disabled-fill-color);\n",
       "    box-shadow: none;\n",
       "  }\n",
       "\n",
       "  .colab-df-spinner {\n",
       "    border: 2px solid var(--fill-color);\n",
       "    border-color: transparent;\n",
       "    border-bottom-color: var(--fill-color);\n",
       "    animation:\n",
       "      spin 1s steps(1) infinite;\n",
       "  }\n",
       "\n",
       "  @keyframes spin {\n",
       "    0% {\n",
       "      border-color: transparent;\n",
       "      border-bottom-color: var(--fill-color);\n",
       "      border-left-color: var(--fill-color);\n",
       "    }\n",
       "    20% {\n",
       "      border-color: transparent;\n",
       "      border-left-color: var(--fill-color);\n",
       "      border-top-color: var(--fill-color);\n",
       "    }\n",
       "    30% {\n",
       "      border-color: transparent;\n",
       "      border-left-color: var(--fill-color);\n",
       "      border-top-color: var(--fill-color);\n",
       "      border-right-color: var(--fill-color);\n",
       "    }\n",
       "    40% {\n",
       "      border-color: transparent;\n",
       "      border-right-color: var(--fill-color);\n",
       "      border-top-color: var(--fill-color);\n",
       "    }\n",
       "    60% {\n",
       "      border-color: transparent;\n",
       "      border-right-color: var(--fill-color);\n",
       "    }\n",
       "    80% {\n",
       "      border-color: transparent;\n",
       "      border-right-color: var(--fill-color);\n",
       "      border-bottom-color: var(--fill-color);\n",
       "    }\n",
       "    90% {\n",
       "      border-color: transparent;\n",
       "      border-bottom-color: var(--fill-color);\n",
       "    }\n",
       "  }\n",
       "</style>\n",
       "\n",
       "  <script>\n",
       "    async function quickchart(key) {\n",
       "      const quickchartButtonEl =\n",
       "        document.querySelector('#' + key + ' button');\n",
       "      quickchartButtonEl.disabled = true;  // To prevent multiple clicks.\n",
       "      quickchartButtonEl.classList.add('colab-df-spinner');\n",
       "      try {\n",
       "        const charts = await google.colab.kernel.invokeFunction(\n",
       "            'suggestCharts', [key], {});\n",
       "      } catch (error) {\n",
       "        console.error('Error during call to suggestCharts:', error);\n",
       "      }\n",
       "      quickchartButtonEl.classList.remove('colab-df-spinner');\n",
       "      quickchartButtonEl.classList.add('colab-df-quickchart-complete');\n",
       "    }\n",
       "    (() => {\n",
       "      let quickchartButtonEl =\n",
       "        document.querySelector('#df-13c465e3-63a4-4984-80a6-f1d6fdbe715f button');\n",
       "      quickchartButtonEl.style.display =\n",
       "        google.colab.kernel.accessAllowed ? 'block' : 'none';\n",
       "    })();\n",
       "  </script>\n",
       "</div>\n",
       "    </div>\n",
       "  </div>\n"
      ],
      "text/plain": [
       "             sku  \\\n",
       "16126  WDT0211-A   \n",
       "16128  APP1622-A   \n",
       "17843    PAC2334   \n",
       "18152  KAN0034-A   \n",
       "18490    HTE0025   \n",
       "18612    OTT0200   \n",
       "18690  HOW0001-A   \n",
       "\n",
       "                                                                                name  \\\n",
       "16126                    Open - Purple 2TB WD 35 \"PC Security Mac hard drive and NAS   \n",
       "16128                      Open - Apple Smart Keyboard Pro Keyboard Folio iPad 9.7 \"   \n",
       "17843                                         Synology DS718 + NAS Server | 10GB RAM   \n",
       "18152                       Open - Kanex USB-C Gigabit Ethernet Adapter MacBook 12 \"   \n",
       "18490                    Hyper Pearl 1600mAh battery Mini USB Mirror and Comic Blond   \n",
       "18612                                OtterBox External Battery Power Pack 20000 mAHr   \n",
       "18690  Open - Honeywell thermostat Lyric zonificador T6 Intelligent Wireless (cable)   \n",
       "\n",
       "      desc      price promo_price  in_stock      type  \n",
       "16126  NaN        107     814.659         0      1298  \n",
       "16128  NaN  1.568.206   1.568.206         0      1298  \n",
       "17843  NaN     566.35   5.659.896         0  12175397  \n",
       "18152  NaN      29.99     237.925         0      1298  \n",
       "18490  NaN      24.99       22.99         1      1515  \n",
       "18612  NaN      79.99       56.99         1      1515  \n",
       "18690  NaN     199.99   1.441.174         0  11905404  "
      ]
     },
     "execution_count": 48,
     "metadata": {},
     "output_type": "execute_result"
    }
   ],
   "source": [
    "products_df.loc[products_df['desc'].isna(), :]"
   ]
  },
  {
   "cell_type": "markdown",
   "metadata": {
    "id": "PlFfSOI5_zTB"
   },
   "source": [
    "We have 2 choices here:\n",
    "* We can quickly and easily remove these rows.\n",
    "* Or, alternatively, the products names here are quite descriptive, so I'm tempted to just copy them to the description column, so that there is a description if we later want utilise this column. I wouldn't recommend this if this DataFrame was the source of truth for our website. But this is not the case here, and we're not faking any information (guessing a price or so), so I'm happy with this option"
   ]
  },
  {
   "cell_type": "code",
   "execution_count": null,
   "metadata": {
    "id": "Tu_ZH5e0PZ4W"
   },
   "outputs": [],
   "source": [
    "products_df.loc[products_df['desc'].isna(), 'desc'] = products_df.loc[products_df['desc'].isna(), 'name']"
   ]
  },
  {
   "cell_type": "code",
   "execution_count": null,
   "metadata": {
    "colab": {
     "base_uri": "https://localhost:8080/",
     "height": 53
    },
    "id": "sGYPGy8xzW0v",
    "outputId": "a99cb834-ccf9-4b83-d1b1-fd9446cdff24"
   },
   "outputs": [
    {
     "data": {
      "text/html": [
       "\n",
       "  <div id=\"df-b26c07c7-cabc-477b-8baf-bde53a6c4492\" class=\"colab-df-container\">\n",
       "    <div>\n",
       "<style scoped>\n",
       "    .dataframe tbody tr th:only-of-type {\n",
       "        vertical-align: middle;\n",
       "    }\n",
       "\n",
       "    .dataframe tbody tr th {\n",
       "        vertical-align: top;\n",
       "    }\n",
       "\n",
       "    .dataframe thead th {\n",
       "        text-align: right;\n",
       "    }\n",
       "</style>\n",
       "<table border=\"1\" class=\"dataframe\">\n",
       "  <thead>\n",
       "    <tr style=\"text-align: right;\">\n",
       "      <th></th>\n",
       "      <th>sku</th>\n",
       "      <th>name</th>\n",
       "      <th>desc</th>\n",
       "      <th>price</th>\n",
       "      <th>promo_price</th>\n",
       "      <th>in_stock</th>\n",
       "      <th>type</th>\n",
       "    </tr>\n",
       "  </thead>\n",
       "  <tbody>\n",
       "  </tbody>\n",
       "</table>\n",
       "</div>\n",
       "    <div class=\"colab-df-buttons\">\n",
       "\n",
       "  <div class=\"colab-df-container\">\n",
       "    <button class=\"colab-df-convert\" onclick=\"convertToInteractive('df-b26c07c7-cabc-477b-8baf-bde53a6c4492')\"\n",
       "            title=\"Convert this dataframe to an interactive table.\"\n",
       "            style=\"display:none;\">\n",
       "\n",
       "  <svg xmlns=\"http://www.w3.org/2000/svg\" height=\"24px\" viewBox=\"0 -960 960 960\">\n",
       "    <path d=\"M120-120v-720h720v720H120Zm60-500h600v-160H180v160Zm220 220h160v-160H400v160Zm0 220h160v-160H400v160ZM180-400h160v-160H180v160Zm440 0h160v-160H620v160ZM180-180h160v-160H180v160Zm440 0h160v-160H620v160Z\"/>\n",
       "  </svg>\n",
       "    </button>\n",
       "\n",
       "  <style>\n",
       "    .colab-df-container {\n",
       "      display:flex;\n",
       "      gap: 12px;\n",
       "    }\n",
       "\n",
       "    .colab-df-convert {\n",
       "      background-color: #E8F0FE;\n",
       "      border: none;\n",
       "      border-radius: 50%;\n",
       "      cursor: pointer;\n",
       "      display: none;\n",
       "      fill: #1967D2;\n",
       "      height: 32px;\n",
       "      padding: 0 0 0 0;\n",
       "      width: 32px;\n",
       "    }\n",
       "\n",
       "    .colab-df-convert:hover {\n",
       "      background-color: #E2EBFA;\n",
       "      box-shadow: 0px 1px 2px rgba(60, 64, 67, 0.3), 0px 1px 3px 1px rgba(60, 64, 67, 0.15);\n",
       "      fill: #174EA6;\n",
       "    }\n",
       "\n",
       "    .colab-df-buttons div {\n",
       "      margin-bottom: 4px;\n",
       "    }\n",
       "\n",
       "    [theme=dark] .colab-df-convert {\n",
       "      background-color: #3B4455;\n",
       "      fill: #D2E3FC;\n",
       "    }\n",
       "\n",
       "    [theme=dark] .colab-df-convert:hover {\n",
       "      background-color: #434B5C;\n",
       "      box-shadow: 0px 1px 3px 1px rgba(0, 0, 0, 0.15);\n",
       "      filter: drop-shadow(0px 1px 2px rgba(0, 0, 0, 0.3));\n",
       "      fill: #FFFFFF;\n",
       "    }\n",
       "  </style>\n",
       "\n",
       "    <script>\n",
       "      const buttonEl =\n",
       "        document.querySelector('#df-b26c07c7-cabc-477b-8baf-bde53a6c4492 button.colab-df-convert');\n",
       "      buttonEl.style.display =\n",
       "        google.colab.kernel.accessAllowed ? 'block' : 'none';\n",
       "\n",
       "      async function convertToInteractive(key) {\n",
       "        const element = document.querySelector('#df-b26c07c7-cabc-477b-8baf-bde53a6c4492');\n",
       "        const dataTable =\n",
       "          await google.colab.kernel.invokeFunction('convertToInteractive',\n",
       "                                                    [key], {});\n",
       "        if (!dataTable) return;\n",
       "\n",
       "        const docLinkHtml = 'Like what you see? Visit the ' +\n",
       "          '<a target=\"_blank\" href=https://colab.research.google.com/notebooks/data_table.ipynb>data table notebook</a>'\n",
       "          + ' to learn more about interactive tables.';\n",
       "        element.innerHTML = '';\n",
       "        dataTable['output_type'] = 'display_data';\n",
       "        await google.colab.output.renderOutput(dataTable, element);\n",
       "        const docLink = document.createElement('div');\n",
       "        docLink.innerHTML = docLinkHtml;\n",
       "        element.appendChild(docLink);\n",
       "      }\n",
       "    </script>\n",
       "  </div>\n",
       "\n",
       "    </div>\n",
       "  </div>\n"
      ],
      "text/plain": [
       "Empty DataFrame\n",
       "Columns: [sku, name, desc, price, promo_price, in_stock, type]\n",
       "Index: []"
      ]
     },
     "execution_count": 50,
     "metadata": {},
     "output_type": "execute_result"
    }
   ],
   "source": [
    "products_df.loc[products_df['desc'].isna(), :]"
   ]
  },
  {
   "cell_type": "markdown",
   "metadata": {
    "id": "yb37eyvIBuep"
   },
   "source": [
    "Did you also notice above that we have the dreaded two decimal point problem in both the `price` and `promo_price` columns? We can also see prices with 3 decimal places, prices should have 2 decimal places: this gives us more cause for concern"
   ]
  },
  {
   "cell_type": "markdown",
   "metadata": {
    "id": "DX9u7jeE_c95"
   },
   "source": [
    "#### `price`"
   ]
  },
  {
   "cell_type": "code",
   "execution_count": null,
   "metadata": {
    "colab": {
     "base_uri": "https://localhost:8080/"
    },
    "id": "AzID-a2TS6y_",
    "outputId": "a2eb1fbf-7a9f-4d38-e229-4e9661748037"
   },
   "outputs": [
    {
     "data": {
      "text/plain": [
       "46"
      ]
     },
     "execution_count": 51,
     "metadata": {},
     "output_type": "execute_result"
    }
   ],
   "source": [
    "products_df.price.isna().sum()"
   ]
  },
  {
   "cell_type": "code",
   "execution_count": null,
   "metadata": {
    "colab": {
     "base_uri": "https://localhost:8080/"
    },
    "id": "LRknumaMk9gn",
    "outputId": "939aea9d-5276-4b91-8a4b-d5b8aea5bf38"
   },
   "outputs": [
    {
     "name": "stdout",
     "output_type": "stream",
     "text": [
      "The missing values in price are 0.43% of all rows in the DataFrame\n"
     ]
    }
   ],
   "source": [
    "print(f\"The missing values in price are {(products_df.price.isna().value_counts(normalize=True)[1] * 100).round(2)}% of all rows in the DataFrame\")"
   ]
  },
  {
   "cell_type": "markdown",
   "metadata": {
    "id": "WVAC9q6Zldyu"
   },
   "source": [
    "Let's simply delete these rows to ensure that we can trust the numbers in our final DataFrame. Afterall, the price is very important when investigating discounts."
   ]
  },
  {
   "cell_type": "markdown",
   "metadata": {
    "id": "W7Bv1QXrTVbR"
   },
   "source": [
    "Option 1: `.loc`"
   ]
  },
  {
   "cell_type": "code",
   "execution_count": null,
   "metadata": {
    "id": "aJIuqC1LQL8u"
   },
   "outputs": [],
   "source": [
    "products_df = products_df.loc[~products['price'].isna()]"
   ]
  },
  {
   "cell_type": "markdown",
   "metadata": {
    "id": "5iShhiyRTcCz"
   },
   "source": [
    "Option 2: `.dropna()`"
   ]
  },
  {
   "cell_type": "code",
   "execution_count": null,
   "metadata": {
    "id": "2_S5lPV3QcnR"
   },
   "outputs": [],
   "source": [
    "# products_df = products_df.dropna(subset=['price'])"
   ]
  },
  {
   "cell_type": "code",
   "execution_count": null,
   "metadata": {
    "colab": {
     "base_uri": "https://localhost:8080/"
    },
    "id": "jSnognbAZvFj",
    "outputId": "e43782d7-8242-4e9c-b22f-c056284a50c5"
   },
   "outputs": [
    {
     "name": "stdout",
     "output_type": "stream",
     "text": [
      "<class 'pandas.core.frame.DataFrame'>\n",
      "Int64Index: 10534 entries, 0 to 19325\n",
      "Data columns (total 7 columns):\n",
      " #   Column       Non-Null Count  Dtype \n",
      "---  ------       --------------  ----- \n",
      " 0   sku          10534 non-null  object\n",
      " 1   name         10534 non-null  object\n",
      " 2   desc         10534 non-null  object\n",
      " 3   price        10534 non-null  object\n",
      " 4   promo_price  10534 non-null  object\n",
      " 5   in_stock     10534 non-null  int64 \n",
      " 6   type         10484 non-null  object\n",
      "dtypes: int64(1), object(6)\n",
      "memory usage: 658.4+ KB\n"
     ]
    }
   ],
   "source": [
    "products_df.info()"
   ]
  },
  {
   "cell_type": "markdown",
   "metadata": {
    "id": "4x6xeGDu_B0N"
   },
   "source": [
    "### Data types\n",
    "\n",
    "We saw from looking at the output of `.info()` that both `price` and `promo_price` have been stored as objects and not as a numerical datatypes. We also saw while solving other problems that both columns have some prices with 3 decimal places and others with 2 decimal points - the latter will prevent us from converting the datatype to numerical, so first we must investigate and solve these problems."
   ]
  },
  {
   "cell_type": "markdown",
   "metadata": {
    "id": "u0CsTv1WnMie"
   },
   "source": [
    "#### `price`"
   ]
  },
  {
   "cell_type": "markdown",
   "metadata": {
    "id": "2mIc7YWdva5I"
   },
   "source": [
    "First, let's see how many values are affected by the 2-decimal-dot problems or 3 decimal places."
   ]
  },
  {
   "cell_type": "code",
   "execution_count": null,
   "metadata": {
    "colab": {
     "base_uri": "https://localhost:8080/"
    },
    "id": "efsJKWYVaLkT",
    "outputId": "00bfac9f-decf-4d3b-c327-b7943774562f"
   },
   "outputs": [
    {
     "data": {
      "text/plain": [
       "542"
      ]
     },
     "execution_count": 65,
     "metadata": {},
     "output_type": "execute_result"
    }
   ],
   "source": [
    "products_df.loc[(products_df.price.str.contains(\"\\d+\\.\\d+\\.\\d+\"))|(products_df.price.str.contains(\"\\d+\\.\\d{3,}\")), :].shape[0]"
   ]
  },
  {
   "cell_type": "code",
   "execution_count": null,
   "metadata": {
    "colab": {
     "base_uri": "https://localhost:8080/"
    },
    "id": "bShFL27Nq3Da",
    "outputId": "ad1637e4-03af-4fbc-be82-a172afff5320"
   },
   "outputs": [
    {
     "data": {
      "text/plain": [
       "542"
      ]
     },
     "execution_count": 67,
     "metadata": {},
     "output_type": "execute_result"
    }
   ],
   "source": [
    "price_problems_number = products_df.loc[(products_df.price.astype(str).str.contains(\"\\d+\\.\\d+\\.\\d+\"))|(products_df.price.astype(str).str.contains(\"\\d+\\.\\d{3,}\")), :].shape[0]\n",
    "price_problems_number"
   ]
  },
  {
   "cell_type": "code",
   "execution_count": null,
   "metadata": {
    "colab": {
     "base_uri": "https://localhost:8080/"
    },
    "id": "R-HG2ur6eOiP",
    "outputId": "43835400-ae25-447f-fadb-415620653426"
   },
   "outputs": [
    {
     "name": "stdout",
     "output_type": "stream",
     "text": [
      "The column price has in total 542 wrong values. This is 5.15% of the rows of the DataFrame\n"
     ]
    }
   ],
   "source": [
    "print(f\"The column price has in total {price_problems_number} wrong values. This is {round(((price_problems_number / products_df.shape[0]) * 100), 2)}% of the rows of the DataFrame\")"
   ]
  },
  {
   "cell_type": "markdown",
   "metadata": {
    "id": "p9QV50j3orpP"
   },
   "source": [
    "5.15% is a reasonable amount of our data. However, the price column will be important to understanding discounts, so I'd like it to be very trustworthy as we are basing business decisions on it. Therefore, we'll delete these rows"
   ]
  },
  {
   "cell_type": "code",
   "execution_count": null,
   "metadata": {
    "id": "3xkK12Mspand"
   },
   "outputs": [],
   "source": [
    "products_df = products_df.loc[(~products_df.price.astype(str).str.contains(\"\\d+\\.\\d+\\.\\d+\"))&(~products_df.price.astype(str).str.contains(\"\\d+\\.\\d{3,}\")), :]"
   ]
  },
  {
   "cell_type": "code",
   "execution_count": null,
   "metadata": {
    "colab": {
     "base_uri": "https://localhost:8080/",
     "height": 597
    },
    "id": "h8R_vq6-VZ1X",
    "outputId": "3e7db646-0b4d-45e6-c162-a3757190b7fd"
   },
   "outputs": [
    {
     "data": {
      "text/html": [
       "\n",
       "  <div id=\"df-14de802c-f672-4741-85c7-01045109a0de\" class=\"colab-df-container\">\n",
       "    <div>\n",
       "<style scoped>\n",
       "    .dataframe tbody tr th:only-of-type {\n",
       "        vertical-align: middle;\n",
       "    }\n",
       "\n",
       "    .dataframe tbody tr th {\n",
       "        vertical-align: top;\n",
       "    }\n",
       "\n",
       "    .dataframe thead th {\n",
       "        text-align: right;\n",
       "    }\n",
       "</style>\n",
       "<table border=\"1\" class=\"dataframe\">\n",
       "  <thead>\n",
       "    <tr style=\"text-align: right;\">\n",
       "      <th></th>\n",
       "      <th>sku</th>\n",
       "      <th>name</th>\n",
       "      <th>desc</th>\n",
       "      <th>price</th>\n",
       "      <th>promo_price</th>\n",
       "      <th>in_stock</th>\n",
       "      <th>type</th>\n",
       "    </tr>\n",
       "  </thead>\n",
       "  <tbody>\n",
       "    <tr>\n",
       "      <th>0</th>\n",
       "      <td>RAI0007</td>\n",
       "      <td>Silver Rain Design mStand Support</td>\n",
       "      <td>Aluminum support compatible with all MacBook</td>\n",
       "      <td>59.99</td>\n",
       "      <td>499.899</td>\n",
       "      <td>1</td>\n",
       "      <td>8696</td>\n",
       "    </tr>\n",
       "    <tr>\n",
       "      <th>1</th>\n",
       "      <td>APP0023</td>\n",
       "      <td>Apple Mac Keyboard Keypad Spanish</td>\n",
       "      <td>USB ultrathin keyboard Apple Mac Spanish.</td>\n",
       "      <td>59</td>\n",
       "      <td>589.996</td>\n",
       "      <td>0</td>\n",
       "      <td>13855401</td>\n",
       "    </tr>\n",
       "    <tr>\n",
       "      <th>2</th>\n",
       "      <td>APP0025</td>\n",
       "      <td>Mighty Mouse Apple Mouse for Mac</td>\n",
       "      <td>mouse Apple USB cable.</td>\n",
       "      <td>59</td>\n",
       "      <td>569.898</td>\n",
       "      <td>0</td>\n",
       "      <td>1387</td>\n",
       "    </tr>\n",
       "    <tr>\n",
       "      <th>3</th>\n",
       "      <td>APP0072</td>\n",
       "      <td>Apple Dock to USB Cable iPhone and iPod white</td>\n",
       "      <td>IPhone dock and USB Cable Apple iPod.</td>\n",
       "      <td>25</td>\n",
       "      <td>229.997</td>\n",
       "      <td>0</td>\n",
       "      <td>1230</td>\n",
       "    </tr>\n",
       "    <tr>\n",
       "      <th>4</th>\n",
       "      <td>KIN0007</td>\n",
       "      <td>Mac Memory Kingston 2GB 667MHz DDR2 SO-DIMM</td>\n",
       "      <td>2GB RAM Mac mini and iMac (2006/07) MacBook Pro (2006/07/08).</td>\n",
       "      <td>34.99</td>\n",
       "      <td>31.99</td>\n",
       "      <td>1</td>\n",
       "      <td>1364</td>\n",
       "    </tr>\n",
       "    <tr>\n",
       "      <th>...</th>\n",
       "      <td>...</td>\n",
       "      <td>...</td>\n",
       "      <td>...</td>\n",
       "      <td>...</td>\n",
       "      <td>...</td>\n",
       "      <td>...</td>\n",
       "      <td>...</td>\n",
       "    </tr>\n",
       "    <tr>\n",
       "      <th>19321</th>\n",
       "      <td>BEL0376</td>\n",
       "      <td>Belkin Travel Support Apple Watch Black</td>\n",
       "      <td>compact and portable stand vertically or horizontally for Apple Watch</td>\n",
       "      <td>29.99</td>\n",
       "      <td>269.903</td>\n",
       "      <td>1</td>\n",
       "      <td>12282</td>\n",
       "    </tr>\n",
       "    <tr>\n",
       "      <th>19322</th>\n",
       "      <td>THU0060</td>\n",
       "      <td>Enroute Thule 14L Backpack MacBook 13 \"Black</td>\n",
       "      <td>Backpack with capacity of 14 liter compartments MacBook up to 13 inches up to 10 inches Cases</td>\n",
       "      <td>69.95</td>\n",
       "      <td>649.903</td>\n",
       "      <td>1</td>\n",
       "      <td>1392</td>\n",
       "    </tr>\n",
       "    <tr>\n",
       "      <th>19323</th>\n",
       "      <td>THU0061</td>\n",
       "      <td>Enroute Thule 14L Backpack MacBook 13 \"Blue</td>\n",
       "      <td>Backpack with capacity of 14 liter compartments MacBook up to 13 inches up to 10 inches Cases</td>\n",
       "      <td>69.95</td>\n",
       "      <td>649.903</td>\n",
       "      <td>1</td>\n",
       "      <td>1392</td>\n",
       "    </tr>\n",
       "    <tr>\n",
       "      <th>19324</th>\n",
       "      <td>THU0062</td>\n",
       "      <td>Enroute Thule 14L Backpack MacBook 13 \"Red</td>\n",
       "      <td>Backpack with capacity of 14 liter compartments MacBook up to 13 inches up to 10 inches Cases</td>\n",
       "      <td>69.95</td>\n",
       "      <td>649.903</td>\n",
       "      <td>0</td>\n",
       "      <td>1392</td>\n",
       "    </tr>\n",
       "    <tr>\n",
       "      <th>19325</th>\n",
       "      <td>THU0063</td>\n",
       "      <td>Enroute Thule 14L Backpack MacBook 13 \"Green</td>\n",
       "      <td>Backpack with capacity of 14 liter compartments MacBook up to 13 inches up to 10 inches Cases</td>\n",
       "      <td>69.95</td>\n",
       "      <td>649.903</td>\n",
       "      <td>1</td>\n",
       "      <td>1392</td>\n",
       "    </tr>\n",
       "  </tbody>\n",
       "</table>\n",
       "<p>9992 rows × 7 columns</p>\n",
       "</div>\n",
       "    <div class=\"colab-df-buttons\">\n",
       "\n",
       "  <div class=\"colab-df-container\">\n",
       "    <button class=\"colab-df-convert\" onclick=\"convertToInteractive('df-14de802c-f672-4741-85c7-01045109a0de')\"\n",
       "            title=\"Convert this dataframe to an interactive table.\"\n",
       "            style=\"display:none;\">\n",
       "\n",
       "  <svg xmlns=\"http://www.w3.org/2000/svg\" height=\"24px\" viewBox=\"0 -960 960 960\">\n",
       "    <path d=\"M120-120v-720h720v720H120Zm60-500h600v-160H180v160Zm220 220h160v-160H400v160Zm0 220h160v-160H400v160ZM180-400h160v-160H180v160Zm440 0h160v-160H620v160ZM180-180h160v-160H180v160Zm440 0h160v-160H620v160Z\"/>\n",
       "  </svg>\n",
       "    </button>\n",
       "\n",
       "  <style>\n",
       "    .colab-df-container {\n",
       "      display:flex;\n",
       "      gap: 12px;\n",
       "    }\n",
       "\n",
       "    .colab-df-convert {\n",
       "      background-color: #E8F0FE;\n",
       "      border: none;\n",
       "      border-radius: 50%;\n",
       "      cursor: pointer;\n",
       "      display: none;\n",
       "      fill: #1967D2;\n",
       "      height: 32px;\n",
       "      padding: 0 0 0 0;\n",
       "      width: 32px;\n",
       "    }\n",
       "\n",
       "    .colab-df-convert:hover {\n",
       "      background-color: #E2EBFA;\n",
       "      box-shadow: 0px 1px 2px rgba(60, 64, 67, 0.3), 0px 1px 3px 1px rgba(60, 64, 67, 0.15);\n",
       "      fill: #174EA6;\n",
       "    }\n",
       "\n",
       "    .colab-df-buttons div {\n",
       "      margin-bottom: 4px;\n",
       "    }\n",
       "\n",
       "    [theme=dark] .colab-df-convert {\n",
       "      background-color: #3B4455;\n",
       "      fill: #D2E3FC;\n",
       "    }\n",
       "\n",
       "    [theme=dark] .colab-df-convert:hover {\n",
       "      background-color: #434B5C;\n",
       "      box-shadow: 0px 1px 3px 1px rgba(0, 0, 0, 0.15);\n",
       "      filter: drop-shadow(0px 1px 2px rgba(0, 0, 0, 0.3));\n",
       "      fill: #FFFFFF;\n",
       "    }\n",
       "  </style>\n",
       "\n",
       "    <script>\n",
       "      const buttonEl =\n",
       "        document.querySelector('#df-14de802c-f672-4741-85c7-01045109a0de button.colab-df-convert');\n",
       "      buttonEl.style.display =\n",
       "        google.colab.kernel.accessAllowed ? 'block' : 'none';\n",
       "\n",
       "      async function convertToInteractive(key) {\n",
       "        const element = document.querySelector('#df-14de802c-f672-4741-85c7-01045109a0de');\n",
       "        const dataTable =\n",
       "          await google.colab.kernel.invokeFunction('convertToInteractive',\n",
       "                                                    [key], {});\n",
       "        if (!dataTable) return;\n",
       "\n",
       "        const docLinkHtml = 'Like what you see? Visit the ' +\n",
       "          '<a target=\"_blank\" href=https://colab.research.google.com/notebooks/data_table.ipynb>data table notebook</a>'\n",
       "          + ' to learn more about interactive tables.';\n",
       "        element.innerHTML = '';\n",
       "        dataTable['output_type'] = 'display_data';\n",
       "        await google.colab.output.renderOutput(dataTable, element);\n",
       "        const docLink = document.createElement('div');\n",
       "        docLink.innerHTML = docLinkHtml;\n",
       "        element.appendChild(docLink);\n",
       "      }\n",
       "    </script>\n",
       "  </div>\n",
       "\n",
       "\n",
       "<div id=\"df-948842ea-7b28-4bd6-8e96-74fa00078a71\">\n",
       "  <button class=\"colab-df-quickchart\" onclick=\"quickchart('df-948842ea-7b28-4bd6-8e96-74fa00078a71')\"\n",
       "            title=\"Suggest charts\"\n",
       "            style=\"display:none;\">\n",
       "\n",
       "<svg xmlns=\"http://www.w3.org/2000/svg\" height=\"24px\"viewBox=\"0 0 24 24\"\n",
       "     width=\"24px\">\n",
       "    <g>\n",
       "        <path d=\"M19 3H5c-1.1 0-2 .9-2 2v14c0 1.1.9 2 2 2h14c1.1 0 2-.9 2-2V5c0-1.1-.9-2-2-2zM9 17H7v-7h2v7zm4 0h-2V7h2v10zm4 0h-2v-4h2v4z\"/>\n",
       "    </g>\n",
       "</svg>\n",
       "  </button>\n",
       "\n",
       "<style>\n",
       "  .colab-df-quickchart {\n",
       "      --bg-color: #E8F0FE;\n",
       "      --fill-color: #1967D2;\n",
       "      --hover-bg-color: #E2EBFA;\n",
       "      --hover-fill-color: #174EA6;\n",
       "      --disabled-fill-color: #AAA;\n",
       "      --disabled-bg-color: #DDD;\n",
       "  }\n",
       "\n",
       "  [theme=dark] .colab-df-quickchart {\n",
       "      --bg-color: #3B4455;\n",
       "      --fill-color: #D2E3FC;\n",
       "      --hover-bg-color: #434B5C;\n",
       "      --hover-fill-color: #FFFFFF;\n",
       "      --disabled-bg-color: #3B4455;\n",
       "      --disabled-fill-color: #666;\n",
       "  }\n",
       "\n",
       "  .colab-df-quickchart {\n",
       "    background-color: var(--bg-color);\n",
       "    border: none;\n",
       "    border-radius: 50%;\n",
       "    cursor: pointer;\n",
       "    display: none;\n",
       "    fill: var(--fill-color);\n",
       "    height: 32px;\n",
       "    padding: 0;\n",
       "    width: 32px;\n",
       "  }\n",
       "\n",
       "  .colab-df-quickchart:hover {\n",
       "    background-color: var(--hover-bg-color);\n",
       "    box-shadow: 0 1px 2px rgba(60, 64, 67, 0.3), 0 1px 3px 1px rgba(60, 64, 67, 0.15);\n",
       "    fill: var(--button-hover-fill-color);\n",
       "  }\n",
       "\n",
       "  .colab-df-quickchart-complete:disabled,\n",
       "  .colab-df-quickchart-complete:disabled:hover {\n",
       "    background-color: var(--disabled-bg-color);\n",
       "    fill: var(--disabled-fill-color);\n",
       "    box-shadow: none;\n",
       "  }\n",
       "\n",
       "  .colab-df-spinner {\n",
       "    border: 2px solid var(--fill-color);\n",
       "    border-color: transparent;\n",
       "    border-bottom-color: var(--fill-color);\n",
       "    animation:\n",
       "      spin 1s steps(1) infinite;\n",
       "  }\n",
       "\n",
       "  @keyframes spin {\n",
       "    0% {\n",
       "      border-color: transparent;\n",
       "      border-bottom-color: var(--fill-color);\n",
       "      border-left-color: var(--fill-color);\n",
       "    }\n",
       "    20% {\n",
       "      border-color: transparent;\n",
       "      border-left-color: var(--fill-color);\n",
       "      border-top-color: var(--fill-color);\n",
       "    }\n",
       "    30% {\n",
       "      border-color: transparent;\n",
       "      border-left-color: var(--fill-color);\n",
       "      border-top-color: var(--fill-color);\n",
       "      border-right-color: var(--fill-color);\n",
       "    }\n",
       "    40% {\n",
       "      border-color: transparent;\n",
       "      border-right-color: var(--fill-color);\n",
       "      border-top-color: var(--fill-color);\n",
       "    }\n",
       "    60% {\n",
       "      border-color: transparent;\n",
       "      border-right-color: var(--fill-color);\n",
       "    }\n",
       "    80% {\n",
       "      border-color: transparent;\n",
       "      border-right-color: var(--fill-color);\n",
       "      border-bottom-color: var(--fill-color);\n",
       "    }\n",
       "    90% {\n",
       "      border-color: transparent;\n",
       "      border-bottom-color: var(--fill-color);\n",
       "    }\n",
       "  }\n",
       "</style>\n",
       "\n",
       "  <script>\n",
       "    async function quickchart(key) {\n",
       "      const quickchartButtonEl =\n",
       "        document.querySelector('#' + key + ' button');\n",
       "      quickchartButtonEl.disabled = true;  // To prevent multiple clicks.\n",
       "      quickchartButtonEl.classList.add('colab-df-spinner');\n",
       "      try {\n",
       "        const charts = await google.colab.kernel.invokeFunction(\n",
       "            'suggestCharts', [key], {});\n",
       "      } catch (error) {\n",
       "        console.error('Error during call to suggestCharts:', error);\n",
       "      }\n",
       "      quickchartButtonEl.classList.remove('colab-df-spinner');\n",
       "      quickchartButtonEl.classList.add('colab-df-quickchart-complete');\n",
       "    }\n",
       "    (() => {\n",
       "      let quickchartButtonEl =\n",
       "        document.querySelector('#df-948842ea-7b28-4bd6-8e96-74fa00078a71 button');\n",
       "      quickchartButtonEl.style.display =\n",
       "        google.colab.kernel.accessAllowed ? 'block' : 'none';\n",
       "    })();\n",
       "  </script>\n",
       "</div>\n",
       "    </div>\n",
       "  </div>\n"
      ],
      "text/plain": [
       "           sku                                           name  \\\n",
       "0      RAI0007              Silver Rain Design mStand Support   \n",
       "1      APP0023              Apple Mac Keyboard Keypad Spanish   \n",
       "2      APP0025               Mighty Mouse Apple Mouse for Mac   \n",
       "3      APP0072  Apple Dock to USB Cable iPhone and iPod white   \n",
       "4      KIN0007    Mac Memory Kingston 2GB 667MHz DDR2 SO-DIMM   \n",
       "...        ...                                            ...   \n",
       "19321  BEL0376        Belkin Travel Support Apple Watch Black   \n",
       "19322  THU0060   Enroute Thule 14L Backpack MacBook 13 \"Black   \n",
       "19323  THU0061    Enroute Thule 14L Backpack MacBook 13 \"Blue   \n",
       "19324  THU0062     Enroute Thule 14L Backpack MacBook 13 \"Red   \n",
       "19325  THU0063   Enroute Thule 14L Backpack MacBook 13 \"Green   \n",
       "\n",
       "                                                                                                desc  \\\n",
       "0                                                       Aluminum support compatible with all MacBook   \n",
       "1                                                          USB ultrathin keyboard Apple Mac Spanish.   \n",
       "2                                                                             mouse Apple USB cable.   \n",
       "3                                                              IPhone dock and USB Cable Apple iPod.   \n",
       "4                                      2GB RAM Mac mini and iMac (2006/07) MacBook Pro (2006/07/08).   \n",
       "...                                                                                              ...   \n",
       "19321                          compact and portable stand vertically or horizontally for Apple Watch   \n",
       "19322  Backpack with capacity of 14 liter compartments MacBook up to 13 inches up to 10 inches Cases   \n",
       "19323  Backpack with capacity of 14 liter compartments MacBook up to 13 inches up to 10 inches Cases   \n",
       "19324  Backpack with capacity of 14 liter compartments MacBook up to 13 inches up to 10 inches Cases   \n",
       "19325  Backpack with capacity of 14 liter compartments MacBook up to 13 inches up to 10 inches Cases   \n",
       "\n",
       "       price promo_price  in_stock      type  \n",
       "0      59.99     499.899         1      8696  \n",
       "1         59     589.996         0  13855401  \n",
       "2         59     569.898         0      1387  \n",
       "3         25     229.997         0      1230  \n",
       "4      34.99       31.99         1      1364  \n",
       "...      ...         ...       ...       ...  \n",
       "19321  29.99     269.903         1     12282  \n",
       "19322  69.95     649.903         1      1392  \n",
       "19323  69.95     649.903         1      1392  \n",
       "19324  69.95     649.903         0      1392  \n",
       "19325  69.95     649.903         1      1392  \n",
       "\n",
       "[9992 rows x 7 columns]"
      ]
     },
     "execution_count": 69,
     "metadata": {},
     "output_type": "execute_result"
    }
   ],
   "source": [
    "products_df"
   ]
  },
  {
   "cell_type": "markdown",
   "metadata": {
    "id": "Y_3K0v8wvMP1"
   },
   "source": [
    "To complete our task, let's convert the column to a numeric datatype"
   ]
  },
  {
   "cell_type": "code",
   "execution_count": null,
   "metadata": {
    "id": "3evkDaafvFUq"
   },
   "outputs": [],
   "source": [
    "products_df[\"price\"] = pd.to_numeric(products_df[\"price\"])"
   ]
  },
  {
   "cell_type": "code",
   "execution_count": null,
   "metadata": {
    "colab": {
     "base_uri": "https://localhost:8080/"
    },
    "id": "h2BjVDJ31yiB",
    "outputId": "95bada04-89d6-4aa8-9453-cfac8ac21870"
   },
   "outputs": [
    {
     "name": "stdout",
     "output_type": "stream",
     "text": [
      "<class 'pandas.core.frame.DataFrame'>\n",
      "Int64Index: 9992 entries, 0 to 19325\n",
      "Data columns (total 7 columns):\n",
      " #   Column       Non-Null Count  Dtype  \n",
      "---  ------       --------------  -----  \n",
      " 0   sku          9992 non-null   object \n",
      " 1   name         9992 non-null   object \n",
      " 2   desc         9992 non-null   object \n",
      " 3   price        9992 non-null   float64\n",
      " 4   promo_price  9992 non-null   object \n",
      " 5   in_stock     9992 non-null   int64  \n",
      " 6   type         9946 non-null   object \n",
      "dtypes: float64(1), int64(1), object(5)\n",
      "memory usage: 624.5+ KB\n"
     ]
    }
   ],
   "source": [
    "products_df.info()"
   ]
  },
  {
   "cell_type": "code",
   "execution_count": null,
   "metadata": {
    "colab": {
     "base_uri": "https://localhost:8080/"
    },
    "id": "gzp9PJnZdSr0",
    "outputId": "aac30445-f47a-4085-de52-3944d4e0526c"
   },
   "outputs": [
    {
     "data": {
      "text/plain": [
       "667.3462680144115"
      ]
     },
     "execution_count": 73,
     "metadata": {},
     "output_type": "execute_result"
    }
   ],
   "source": [
    "products_df[\"price\"].mean()"
   ]
  },
  {
   "cell_type": "markdown",
   "metadata": {
    "id": "9GcbI2upeG3M"
   },
   "source": [
    "#### `promo_price`"
   ]
  },
  {
   "cell_type": "markdown",
   "metadata": {
    "id": "NQq3M2zGvzS5"
   },
   "source": [
    "Again, let's begin by seeing how many values are affected by the 2-decimal-dots problem, or the 3 decimal-places problem"
   ]
  },
  {
   "cell_type": "code",
   "execution_count": null,
   "metadata": {
    "colab": {
     "base_uri": "https://localhost:8080/"
    },
    "id": "vI4ueHibtK1P",
    "outputId": "eb0b19ea-4773-4cff-ea62-1b2268d92008"
   },
   "outputs": [
    {
     "data": {
      "text/plain": [
       "9232"
      ]
     },
     "execution_count": 74,
     "metadata": {},
     "output_type": "execute_result"
    }
   ],
   "source": [
    "promo_problems_number = products_df.loc[(products_df.promo_price.astype(str).str.contains(\"\\d+\\.\\d+\\.\\d+\"))|(products_df.promo_price.astype(str).str.contains(\"\\d+\\.\\d{3,}\")), :].shape[0]\n",
    "promo_problems_number"
   ]
  },
  {
   "cell_type": "code",
   "execution_count": null,
   "metadata": {
    "colab": {
     "base_uri": "https://localhost:8080/"
    },
    "id": "Jxpd8nVptKxs",
    "outputId": "0a3c64e4-c7f8-4022-b8d4-f97c34efcce0"
   },
   "outputs": [
    {
     "name": "stdout",
     "output_type": "stream",
     "text": [
      "The column promo_price has in total 9232 wrong values. This is 92.39% of the rows of the DataFrame\n"
     ]
    }
   ],
   "source": [
    "print(f\"The column promo_price has in total {promo_problems_number} wrong values. This is {round(((promo_problems_number / products_df.shape[0]) * 100), 2)}% of the rows of the DataFrame\")"
   ]
  },
  {
   "cell_type": "markdown",
   "metadata": {
    "id": "dnEM5lBruU0U"
   },
   "source": [
    "WOW!!! That's a lot of wrong data. Let's have a quick investigate to check that's correct. We'll make a DataFrame by copy-pasting the code we used above and then look at a large sample to check that all the numbers in the `promo_price` column really have either 2 decimal points or 3 decimal places."
   ]
  },
  {
   "cell_type": "code",
   "execution_count": null,
   "metadata": {
    "colab": {
     "base_uri": "https://localhost:8080/",
     "height": 1000
    },
    "id": "6S88DpsRtaM0",
    "outputId": "134130be-ab8d-4ac3-fd76-f64a51179d95"
   },
   "outputs": [
    {
     "data": {
      "text/html": [
       "\n",
       "  <div id=\"df-73d4dcc2-dfcb-4758-a5c1-15bbcf90f397\" class=\"colab-df-container\">\n",
       "    <div>\n",
       "<style scoped>\n",
       "    .dataframe tbody tr th:only-of-type {\n",
       "        vertical-align: middle;\n",
       "    }\n",
       "\n",
       "    .dataframe tbody tr th {\n",
       "        vertical-align: top;\n",
       "    }\n",
       "\n",
       "    .dataframe thead th {\n",
       "        text-align: right;\n",
       "    }\n",
       "</style>\n",
       "<table border=\"1\" class=\"dataframe\">\n",
       "  <thead>\n",
       "    <tr style=\"text-align: right;\">\n",
       "      <th></th>\n",
       "      <th>sku</th>\n",
       "      <th>name</th>\n",
       "      <th>desc</th>\n",
       "      <th>price</th>\n",
       "      <th>promo_price</th>\n",
       "      <th>in_stock</th>\n",
       "      <th>type</th>\n",
       "    </tr>\n",
       "  </thead>\n",
       "  <tbody>\n",
       "    <tr>\n",
       "      <th>18611</th>\n",
       "      <td>OTT0199</td>\n",
       "      <td>OtterBox External Battery Power Pack 10000 mAHr</td>\n",
       "      <td>10000 mAh External Battery with LED indicators for iPhone iPad and iPod</td>\n",
       "      <td>49.99</td>\n",
       "      <td>399.905</td>\n",
       "      <td>1</td>\n",
       "      <td>1515</td>\n",
       "    </tr>\n",
       "    <tr>\n",
       "      <th>17344</th>\n",
       "      <td>TUC0306-A</td>\n",
       "      <td>Open - Tucano Nido Hard-Shell Case MacBook Pro 15 \"(late 2016) Transparent</td>\n",
       "      <td>Protective cover with slip rubber feet for Macbooks 15 inches (late 2016)</td>\n",
       "      <td>34.90</td>\n",
       "      <td>263.913</td>\n",
       "      <td>0</td>\n",
       "      <td>1298</td>\n",
       "    </tr>\n",
       "    <tr>\n",
       "      <th>16872</th>\n",
       "      <td>APP2247</td>\n",
       "      <td>Apple Mac Pro 12-core 27GHz | 16GB RAM | 256GB PCIe SSD</td>\n",
       "      <td>Apple Mac Pro 12-Core 27GHz 16GB RAM 256GB Flash PCIe</td>\n",
       "      <td>6089.00</td>\n",
       "      <td>56.630.045</td>\n",
       "      <td>0</td>\n",
       "      <td>21632158</td>\n",
       "    </tr>\n",
       "    <tr>\n",
       "      <th>19</th>\n",
       "      <td>APP0234</td>\n",
       "      <td>Apple Dock Connector to VGA</td>\n",
       "      <td>Dock Connector to VGA IOS.</td>\n",
       "      <td>35.00</td>\n",
       "      <td>350.005</td>\n",
       "      <td>0</td>\n",
       "      <td>13955395</td>\n",
       "    </tr>\n",
       "    <tr>\n",
       "      <th>17096</th>\n",
       "      <td>ICA0084</td>\n",
       "      <td>Incase Nylon Nato Strap Black 38mm Apple Watch</td>\n",
       "      <td>Nylon strap with adjustable finish anodized aluminum pin Apple Watch 38 mm</td>\n",
       "      <td>39.95</td>\n",
       "      <td>309.893</td>\n",
       "      <td>1</td>\n",
       "      <td>2449</td>\n",
       "    </tr>\n",
       "    <tr>\n",
       "      <th>1350</th>\n",
       "      <td>PUR0133</td>\n",
       "      <td>Puro Zeta Slim cover with support iPad Air 2 Gold</td>\n",
       "      <td>Smart Case with Stand for iPad Air 2.</td>\n",
       "      <td>34.99</td>\n",
       "      <td>299.003</td>\n",
       "      <td>0</td>\n",
       "      <td>12635403</td>\n",
       "    </tr>\n",
       "    <tr>\n",
       "      <th>19191</th>\n",
       "      <td>RIN0016</td>\n",
       "      <td>Video surveillance camera Floodlight Ring with White Spotlights</td>\n",
       "      <td>Surveillance camera with face detection alarm bidirectional communication with Wi-Fi for iPhone and iPad</td>\n",
       "      <td>299.00</td>\n",
       "      <td>2.989.995</td>\n",
       "      <td>0</td>\n",
       "      <td>9094</td>\n",
       "    </tr>\n",
       "    <tr>\n",
       "      <th>11124</th>\n",
       "      <td>SNA0060</td>\n",
       "      <td>Sena Magnetic Holster Case iPhone 6 / 6S Black</td>\n",
       "      <td>Cover book format with magnetic closure for iPhone 6 / 6S.</td>\n",
       "      <td>49.95</td>\n",
       "      <td>468.996</td>\n",
       "      <td>0</td>\n",
       "      <td>11865403</td>\n",
       "    </tr>\n",
       "    <tr>\n",
       "      <th>17821</th>\n",
       "      <td>PAC2220</td>\n",
       "      <td>Synology DS718 + NAS Server | 16GB RAM | 16TB (2x8TB) WD Red</td>\n",
       "      <td>Scalable NAS server with transcoding 4K: 4-core 2.3 GHz 226MB / s read and 184 MB / s write</td>\n",
       "      <td>1360.71</td>\n",
       "      <td>11.311.794</td>\n",
       "      <td>0</td>\n",
       "      <td>12175397</td>\n",
       "    </tr>\n",
       "    <tr>\n",
       "      <th>12250</th>\n",
       "      <td>IFX0045</td>\n",
       "      <td>iFixit 64 Bit Driver Kit 64 parts Screwdriver</td>\n",
       "      <td>64-piece kit for any repair iPhone iPad Mac and PC</td>\n",
       "      <td>32.99</td>\n",
       "      <td>329.894</td>\n",
       "      <td>1</td>\n",
       "      <td>21485407</td>\n",
       "    </tr>\n",
       "    <tr>\n",
       "      <th>404</th>\n",
       "      <td>DLK0019</td>\n",
       "      <td>D-Link DES-1008D Switch 8 10 / 100Mbps unmanaged</td>\n",
       "      <td>Dlink Switch 8 Mac and PC ports.</td>\n",
       "      <td>15.99</td>\n",
       "      <td>119.899</td>\n",
       "      <td>0</td>\n",
       "      <td>1334</td>\n",
       "    </tr>\n",
       "    <tr>\n",
       "      <th>2447</th>\n",
       "      <td>BNQ0035</td>\n",
       "      <td>BL3201PT Monitor Benq 32 \"</td>\n",
       "      <td>LED 32-inch monitor flicker-free to reduce eyestrain.</td>\n",
       "      <td>779.00</td>\n",
       "      <td>7.789.992</td>\n",
       "      <td>0</td>\n",
       "      <td>1296</td>\n",
       "    </tr>\n",
       "    <tr>\n",
       "      <th>2327</th>\n",
       "      <td>WIT0021</td>\n",
       "      <td>Withings Activité Bluetooth Watch Black</td>\n",
       "      <td>Smartwatch compatible with iPhone iPad and iPod Touch.</td>\n",
       "      <td>390.00</td>\n",
       "      <td>2.999.905</td>\n",
       "      <td>0</td>\n",
       "      <td>11905404</td>\n",
       "    </tr>\n",
       "    <tr>\n",
       "      <th>16077</th>\n",
       "      <td>AP20145</td>\n",
       "      <td>Like new - Apple AirPort Time Capsule 3TB</td>\n",
       "      <td>Apple Airport Time Capsule 3TB Reconditioned</td>\n",
       "      <td>429.00</td>\n",
       "      <td>2.777.942</td>\n",
       "      <td>0</td>\n",
       "      <td>11935397</td>\n",
       "    </tr>\n",
       "    <tr>\n",
       "      <th>18856</th>\n",
       "      <td>QNA0160</td>\n",
       "      <td>QNAP 2GB RAM memory DDR3 1600MHz SO-DIMM</td>\n",
       "      <td>2GB RAM memory QNAP NAS.</td>\n",
       "      <td>9.99</td>\n",
       "      <td>99.898</td>\n",
       "      <td>1</td>\n",
       "      <td>1404</td>\n",
       "    </tr>\n",
       "    <tr>\n",
       "      <th>17021</th>\n",
       "      <td>PAC1697</td>\n",
       "      <td>Pack QNAP TS-251A NAS Server | 16GB RAM | Seagate 12TB Iron Wolf</td>\n",
       "      <td>NAS with 16GB of RAM and 12TB (2x6TB) Seagate Iron Wolf Mac and PC</td>\n",
       "      <td>1051.65</td>\n",
       "      <td>8.671.792</td>\n",
       "      <td>0</td>\n",
       "      <td>12175397</td>\n",
       "    </tr>\n",
       "    <tr>\n",
       "      <th>1180</th>\n",
       "      <td>MUV0141</td>\n",
       "      <td>Muvit Slim Folio iPhone 6 Pink</td>\n",
       "      <td>Cover with support function with lid 47 iPhone 6 inches.</td>\n",
       "      <td>15.99</td>\n",
       "      <td>124.872</td>\n",
       "      <td>0</td>\n",
       "      <td>11865403</td>\n",
       "    </tr>\n",
       "    <tr>\n",
       "      <th>8696</th>\n",
       "      <td>APP1227</td>\n",
       "      <td>Apple iMac 215 \"Core i5 16GHz | 16GB | 256GB Flash</td>\n",
       "      <td>IMac desktop computer 215 inch 256GB Flash RAM 16GB (MK142Y / A).</td>\n",
       "      <td>1759.00</td>\n",
       "      <td>16.775.839</td>\n",
       "      <td>0</td>\n",
       "      <td>1282</td>\n",
       "    </tr>\n",
       "    <tr>\n",
       "      <th>12152</th>\n",
       "      <td>GRT0410</td>\n",
       "      <td>Griffin Survivor Case Tactical Green Apple Watch 42mm</td>\n",
       "      <td>Anti-shock Case with Screen Protector for Apple Watch</td>\n",
       "      <td>29.99</td>\n",
       "      <td>199.904</td>\n",
       "      <td>0</td>\n",
       "      <td>2434</td>\n",
       "    </tr>\n",
       "    <tr>\n",
       "      <th>17646</th>\n",
       "      <td>IFX0081-A</td>\n",
       "      <td>iFixit piece connector Lightning and Audio Jack White iPhone 5s</td>\n",
       "      <td>Replacement parts Lightning connector and audio jack for iPhone 5s</td>\n",
       "      <td>24.95</td>\n",
       "      <td>143.926</td>\n",
       "      <td>0</td>\n",
       "      <td>1298</td>\n",
       "    </tr>\n",
       "    <tr>\n",
       "      <th>14478</th>\n",
       "      <td>LAC0216</td>\n",
       "      <td>6big LaCie Hard Drive 24TB RAID Thunderbolt 3 USB-C</td>\n",
       "      <td>24TB hard drive bays with RAID 6 5 two ports Thunderbolt 3 (40Gb / s) and 5 years warranty for Mac and PC</td>\n",
       "      <td>2699.00</td>\n",
       "      <td>23.199.935</td>\n",
       "      <td>0</td>\n",
       "      <td>11935397</td>\n",
       "    </tr>\n",
       "    <tr>\n",
       "      <th>15451</th>\n",
       "      <td>PAC2183</td>\n",
       "      <td>Pack Qnap TS-453b mini 4G NAS server 32TB (4x8TB) Seagate Iron Wolf</td>\n",
       "      <td>NAS with HDMI 4K (3840x2160) 4-core processor for home and small businesses with 4GB of RAM and 32TB Mac and PC output</td>\n",
       "      <td>1959.05</td>\n",
       "      <td>13.553.682</td>\n",
       "      <td>0</td>\n",
       "      <td>12175397</td>\n",
       "    </tr>\n",
       "    <tr>\n",
       "      <th>12853</th>\n",
       "      <td>SAN0136</td>\n",
       "      <td>Plus 240 GB SanDisk SSD 25 \"SATA 6 GB / s</td>\n",
       "      <td>Hard SSD 240GB 25 inches</td>\n",
       "      <td>79.99</td>\n",
       "      <td>945.845</td>\n",
       "      <td>0</td>\n",
       "      <td>12215397</td>\n",
       "    </tr>\n",
       "    <tr>\n",
       "      <th>19025</th>\n",
       "      <td>PAC2501</td>\n",
       "      <td>OWC ThuderBay RAID Thunderbolt 4 3 | 12TB (4x3TB) Seagate Iron Wolf</td>\n",
       "      <td>RAID Disk external box 25 inch and 35 inch two connectors Thunderbolt 3</td>\n",
       "      <td>1164.95</td>\n",
       "      <td>9.743.682</td>\n",
       "      <td>1</td>\n",
       "      <td>11935397</td>\n",
       "    </tr>\n",
       "    <tr>\n",
       "      <th>16177</th>\n",
       "      <td>PAC2084</td>\n",
       "      <td>Apple iMac 27 \"Core i5 3.5GHz Retina 5K | 32GB | 2TB Fusion</td>\n",
       "      <td>IMac desktop computer 27 inch Retina 5K RAM 32GB (2x16GB) with 2TB Fusion</td>\n",
       "      <td>3259.00</td>\n",
       "      <td>28.370.045</td>\n",
       "      <td>0</td>\n",
       "      <td>5,74E+15</td>\n",
       "    </tr>\n",
       "    <tr>\n",
       "      <th>12123</th>\n",
       "      <td>MUV0173</td>\n",
       "      <td>Muvit Crystal iPhone Case Bump SE / 5S / 5 Transparent / Black</td>\n",
       "      <td>Protective Case for iPhone two colors 5 / 5S / SE</td>\n",
       "      <td>13.99</td>\n",
       "      <td>119.899</td>\n",
       "      <td>0</td>\n",
       "      <td>11865403</td>\n",
       "    </tr>\n",
       "    <tr>\n",
       "      <th>927</th>\n",
       "      <td>PRO0021</td>\n",
       "      <td>R8 Pegasus2 Promise RAID 32TB Hard Disk Thunderbolt 2 Macc</td>\n",
       "      <td>RAID Thunderbolt 2 R8 32TB (8 x 4TB).</td>\n",
       "      <td>4416.50</td>\n",
       "      <td>35.824.264</td>\n",
       "      <td>0</td>\n",
       "      <td>11935397</td>\n",
       "    </tr>\n",
       "    <tr>\n",
       "      <th>19091</th>\n",
       "      <td>BEL0264-A</td>\n",
       "      <td>Open - PowerHouse Base Load Belkin Apple Watch and iPhone</td>\n",
       "      <td>Reconditioned support charger and connection Lightning and magnetic base for Apple Watch and iPhone (MFi)</td>\n",
       "      <td>99.99</td>\n",
       "      <td>622.485</td>\n",
       "      <td>0</td>\n",
       "      <td>13615399</td>\n",
       "    </tr>\n",
       "    <tr>\n",
       "      <th>15503</th>\n",
       "      <td>WDT0242-A</td>\n",
       "      <td>Open - Western Digital Network 5TB 35 \"PC and Mac Hard Disk NAS</td>\n",
       "      <td>WD Hard Drive refurbished and designed to 5TB NAS</td>\n",
       "      <td>270.00</td>\n",
       "      <td>1.525.845</td>\n",
       "      <td>0</td>\n",
       "      <td>1298</td>\n",
       "    </tr>\n",
       "    <tr>\n",
       "      <th>11616</th>\n",
       "      <td>BEA0051</td>\n",
       "      <td>Beats by Dre Tour 2 Active Headphones Red</td>\n",
       "      <td>In-Ear Headphones with pad parts and fastening hooks for iPhone iPad and iPod.</td>\n",
       "      <td>129.95</td>\n",
       "      <td>1.290.005</td>\n",
       "      <td>0</td>\n",
       "      <td>5384</td>\n",
       "    </tr>\n",
       "    <tr>\n",
       "      <th>11715</th>\n",
       "      <td>WAC0177-A</td>\n",
       "      <td>(Open) Wacom Bamboo Fineline 2 Pointer Black</td>\n",
       "      <td>thin smart digital pen tip to iPad.</td>\n",
       "      <td>59.90</td>\n",
       "      <td>331.936</td>\n",
       "      <td>0</td>\n",
       "      <td>1298</td>\n",
       "    </tr>\n",
       "    <tr>\n",
       "      <th>16647</th>\n",
       "      <td>APP2128</td>\n",
       "      <td>Apple iPad Pro 10.5 \"WiFi 512GB Silver</td>\n",
       "      <td>New iPad Pro 512GB Wi-Fi</td>\n",
       "      <td>1119.00</td>\n",
       "      <td>1.085.001</td>\n",
       "      <td>0</td>\n",
       "      <td>106431714</td>\n",
       "    </tr>\n",
       "    <tr>\n",
       "      <th>13</th>\n",
       "      <td>APP0156</td>\n",
       "      <td>45W MagSafe charger Apple MacBook Air</td>\n",
       "      <td>Charger MacBook Air MagSafe 45 W (MC747Z / A).</td>\n",
       "      <td>89.00</td>\n",
       "      <td>849.904</td>\n",
       "      <td>0</td>\n",
       "      <td>13005399</td>\n",
       "    </tr>\n",
       "    <tr>\n",
       "      <th>11640</th>\n",
       "      <td>TUC0257</td>\n",
       "      <td>Tucano Nido Hard-Shell Case MacBook Pro Retina 13 \"Transparent</td>\n",
       "      <td>rigid and slicked with rubber feet for MacBook Retina 13 inch casing.</td>\n",
       "      <td>29.90</td>\n",
       "      <td>249.901</td>\n",
       "      <td>1</td>\n",
       "      <td>13835403</td>\n",
       "    </tr>\n",
       "    <tr>\n",
       "      <th>11094</th>\n",
       "      <td>AII0096</td>\n",
       "      <td>Aiino Lightning to USB Cable to 2.1A 12m reversible Metal Gold</td>\n",
       "      <td>Lightning Cable reversible metal and aluminum for iPhone iPad and iPod USB.</td>\n",
       "      <td>24.99</td>\n",
       "      <td>169.884</td>\n",
       "      <td>0</td>\n",
       "      <td>1230</td>\n",
       "    </tr>\n",
       "    <tr>\n",
       "      <th>17300</th>\n",
       "      <td>BEL0258-A</td>\n",
       "      <td>Open - InvisiGlass Belkin Screen Protector Apple Watch 38mm</td>\n",
       "      <td>Tempered glass protector with ultrafine thickness 02 mm and FluidFlex technology for Apple Watch</td>\n",
       "      <td>19.99</td>\n",
       "      <td>10.571</td>\n",
       "      <td>0</td>\n",
       "      <td>1298</td>\n",
       "    </tr>\n",
       "    <tr>\n",
       "      <th>11923</th>\n",
       "      <td>BEL0239</td>\n",
       "      <td>Belkin MIXIT spiral cable jack to jack 35mm 18m White</td>\n",
       "      <td>Coiled Cable for iPhone iPad and iPod</td>\n",
       "      <td>14.99</td>\n",
       "      <td>99.898</td>\n",
       "      <td>0</td>\n",
       "      <td>1325</td>\n",
       "    </tr>\n",
       "    <tr>\n",
       "      <th>15117</th>\n",
       "      <td>GRT0398-A</td>\n",
       "      <td>Open - Griffin Survivor Case Tactical Apple Watch 38mm White</td>\n",
       "      <td>Anti-shock Case with Screen Protector for Apple Watch</td>\n",
       "      <td>29.99</td>\n",
       "      <td>111.944</td>\n",
       "      <td>0</td>\n",
       "      <td>1298</td>\n",
       "    </tr>\n",
       "    <tr>\n",
       "      <th>10696</th>\n",
       "      <td>PAC1169</td>\n",
       "      <td>Synology DS416 Pack | WD 8TB Network</td>\n",
       "      <td>Synology Pack + 8TB (4x2TB) WD Network for Mac and PC.</td>\n",
       "      <td>781.99</td>\n",
       "      <td>7.353.678</td>\n",
       "      <td>0</td>\n",
       "      <td>12175397</td>\n",
       "    </tr>\n",
       "    <tr>\n",
       "      <th>10637</th>\n",
       "      <td>GAB0007</td>\n",
       "      <td>Gablys Premium Locator timer and thermometer Gray</td>\n",
       "      <td>Bluetooth locator with light and sound for iPhone.</td>\n",
       "      <td>39.99</td>\n",
       "      <td>399.905</td>\n",
       "      <td>0</td>\n",
       "      <td>11905404</td>\n",
       "    </tr>\n",
       "    <tr>\n",
       "      <th>2354</th>\n",
       "      <td>WDT0237</td>\n",
       "      <td>WD Elements 2TB USB 3.0 Hard Disk</td>\n",
       "      <td>2TB Portable External Hard Drive for Mac and PC.</td>\n",
       "      <td>105.00</td>\n",
       "      <td>949.947</td>\n",
       "      <td>1</td>\n",
       "      <td>11935397</td>\n",
       "    </tr>\n",
       "    <tr>\n",
       "      <th>310</th>\n",
       "      <td>OWC0020</td>\n",
       "      <td>Envoy OWC USB 3.0 Case for MacBook Air SSD 2010/2011</td>\n",
       "      <td>Box Portable External USB 2.0 / 3.0 for MacBook Air SSD.</td>\n",
       "      <td>60.99</td>\n",
       "      <td>41.987</td>\n",
       "      <td>1</td>\n",
       "      <td>11935397</td>\n",
       "    </tr>\n",
       "    <tr>\n",
       "      <th>46</th>\n",
       "      <td>TWS0026</td>\n",
       "      <td>Twelve South BookBook MacBook Air sleeve 11 \"brown</td>\n",
       "      <td>Case Macbook 11 inches vintage skin with soft padding.</td>\n",
       "      <td>79.99</td>\n",
       "      <td>749.958</td>\n",
       "      <td>0</td>\n",
       "      <td>13835403</td>\n",
       "    </tr>\n",
       "    <tr>\n",
       "      <th>19007</th>\n",
       "      <td>WAC0230-A</td>\n",
       "      <td>Open - Wacom Bamboo Pen Digital pen</td>\n",
       "      <td>12g reconditioned pointer 512 pressure levels for Bamboo MTE-450</td>\n",
       "      <td>34.99</td>\n",
       "      <td>278.682</td>\n",
       "      <td>0</td>\n",
       "      <td>1229</td>\n",
       "    </tr>\n",
       "    <tr>\n",
       "      <th>11397</th>\n",
       "      <td>MOX0023-A</td>\n",
       "      <td>(Open) Moxie Pinza 3M Car Support Compatible with all iPhone</td>\n",
       "      <td>Car holder for iPhone 5 / 5S / 6 / 6S / 6 Plus / 6s Plus.</td>\n",
       "      <td>19.99</td>\n",
       "      <td>55.563</td>\n",
       "      <td>0</td>\n",
       "      <td>1298</td>\n",
       "    </tr>\n",
       "    <tr>\n",
       "      <th>1893</th>\n",
       "      <td>NTE0014-A</td>\n",
       "      <td>(Open) Battery NewerTech NuPower MacBook Pro 15 \"(2008-2009)</td>\n",
       "      <td>MacBook Pro 15 inch Battery</td>\n",
       "      <td>114.99</td>\n",
       "      <td>914.072</td>\n",
       "      <td>0</td>\n",
       "      <td>1298</td>\n",
       "    </tr>\n",
       "    <tr>\n",
       "      <th>69</th>\n",
       "      <td>MAK0010</td>\n",
       "      <td>Maclocks theft case iPad 2 3 and 4 black</td>\n",
       "      <td>Case antitheft iPad 2 3 and 4 polycarbonate support and lock.</td>\n",
       "      <td>79.99</td>\n",
       "      <td>799.931</td>\n",
       "      <td>0</td>\n",
       "      <td>12635403</td>\n",
       "    </tr>\n",
       "    <tr>\n",
       "      <th>14810</th>\n",
       "      <td>KAN0057</td>\n",
       "      <td>Kanex GoPower 4000mAh Battery for Apple Watch</td>\n",
       "      <td>4000mAh External Battery Light for Apple Watch and iPhone</td>\n",
       "      <td>119.95</td>\n",
       "      <td>899.901</td>\n",
       "      <td>0</td>\n",
       "      <td>1515</td>\n",
       "    </tr>\n",
       "    <tr>\n",
       "      <th>17870</th>\n",
       "      <td>PAC2369</td>\n",
       "      <td>Synology DS218 + NAS Server | 6GB RAM | 4TB (2x2TB) Seagate Iron Wolf</td>\n",
       "      <td>NAS storage server integrated with special focus on data protection</td>\n",
       "      <td>626.96</td>\n",
       "      <td>5.531.793</td>\n",
       "      <td>0</td>\n",
       "      <td>12175397</td>\n",
       "    </tr>\n",
       "    <tr>\n",
       "      <th>385</th>\n",
       "      <td>REP0064</td>\n",
       "      <td>iPhone 4s front camera repair</td>\n",
       "      <td>Repair service including parts and labor for iPhone 4s</td>\n",
       "      <td>49.99</td>\n",
       "      <td>499.004</td>\n",
       "      <td>0</td>\n",
       "      <td>1,44E+11</td>\n",
       "    </tr>\n",
       "  </tbody>\n",
       "</table>\n",
       "</div>\n",
       "    <div class=\"colab-df-buttons\">\n",
       "\n",
       "  <div class=\"colab-df-container\">\n",
       "    <button class=\"colab-df-convert\" onclick=\"convertToInteractive('df-73d4dcc2-dfcb-4758-a5c1-15bbcf90f397')\"\n",
       "            title=\"Convert this dataframe to an interactive table.\"\n",
       "            style=\"display:none;\">\n",
       "\n",
       "  <svg xmlns=\"http://www.w3.org/2000/svg\" height=\"24px\" viewBox=\"0 -960 960 960\">\n",
       "    <path d=\"M120-120v-720h720v720H120Zm60-500h600v-160H180v160Zm220 220h160v-160H400v160Zm0 220h160v-160H400v160ZM180-400h160v-160H180v160Zm440 0h160v-160H620v160ZM180-180h160v-160H180v160Zm440 0h160v-160H620v160Z\"/>\n",
       "  </svg>\n",
       "    </button>\n",
       "\n",
       "  <style>\n",
       "    .colab-df-container {\n",
       "      display:flex;\n",
       "      gap: 12px;\n",
       "    }\n",
       "\n",
       "    .colab-df-convert {\n",
       "      background-color: #E8F0FE;\n",
       "      border: none;\n",
       "      border-radius: 50%;\n",
       "      cursor: pointer;\n",
       "      display: none;\n",
       "      fill: #1967D2;\n",
       "      height: 32px;\n",
       "      padding: 0 0 0 0;\n",
       "      width: 32px;\n",
       "    }\n",
       "\n",
       "    .colab-df-convert:hover {\n",
       "      background-color: #E2EBFA;\n",
       "      box-shadow: 0px 1px 2px rgba(60, 64, 67, 0.3), 0px 1px 3px 1px rgba(60, 64, 67, 0.15);\n",
       "      fill: #174EA6;\n",
       "    }\n",
       "\n",
       "    .colab-df-buttons div {\n",
       "      margin-bottom: 4px;\n",
       "    }\n",
       "\n",
       "    [theme=dark] .colab-df-convert {\n",
       "      background-color: #3B4455;\n",
       "      fill: #D2E3FC;\n",
       "    }\n",
       "\n",
       "    [theme=dark] .colab-df-convert:hover {\n",
       "      background-color: #434B5C;\n",
       "      box-shadow: 0px 1px 3px 1px rgba(0, 0, 0, 0.15);\n",
       "      filter: drop-shadow(0px 1px 2px rgba(0, 0, 0, 0.3));\n",
       "      fill: #FFFFFF;\n",
       "    }\n",
       "  </style>\n",
       "\n",
       "    <script>\n",
       "      const buttonEl =\n",
       "        document.querySelector('#df-73d4dcc2-dfcb-4758-a5c1-15bbcf90f397 button.colab-df-convert');\n",
       "      buttonEl.style.display =\n",
       "        google.colab.kernel.accessAllowed ? 'block' : 'none';\n",
       "\n",
       "      async function convertToInteractive(key) {\n",
       "        const element = document.querySelector('#df-73d4dcc2-dfcb-4758-a5c1-15bbcf90f397');\n",
       "        const dataTable =\n",
       "          await google.colab.kernel.invokeFunction('convertToInteractive',\n",
       "                                                    [key], {});\n",
       "        if (!dataTable) return;\n",
       "\n",
       "        const docLinkHtml = 'Like what you see? Visit the ' +\n",
       "          '<a target=\"_blank\" href=https://colab.research.google.com/notebooks/data_table.ipynb>data table notebook</a>'\n",
       "          + ' to learn more about interactive tables.';\n",
       "        element.innerHTML = '';\n",
       "        dataTable['output_type'] = 'display_data';\n",
       "        await google.colab.output.renderOutput(dataTable, element);\n",
       "        const docLink = document.createElement('div');\n",
       "        docLink.innerHTML = docLinkHtml;\n",
       "        element.appendChild(docLink);\n",
       "      }\n",
       "    </script>\n",
       "  </div>\n",
       "\n",
       "\n",
       "<div id=\"df-5fc67dc6-c60b-44ab-ab9c-0d7a491b6d1d\">\n",
       "  <button class=\"colab-df-quickchart\" onclick=\"quickchart('df-5fc67dc6-c60b-44ab-ab9c-0d7a491b6d1d')\"\n",
       "            title=\"Suggest charts\"\n",
       "            style=\"display:none;\">\n",
       "\n",
       "<svg xmlns=\"http://www.w3.org/2000/svg\" height=\"24px\"viewBox=\"0 0 24 24\"\n",
       "     width=\"24px\">\n",
       "    <g>\n",
       "        <path d=\"M19 3H5c-1.1 0-2 .9-2 2v14c0 1.1.9 2 2 2h14c1.1 0 2-.9 2-2V5c0-1.1-.9-2-2-2zM9 17H7v-7h2v7zm4 0h-2V7h2v10zm4 0h-2v-4h2v4z\"/>\n",
       "    </g>\n",
       "</svg>\n",
       "  </button>\n",
       "\n",
       "<style>\n",
       "  .colab-df-quickchart {\n",
       "      --bg-color: #E8F0FE;\n",
       "      --fill-color: #1967D2;\n",
       "      --hover-bg-color: #E2EBFA;\n",
       "      --hover-fill-color: #174EA6;\n",
       "      --disabled-fill-color: #AAA;\n",
       "      --disabled-bg-color: #DDD;\n",
       "  }\n",
       "\n",
       "  [theme=dark] .colab-df-quickchart {\n",
       "      --bg-color: #3B4455;\n",
       "      --fill-color: #D2E3FC;\n",
       "      --hover-bg-color: #434B5C;\n",
       "      --hover-fill-color: #FFFFFF;\n",
       "      --disabled-bg-color: #3B4455;\n",
       "      --disabled-fill-color: #666;\n",
       "  }\n",
       "\n",
       "  .colab-df-quickchart {\n",
       "    background-color: var(--bg-color);\n",
       "    border: none;\n",
       "    border-radius: 50%;\n",
       "    cursor: pointer;\n",
       "    display: none;\n",
       "    fill: var(--fill-color);\n",
       "    height: 32px;\n",
       "    padding: 0;\n",
       "    width: 32px;\n",
       "  }\n",
       "\n",
       "  .colab-df-quickchart:hover {\n",
       "    background-color: var(--hover-bg-color);\n",
       "    box-shadow: 0 1px 2px rgba(60, 64, 67, 0.3), 0 1px 3px 1px rgba(60, 64, 67, 0.15);\n",
       "    fill: var(--button-hover-fill-color);\n",
       "  }\n",
       "\n",
       "  .colab-df-quickchart-complete:disabled,\n",
       "  .colab-df-quickchart-complete:disabled:hover {\n",
       "    background-color: var(--disabled-bg-color);\n",
       "    fill: var(--disabled-fill-color);\n",
       "    box-shadow: none;\n",
       "  }\n",
       "\n",
       "  .colab-df-spinner {\n",
       "    border: 2px solid var(--fill-color);\n",
       "    border-color: transparent;\n",
       "    border-bottom-color: var(--fill-color);\n",
       "    animation:\n",
       "      spin 1s steps(1) infinite;\n",
       "  }\n",
       "\n",
       "  @keyframes spin {\n",
       "    0% {\n",
       "      border-color: transparent;\n",
       "      border-bottom-color: var(--fill-color);\n",
       "      border-left-color: var(--fill-color);\n",
       "    }\n",
       "    20% {\n",
       "      border-color: transparent;\n",
       "      border-left-color: var(--fill-color);\n",
       "      border-top-color: var(--fill-color);\n",
       "    }\n",
       "    30% {\n",
       "      border-color: transparent;\n",
       "      border-left-color: var(--fill-color);\n",
       "      border-top-color: var(--fill-color);\n",
       "      border-right-color: var(--fill-color);\n",
       "    }\n",
       "    40% {\n",
       "      border-color: transparent;\n",
       "      border-right-color: var(--fill-color);\n",
       "      border-top-color: var(--fill-color);\n",
       "    }\n",
       "    60% {\n",
       "      border-color: transparent;\n",
       "      border-right-color: var(--fill-color);\n",
       "    }\n",
       "    80% {\n",
       "      border-color: transparent;\n",
       "      border-right-color: var(--fill-color);\n",
       "      border-bottom-color: var(--fill-color);\n",
       "    }\n",
       "    90% {\n",
       "      border-color: transparent;\n",
       "      border-bottom-color: var(--fill-color);\n",
       "    }\n",
       "  }\n",
       "</style>\n",
       "\n",
       "  <script>\n",
       "    async function quickchart(key) {\n",
       "      const quickchartButtonEl =\n",
       "        document.querySelector('#' + key + ' button');\n",
       "      quickchartButtonEl.disabled = true;  // To prevent multiple clicks.\n",
       "      quickchartButtonEl.classList.add('colab-df-spinner');\n",
       "      try {\n",
       "        const charts = await google.colab.kernel.invokeFunction(\n",
       "            'suggestCharts', [key], {});\n",
       "      } catch (error) {\n",
       "        console.error('Error during call to suggestCharts:', error);\n",
       "      }\n",
       "      quickchartButtonEl.classList.remove('colab-df-spinner');\n",
       "      quickchartButtonEl.classList.add('colab-df-quickchart-complete');\n",
       "    }\n",
       "    (() => {\n",
       "      let quickchartButtonEl =\n",
       "        document.querySelector('#df-5fc67dc6-c60b-44ab-ab9c-0d7a491b6d1d button');\n",
       "      quickchartButtonEl.style.display =\n",
       "        google.colab.kernel.accessAllowed ? 'block' : 'none';\n",
       "    })();\n",
       "  </script>\n",
       "</div>\n",
       "    </div>\n",
       "  </div>\n"
      ],
      "text/plain": [
       "             sku  \\\n",
       "18611    OTT0199   \n",
       "17344  TUC0306-A   \n",
       "16872    APP2247   \n",
       "19       APP0234   \n",
       "17096    ICA0084   \n",
       "1350     PUR0133   \n",
       "19191    RIN0016   \n",
       "11124    SNA0060   \n",
       "17821    PAC2220   \n",
       "12250    IFX0045   \n",
       "404      DLK0019   \n",
       "2447     BNQ0035   \n",
       "2327     WIT0021   \n",
       "16077    AP20145   \n",
       "18856    QNA0160   \n",
       "17021    PAC1697   \n",
       "1180     MUV0141   \n",
       "8696     APP1227   \n",
       "12152    GRT0410   \n",
       "17646  IFX0081-A   \n",
       "14478    LAC0216   \n",
       "15451    PAC2183   \n",
       "12853    SAN0136   \n",
       "19025    PAC2501   \n",
       "16177    PAC2084   \n",
       "12123    MUV0173   \n",
       "927      PRO0021   \n",
       "19091  BEL0264-A   \n",
       "15503  WDT0242-A   \n",
       "11616    BEA0051   \n",
       "11715  WAC0177-A   \n",
       "16647    APP2128   \n",
       "13       APP0156   \n",
       "11640    TUC0257   \n",
       "11094    AII0096   \n",
       "17300  BEL0258-A   \n",
       "11923    BEL0239   \n",
       "15117  GRT0398-A   \n",
       "10696    PAC1169   \n",
       "10637    GAB0007   \n",
       "2354     WDT0237   \n",
       "310      OWC0020   \n",
       "46       TWS0026   \n",
       "19007  WAC0230-A   \n",
       "11397  MOX0023-A   \n",
       "1893   NTE0014-A   \n",
       "69       MAK0010   \n",
       "14810    KAN0057   \n",
       "17870    PAC2369   \n",
       "385      REP0064   \n",
       "\n",
       "                                                                             name  \\\n",
       "18611                             OtterBox External Battery Power Pack 10000 mAHr   \n",
       "17344  Open - Tucano Nido Hard-Shell Case MacBook Pro 15 \"(late 2016) Transparent   \n",
       "16872                     Apple Mac Pro 12-core 27GHz | 16GB RAM | 256GB PCIe SSD   \n",
       "19                                                    Apple Dock Connector to VGA   \n",
       "17096                              Incase Nylon Nato Strap Black 38mm Apple Watch   \n",
       "1350                            Puro Zeta Slim cover with support iPad Air 2 Gold   \n",
       "19191             Video surveillance camera Floodlight Ring with White Spotlights   \n",
       "11124                              Sena Magnetic Holster Case iPhone 6 / 6S Black   \n",
       "17821                Synology DS718 + NAS Server | 16GB RAM | 16TB (2x8TB) WD Red   \n",
       "12250                               iFixit 64 Bit Driver Kit 64 parts Screwdriver   \n",
       "404                              D-Link DES-1008D Switch 8 10 / 100Mbps unmanaged   \n",
       "2447                                                   BL3201PT Monitor Benq 32 \"   \n",
       "2327                                      Withings Activité Bluetooth Watch Black   \n",
       "16077                                   Like new - Apple AirPort Time Capsule 3TB   \n",
       "18856                                    QNAP 2GB RAM memory DDR3 1600MHz SO-DIMM   \n",
       "17021            Pack QNAP TS-251A NAS Server | 16GB RAM | Seagate 12TB Iron Wolf   \n",
       "1180                                               Muvit Slim Folio iPhone 6 Pink   \n",
       "8696                           Apple iMac 215 \"Core i5 16GHz | 16GB | 256GB Flash   \n",
       "12152                       Griffin Survivor Case Tactical Green Apple Watch 42mm   \n",
       "17646             iFixit piece connector Lightning and Audio Jack White iPhone 5s   \n",
       "14478                         6big LaCie Hard Drive 24TB RAID Thunderbolt 3 USB-C   \n",
       "15451         Pack Qnap TS-453b mini 4G NAS server 32TB (4x8TB) Seagate Iron Wolf   \n",
       "12853                                   Plus 240 GB SanDisk SSD 25 \"SATA 6 GB / s   \n",
       "19025         OWC ThuderBay RAID Thunderbolt 4 3 | 12TB (4x3TB) Seagate Iron Wolf   \n",
       "16177                 Apple iMac 27 \"Core i5 3.5GHz Retina 5K | 32GB | 2TB Fusion   \n",
       "12123              Muvit Crystal iPhone Case Bump SE / 5S / 5 Transparent / Black   \n",
       "927                    R8 Pegasus2 Promise RAID 32TB Hard Disk Thunderbolt 2 Macc   \n",
       "19091                   Open - PowerHouse Base Load Belkin Apple Watch and iPhone   \n",
       "15503             Open - Western Digital Network 5TB 35 \"PC and Mac Hard Disk NAS   \n",
       "11616                                   Beats by Dre Tour 2 Active Headphones Red   \n",
       "11715                                (Open) Wacom Bamboo Fineline 2 Pointer Black   \n",
       "16647                                      Apple iPad Pro 10.5 \"WiFi 512GB Silver   \n",
       "13                                          45W MagSafe charger Apple MacBook Air   \n",
       "11640              Tucano Nido Hard-Shell Case MacBook Pro Retina 13 \"Transparent   \n",
       "11094              Aiino Lightning to USB Cable to 2.1A 12m reversible Metal Gold   \n",
       "17300                 Open - InvisiGlass Belkin Screen Protector Apple Watch 38mm   \n",
       "11923                       Belkin MIXIT spiral cable jack to jack 35mm 18m White   \n",
       "15117                Open - Griffin Survivor Case Tactical Apple Watch 38mm White   \n",
       "10696                                        Synology DS416 Pack | WD 8TB Network   \n",
       "10637                           Gablys Premium Locator timer and thermometer Gray   \n",
       "2354                                            WD Elements 2TB USB 3.0 Hard Disk   \n",
       "310                          Envoy OWC USB 3.0 Case for MacBook Air SSD 2010/2011   \n",
       "46                             Twelve South BookBook MacBook Air sleeve 11 \"brown   \n",
       "19007                                         Open - Wacom Bamboo Pen Digital pen   \n",
       "11397                (Open) Moxie Pinza 3M Car Support Compatible with all iPhone   \n",
       "1893                 (Open) Battery NewerTech NuPower MacBook Pro 15 \"(2008-2009)   \n",
       "69                                       Maclocks theft case iPad 2 3 and 4 black   \n",
       "14810                               Kanex GoPower 4000mAh Battery for Apple Watch   \n",
       "17870       Synology DS218 + NAS Server | 6GB RAM | 4TB (2x2TB) Seagate Iron Wolf   \n",
       "385                                                 iPhone 4s front camera repair   \n",
       "\n",
       "                                                                                                                         desc  \\\n",
       "18611                                                 10000 mAh External Battery with LED indicators for iPhone iPad and iPod   \n",
       "17344                                               Protective cover with slip rubber feet for Macbooks 15 inches (late 2016)   \n",
       "16872                                                                   Apple Mac Pro 12-Core 27GHz 16GB RAM 256GB Flash PCIe   \n",
       "19                                                                                                 Dock Connector to VGA IOS.   \n",
       "17096                                              Nylon strap with adjustable finish anodized aluminum pin Apple Watch 38 mm   \n",
       "1350                                                                                    Smart Case with Stand for iPad Air 2.   \n",
       "19191                Surveillance camera with face detection alarm bidirectional communication with Wi-Fi for iPhone and iPad   \n",
       "11124                                                              Cover book format with magnetic closure for iPhone 6 / 6S.   \n",
       "17821                             Scalable NAS server with transcoding 4K: 4-core 2.3 GHz 226MB / s read and 184 MB / s write   \n",
       "12250                                                                      64-piece kit for any repair iPhone iPad Mac and PC   \n",
       "404                                                                                          Dlink Switch 8 Mac and PC ports.   \n",
       "2447                                                                    LED 32-inch monitor flicker-free to reduce eyestrain.   \n",
       "2327                                                                   Smartwatch compatible with iPhone iPad and iPod Touch.   \n",
       "16077                                                                            Apple Airport Time Capsule 3TB Reconditioned   \n",
       "18856                                                                                                2GB RAM memory QNAP NAS.   \n",
       "17021                                                      NAS with 16GB of RAM and 12TB (2x6TB) Seagate Iron Wolf Mac and PC   \n",
       "1180                                                                 Cover with support function with lid 47 iPhone 6 inches.   \n",
       "8696                                                        IMac desktop computer 215 inch 256GB Flash RAM 16GB (MK142Y / A).   \n",
       "12152                                                                   Anti-shock Case with Screen Protector for Apple Watch   \n",
       "17646                                                      Replacement parts Lightning connector and audio jack for iPhone 5s   \n",
       "14478               24TB hard drive bays with RAID 6 5 two ports Thunderbolt 3 (40Gb / s) and 5 years warranty for Mac and PC   \n",
       "15451  NAS with HDMI 4K (3840x2160) 4-core processor for home and small businesses with 4GB of RAM and 32TB Mac and PC output   \n",
       "12853                                                                                                Hard SSD 240GB 25 inches   \n",
       "19025                                                 RAID Disk external box 25 inch and 35 inch two connectors Thunderbolt 3   \n",
       "16177                                               IMac desktop computer 27 inch Retina 5K RAM 32GB (2x16GB) with 2TB Fusion   \n",
       "12123                                                                       Protective Case for iPhone two colors 5 / 5S / SE   \n",
       "927                                                                                     RAID Thunderbolt 2 R8 32TB (8 x 4TB).   \n",
       "19091               Reconditioned support charger and connection Lightning and magnetic base for Apple Watch and iPhone (MFi)   \n",
       "15503                                                                       WD Hard Drive refurbished and designed to 5TB NAS   \n",
       "11616                                          In-Ear Headphones with pad parts and fastening hooks for iPhone iPad and iPod.   \n",
       "11715                                                                                     thin smart digital pen tip to iPad.   \n",
       "16647                                                                                                New iPad Pro 512GB Wi-Fi   \n",
       "13                                                                             Charger MacBook Air MagSafe 45 W (MC747Z / A).   \n",
       "11640                                                   rigid and slicked with rubber feet for MacBook Retina 13 inch casing.   \n",
       "11094                                             Lightning Cable reversible metal and aluminum for iPhone iPad and iPod USB.   \n",
       "17300                        Tempered glass protector with ultrafine thickness 02 mm and FluidFlex technology for Apple Watch   \n",
       "11923                                                                                   Coiled Cable for iPhone iPad and iPod   \n",
       "15117                                                                   Anti-shock Case with Screen Protector for Apple Watch   \n",
       "10696                                                                  Synology Pack + 8TB (4x2TB) WD Network for Mac and PC.   \n",
       "10637                                                                      Bluetooth locator with light and sound for iPhone.   \n",
       "2354                                                                         2TB Portable External Hard Drive for Mac and PC.   \n",
       "310                                                                  Box Portable External USB 2.0 / 3.0 for MacBook Air SSD.   \n",
       "46                                                                     Case Macbook 11 inches vintage skin with soft padding.   \n",
       "19007                                                        12g reconditioned pointer 512 pressure levels for Bamboo MTE-450   \n",
       "11397                                                               Car holder for iPhone 5 / 5S / 6 / 6S / 6 Plus / 6s Plus.   \n",
       "1893                                                                                              MacBook Pro 15 inch Battery   \n",
       "69                                                              Case antitheft iPad 2 3 and 4 polycarbonate support and lock.   \n",
       "14810                                                               4000mAh External Battery Light for Apple Watch and iPhone   \n",
       "17870                                                     NAS storage server integrated with special focus on data protection   \n",
       "385                                                                    Repair service including parts and labor for iPhone 4s   \n",
       "\n",
       "         price promo_price  in_stock       type  \n",
       "18611    49.99     399.905         1       1515  \n",
       "17344    34.90     263.913         0       1298  \n",
       "16872  6089.00  56.630.045         0   21632158  \n",
       "19       35.00     350.005         0   13955395  \n",
       "17096    39.95     309.893         1       2449  \n",
       "1350     34.99     299.003         0   12635403  \n",
       "19191   299.00   2.989.995         0       9094  \n",
       "11124    49.95     468.996         0   11865403  \n",
       "17821  1360.71  11.311.794         0   12175397  \n",
       "12250    32.99     329.894         1   21485407  \n",
       "404      15.99     119.899         0       1334  \n",
       "2447    779.00   7.789.992         0       1296  \n",
       "2327    390.00   2.999.905         0   11905404  \n",
       "16077   429.00   2.777.942         0   11935397  \n",
       "18856     9.99      99.898         1       1404  \n",
       "17021  1051.65   8.671.792         0   12175397  \n",
       "1180     15.99     124.872         0   11865403  \n",
       "8696   1759.00  16.775.839         0       1282  \n",
       "12152    29.99     199.904         0       2434  \n",
       "17646    24.95     143.926         0       1298  \n",
       "14478  2699.00  23.199.935         0   11935397  \n",
       "15451  1959.05  13.553.682         0   12175397  \n",
       "12853    79.99     945.845         0   12215397  \n",
       "19025  1164.95   9.743.682         1   11935397  \n",
       "16177  3259.00  28.370.045         0   5,74E+15  \n",
       "12123    13.99     119.899         0   11865403  \n",
       "927    4416.50  35.824.264         0   11935397  \n",
       "19091    99.99     622.485         0   13615399  \n",
       "15503   270.00   1.525.845         0       1298  \n",
       "11616   129.95   1.290.005         0       5384  \n",
       "11715    59.90     331.936         0       1298  \n",
       "16647  1119.00   1.085.001         0  106431714  \n",
       "13       89.00     849.904         0   13005399  \n",
       "11640    29.90     249.901         1   13835403  \n",
       "11094    24.99     169.884         0       1230  \n",
       "17300    19.99      10.571         0       1298  \n",
       "11923    14.99      99.898         0       1325  \n",
       "15117    29.99     111.944         0       1298  \n",
       "10696   781.99   7.353.678         0   12175397  \n",
       "10637    39.99     399.905         0   11905404  \n",
       "2354    105.00     949.947         1   11935397  \n",
       "310      60.99      41.987         1   11935397  \n",
       "46       79.99     749.958         0   13835403  \n",
       "19007    34.99     278.682         0       1229  \n",
       "11397    19.99      55.563         0       1298  \n",
       "1893    114.99     914.072         0       1298  \n",
       "69       79.99     799.931         0   12635403  \n",
       "14810   119.95     899.901         0       1515  \n",
       "17870   626.96   5.531.793         0   12175397  \n",
       "385      49.99     499.004         0   1,44E+11  "
      ]
     },
     "execution_count": 77,
     "metadata": {},
     "output_type": "execute_result"
    }
   ],
   "source": [
    "promo_price_df = products_df.loc[(products_df.promo_price.astype(str).str.contains(\"\\d+\\.\\d+\\.\\d+\"))|(products_df.promo_price.astype(str).str.contains(\"\\d+\\.\\d{3,}\")), :]\n",
    "promo_price_df.sample(50)"
   ]
  },
  {
   "cell_type": "markdown",
   "metadata": {
    "id": "0Hfgo84xu_VS"
   },
   "source": [
    "So we were correct, over 90% of the data in this column is corrupt. There's no point deleting all of these rows, then we would barely have a products table. Instead, as it's only this column that appears to be very untrustworthy, we will delete the column."
   ]
  },
  {
   "cell_type": "code",
   "execution_count": null,
   "metadata": {
    "id": "OalyJ-8atij8"
   },
   "outputs": [],
   "source": [
    "products_cl = products_df.drop(columns=[\"promo_price\"])"
   ]
  },
  {
   "cell_type": "code",
   "execution_count": null,
   "metadata": {
    "colab": {
     "base_uri": "https://localhost:8080/"
    },
    "id": "mJQtVYS-Knyf",
    "outputId": "b12e95d6-8b65-4a45-c305-c2e1c548e3c9"
   },
   "outputs": [
    {
     "name": "stdout",
     "output_type": "stream",
     "text": [
      "<class 'pandas.core.frame.DataFrame'>\n",
      "Int64Index: 9992 entries, 0 to 19325\n",
      "Data columns (total 6 columns):\n",
      " #   Column    Non-Null Count  Dtype  \n",
      "---  ------    --------------  -----  \n",
      " 0   sku       9992 non-null   object \n",
      " 1   name      9992 non-null   object \n",
      " 2   desc      9992 non-null   object \n",
      " 3   price     9992 non-null   float64\n",
      " 4   in_stock  9992 non-null   int64  \n",
      " 5   type      9946 non-null   object \n",
      "dtypes: float64(1), int64(1), object(4)\n",
      "memory usage: 546.4+ KB\n"
     ]
    }
   ],
   "source": [
    "products_cl.info()"
   ]
  },
  {
   "cell_type": "code",
   "execution_count": null,
   "metadata": {
    "colab": {
     "base_uri": "https://localhost:8080/",
     "height": 300
    },
    "id": "AT3oogzRgeZk",
    "outputId": "88c813eb-80ae-4049-d41c-5531effea4ff"
   },
   "outputs": [
    {
     "data": {
      "text/html": [
       "\n",
       "  <div id=\"df-840b8c36-1135-4845-9cc7-27b7d5996467\" class=\"colab-df-container\">\n",
       "    <div>\n",
       "<style scoped>\n",
       "    .dataframe tbody tr th:only-of-type {\n",
       "        vertical-align: middle;\n",
       "    }\n",
       "\n",
       "    .dataframe tbody tr th {\n",
       "        vertical-align: top;\n",
       "    }\n",
       "\n",
       "    .dataframe thead th {\n",
       "        text-align: right;\n",
       "    }\n",
       "</style>\n",
       "<table border=\"1\" class=\"dataframe\">\n",
       "  <thead>\n",
       "    <tr style=\"text-align: right;\">\n",
       "      <th></th>\n",
       "      <th>price</th>\n",
       "      <th>in_stock</th>\n",
       "    </tr>\n",
       "  </thead>\n",
       "  <tbody>\n",
       "    <tr>\n",
       "      <th>count</th>\n",
       "      <td>9992.000000</td>\n",
       "      <td>9992.000000</td>\n",
       "    </tr>\n",
       "    <tr>\n",
       "      <th>mean</th>\n",
       "      <td>667.346268</td>\n",
       "      <td>0.199359</td>\n",
       "    </tr>\n",
       "    <tr>\n",
       "      <th>std</th>\n",
       "      <td>1365.540546</td>\n",
       "      <td>0.399539</td>\n",
       "    </tr>\n",
       "    <tr>\n",
       "      <th>min</th>\n",
       "      <td>2.990000</td>\n",
       "      <td>0.000000</td>\n",
       "    </tr>\n",
       "    <tr>\n",
       "      <th>25%</th>\n",
       "      <td>42.990000</td>\n",
       "      <td>0.000000</td>\n",
       "    </tr>\n",
       "    <tr>\n",
       "      <th>50%</th>\n",
       "      <td>112.990000</td>\n",
       "      <td>0.000000</td>\n",
       "    </tr>\n",
       "    <tr>\n",
       "      <th>75%</th>\n",
       "      <td>660.695000</td>\n",
       "      <td>0.000000</td>\n",
       "    </tr>\n",
       "    <tr>\n",
       "      <th>max</th>\n",
       "      <td>15339.000000</td>\n",
       "      <td>1.000000</td>\n",
       "    </tr>\n",
       "  </tbody>\n",
       "</table>\n",
       "</div>\n",
       "    <div class=\"colab-df-buttons\">\n",
       "\n",
       "  <div class=\"colab-df-container\">\n",
       "    <button class=\"colab-df-convert\" onclick=\"convertToInteractive('df-840b8c36-1135-4845-9cc7-27b7d5996467')\"\n",
       "            title=\"Convert this dataframe to an interactive table.\"\n",
       "            style=\"display:none;\">\n",
       "\n",
       "  <svg xmlns=\"http://www.w3.org/2000/svg\" height=\"24px\" viewBox=\"0 -960 960 960\">\n",
       "    <path d=\"M120-120v-720h720v720H120Zm60-500h600v-160H180v160Zm220 220h160v-160H400v160Zm0 220h160v-160H400v160ZM180-400h160v-160H180v160Zm440 0h160v-160H620v160ZM180-180h160v-160H180v160Zm440 0h160v-160H620v160Z\"/>\n",
       "  </svg>\n",
       "    </button>\n",
       "\n",
       "  <style>\n",
       "    .colab-df-container {\n",
       "      display:flex;\n",
       "      gap: 12px;\n",
       "    }\n",
       "\n",
       "    .colab-df-convert {\n",
       "      background-color: #E8F0FE;\n",
       "      border: none;\n",
       "      border-radius: 50%;\n",
       "      cursor: pointer;\n",
       "      display: none;\n",
       "      fill: #1967D2;\n",
       "      height: 32px;\n",
       "      padding: 0 0 0 0;\n",
       "      width: 32px;\n",
       "    }\n",
       "\n",
       "    .colab-df-convert:hover {\n",
       "      background-color: #E2EBFA;\n",
       "      box-shadow: 0px 1px 2px rgba(60, 64, 67, 0.3), 0px 1px 3px 1px rgba(60, 64, 67, 0.15);\n",
       "      fill: #174EA6;\n",
       "    }\n",
       "\n",
       "    .colab-df-buttons div {\n",
       "      margin-bottom: 4px;\n",
       "    }\n",
       "\n",
       "    [theme=dark] .colab-df-convert {\n",
       "      background-color: #3B4455;\n",
       "      fill: #D2E3FC;\n",
       "    }\n",
       "\n",
       "    [theme=dark] .colab-df-convert:hover {\n",
       "      background-color: #434B5C;\n",
       "      box-shadow: 0px 1px 3px 1px rgba(0, 0, 0, 0.15);\n",
       "      filter: drop-shadow(0px 1px 2px rgba(0, 0, 0, 0.3));\n",
       "      fill: #FFFFFF;\n",
       "    }\n",
       "  </style>\n",
       "\n",
       "    <script>\n",
       "      const buttonEl =\n",
       "        document.querySelector('#df-840b8c36-1135-4845-9cc7-27b7d5996467 button.colab-df-convert');\n",
       "      buttonEl.style.display =\n",
       "        google.colab.kernel.accessAllowed ? 'block' : 'none';\n",
       "\n",
       "      async function convertToInteractive(key) {\n",
       "        const element = document.querySelector('#df-840b8c36-1135-4845-9cc7-27b7d5996467');\n",
       "        const dataTable =\n",
       "          await google.colab.kernel.invokeFunction('convertToInteractive',\n",
       "                                                    [key], {});\n",
       "        if (!dataTable) return;\n",
       "\n",
       "        const docLinkHtml = 'Like what you see? Visit the ' +\n",
       "          '<a target=\"_blank\" href=https://colab.research.google.com/notebooks/data_table.ipynb>data table notebook</a>'\n",
       "          + ' to learn more about interactive tables.';\n",
       "        element.innerHTML = '';\n",
       "        dataTable['output_type'] = 'display_data';\n",
       "        await google.colab.output.renderOutput(dataTable, element);\n",
       "        const docLink = document.createElement('div');\n",
       "        docLink.innerHTML = docLinkHtml;\n",
       "        element.appendChild(docLink);\n",
       "      }\n",
       "    </script>\n",
       "  </div>\n",
       "\n",
       "\n",
       "<div id=\"df-d424292b-5cee-4e6b-945f-a249d685a355\">\n",
       "  <button class=\"colab-df-quickchart\" onclick=\"quickchart('df-d424292b-5cee-4e6b-945f-a249d685a355')\"\n",
       "            title=\"Suggest charts\"\n",
       "            style=\"display:none;\">\n",
       "\n",
       "<svg xmlns=\"http://www.w3.org/2000/svg\" height=\"24px\"viewBox=\"0 0 24 24\"\n",
       "     width=\"24px\">\n",
       "    <g>\n",
       "        <path d=\"M19 3H5c-1.1 0-2 .9-2 2v14c0 1.1.9 2 2 2h14c1.1 0 2-.9 2-2V5c0-1.1-.9-2-2-2zM9 17H7v-7h2v7zm4 0h-2V7h2v10zm4 0h-2v-4h2v4z\"/>\n",
       "    </g>\n",
       "</svg>\n",
       "  </button>\n",
       "\n",
       "<style>\n",
       "  .colab-df-quickchart {\n",
       "      --bg-color: #E8F0FE;\n",
       "      --fill-color: #1967D2;\n",
       "      --hover-bg-color: #E2EBFA;\n",
       "      --hover-fill-color: #174EA6;\n",
       "      --disabled-fill-color: #AAA;\n",
       "      --disabled-bg-color: #DDD;\n",
       "  }\n",
       "\n",
       "  [theme=dark] .colab-df-quickchart {\n",
       "      --bg-color: #3B4455;\n",
       "      --fill-color: #D2E3FC;\n",
       "      --hover-bg-color: #434B5C;\n",
       "      --hover-fill-color: #FFFFFF;\n",
       "      --disabled-bg-color: #3B4455;\n",
       "      --disabled-fill-color: #666;\n",
       "  }\n",
       "\n",
       "  .colab-df-quickchart {\n",
       "    background-color: var(--bg-color);\n",
       "    border: none;\n",
       "    border-radius: 50%;\n",
       "    cursor: pointer;\n",
       "    display: none;\n",
       "    fill: var(--fill-color);\n",
       "    height: 32px;\n",
       "    padding: 0;\n",
       "    width: 32px;\n",
       "  }\n",
       "\n",
       "  .colab-df-quickchart:hover {\n",
       "    background-color: var(--hover-bg-color);\n",
       "    box-shadow: 0 1px 2px rgba(60, 64, 67, 0.3), 0 1px 3px 1px rgba(60, 64, 67, 0.15);\n",
       "    fill: var(--button-hover-fill-color);\n",
       "  }\n",
       "\n",
       "  .colab-df-quickchart-complete:disabled,\n",
       "  .colab-df-quickchart-complete:disabled:hover {\n",
       "    background-color: var(--disabled-bg-color);\n",
       "    fill: var(--disabled-fill-color);\n",
       "    box-shadow: none;\n",
       "  }\n",
       "\n",
       "  .colab-df-spinner {\n",
       "    border: 2px solid var(--fill-color);\n",
       "    border-color: transparent;\n",
       "    border-bottom-color: var(--fill-color);\n",
       "    animation:\n",
       "      spin 1s steps(1) infinite;\n",
       "  }\n",
       "\n",
       "  @keyframes spin {\n",
       "    0% {\n",
       "      border-color: transparent;\n",
       "      border-bottom-color: var(--fill-color);\n",
       "      border-left-color: var(--fill-color);\n",
       "    }\n",
       "    20% {\n",
       "      border-color: transparent;\n",
       "      border-left-color: var(--fill-color);\n",
       "      border-top-color: var(--fill-color);\n",
       "    }\n",
       "    30% {\n",
       "      border-color: transparent;\n",
       "      border-left-color: var(--fill-color);\n",
       "      border-top-color: var(--fill-color);\n",
       "      border-right-color: var(--fill-color);\n",
       "    }\n",
       "    40% {\n",
       "      border-color: transparent;\n",
       "      border-right-color: var(--fill-color);\n",
       "      border-top-color: var(--fill-color);\n",
       "    }\n",
       "    60% {\n",
       "      border-color: transparent;\n",
       "      border-right-color: var(--fill-color);\n",
       "    }\n",
       "    80% {\n",
       "      border-color: transparent;\n",
       "      border-right-color: var(--fill-color);\n",
       "      border-bottom-color: var(--fill-color);\n",
       "    }\n",
       "    90% {\n",
       "      border-color: transparent;\n",
       "      border-bottom-color: var(--fill-color);\n",
       "    }\n",
       "  }\n",
       "</style>\n",
       "\n",
       "  <script>\n",
       "    async function quickchart(key) {\n",
       "      const quickchartButtonEl =\n",
       "        document.querySelector('#' + key + ' button');\n",
       "      quickchartButtonEl.disabled = true;  // To prevent multiple clicks.\n",
       "      quickchartButtonEl.classList.add('colab-df-spinner');\n",
       "      try {\n",
       "        const charts = await google.colab.kernel.invokeFunction(\n",
       "            'suggestCharts', [key], {});\n",
       "      } catch (error) {\n",
       "        console.error('Error during call to suggestCharts:', error);\n",
       "      }\n",
       "      quickchartButtonEl.classList.remove('colab-df-spinner');\n",
       "      quickchartButtonEl.classList.add('colab-df-quickchart-complete');\n",
       "    }\n",
       "    (() => {\n",
       "      let quickchartButtonEl =\n",
       "        document.querySelector('#df-d424292b-5cee-4e6b-945f-a249d685a355 button');\n",
       "      quickchartButtonEl.style.display =\n",
       "        google.colab.kernel.accessAllowed ? 'block' : 'none';\n",
       "    })();\n",
       "  </script>\n",
       "</div>\n",
       "    </div>\n",
       "  </div>\n"
      ],
      "text/plain": [
       "              price     in_stock\n",
       "count   9992.000000  9992.000000\n",
       "mean     667.346268     0.199359\n",
       "std     1365.540546     0.399539\n",
       "min        2.990000     0.000000\n",
       "25%       42.990000     0.000000\n",
       "50%      112.990000     0.000000\n",
       "75%      660.695000     0.000000\n",
       "max    15339.000000     1.000000"
      ]
     },
     "execution_count": 80,
     "metadata": {},
     "output_type": "execute_result"
    }
   ],
   "source": [
    "products_cl.describe()"
   ]
  },
  {
   "cell_type": "code",
   "execution_count": null,
   "metadata": {
    "colab": {
     "base_uri": "https://localhost:8080/"
    },
    "id": "SS526YvHgnL2",
    "outputId": "c66c4f06-2817-4417-c2e3-9174631dd5fb"
   },
   "outputs": [
    {
     "data": {
      "text/plain": [
       "15339.0"
      ]
     },
     "execution_count": 81,
     "metadata": {},
     "output_type": "execute_result"
    }
   ],
   "source": [
    "products_cl[\"price\"].max()"
   ]
  },
  {
   "cell_type": "markdown",
   "metadata": {
    "id": "vyyISxnQ1YVG"
   },
   "source": [
    "Obviously, there's now no need to convert `promo_price` to a numerical datatype\n",
    "\n",
    "Don't forget to download/save your new DataFrames. Also, give them an obvious name, so that you know they are the cleaned version and not the original DataFrame."
   ]
  },
  {
   "cell_type": "code",
   "execution_count": null,
   "metadata": {
    "id": "6M4Jxfz-8G2b"
   },
   "outputs": [],
   "source": [
    "from google.colab import files\n",
    "\n",
    "orders_df.to_csv(\"orders_cl.csv\", index=False)\n",
    "files.download(\"orders_cl.csv\")\n",
    "\n",
    "orderlines_df.to_csv(\"orderlines_cl.csv\", index=False)\n",
    "files.download(\"orderlines_cl.csv\")\n",
    "\n",
    "products_cl.to_csv(\"products_cl.csv\", index=False)\n",
    "files.download(\"products_cl.csv\")"
   ]
  }
 ],
 "metadata": {
  "colab": {
   "provenance": []
  },
  "kernelspec": {
   "display_name": "Python 3 (ipykernel)",
   "language": "python",
   "name": "python3"
  },
  "language_info": {
   "codemirror_mode": {
    "name": "ipython",
    "version": 3
   },
   "file_extension": ".py",
   "mimetype": "text/x-python",
   "name": "python",
   "nbconvert_exporter": "python",
   "pygments_lexer": "ipython3",
   "version": "3.10.12"
  }
 },
 "nbformat": 4,
 "nbformat_minor": 4
}
