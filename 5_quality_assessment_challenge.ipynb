{
 "cells": [
  {
   "cell_type": "markdown",
   "metadata": {
    "id": "aSm5aaRLtFLx"
   },
   "source": [
    "# Quality Assessment\n",
    "Now it's your turn. Follow [the steps on the platform](https://learn.wbscodingschool.com/courses/data-science/lessons/%f0%9f%93%9d-5-data-quality/) and use what you've learnt to see how reliable the data is."
   ]
  },
  {
   "cell_type": "code",
   "execution_count": 161,
   "metadata": {
    "id": "Lq7zsZka4q2m"
   },
   "outputs": [],
   "source": [
    "import pandas as pd"
   ]
  },
  {
   "cell_type": "markdown",
   "metadata": {
    "id": "hzwXSr-xfh97"
   },
   "source": [
    "Load our cleaned DataFrames"
   ]
  },
  {
   "cell_type": "code",
   "execution_count": 162,
   "metadata": {
    "id": "30IJsE7t49Eu"
   },
   "outputs": [],
   "source": [
    "# orders_cl.csv\n",
    "url = \"https://drive.google.com/file/d/1Tla62vfu__kCqvgypZyVt2S9VuC016yH/view?usp=sharing\"\n",
    "path = \"https://drive.google.com/uc?export=download&id=\"+url.split(\"/\")[-2]\n",
    "orders_cl = pd.read_csv(path)\n",
    "\n",
    "# orderlines_cl.csv\n",
    "url = \"https://drive.google.com/file/d/1OhtkQS2fwOYdzfd-qPh7im35iLc-L9TA/view?usp=sharing\"\n",
    "path = \"https://drive.google.com/uc?export=download&id=\"+url.split(\"/\")[-2]\n",
    "orderlines_cl = pd.read_csv(path)\n",
    "\n",
    "# products_cl.csv\n",
    "url = \"https://drive.google.com/file/d/1s7Lai4NSlsYjGEPg1QSOUJobNYVsZBOJ/view?usp=sharing\"\n",
    "path = \"https://drive.google.com/uc?export=download&id=\"+url.split(\"/\")[-2]\n",
    "products_cl = pd.read_csv(path)"
   ]
  },
  {
   "cell_type": "code",
   "execution_count": 163,
   "metadata": {},
   "outputs": [
    {
     "name": "stdout",
     "output_type": "stream",
     "text": [
      "<class 'pandas.core.frame.DataFrame'>\n",
      "RangeIndex: 216250 entries, 0 to 216249\n",
      "Data columns (total 7 columns):\n",
      " #   Column            Non-Null Count   Dtype  \n",
      "---  ------            --------------   -----  \n",
      " 0   id                216250 non-null  int64  \n",
      " 1   id_order          216250 non-null  int64  \n",
      " 2   product_id        216250 non-null  int64  \n",
      " 3   product_quantity  216250 non-null  int64  \n",
      " 4   sku               216250 non-null  object \n",
      " 5   unit_price        216250 non-null  float64\n",
      " 6   date              216250 non-null  object \n",
      "dtypes: float64(1), int64(4), object(2)\n",
      "memory usage: 11.5+ MB\n",
      "<class 'pandas.core.frame.DataFrame'>\n",
      "RangeIndex: 226904 entries, 0 to 226903\n",
      "Data columns (total 4 columns):\n",
      " #   Column        Non-Null Count   Dtype  \n",
      "---  ------        --------------   -----  \n",
      " 0   order_id      226904 non-null  int64  \n",
      " 1   created_date  226904 non-null  object \n",
      " 2   total_paid    226904 non-null  float64\n",
      " 3   state         226904 non-null  object \n",
      "dtypes: float64(1), int64(1), object(2)\n",
      "memory usage: 6.9+ MB\n",
      "<class 'pandas.core.frame.DataFrame'>\n",
      "RangeIndex: 9992 entries, 0 to 9991\n",
      "Data columns (total 6 columns):\n",
      " #   Column    Non-Null Count  Dtype  \n",
      "---  ------    --------------  -----  \n",
      " 0   sku       9992 non-null   object \n",
      " 1   name      9992 non-null   object \n",
      " 2   desc      9992 non-null   object \n",
      " 3   price     9992 non-null   float64\n",
      " 4   in_stock  9992 non-null   int64  \n",
      " 5   type      9946 non-null   object \n",
      "dtypes: float64(1), int64(1), object(4)\n",
      "memory usage: 468.5+ KB\n"
     ]
    }
   ],
   "source": [
    "orderlines_cl.info()\n",
    "orders_cl.info()\n",
    "products_cl.info()"
   ]
  },
  {
   "cell_type": "code",
   "execution_count": 164,
   "metadata": {},
   "outputs": [],
   "source": [
    "ord_df = orders_cl.copy()\n",
    "ol_df = orderlines_cl.copy()\n",
    "prod_df = products_cl.copy()"
   ]
  },
  {
   "cell_type": "markdown",
   "metadata": {
    "id": "GjQD8WPe6h0i"
   },
   "source": [
    "## 1.&nbsp; Define Pandas display format"
   ]
  },
  {
   "cell_type": "code",
   "execution_count": 165,
   "metadata": {
    "id": "SLikKmNx4WNo"
   },
   "outputs": [
    {
     "data": {
      "text/html": [
       "<div>\n",
       "<style scoped>\n",
       "    .dataframe tbody tr th:only-of-type {\n",
       "        vertical-align: middle;\n",
       "    }\n",
       "\n",
       "    .dataframe tbody tr th {\n",
       "        vertical-align: top;\n",
       "    }\n",
       "\n",
       "    .dataframe thead th {\n",
       "        text-align: right;\n",
       "    }\n",
       "</style>\n",
       "<table border=\"1\" class=\"dataframe\">\n",
       "  <thead>\n",
       "    <tr style=\"text-align: right;\">\n",
       "      <th></th>\n",
       "      <th>order_id</th>\n",
       "      <th>created_date</th>\n",
       "      <th>total_paid</th>\n",
       "      <th>state</th>\n",
       "    </tr>\n",
       "  </thead>\n",
       "  <tbody>\n",
       "    <tr>\n",
       "      <th>0</th>\n",
       "      <td>241319</td>\n",
       "      <td>2017-01-02 13:35:40</td>\n",
       "      <td>44.99</td>\n",
       "      <td>Cancelled</td>\n",
       "    </tr>\n",
       "    <tr>\n",
       "      <th>1</th>\n",
       "      <td>241423</td>\n",
       "      <td>2017-11-06 13:10:02</td>\n",
       "      <td>136.15</td>\n",
       "      <td>Completed</td>\n",
       "    </tr>\n",
       "    <tr>\n",
       "      <th>2</th>\n",
       "      <td>242832</td>\n",
       "      <td>2017-12-31 17:40:03</td>\n",
       "      <td>15.76</td>\n",
       "      <td>Completed</td>\n",
       "    </tr>\n",
       "    <tr>\n",
       "      <th>3</th>\n",
       "      <td>243330</td>\n",
       "      <td>2017-02-16 10:59:38</td>\n",
       "      <td>84.98</td>\n",
       "      <td>Completed</td>\n",
       "    </tr>\n",
       "    <tr>\n",
       "      <th>4</th>\n",
       "      <td>243784</td>\n",
       "      <td>2017-11-24 13:35:19</td>\n",
       "      <td>157.86</td>\n",
       "      <td>Cancelled</td>\n",
       "    </tr>\n",
       "    <tr>\n",
       "      <th>...</th>\n",
       "      <td>...</td>\n",
       "      <td>...</td>\n",
       "      <td>...</td>\n",
       "      <td>...</td>\n",
       "    </tr>\n",
       "    <tr>\n",
       "      <th>226899</th>\n",
       "      <td>527397</td>\n",
       "      <td>2018-03-14 13:56:38</td>\n",
       "      <td>42.99</td>\n",
       "      <td>Place Order</td>\n",
       "    </tr>\n",
       "    <tr>\n",
       "      <th>226900</th>\n",
       "      <td>527398</td>\n",
       "      <td>2018-03-14 13:57:25</td>\n",
       "      <td>42.99</td>\n",
       "      <td>Shopping Basket</td>\n",
       "    </tr>\n",
       "    <tr>\n",
       "      <th>226901</th>\n",
       "      <td>527399</td>\n",
       "      <td>2018-03-14 13:57:34</td>\n",
       "      <td>141.58</td>\n",
       "      <td>Shopping Basket</td>\n",
       "    </tr>\n",
       "    <tr>\n",
       "      <th>226902</th>\n",
       "      <td>527400</td>\n",
       "      <td>2018-03-14 13:57:41</td>\n",
       "      <td>19.98</td>\n",
       "      <td>Shopping Basket</td>\n",
       "    </tr>\n",
       "    <tr>\n",
       "      <th>226903</th>\n",
       "      <td>527401</td>\n",
       "      <td>2018-03-14 13:58:36</td>\n",
       "      <td>18.98</td>\n",
       "      <td>Place Order</td>\n",
       "    </tr>\n",
       "  </tbody>\n",
       "</table>\n",
       "<p>226904 rows × 4 columns</p>\n",
       "</div>"
      ],
      "text/plain": [
       "        order_id         created_date  total_paid            state\n",
       "0         241319  2017-01-02 13:35:40       44.99        Cancelled\n",
       "1         241423  2017-11-06 13:10:02      136.15        Completed\n",
       "2         242832  2017-12-31 17:40:03       15.76        Completed\n",
       "3         243330  2017-02-16 10:59:38       84.98        Completed\n",
       "4         243784  2017-11-24 13:35:19      157.86        Cancelled\n",
       "...          ...                  ...         ...              ...\n",
       "226899    527397  2018-03-14 13:56:38       42.99      Place Order\n",
       "226900    527398  2018-03-14 13:57:25       42.99  Shopping Basket\n",
       "226901    527399  2018-03-14 13:57:34      141.58  Shopping Basket\n",
       "226902    527400  2018-03-14 13:57:41       19.98  Shopping Basket\n",
       "226903    527401  2018-03-14 13:58:36       18.98      Place Order\n",
       "\n",
       "[226904 rows x 4 columns]"
      ]
     },
     "execution_count": 165,
     "metadata": {},
     "output_type": "execute_result"
    }
   ],
   "source": [
    "# your code here\n",
    "pd.set_option('display.float_format', lambda x: '%.2f' % x)\n",
    "#pd.set_option('display.max_rows', 1000)\n",
    "prod_df\n",
    "ol_df\n",
    "ord_df"
   ]
  },
  {
   "cell_type": "markdown",
   "metadata": {
    "id": "M0NhTKzF6jV4"
   },
   "source": [
    "## 2.&nbsp; Exclude unwanted orders"
   ]
  },
  {
   "cell_type": "code",
   "execution_count": 166,
   "metadata": {
    "id": "ja0XpsDDkZrT"
   },
   "outputs": [
    {
     "data": {
      "text/html": [
       "<div>\n",
       "<style scoped>\n",
       "    .dataframe tbody tr th:only-of-type {\n",
       "        vertical-align: middle;\n",
       "    }\n",
       "\n",
       "    .dataframe tbody tr th {\n",
       "        vertical-align: top;\n",
       "    }\n",
       "\n",
       "    .dataframe thead th {\n",
       "        text-align: right;\n",
       "    }\n",
       "</style>\n",
       "<table border=\"1\" class=\"dataframe\">\n",
       "  <thead>\n",
       "    <tr style=\"text-align: right;\">\n",
       "      <th></th>\n",
       "      <th>order_id</th>\n",
       "      <th>created_date</th>\n",
       "      <th>total_paid</th>\n",
       "    </tr>\n",
       "    <tr>\n",
       "      <th>state</th>\n",
       "      <th></th>\n",
       "      <th></th>\n",
       "      <th></th>\n",
       "    </tr>\n",
       "  </thead>\n",
       "  <tbody>\n",
       "    <tr>\n",
       "      <th>Cancelled</th>\n",
       "      <td>7233</td>\n",
       "      <td>7233</td>\n",
       "      <td>7233</td>\n",
       "    </tr>\n",
       "    <tr>\n",
       "      <th>Completed</th>\n",
       "      <td>46605</td>\n",
       "      <td>46605</td>\n",
       "      <td>46605</td>\n",
       "    </tr>\n",
       "    <tr>\n",
       "      <th>Pending</th>\n",
       "      <td>14374</td>\n",
       "      <td>14374</td>\n",
       "      <td>14374</td>\n",
       "    </tr>\n",
       "    <tr>\n",
       "      <th>Place Order</th>\n",
       "      <td>40883</td>\n",
       "      <td>40883</td>\n",
       "      <td>40883</td>\n",
       "    </tr>\n",
       "    <tr>\n",
       "      <th>Shopping Basket</th>\n",
       "      <td>117809</td>\n",
       "      <td>117809</td>\n",
       "      <td>117809</td>\n",
       "    </tr>\n",
       "  </tbody>\n",
       "</table>\n",
       "</div>"
      ],
      "text/plain": [
       "                 order_id  created_date  total_paid\n",
       "state                                              \n",
       "Cancelled            7233          7233        7233\n",
       "Completed           46605         46605       46605\n",
       "Pending             14374         14374       14374\n",
       "Place Order         40883         40883       40883\n",
       "Shopping Basket    117809        117809      117809"
      ]
     },
     "execution_count": 166,
     "metadata": {},
     "output_type": "execute_result"
    }
   ],
   "source": [
    "# your code here\n",
    "ord_df.groupby('state').count()\n",
    "#ord_df.groupby('state').count()['order_id'].sum() # = 226904: countercheck to check if equals the n. of rows"
   ]
  },
  {
   "cell_type": "code",
   "execution_count": 167,
   "metadata": {},
   "outputs": [
    {
     "name": "stdout",
     "output_type": "stream",
     "text": [
      "<class 'pandas.core.frame.DataFrame'>\n",
      "Index: 46605 entries, 1 to 226614\n",
      "Data columns (total 4 columns):\n",
      " #   Column        Non-Null Count  Dtype  \n",
      "---  ------        --------------  -----  \n",
      " 0   order_id      46605 non-null  int64  \n",
      " 1   created_date  46605 non-null  object \n",
      " 2   total_paid    46605 non-null  float64\n",
      " 3   state         46605 non-null  object \n",
      "dtypes: float64(1), int64(1), object(2)\n",
      "memory usage: 1.8+ MB\n"
     ]
    },
    {
     "data": {
      "text/plain": [
       "array(['Completed'], dtype=object)"
      ]
     },
     "execution_count": 167,
     "metadata": {},
     "output_type": "execute_result"
    }
   ],
   "source": [
    "# df.drop(...<rows to drop>..)\n",
    "states_to_drop = ['Cancelled', 'Shopping Basket', 'Pending', 'Place Order']\n",
    "ord_df[ord_df['state'].isin(states_to_drop) == False]\n",
    "ord_df = ord_df[ord_df['state'].isin(states_to_drop) == False]\n",
    "ord_df.info()\n",
    "ord_df.state.unique()"
   ]
  },
  {
   "cell_type": "markdown",
   "metadata": {},
   "source": [
    "## make sure that orders in the dataset are in both orders and orderlines"
   ]
  },
  {
   "cell_type": "code",
   "execution_count": 168,
   "metadata": {},
   "outputs": [
    {
     "data": {
      "text/plain": [
       "((216250, 7), (46605, 4))"
      ]
     },
     "execution_count": 168,
     "metadata": {},
     "output_type": "execute_result"
    }
   ],
   "source": [
    "ol_df.shape, ord_df.shape"
   ]
  },
  {
   "cell_type": "code",
   "execution_count": 169,
   "metadata": {},
   "outputs": [
    {
     "data": {
      "text/plain": [
       "(id                  216250\n",
       " id_order            170213\n",
       " product_id               1\n",
       " product_quantity        61\n",
       " sku                   6798\n",
       " unit_price            7707\n",
       " date                207366\n",
       " dtype: int64,\n",
       " order_id        46605\n",
       " created_date    46506\n",
       " total_paid      12834\n",
       " state               1\n",
       " dtype: int64)"
      ]
     },
     "execution_count": 169,
     "metadata": {},
     "output_type": "execute_result"
    }
   ],
   "source": [
    "ol_df.nunique(), ord_df.nunique()"
   ]
  },
  {
   "cell_type": "code",
   "execution_count": 170,
   "metadata": {},
   "outputs": [
    {
     "name": "stdout",
     "output_type": "stream",
     "text": [
      "ord_df has 46605 unique orders\n",
      "46605 <class 'numpy.ndarray'>\n"
     ]
    }
   ],
   "source": [
    "print('ord_df has', ord_df.order_id.nunique(), 'unique orders')\n",
    "ord_df_ids = ord_df.order_id.unique()\n",
    "print(len(ord_df_ids), type(ord_df_ids))"
   ]
  },
  {
   "cell_type": "code",
   "execution_count": 171,
   "metadata": {},
   "outputs": [
    {
     "name": "stdout",
     "output_type": "stream",
     "text": [
      "(56714, 7)\n"
     ]
    },
    {
     "data": {
      "text/plain": [
       "id                  56714\n",
       "id_order            43064\n",
       "product_id              1\n",
       "product_quantity       27\n",
       "sku                  5400\n",
       "unit_price           4929\n",
       "date                56271\n",
       "dtype: int64"
      ]
     },
     "execution_count": 171,
     "metadata": {},
     "output_type": "execute_result"
    }
   ],
   "source": [
    "ol_df = ol_df[ol_df['id_order'].isin(ord_df_ids)]\n",
    "print(ol_df.shape)\n",
    "ol_df.nunique()"
   ]
  },
  {
   "cell_type": "code",
   "execution_count": 172,
   "metadata": {},
   "outputs": [],
   "source": [
    "ol_df_ids = ol_df.id_order.unique()"
   ]
  },
  {
   "cell_type": "code",
   "execution_count": 173,
   "metadata": {},
   "outputs": [
    {
     "name": "stdout",
     "output_type": "stream",
     "text": [
      "(46605, 4)\n"
     ]
    },
    {
     "data": {
      "text/html": [
       "<div>\n",
       "<style scoped>\n",
       "    .dataframe tbody tr th:only-of-type {\n",
       "        vertical-align: middle;\n",
       "    }\n",
       "\n",
       "    .dataframe tbody tr th {\n",
       "        vertical-align: top;\n",
       "    }\n",
       "\n",
       "    .dataframe thead th {\n",
       "        text-align: right;\n",
       "    }\n",
       "</style>\n",
       "<table border=\"1\" class=\"dataframe\">\n",
       "  <thead>\n",
       "    <tr style=\"text-align: right;\">\n",
       "      <th></th>\n",
       "      <th>order_id</th>\n",
       "      <th>created_date</th>\n",
       "      <th>total_paid</th>\n",
       "      <th>state</th>\n",
       "    </tr>\n",
       "  </thead>\n",
       "  <tbody>\n",
       "    <tr>\n",
       "      <th>1</th>\n",
       "      <td>241423</td>\n",
       "      <td>2017-11-06 13:10:02</td>\n",
       "      <td>136.15</td>\n",
       "      <td>Completed</td>\n",
       "    </tr>\n",
       "    <tr>\n",
       "      <th>2</th>\n",
       "      <td>242832</td>\n",
       "      <td>2017-12-31 17:40:03</td>\n",
       "      <td>15.76</td>\n",
       "      <td>Completed</td>\n",
       "    </tr>\n",
       "    <tr>\n",
       "      <th>3</th>\n",
       "      <td>243330</td>\n",
       "      <td>2017-02-16 10:59:38</td>\n",
       "      <td>84.98</td>\n",
       "      <td>Completed</td>\n",
       "    </tr>\n",
       "    <tr>\n",
       "      <th>5</th>\n",
       "      <td>245275</td>\n",
       "      <td>2017-06-28 11:35:37</td>\n",
       "      <td>149.00</td>\n",
       "      <td>Completed</td>\n",
       "    </tr>\n",
       "    <tr>\n",
       "      <th>6</th>\n",
       "      <td>245595</td>\n",
       "      <td>2017-01-21 12:52:47</td>\n",
       "      <td>112.97</td>\n",
       "      <td>Completed</td>\n",
       "    </tr>\n",
       "    <tr>\n",
       "      <th>...</th>\n",
       "      <td>...</td>\n",
       "      <td>...</td>\n",
       "      <td>...</td>\n",
       "      <td>...</td>\n",
       "    </tr>\n",
       "    <tr>\n",
       "      <th>226544</th>\n",
       "      <td>527042</td>\n",
       "      <td>2018-03-14 11:47:50</td>\n",
       "      <td>18.98</td>\n",
       "      <td>Completed</td>\n",
       "    </tr>\n",
       "    <tr>\n",
       "      <th>226572</th>\n",
       "      <td>527070</td>\n",
       "      <td>2018-03-14 11:50:48</td>\n",
       "      <td>24.97</td>\n",
       "      <td>Completed</td>\n",
       "    </tr>\n",
       "    <tr>\n",
       "      <th>226576</th>\n",
       "      <td>527074</td>\n",
       "      <td>2018-03-14 11:51:42</td>\n",
       "      <td>24.97</td>\n",
       "      <td>Completed</td>\n",
       "    </tr>\n",
       "    <tr>\n",
       "      <th>226598</th>\n",
       "      <td>527096</td>\n",
       "      <td>2018-03-14 11:58:40</td>\n",
       "      <td>34.96</td>\n",
       "      <td>Completed</td>\n",
       "    </tr>\n",
       "    <tr>\n",
       "      <th>226614</th>\n",
       "      <td>527112</td>\n",
       "      <td>2018-03-14 12:03:52</td>\n",
       "      <td>14.98</td>\n",
       "      <td>Completed</td>\n",
       "    </tr>\n",
       "  </tbody>\n",
       "</table>\n",
       "<p>43064 rows × 4 columns</p>\n",
       "</div>"
      ],
      "text/plain": [
       "        order_id         created_date  total_paid      state\n",
       "1         241423  2017-11-06 13:10:02      136.15  Completed\n",
       "2         242832  2017-12-31 17:40:03       15.76  Completed\n",
       "3         243330  2017-02-16 10:59:38       84.98  Completed\n",
       "5         245275  2017-06-28 11:35:37      149.00  Completed\n",
       "6         245595  2017-01-21 12:52:47      112.97  Completed\n",
       "...          ...                  ...         ...        ...\n",
       "226544    527042  2018-03-14 11:47:50       18.98  Completed\n",
       "226572    527070  2018-03-14 11:50:48       24.97  Completed\n",
       "226576    527074  2018-03-14 11:51:42       24.97  Completed\n",
       "226598    527096  2018-03-14 11:58:40       34.96  Completed\n",
       "226614    527112  2018-03-14 12:03:52       14.98  Completed\n",
       "\n",
       "[43064 rows x 4 columns]"
      ]
     },
     "execution_count": 173,
     "metadata": {},
     "output_type": "execute_result"
    }
   ],
   "source": [
    "print(ord_df.shape)\n",
    "ord_df[ord_df['order_id'].isin(ol_df_ids)]"
   ]
  },
  {
   "cell_type": "code",
   "execution_count": 174,
   "metadata": {},
   "outputs": [
    {
     "name": "stdout",
     "output_type": "stream",
     "text": [
      "(56714, 7) (43064, 4)\n"
     ]
    },
    {
     "data": {
      "text/plain": [
       "(id                  56714\n",
       " id_order            43064\n",
       " product_id              1\n",
       " product_quantity       27\n",
       " sku                  5400\n",
       " unit_price           4929\n",
       " date                56271\n",
       " dtype: int64,\n",
       " order_id        43064\n",
       " created_date    42981\n",
       " total_paid      10714\n",
       " state               1\n",
       " dtype: int64)"
      ]
     },
     "execution_count": 174,
     "metadata": {},
     "output_type": "execute_result"
    }
   ],
   "source": [
    "ord_df = ord_df[ord_df['order_id'].isin(ol_df_ids)]\n",
    "print(ol_df.shape, ord_df.shape)\n",
    "ol_df.nunique(), ord_df.nunique()"
   ]
  },
  {
   "cell_type": "markdown",
   "metadata": {
    "id": "F-rtzwAn7WyS"
   },
   "source": [
    "## 3.&nbsp; Exclude orders with unknown products\n"
   ]
  },
  {
   "cell_type": "code",
   "execution_count": 175,
   "metadata": {
    "id": "EkNqtrfdJGAW"
   },
   "outputs": [
    {
     "name": "stdout",
     "output_type": "stream",
     "text": [
      "9992\n",
      "9992\n",
      "<class 'pandas.core.frame.DataFrame'>\n",
      "RangeIndex: 9992 entries, 0 to 9991\n",
      "Data columns (total 6 columns):\n",
      " #   Column    Non-Null Count  Dtype  \n",
      "---  ------    --------------  -----  \n",
      " 0   sku       9992 non-null   object \n",
      " 1   name      9992 non-null   object \n",
      " 2   desc      9992 non-null   object \n",
      " 3   price     9992 non-null   float64\n",
      " 4   in_stock  9992 non-null   int64  \n",
      " 5   type      9946 non-null   object \n",
      "dtypes: float64(1), int64(1), object(4)\n",
      "memory usage: 468.5+ KB\n"
     ]
    }
   ],
   "source": [
    "# your code here\n",
    "print(len(prod_df))\n",
    "all_prod = prod_df.sku.unique()\n",
    "print(len(all_prod))\n",
    "prod_df.info()"
   ]
  },
  {
   "cell_type": "code",
   "execution_count": 176,
   "metadata": {},
   "outputs": [
    {
     "name": "stdout",
     "output_type": "stream",
     "text": [
      "(56714, 7)\n"
     ]
    },
    {
     "data": {
      "text/plain": [
       "id                  56714\n",
       "id_order            43064\n",
       "product_id              1\n",
       "product_quantity       27\n",
       "sku                  5400\n",
       "unit_price           4929\n",
       "date                56271\n",
       "dtype: int64"
      ]
     },
     "execution_count": 176,
     "metadata": {},
     "output_type": "execute_result"
    }
   ],
   "source": [
    "print(ol_df.shape)\n",
    "ol_df.nunique()"
   ]
  },
  {
   "cell_type": "code",
   "execution_count": 177,
   "metadata": {},
   "outputs": [
    {
     "data": {
      "text/plain": [
       "sku\n",
       "True     55320\n",
       "False     1394\n",
       "Name: count, dtype: int64"
      ]
     },
     "execution_count": 177,
     "metadata": {},
     "output_type": "execute_result"
    }
   ],
   "source": [
    "ol_df['sku'].isin(all_prod).value_counts()"
   ]
  },
  {
   "cell_type": "code",
   "execution_count": 178,
   "metadata": {},
   "outputs": [
    {
     "data": {
      "text/plain": [
       "id                  1394\n",
       "id_order            1394\n",
       "product_id          1394\n",
       "product_quantity    1394\n",
       "sku                 1394\n",
       "unit_price          1394\n",
       "date                1394\n",
       "dtype: int64"
      ]
     },
     "execution_count": 178,
     "metadata": {},
     "output_type": "execute_result"
    }
   ],
   "source": [
    "ol_df[~ol_df['sku'].isin(all_prod)].count()"
   ]
  },
  {
   "cell_type": "code",
   "execution_count": 179,
   "metadata": {},
   "outputs": [
    {
     "data": {
      "text/html": [
       "<div>\n",
       "<style scoped>\n",
       "    .dataframe tbody tr th:only-of-type {\n",
       "        vertical-align: middle;\n",
       "    }\n",
       "\n",
       "    .dataframe tbody tr th {\n",
       "        vertical-align: top;\n",
       "    }\n",
       "\n",
       "    .dataframe thead th {\n",
       "        text-align: right;\n",
       "    }\n",
       "</style>\n",
       "<table border=\"1\" class=\"dataframe\">\n",
       "  <thead>\n",
       "    <tr style=\"text-align: right;\">\n",
       "      <th></th>\n",
       "      <th>id</th>\n",
       "      <th>id_order</th>\n",
       "      <th>product_id</th>\n",
       "      <th>product_quantity</th>\n",
       "      <th>sku</th>\n",
       "      <th>unit_price</th>\n",
       "      <th>date</th>\n",
       "    </tr>\n",
       "  </thead>\n",
       "  <tbody>\n",
       "    <tr>\n",
       "      <th>99</th>\n",
       "      <td>1119316</td>\n",
       "      <td>299638</td>\n",
       "      <td>0</td>\n",
       "      <td>1</td>\n",
       "      <td>SYN0127</td>\n",
       "      <td>223.24</td>\n",
       "      <td>2017-01-01 11:56:18</td>\n",
       "    </tr>\n",
       "    <tr>\n",
       "      <th>167</th>\n",
       "      <td>1119477</td>\n",
       "      <td>299706</td>\n",
       "      <td>0</td>\n",
       "      <td>1</td>\n",
       "      <td>EVU0007</td>\n",
       "      <td>28.49</td>\n",
       "      <td>2017-01-01 13:57:16</td>\n",
       "    </tr>\n",
       "    <tr>\n",
       "      <th>173</th>\n",
       "      <td>1119494</td>\n",
       "      <td>299712</td>\n",
       "      <td>0</td>\n",
       "      <td>1</td>\n",
       "      <td>APP0608</td>\n",
       "      <td>279.99</td>\n",
       "      <td>2017-01-01 14:10:47</td>\n",
       "    </tr>\n",
       "    <tr>\n",
       "      <th>303</th>\n",
       "      <td>1119745</td>\n",
       "      <td>299860</td>\n",
       "      <td>0</td>\n",
       "      <td>1</td>\n",
       "      <td>PAC1516</td>\n",
       "      <td>457.89</td>\n",
       "      <td>2017-01-01 18:40:38</td>\n",
       "    </tr>\n",
       "    <tr>\n",
       "      <th>323</th>\n",
       "      <td>1119800</td>\n",
       "      <td>299881</td>\n",
       "      <td>0</td>\n",
       "      <td>1</td>\n",
       "      <td>SAN0137</td>\n",
       "      <td>49.39</td>\n",
       "      <td>2017-01-01 19:13:45</td>\n",
       "    </tr>\n",
       "    <tr>\n",
       "      <th>...</th>\n",
       "      <td>...</td>\n",
       "      <td>...</td>\n",
       "      <td>...</td>\n",
       "      <td>...</td>\n",
       "      <td>...</td>\n",
       "      <td>...</td>\n",
       "      <td>...</td>\n",
       "    </tr>\n",
       "    <tr>\n",
       "      <th>214989</th>\n",
       "      <td>1647363</td>\n",
       "      <td>526037</td>\n",
       "      <td>0</td>\n",
       "      <td>1</td>\n",
       "      <td>FIB0008</td>\n",
       "      <td>59.99</td>\n",
       "      <td>2018-03-12 16:52:46</td>\n",
       "    </tr>\n",
       "    <tr>\n",
       "      <th>214998</th>\n",
       "      <td>1647388</td>\n",
       "      <td>526048</td>\n",
       "      <td>0</td>\n",
       "      <td>1</td>\n",
       "      <td>SEV0024</td>\n",
       "      <td>59.99</td>\n",
       "      <td>2018-03-12 17:20:40</td>\n",
       "    </tr>\n",
       "    <tr>\n",
       "      <th>215056</th>\n",
       "      <td>1647526</td>\n",
       "      <td>526106</td>\n",
       "      <td>0</td>\n",
       "      <td>1</td>\n",
       "      <td>IFX0020</td>\n",
       "      <td>10.99</td>\n",
       "      <td>2018-03-12 19:09:54</td>\n",
       "    </tr>\n",
       "    <tr>\n",
       "      <th>215068</th>\n",
       "      <td>1647561</td>\n",
       "      <td>526122</td>\n",
       "      <td>0</td>\n",
       "      <td>1</td>\n",
       "      <td>IOT0018</td>\n",
       "      <td>24.99</td>\n",
       "      <td>2018-03-12 20:04:49</td>\n",
       "    </tr>\n",
       "    <tr>\n",
       "      <th>215267</th>\n",
       "      <td>1648130</td>\n",
       "      <td>526363</td>\n",
       "      <td>0</td>\n",
       "      <td>1</td>\n",
       "      <td>CRU0015-2</td>\n",
       "      <td>162.99</td>\n",
       "      <td>2018-03-13 11:44:00</td>\n",
       "    </tr>\n",
       "  </tbody>\n",
       "</table>\n",
       "<p>1394 rows × 7 columns</p>\n",
       "</div>"
      ],
      "text/plain": [
       "             id  id_order  product_id  product_quantity        sku  \\\n",
       "99      1119316    299638           0                 1    SYN0127   \n",
       "167     1119477    299706           0                 1    EVU0007   \n",
       "173     1119494    299712           0                 1    APP0608   \n",
       "303     1119745    299860           0                 1    PAC1516   \n",
       "323     1119800    299881           0                 1    SAN0137   \n",
       "...         ...       ...         ...               ...        ...   \n",
       "214989  1647363    526037           0                 1    FIB0008   \n",
       "214998  1647388    526048           0                 1    SEV0024   \n",
       "215056  1647526    526106           0                 1    IFX0020   \n",
       "215068  1647561    526122           0                 1    IOT0018   \n",
       "215267  1648130    526363           0                 1  CRU0015-2   \n",
       "\n",
       "        unit_price                 date  \n",
       "99          223.24  2017-01-01 11:56:18  \n",
       "167          28.49  2017-01-01 13:57:16  \n",
       "173         279.99  2017-01-01 14:10:47  \n",
       "303         457.89  2017-01-01 18:40:38  \n",
       "323          49.39  2017-01-01 19:13:45  \n",
       "...            ...                  ...  \n",
       "214989       59.99  2018-03-12 16:52:46  \n",
       "214998       59.99  2018-03-12 17:20:40  \n",
       "215056       10.99  2018-03-12 19:09:54  \n",
       "215068       24.99  2018-03-12 20:04:49  \n",
       "215267      162.99  2018-03-13 11:44:00  \n",
       "\n",
       "[1394 rows x 7 columns]"
      ]
     },
     "execution_count": 179,
     "metadata": {},
     "output_type": "execute_result"
    }
   ],
   "source": [
    "# all the rows containing products not listed in the products dataset\n",
    "ol_df[~ol_df['sku'].isin(all_prod)]"
   ]
  },
  {
   "cell_type": "code",
   "execution_count": 180,
   "metadata": {},
   "outputs": [
    {
     "name": "stdout",
     "output_type": "stream",
     "text": [
      "1394\n"
     ]
    }
   ],
   "source": [
    "corrupted_id_orders = ol_df.loc[~ol_df['sku'].isin(all_prod), 'id_order']\n",
    "print(len(corrupted_id_orders))"
   ]
  },
  {
   "cell_type": "code",
   "execution_count": 181,
   "metadata": {},
   "outputs": [
    {
     "name": "stdout",
     "output_type": "stream",
     "text": [
      "(56714, 7) (43064, 4)\n"
     ]
    },
    {
     "data": {
      "text/plain": [
       "(id                  56714\n",
       " id_order            43064\n",
       " product_id              1\n",
       " product_quantity       27\n",
       " sku                  5400\n",
       " unit_price           4929\n",
       " date                56271\n",
       " dtype: int64,\n",
       " order_id        43064\n",
       " created_date    42981\n",
       " total_paid      10714\n",
       " state               1\n",
       " dtype: int64)"
      ]
     },
     "execution_count": 181,
     "metadata": {},
     "output_type": "execute_result"
    }
   ],
   "source": [
    "print(ol_df.shape, ord_df.shape)\n",
    "ol_df.nunique(), ord_df.nunique()"
   ]
  },
  {
   "cell_type": "code",
   "execution_count": 182,
   "metadata": {},
   "outputs": [
    {
     "name": "stdout",
     "output_type": "stream",
     "text": [
      "corrupted orders in orderlines dataset: 2390 \n",
      "corrupted orders in orders dataset: 1363 \n",
      "\n"
     ]
    }
   ],
   "source": [
    "# print number of corrupted orders in orderlines dataset and in orders dataset\n",
    "print(\n",
    "    'corrupted orders in orderlines dataset:', ol_df[ol_df['id_order'].isin(corrupted_id_orders)].shape[0],\n",
    "    '\\ncorrupted orders in orders dataset:', ord_df[ord_df['order_id'].isin(corrupted_id_orders)].shape[0], '\\n'\n",
    ")"
   ]
  },
  {
   "cell_type": "code",
   "execution_count": 183,
   "metadata": {},
   "outputs": [],
   "source": [
    "ol_df = ol_df[~ol_df['id_order'].isin(corrupted_id_orders)]\n",
    "ord_df = ord_df[~ord_df['order_id'].isin(corrupted_id_orders)]"
   ]
  },
  {
   "cell_type": "code",
   "execution_count": 184,
   "metadata": {},
   "outputs": [
    {
     "data": {
      "text/plain": [
       "(54324, 41701)"
      ]
     },
     "execution_count": 184,
     "metadata": {},
     "output_type": "execute_result"
    }
   ],
   "source": [
    "56714 - 2390, 43064 - 1363"
   ]
  },
  {
   "cell_type": "code",
   "execution_count": 185,
   "metadata": {
    "scrolled": true
   },
   "outputs": [
    {
     "name": "stdout",
     "output_type": "stream",
     "text": [
      "(54324, 7) (41701, 4) (9992, 6)\n"
     ]
    },
    {
     "data": {
      "text/plain": [
       "(id                  54324\n",
       " id_order            41701\n",
       " product_id              1\n",
       " product_quantity       27\n",
       " sku                  5140\n",
       " unit_price           4735\n",
       " date                53921\n",
       " dtype: int64,\n",
       " order_id        41701\n",
       " created_date    41626\n",
       " total_paid      10296\n",
       " state               1\n",
       " dtype: int64,\n",
       " sku         9992\n",
       " name        9836\n",
       " desc        6769\n",
       " price       2332\n",
       " in_stock       2\n",
       " type         125\n",
       " dtype: int64)"
      ]
     },
     "execution_count": 185,
     "metadata": {},
     "output_type": "execute_result"
    }
   ],
   "source": [
    "print(ol_df.shape, ord_df.shape, prod_df.shape)\n",
    "ol_df.nunique(), ord_df.nunique(), prod_df.nunique()"
   ]
  },
  {
   "cell_type": "markdown",
   "metadata": {
    "id": "bCLu78B07gN1"
   },
   "source": [
    "## 4.&nbsp; Explore the revenue from different tables"
   ]
  },
  {
   "cell_type": "code",
   "execution_count": 186,
   "metadata": {},
   "outputs": [],
   "source": [
    "backup_ol_df = ol_df.copy()\n",
    "backup_ord_df = ord_df.copy()\n",
    "backup_prod_df = prod_df.copy()"
   ]
  },
  {
   "cell_type": "code",
   "execution_count": 187,
   "metadata": {},
   "outputs": [
    {
     "data": {
      "text/plain": [
       "order_id        0\n",
       "created_date    0\n",
       "total_paid      0\n",
       "state           0\n",
       "dtype: int64"
      ]
     },
     "execution_count": 187,
     "metadata": {},
     "output_type": "execute_result"
    }
   ],
   "source": [
    "# search for missing values in the dataset, e.g. Nan; this df is already the clean one\n",
    "ord_df.isna().sum()"
   ]
  },
  {
   "cell_type": "code",
   "execution_count": 188,
   "metadata": {},
   "outputs": [
    {
     "data": {
      "text/plain": [
       "0"
      ]
     },
     "execution_count": 188,
     "metadata": {},
     "output_type": "execute_result"
    }
   ],
   "source": [
    "ord_df.total_paid.astype(str).str.contains(\"\\d+\\.\\d+\\.\\d+\").sum()"
   ]
  },
  {
   "cell_type": "code",
   "execution_count": 189,
   "metadata": {},
   "outputs": [
    {
     "data": {
      "text/plain": [
       "0"
      ]
     },
     "execution_count": 189,
     "metadata": {},
     "output_type": "execute_result"
    }
   ],
   "source": [
    "ol_df.unit_price.isna().sum()"
   ]
  },
  {
   "cell_type": "code",
   "execution_count": 193,
   "metadata": {},
   "outputs": [
    {
     "data": {
      "text/plain": [
       "0"
      ]
     },
     "execution_count": 193,
     "metadata": {},
     "output_type": "execute_result"
    }
   ],
   "source": [
    "ol_df.unit_price.astype(str).str.contains(\"\\d+\\.\\d+\\.\\d+\").sum()"
   ]
  },
  {
   "cell_type": "markdown",
   "metadata": {
    "id": "CrmrCXypbflw"
   },
   "source": [
    "#### Step 1:\n",
    "Create the `unit_price_total` as `orderlines.unit_price` * `orderlines.product_quantity`"
   ]
  },
  {
   "cell_type": "code",
   "execution_count": 194,
   "metadata": {
    "id": "c8MApY6jatlO"
   },
   "outputs": [
    {
     "data": {
      "text/html": [
       "<div>\n",
       "<style scoped>\n",
       "    .dataframe tbody tr th:only-of-type {\n",
       "        vertical-align: middle;\n",
       "    }\n",
       "\n",
       "    .dataframe tbody tr th {\n",
       "        vertical-align: top;\n",
       "    }\n",
       "\n",
       "    .dataframe thead th {\n",
       "        text-align: right;\n",
       "    }\n",
       "</style>\n",
       "<table border=\"1\" class=\"dataframe\">\n",
       "  <thead>\n",
       "    <tr style=\"text-align: right;\">\n",
       "      <th></th>\n",
       "      <th>id</th>\n",
       "      <th>id_order</th>\n",
       "      <th>product_id</th>\n",
       "      <th>product_quantity</th>\n",
       "      <th>sku</th>\n",
       "      <th>unit_price</th>\n",
       "      <th>date</th>\n",
       "      <th>unit_price_total</th>\n",
       "    </tr>\n",
       "  </thead>\n",
       "  <tbody>\n",
       "    <tr>\n",
       "      <th>6</th>\n",
       "      <td>1119116</td>\n",
       "      <td>299545</td>\n",
       "      <td>0</td>\n",
       "      <td>1</td>\n",
       "      <td>OWC0100</td>\n",
       "      <td>47.49</td>\n",
       "      <td>2017-01-01 01:46:16</td>\n",
       "      <td>47.49</td>\n",
       "    </tr>\n",
       "    <tr>\n",
       "      <th>7</th>\n",
       "      <td>1119119</td>\n",
       "      <td>299546</td>\n",
       "      <td>0</td>\n",
       "      <td>1</td>\n",
       "      <td>IOT0014</td>\n",
       "      <td>18.99</td>\n",
       "      <td>2017-01-01 01:50:34</td>\n",
       "      <td>18.99</td>\n",
       "    </tr>\n",
       "    <tr>\n",
       "      <th>8</th>\n",
       "      <td>1119120</td>\n",
       "      <td>295347</td>\n",
       "      <td>0</td>\n",
       "      <td>1</td>\n",
       "      <td>APP0700</td>\n",
       "      <td>72.19</td>\n",
       "      <td>2017-01-01 01:54:11</td>\n",
       "      <td>72.19</td>\n",
       "    </tr>\n",
       "    <tr>\n",
       "      <th>15</th>\n",
       "      <td>1119134</td>\n",
       "      <td>299556</td>\n",
       "      <td>0</td>\n",
       "      <td>1</td>\n",
       "      <td>CRU0039-A</td>\n",
       "      <td>60.90</td>\n",
       "      <td>2017-01-01 02:20:14</td>\n",
       "      <td>60.90</td>\n",
       "    </tr>\n",
       "    <tr>\n",
       "      <th>21</th>\n",
       "      <td>1119145</td>\n",
       "      <td>299561</td>\n",
       "      <td>0</td>\n",
       "      <td>1</td>\n",
       "      <td>PEB0015</td>\n",
       "      <td>142.49</td>\n",
       "      <td>2017-01-01 02:38:50</td>\n",
       "      <td>142.49</td>\n",
       "    </tr>\n",
       "    <tr>\n",
       "      <th>...</th>\n",
       "      <td>...</td>\n",
       "      <td>...</td>\n",
       "      <td>...</td>\n",
       "      <td>...</td>\n",
       "      <td>...</td>\n",
       "      <td>...</td>\n",
       "      <td>...</td>\n",
       "      <td>...</td>\n",
       "    </tr>\n",
       "    <tr>\n",
       "      <th>215889</th>\n",
       "      <td>1649474</td>\n",
       "      <td>525664</td>\n",
       "      <td>0</td>\n",
       "      <td>1</td>\n",
       "      <td>TUC0207</td>\n",
       "      <td>16.52</td>\n",
       "      <td>2018-03-14 11:45:05</td>\n",
       "      <td>16.52</td>\n",
       "    </tr>\n",
       "    <tr>\n",
       "      <th>215906</th>\n",
       "      <td>1649512</td>\n",
       "      <td>527070</td>\n",
       "      <td>0</td>\n",
       "      <td>2</td>\n",
       "      <td>APP0698</td>\n",
       "      <td>9.99</td>\n",
       "      <td>2018-03-14 11:49:01</td>\n",
       "      <td>19.98</td>\n",
       "    </tr>\n",
       "    <tr>\n",
       "      <th>215911</th>\n",
       "      <td>1649522</td>\n",
       "      <td>527074</td>\n",
       "      <td>0</td>\n",
       "      <td>2</td>\n",
       "      <td>APP0698</td>\n",
       "      <td>9.99</td>\n",
       "      <td>2018-03-14 11:49:36</td>\n",
       "      <td>19.98</td>\n",
       "    </tr>\n",
       "    <tr>\n",
       "      <th>215932</th>\n",
       "      <td>1649565</td>\n",
       "      <td>527096</td>\n",
       "      <td>0</td>\n",
       "      <td>3</td>\n",
       "      <td>APP0698</td>\n",
       "      <td>9.99</td>\n",
       "      <td>2018-03-14 11:54:35</td>\n",
       "      <td>29.97</td>\n",
       "    </tr>\n",
       "    <tr>\n",
       "      <th>215949</th>\n",
       "      <td>1649593</td>\n",
       "      <td>527112</td>\n",
       "      <td>0</td>\n",
       "      <td>1</td>\n",
       "      <td>APP0698</td>\n",
       "      <td>9.99</td>\n",
       "      <td>2018-03-14 11:58:13</td>\n",
       "      <td>9.99</td>\n",
       "    </tr>\n",
       "  </tbody>\n",
       "</table>\n",
       "<p>54324 rows × 8 columns</p>\n",
       "</div>"
      ],
      "text/plain": [
       "             id  id_order  product_id  product_quantity        sku  \\\n",
       "6       1119116    299545           0                 1    OWC0100   \n",
       "7       1119119    299546           0                 1    IOT0014   \n",
       "8       1119120    295347           0                 1    APP0700   \n",
       "15      1119134    299556           0                 1  CRU0039-A   \n",
       "21      1119145    299561           0                 1    PEB0015   \n",
       "...         ...       ...         ...               ...        ...   \n",
       "215889  1649474    525664           0                 1    TUC0207   \n",
       "215906  1649512    527070           0                 2    APP0698   \n",
       "215911  1649522    527074           0                 2    APP0698   \n",
       "215932  1649565    527096           0                 3    APP0698   \n",
       "215949  1649593    527112           0                 1    APP0698   \n",
       "\n",
       "        unit_price                 date  unit_price_total  \n",
       "6            47.49  2017-01-01 01:46:16             47.49  \n",
       "7            18.99  2017-01-01 01:50:34             18.99  \n",
       "8            72.19  2017-01-01 01:54:11             72.19  \n",
       "15           60.90  2017-01-01 02:20:14             60.90  \n",
       "21          142.49  2017-01-01 02:38:50            142.49  \n",
       "...            ...                  ...               ...  \n",
       "215889       16.52  2018-03-14 11:45:05             16.52  \n",
       "215906        9.99  2018-03-14 11:49:01             19.98  \n",
       "215911        9.99  2018-03-14 11:49:36             19.98  \n",
       "215932        9.99  2018-03-14 11:54:35             29.97  \n",
       "215949        9.99  2018-03-14 11:58:13              9.99  \n",
       "\n",
       "[54324 rows x 8 columns]"
      ]
     },
     "execution_count": 194,
     "metadata": {},
     "output_type": "execute_result"
    }
   ],
   "source": [
    "# your code here\n",
    "ol_df['unit_price_total'] = ol_df.unit_price*ol_df.product_quantity\n",
    "ol_df"
   ]
  },
  {
   "cell_type": "markdown",
   "metadata": {
    "id": "gkvMUjymbvSC"
   },
   "source": [
    "#### Step 2:\n",
    "Group by `id_order`, summarising by the sum of `unit_price_total`"
   ]
  },
  {
   "cell_type": "code",
   "execution_count": 195,
   "metadata": {
    "id": "4hasZA5BaH1k"
   },
   "outputs": [
    {
     "data": {
      "text/plain": [
       "id_order\n",
       "241423   129.16\n",
       "242832    10.77\n",
       "243330    77.99\n",
       "245275   149.00\n",
       "245595   105.98\n",
       "          ...  \n",
       "527042    13.99\n",
       "527070    19.98\n",
       "527074    19.98\n",
       "527096    29.97\n",
       "527112     9.99\n",
       "Name: unit_price_total, Length: 41701, dtype: float64"
      ]
     },
     "execution_count": 195,
     "metadata": {},
     "output_type": "execute_result"
    }
   ],
   "source": [
    "# your code here\n",
    "ol_df.groupby('id_order')['unit_price_total'].sum()"
   ]
  },
  {
   "cell_type": "markdown",
   "metadata": {
    "id": "_d1lwist8F6X"
   },
   "source": [
    "### What is the average difference between `total_paid` and `unit_price_total`?"
   ]
  },
  {
   "cell_type": "code",
   "execution_count": 196,
   "metadata": {
    "id": "5N02JPCMgyBU",
    "scrolled": true
   },
   "outputs": [
    {
     "data": {
      "text/html": [
       "<div>\n",
       "<style scoped>\n",
       "    .dataframe tbody tr th:only-of-type {\n",
       "        vertical-align: middle;\n",
       "    }\n",
       "\n",
       "    .dataframe tbody tr th {\n",
       "        vertical-align: top;\n",
       "    }\n",
       "\n",
       "    .dataframe thead th {\n",
       "        text-align: right;\n",
       "    }\n",
       "</style>\n",
       "<table border=\"1\" class=\"dataframe\">\n",
       "  <thead>\n",
       "    <tr style=\"text-align: right;\">\n",
       "      <th></th>\n",
       "      <th>order_id</th>\n",
       "      <th>total_paid</th>\n",
       "    </tr>\n",
       "  </thead>\n",
       "  <tbody>\n",
       "    <tr>\n",
       "      <th>1</th>\n",
       "      <td>241423</td>\n",
       "      <td>136.15</td>\n",
       "    </tr>\n",
       "    <tr>\n",
       "      <th>2</th>\n",
       "      <td>242832</td>\n",
       "      <td>15.76</td>\n",
       "    </tr>\n",
       "    <tr>\n",
       "      <th>3</th>\n",
       "      <td>243330</td>\n",
       "      <td>84.98</td>\n",
       "    </tr>\n",
       "    <tr>\n",
       "      <th>5</th>\n",
       "      <td>245275</td>\n",
       "      <td>149.00</td>\n",
       "    </tr>\n",
       "    <tr>\n",
       "      <th>6</th>\n",
       "      <td>245595</td>\n",
       "      <td>112.97</td>\n",
       "    </tr>\n",
       "    <tr>\n",
       "      <th>...</th>\n",
       "      <td>...</td>\n",
       "      <td>...</td>\n",
       "    </tr>\n",
       "    <tr>\n",
       "      <th>226544</th>\n",
       "      <td>527042</td>\n",
       "      <td>18.98</td>\n",
       "    </tr>\n",
       "    <tr>\n",
       "      <th>226572</th>\n",
       "      <td>527070</td>\n",
       "      <td>24.97</td>\n",
       "    </tr>\n",
       "    <tr>\n",
       "      <th>226576</th>\n",
       "      <td>527074</td>\n",
       "      <td>24.97</td>\n",
       "    </tr>\n",
       "    <tr>\n",
       "      <th>226598</th>\n",
       "      <td>527096</td>\n",
       "      <td>34.96</td>\n",
       "    </tr>\n",
       "    <tr>\n",
       "      <th>226614</th>\n",
       "      <td>527112</td>\n",
       "      <td>14.98</td>\n",
       "    </tr>\n",
       "  </tbody>\n",
       "</table>\n",
       "<p>41701 rows × 2 columns</p>\n",
       "</div>"
      ],
      "text/plain": [
       "        order_id  total_paid\n",
       "1         241423      136.15\n",
       "2         242832       15.76\n",
       "3         243330       84.98\n",
       "5         245275      149.00\n",
       "6         245595      112.97\n",
       "...          ...         ...\n",
       "226544    527042       18.98\n",
       "226572    527070       24.97\n",
       "226576    527074       24.97\n",
       "226598    527096       34.96\n",
       "226614    527112       14.98\n",
       "\n",
       "[41701 rows x 2 columns]"
      ]
     },
     "execution_count": 196,
     "metadata": {},
     "output_type": "execute_result"
    }
   ],
   "source": [
    "# your code here\n",
    "ord_df[['order_id', 'total_paid']]"
   ]
  },
  {
   "cell_type": "code",
   "execution_count": 197,
   "metadata": {},
   "outputs": [],
   "source": [
    "totalPaid_vs_unitPriceTotal = ord_df[['order_id', 'total_paid']].merge(\n",
    "                                ol_df.groupby('id_order')['unit_price_total'].sum(),\n",
    "                                how='left',\n",
    "                                left_on='order_id',\n",
    "                                right_on='id_order'\n",
    "                                )"
   ]
  },
  {
   "cell_type": "code",
   "execution_count": 198,
   "metadata": {
    "scrolled": true
   },
   "outputs": [
    {
     "data": {
      "text/html": [
       "<div>\n",
       "<style scoped>\n",
       "    .dataframe tbody tr th:only-of-type {\n",
       "        vertical-align: middle;\n",
       "    }\n",
       "\n",
       "    .dataframe tbody tr th {\n",
       "        vertical-align: top;\n",
       "    }\n",
       "\n",
       "    .dataframe thead th {\n",
       "        text-align: right;\n",
       "    }\n",
       "</style>\n",
       "<table border=\"1\" class=\"dataframe\">\n",
       "  <thead>\n",
       "    <tr style=\"text-align: right;\">\n",
       "      <th></th>\n",
       "      <th>order_id</th>\n",
       "      <th>total_paid</th>\n",
       "      <th>unit_price_total</th>\n",
       "    </tr>\n",
       "  </thead>\n",
       "  <tbody>\n",
       "    <tr>\n",
       "      <th>0</th>\n",
       "      <td>241423</td>\n",
       "      <td>136.15</td>\n",
       "      <td>129.16</td>\n",
       "    </tr>\n",
       "    <tr>\n",
       "      <th>1</th>\n",
       "      <td>242832</td>\n",
       "      <td>15.76</td>\n",
       "      <td>10.77</td>\n",
       "    </tr>\n",
       "    <tr>\n",
       "      <th>2</th>\n",
       "      <td>243330</td>\n",
       "      <td>84.98</td>\n",
       "      <td>77.99</td>\n",
       "    </tr>\n",
       "    <tr>\n",
       "      <th>3</th>\n",
       "      <td>245275</td>\n",
       "      <td>149.00</td>\n",
       "      <td>149.00</td>\n",
       "    </tr>\n",
       "    <tr>\n",
       "      <th>4</th>\n",
       "      <td>245595</td>\n",
       "      <td>112.97</td>\n",
       "      <td>105.98</td>\n",
       "    </tr>\n",
       "    <tr>\n",
       "      <th>...</th>\n",
       "      <td>...</td>\n",
       "      <td>...</td>\n",
       "      <td>...</td>\n",
       "    </tr>\n",
       "    <tr>\n",
       "      <th>41696</th>\n",
       "      <td>527042</td>\n",
       "      <td>18.98</td>\n",
       "      <td>13.99</td>\n",
       "    </tr>\n",
       "    <tr>\n",
       "      <th>41697</th>\n",
       "      <td>527070</td>\n",
       "      <td>24.97</td>\n",
       "      <td>19.98</td>\n",
       "    </tr>\n",
       "    <tr>\n",
       "      <th>41698</th>\n",
       "      <td>527074</td>\n",
       "      <td>24.97</td>\n",
       "      <td>19.98</td>\n",
       "    </tr>\n",
       "    <tr>\n",
       "      <th>41699</th>\n",
       "      <td>527096</td>\n",
       "      <td>34.96</td>\n",
       "      <td>29.97</td>\n",
       "    </tr>\n",
       "    <tr>\n",
       "      <th>41700</th>\n",
       "      <td>527112</td>\n",
       "      <td>14.98</td>\n",
       "      <td>9.99</td>\n",
       "    </tr>\n",
       "  </tbody>\n",
       "</table>\n",
       "<p>41701 rows × 3 columns</p>\n",
       "</div>"
      ],
      "text/plain": [
       "       order_id  total_paid  unit_price_total\n",
       "0        241423      136.15            129.16\n",
       "1        242832       15.76             10.77\n",
       "2        243330       84.98             77.99\n",
       "3        245275      149.00            149.00\n",
       "4        245595      112.97            105.98\n",
       "...         ...         ...               ...\n",
       "41696    527042       18.98             13.99\n",
       "41697    527070       24.97             19.98\n",
       "41698    527074       24.97             19.98\n",
       "41699    527096       34.96             29.97\n",
       "41700    527112       14.98              9.99\n",
       "\n",
       "[41701 rows x 3 columns]"
      ]
     },
     "execution_count": 198,
     "metadata": {},
     "output_type": "execute_result"
    }
   ],
   "source": [
    "totalPaid_vs_unitPriceTotal"
   ]
  },
  {
   "cell_type": "code",
   "execution_count": 199,
   "metadata": {},
   "outputs": [
    {
     "data": {
      "text/html": [
       "<div>\n",
       "<style scoped>\n",
       "    .dataframe tbody tr th:only-of-type {\n",
       "        vertical-align: middle;\n",
       "    }\n",
       "\n",
       "    .dataframe tbody tr th {\n",
       "        vertical-align: top;\n",
       "    }\n",
       "\n",
       "    .dataframe thead th {\n",
       "        text-align: right;\n",
       "    }\n",
       "</style>\n",
       "<table border=\"1\" class=\"dataframe\">\n",
       "  <thead>\n",
       "    <tr style=\"text-align: right;\">\n",
       "      <th></th>\n",
       "      <th>order_id</th>\n",
       "      <th>total_paid</th>\n",
       "      <th>unit_price_total</th>\n",
       "      <th>pay_diff</th>\n",
       "    </tr>\n",
       "  </thead>\n",
       "  <tbody>\n",
       "    <tr>\n",
       "      <th>97</th>\n",
       "      <td>297148</td>\n",
       "      <td>4069.54</td>\n",
       "      <td>84.55</td>\n",
       "      <td>3984.99</td>\n",
       "    </tr>\n",
       "    <tr>\n",
       "      <th>81</th>\n",
       "      <td>293308</td>\n",
       "      <td>2635.47</td>\n",
       "      <td>66.49</td>\n",
       "      <td>2568.98</td>\n",
       "    </tr>\n",
       "    <tr>\n",
       "      <th>39153</th>\n",
       "      <td>512894</td>\n",
       "      <td>3356.18</td>\n",
       "      <td>1674.60</td>\n",
       "      <td>1681.58</td>\n",
       "    </tr>\n",
       "    <tr>\n",
       "      <th>38255</th>\n",
       "      <td>508825</td>\n",
       "      <td>2590.18</td>\n",
       "      <td>1291.60</td>\n",
       "      <td>1298.58</td>\n",
       "    </tr>\n",
       "    <tr>\n",
       "      <th>39248</th>\n",
       "      <td>513447</td>\n",
       "      <td>486.89</td>\n",
       "      <td>94.98</td>\n",
       "      <td>391.91</td>\n",
       "    </tr>\n",
       "    <tr>\n",
       "      <th>...</th>\n",
       "      <td>...</td>\n",
       "      <td>...</td>\n",
       "      <td>...</td>\n",
       "      <td>...</td>\n",
       "    </tr>\n",
       "    <tr>\n",
       "      <th>3761</th>\n",
       "      <td>314570</td>\n",
       "      <td>122.99</td>\n",
       "      <td>164.90</td>\n",
       "      <td>-41.91</td>\n",
       "    </tr>\n",
       "    <tr>\n",
       "      <th>318</th>\n",
       "      <td>300474</td>\n",
       "      <td>119.00</td>\n",
       "      <td>164.90</td>\n",
       "      <td>-45.90</td>\n",
       "    </tr>\n",
       "    <tr>\n",
       "      <th>5075</th>\n",
       "      <td>319901</td>\n",
       "      <td>60.43</td>\n",
       "      <td>142.44</td>\n",
       "      <td>-82.01</td>\n",
       "    </tr>\n",
       "    <tr>\n",
       "      <th>74</th>\n",
       "      <td>289685</td>\n",
       "      <td>15.95</td>\n",
       "      <td>135.97</td>\n",
       "      <td>-120.02</td>\n",
       "    </tr>\n",
       "    <tr>\n",
       "      <th>23757</th>\n",
       "      <td>432303</td>\n",
       "      <td>261.86</td>\n",
       "      <td>426.86</td>\n",
       "      <td>-165.00</td>\n",
       "    </tr>\n",
       "  </tbody>\n",
       "</table>\n",
       "<p>41701 rows × 4 columns</p>\n",
       "</div>"
      ],
      "text/plain": [
       "       order_id  total_paid  unit_price_total  pay_diff\n",
       "97       297148     4069.54             84.55   3984.99\n",
       "81       293308     2635.47             66.49   2568.98\n",
       "39153    512894     3356.18           1674.60   1681.58\n",
       "38255    508825     2590.18           1291.60   1298.58\n",
       "39248    513447      486.89             94.98    391.91\n",
       "...         ...         ...               ...       ...\n",
       "3761     314570      122.99            164.90    -41.91\n",
       "318      300474      119.00            164.90    -45.90\n",
       "5075     319901       60.43            142.44    -82.01\n",
       "74       289685       15.95            135.97   -120.02\n",
       "23757    432303      261.86            426.86   -165.00\n",
       "\n",
       "[41701 rows x 4 columns]"
      ]
     },
     "execution_count": 199,
     "metadata": {},
     "output_type": "execute_result"
    }
   ],
   "source": [
    "totalPaid_vs_unitPriceTotal['pay_diff'] = totalPaid_vs_unitPriceTotal.total_paid - totalPaid_vs_unitPriceTotal.unit_price_total\n",
    "totalPaid_vs_unitPriceTotal.sort_values(by='pay_diff', ascending=False)"
   ]
  },
  {
   "cell_type": "markdown",
   "metadata": {},
   "source": [
    "## even though I added the column pay_diff to the new df totalPaid_vs_unitPriceTotal, in the following I work with the series pay_diff:"
   ]
  },
  {
   "cell_type": "code",
   "execution_count": 201,
   "metadata": {},
   "outputs": [
    {
     "name": "stdout",
     "output_type": "stream",
     "text": [
      "<class 'pandas.core.series.Series'>\n"
     ]
    },
    {
     "data": {
      "text/plain": [
       "0       6.99\n",
       "1       4.99\n",
       "2       6.99\n",
       "3       0.00\n",
       "4       6.99\n",
       "        ... \n",
       "41696   4.99\n",
       "41697   4.99\n",
       "41698   4.99\n",
       "41699   4.99\n",
       "41700   4.99\n",
       "Length: 41701, dtype: float64"
      ]
     },
     "execution_count": 201,
     "metadata": {},
     "output_type": "execute_result"
    }
   ],
   "source": [
    "pay_diff = totalPaid_vs_unitPriceTotal.total_paid - totalPaid_vs_unitPriceTotal.unit_price_total\n",
    "print(type(pay_diff))\n",
    "pay_diff"
   ]
  },
  {
   "cell_type": "code",
   "execution_count": 202,
   "metadata": {},
   "outputs": [
    {
     "data": {
      "text/plain": [
       "count   41701.00\n",
       "mean        4.47\n",
       "std        26.05\n",
       "min      -165.00\n",
       "25%         0.00\n",
       "50%         4.99\n",
       "75%         6.99\n",
       "max      3984.99\n",
       "dtype: float64"
      ]
     },
     "execution_count": 202,
     "metadata": {},
     "output_type": "execute_result"
    }
   ],
   "source": [
    "pay_diff.describe()"
   ]
  },
  {
   "cell_type": "code",
   "execution_count": 203,
   "metadata": {},
   "outputs": [
    {
     "data": {
      "text/plain": [
       "(4.474808277978945, 4.569582504016691)"
      ]
     },
     "execution_count": 203,
     "metadata": {},
     "output_type": "execute_result"
    }
   ],
   "source": [
    "pay_diff.mean(), pay_diff.abs().mean()"
   ]
  },
  {
   "cell_type": "code",
   "execution_count": 204,
   "metadata": {},
   "outputs": [
    {
     "data": {
      "text/plain": [
       "23757   -165.00\n",
       "74      -120.02\n",
       "5075     -82.01\n",
       "318      -45.90\n",
       "3761     -41.91\n",
       "          ...  \n",
       "39248    391.91\n",
       "38255   1298.58\n",
       "39153   1681.58\n",
       "81      2568.98\n",
       "97      3984.99\n",
       "Length: 41701, dtype: float64"
      ]
     },
     "execution_count": 204,
     "metadata": {},
     "output_type": "execute_result"
    }
   ],
   "source": [
    "pay_diff.sort_values()"
   ]
  },
  {
   "cell_type": "code",
   "execution_count": 205,
   "metadata": {},
   "outputs": [
    {
     "data": {
      "text/plain": [
       "order_id           432303.00\n",
       "total_paid            261.86\n",
       "unit_price_total      426.86\n",
       "pay_diff             -165.00\n",
       "Name: 23757, dtype: float64"
      ]
     },
     "execution_count": 205,
     "metadata": {},
     "output_type": "execute_result"
    }
   ],
   "source": [
    "totalPaid_vs_unitPriceTotal.iloc[23757]"
   ]
  },
  {
   "cell_type": "code",
   "execution_count": 206,
   "metadata": {},
   "outputs": [
    {
     "data": {
      "text/plain": [
       "23757   -165.00\n",
       "74      -120.02\n",
       "5075     -82.01\n",
       "318      -45.90\n",
       "6683     -41.91\n",
       "          ...  \n",
       "2580      -5.00\n",
       "35990     -4.99\n",
       "4378      -4.99\n",
       "37113     -4.99\n",
       "37260     -4.99\n",
       "Length: 155, dtype: float64"
      ]
     },
     "execution_count": 206,
     "metadata": {},
     "output_type": "execute_result"
    }
   ],
   "source": [
    "# there are many negative values => unit_price_total > total_paid\n",
    "pay_diff.where(pay_diff<-2).dropna().sort_values()#.head(10)"
   ]
  },
  {
   "cell_type": "markdown",
   "metadata": {
    "id": "UpynvRcO8QBr"
   },
   "source": [
    "### What is the distribution of these differences?"
   ]
  },
  {
   "cell_type": "code",
   "execution_count": 207,
   "metadata": {
    "id": "O4RDNgttJSPD"
   },
   "outputs": [
    {
     "name": "stdout",
     "output_type": "stream",
     "text": [
      "41701\n"
     ]
    },
    {
     "data": {
      "text/plain": [
       "<Axes: >"
      ]
     },
     "execution_count": 207,
     "metadata": {},
     "output_type": "execute_result"
    },
    {
     "data": {
      "image/png": "[encoded data removed]",
      "text/plain": [
       "<Figure size 640x480 with 1 Axes>"
      ]
     },
     "metadata": {},
     "output_type": "display_data"
    }
   ],
   "source": [
    "# your code here\n",
    "print(pay_diff.count())\n",
    "pay_diff.plot()"
   ]
  },
  {
   "cell_type": "code",
   "execution_count": 212,
   "metadata": {
    "scrolled": true
   },
   "outputs": [
    {
     "name": "stdout",
     "output_type": "stream",
     "text": [
      "False    41681\n",
      "True        20\n",
      "Name: count, dtype: int64 False   1.00\n",
      "True    0.00\n",
      "Name: proportion, dtype: float64\n",
      "<class 'pandas.core.series.Series'>\n"
     ]
    },
    {
     "data": {
      "text/plain": [
       "23757   -165.00\n",
       "74      -120.02\n",
       "38943    103.99\n",
       "38966    114.97\n",
       "39368    131.98\n",
       "5        132.21\n",
       "38964    160.69\n",
       "39345    162.98\n",
       "38976    168.95\n",
       "89       180.98\n",
       "39222    239.87\n",
       "39169    252.97\n",
       "39182    255.98\n",
       "38965    319.98\n",
       "39178    386.80\n",
       "39248    391.91\n",
       "38255   1298.58\n",
       "39153   1681.58\n",
       "81      2568.98\n",
       "97      3984.99\n",
       "dtype: float64"
      ]
     },
     "execution_count": 212,
     "metadata": {},
     "output_type": "execute_result"
    }
   ],
   "source": [
    "#condition = pay_diff.abs() > 8*pay_diff.mean()\n",
    "condition = pay_diff.abs() >= 100\n",
    "\n",
    "print(\n",
    "    pay_diff.where(condition).notnull().value_counts(),\n",
    "    pay_diff.where(condition).notnull().value_counts(normalize=True)\n",
    ")\n",
    "\n",
    "new_pay_diff = pay_diff.where(condition).dropna()\n",
    "print(type(new_pay_diff))\n",
    "new_pay_diff.sort_values()"
   ]
  },
  {
   "cell_type": "code",
   "execution_count": 245,
   "metadata": {},
   "outputs": [
    {
     "data": {
      "image/png": "[encoded data removed]",
      "text/plain": [
       "<Figure size 640x480 with 1 Axes>"
      ]
     },
     "metadata": {},
     "output_type": "display_data"
    }
   ],
   "source": [
    "new_pay_diff.plot.bar();"
   ]
  },
  {
   "cell_type": "code",
   "execution_count": 272,
   "metadata": {},
   "outputs": [
    {
     "data": {
      "text/plain": [
       "97      3984.99\n",
       "81      2568.98\n",
       "39153   1681.58\n",
       "38255   1298.58\n",
       "39248    391.91\n",
       "dtype: float64"
      ]
     },
     "execution_count": 272,
     "metadata": {},
     "output_type": "execute_result"
    }
   ],
   "source": [
    "new_pay_diff.nlargest()"
   ]
  },
  {
   "cell_type": "code",
   "execution_count": 273,
   "metadata": {},
   "outputs": [
    {
     "data": {
      "text/plain": [
       "23757   -165.00\n",
       "74      -120.02\n",
       "38943    103.99\n",
       "38966    114.97\n",
       "39368    131.98\n",
       "dtype: float64"
      ]
     },
     "execution_count": 273,
     "metadata": {},
     "output_type": "execute_result"
    }
   ],
   "source": [
    "new_pay_diff.nsmallest()"
   ]
  },
  {
   "cell_type": "code",
   "execution_count": 276,
   "metadata": {},
   "outputs": [
    {
     "data": {
      "text/plain": [
       "97      3984.99\n",
       "81      2568.98\n",
       "39153   1681.58\n",
       "38255   1298.58\n",
       "39248    391.91\n",
       "39178    386.80\n",
       "38965    319.98\n",
       "39182    255.98\n",
       "39169    252.97\n",
       "39222    239.87\n",
       "89       180.98\n",
       "38976    168.95\n",
       "23757    165.00\n",
       "39345    162.98\n",
       "38964    160.69\n",
       "5        132.21\n",
       "39368    131.98\n",
       "74       120.02\n",
       "38966    114.97\n",
       "38943    103.99\n",
       "dtype: float64"
      ]
     },
     "execution_count": 276,
     "metadata": {},
     "output_type": "execute_result"
    }
   ],
   "source": [
    "new_pay_diff.abs().nlargest(20)"
   ]
  },
  {
   "cell_type": "code",
   "execution_count": 271,
   "metadata": {},
   "outputs": [
    {
     "data": {
      "image/png": "[encoded data removed]",
      "text/plain": [
       "<Figure size 640x480 with 1 Axes>"
      ]
     },
     "metadata": {},
     "output_type": "display_data"
    }
   ],
   "source": [
    "# color pattern to highlight the largest 3 absolute values of pay_diff\n",
    "color_pattern = ['b'\n",
    "                  if id in new_pay_diff.abs().nlargest(3)\n",
    "                  else 'y'\n",
    "                      for id in new_pay_diff.index ]\n",
    "\n",
    "new_pay_diff.plot.bar(color=color_pattern);"
   ]
  },
  {
   "cell_type": "markdown",
   "metadata": {
    "jp-MarkdownHeadingCollapsed": true
   },
   "source": [
    "### I reach the same color pattern using the df totalPaid_vs_unitPriceTotal rather than the series new_pay_diff"
   ]
  },
  {
   "cell_type": "code",
   "execution_count": 249,
   "metadata": {
    "scrolled": true
   },
   "outputs": [
    {
     "data": {
      "text/html": [
       "<div>\n",
       "<style scoped>\n",
       "    .dataframe tbody tr th:only-of-type {\n",
       "        vertical-align: middle;\n",
       "    }\n",
       "\n",
       "    .dataframe tbody tr th {\n",
       "        vertical-align: top;\n",
       "    }\n",
       "\n",
       "    .dataframe thead th {\n",
       "        text-align: right;\n",
       "    }\n",
       "</style>\n",
       "<table border=\"1\" class=\"dataframe\">\n",
       "  <thead>\n",
       "    <tr style=\"text-align: right;\">\n",
       "      <th></th>\n",
       "      <th>order_id</th>\n",
       "      <th>total_paid</th>\n",
       "      <th>unit_price_total</th>\n",
       "      <th>pay_diff</th>\n",
       "    </tr>\n",
       "  </thead>\n",
       "  <tbody>\n",
       "    <tr>\n",
       "      <th>97</th>\n",
       "      <td>297148</td>\n",
       "      <td>4069.54</td>\n",
       "      <td>84.55</td>\n",
       "      <td>3984.99</td>\n",
       "    </tr>\n",
       "    <tr>\n",
       "      <th>81</th>\n",
       "      <td>293308</td>\n",
       "      <td>2635.47</td>\n",
       "      <td>66.49</td>\n",
       "      <td>2568.98</td>\n",
       "    </tr>\n",
       "    <tr>\n",
       "      <th>39153</th>\n",
       "      <td>512894</td>\n",
       "      <td>3356.18</td>\n",
       "      <td>1674.60</td>\n",
       "      <td>1681.58</td>\n",
       "    </tr>\n",
       "    <tr>\n",
       "      <th>38255</th>\n",
       "      <td>508825</td>\n",
       "      <td>2590.18</td>\n",
       "      <td>1291.60</td>\n",
       "      <td>1298.58</td>\n",
       "    </tr>\n",
       "    <tr>\n",
       "      <th>39248</th>\n",
       "      <td>513447</td>\n",
       "      <td>486.89</td>\n",
       "      <td>94.98</td>\n",
       "      <td>391.91</td>\n",
       "    </tr>\n",
       "    <tr>\n",
       "      <th>39178</th>\n",
       "      <td>513009</td>\n",
       "      <td>406.80</td>\n",
       "      <td>20.00</td>\n",
       "      <td>386.80</td>\n",
       "    </tr>\n",
       "    <tr>\n",
       "      <th>38965</th>\n",
       "      <td>512146</td>\n",
       "      <td>632.98</td>\n",
       "      <td>313.00</td>\n",
       "      <td>319.98</td>\n",
       "    </tr>\n",
       "    <tr>\n",
       "      <th>39182</th>\n",
       "      <td>513049</td>\n",
       "      <td>504.98</td>\n",
       "      <td>249.00</td>\n",
       "      <td>255.98</td>\n",
       "    </tr>\n",
       "    <tr>\n",
       "      <th>39169</th>\n",
       "      <td>512969</td>\n",
       "      <td>376.96</td>\n",
       "      <td>123.99</td>\n",
       "      <td>252.97</td>\n",
       "    </tr>\n",
       "    <tr>\n",
       "      <th>39222</th>\n",
       "      <td>513298</td>\n",
       "      <td>317.51</td>\n",
       "      <td>77.64</td>\n",
       "      <td>239.87</td>\n",
       "    </tr>\n",
       "    <tr>\n",
       "      <th>89</th>\n",
       "      <td>296036</td>\n",
       "      <td>233.97</td>\n",
       "      <td>52.99</td>\n",
       "      <td>180.98</td>\n",
       "    </tr>\n",
       "    <tr>\n",
       "      <th>38976</th>\n",
       "      <td>512215</td>\n",
       "      <td>222.95</td>\n",
       "      <td>54.00</td>\n",
       "      <td>168.95</td>\n",
       "    </tr>\n",
       "    <tr>\n",
       "      <th>23757</th>\n",
       "      <td>432303</td>\n",
       "      <td>261.86</td>\n",
       "      <td>426.86</td>\n",
       "      <td>-165.00</td>\n",
       "    </tr>\n",
       "    <tr>\n",
       "      <th>39345</th>\n",
       "      <td>514134</td>\n",
       "      <td>320.98</td>\n",
       "      <td>158.00</td>\n",
       "      <td>162.98</td>\n",
       "    </tr>\n",
       "    <tr>\n",
       "      <th>38964</th>\n",
       "      <td>512145</td>\n",
       "      <td>212.61</td>\n",
       "      <td>51.92</td>\n",
       "      <td>160.69</td>\n",
       "    </tr>\n",
       "    <tr>\n",
       "      <th>5</th>\n",
       "      <td>246405</td>\n",
       "      <td>407.96</td>\n",
       "      <td>275.75</td>\n",
       "      <td>132.21</td>\n",
       "    </tr>\n",
       "    <tr>\n",
       "      <th>39368</th>\n",
       "      <td>514220</td>\n",
       "      <td>258.98</td>\n",
       "      <td>127.00</td>\n",
       "      <td>131.98</td>\n",
       "    </tr>\n",
       "    <tr>\n",
       "      <th>74</th>\n",
       "      <td>289685</td>\n",
       "      <td>15.95</td>\n",
       "      <td>135.97</td>\n",
       "      <td>-120.02</td>\n",
       "    </tr>\n",
       "    <tr>\n",
       "      <th>38966</th>\n",
       "      <td>512150</td>\n",
       "      <td>197.93</td>\n",
       "      <td>82.96</td>\n",
       "      <td>114.97</td>\n",
       "    </tr>\n",
       "    <tr>\n",
       "      <th>38943</th>\n",
       "      <td>512043</td>\n",
       "      <td>136.99</td>\n",
       "      <td>33.00</td>\n",
       "      <td>103.99</td>\n",
       "    </tr>\n",
       "  </tbody>\n",
       "</table>\n",
       "</div>"
      ],
      "text/plain": [
       "       order_id  total_paid  unit_price_total  pay_diff\n",
       "97       297148     4069.54             84.55   3984.99\n",
       "81       293308     2635.47             66.49   2568.98\n",
       "39153    512894     3356.18           1674.60   1681.58\n",
       "38255    508825     2590.18           1291.60   1298.58\n",
       "39248    513447      486.89             94.98    391.91\n",
       "39178    513009      406.80             20.00    386.80\n",
       "38965    512146      632.98            313.00    319.98\n",
       "39182    513049      504.98            249.00    255.98\n",
       "39169    512969      376.96            123.99    252.97\n",
       "39222    513298      317.51             77.64    239.87\n",
       "89       296036      233.97             52.99    180.98\n",
       "38976    512215      222.95             54.00    168.95\n",
       "23757    432303      261.86            426.86   -165.00\n",
       "39345    514134      320.98            158.00    162.98\n",
       "38964    512145      212.61             51.92    160.69\n",
       "5        246405      407.96            275.75    132.21\n",
       "39368    514220      258.98            127.00    131.98\n",
       "74       289685       15.95            135.97   -120.02\n",
       "38966    512150      197.93             82.96    114.97\n",
       "38943    512043      136.99             33.00    103.99"
      ]
     },
     "execution_count": 249,
     "metadata": {},
     "output_type": "execute_result"
    }
   ],
   "source": [
    "# I filtered the new df with the difference in payment >= 100 and sorted by its absolute values\n",
    "totalPaid_vs_unitPriceTotal.loc[totalPaid_vs_unitPriceTotal.pay_diff.abs() >= 100].sort_values(by='pay_diff', ascending=False, key=abs)"
   ]
  },
  {
   "cell_type": "code",
   "execution_count": 262,
   "metadata": {},
   "outputs": [
    {
     "data": {
      "text/plain": [
       "97       297148\n",
       "81       293308\n",
       "39153    512894\n",
       "Name: order_id, dtype: int64"
      ]
     },
     "execution_count": 262,
     "metadata": {},
     "output_type": "execute_result"
    }
   ],
   "source": [
    "# here I save the order id of the 3 largest absolute values of pay_diff:\n",
    "top3_pay_diff_ids = totalPaid_vs_unitPriceTotal.loc[totalPaid_vs_unitPriceTotal.pay_diff.abs() >= 100].sort_values(by='pay_diff', ascending=False, key=abs)['order_id'].head(3)\n",
    "top3_pay_diff_ids"
   ]
  },
  {
   "cell_type": "code",
   "execution_count": 264,
   "metadata": {},
   "outputs": [
    {
     "data": {
      "image/png": "[encoded data removed]",
      "text/plain": [
       "<Figure size 640x480 with 1 Axes>"
      ]
     },
     "metadata": {},
     "output_type": "display_data"
    }
   ],
   "source": [
    "totalPaid_vs_unitPriceTotal.loc[totalPaid_vs_unitPriceTotal.pay_diff.abs() >= 100, ['order_id', 'pay_diff']].sort_values(by='pay_diff', ascending=False, key=abs)\n",
    "\n",
    "#pay_diff_groupedby_id = ol_df.groupby([ol_df.date.dt.weekday])[\"id_order\"].sum()\n",
    "top3_pay_diff_ids = totalPaid_vs_unitPriceTotal.loc[totalPaid_vs_unitPriceTotal.pay_diff.abs() >= 100].sort_values(by='pay_diff', ascending=False, key=abs)['order_id'].head(3)\n",
    "\n",
    "color_pattern = ['b'\n",
    "                  if id in top3_pay_diff_ids\n",
    "                  else 'y'\n",
    "                      for id in new_pay_diff.index ]\n",
    "\n",
    "new_pay_diff.plot.bar(color=color_pattern);"
   ]
  },
  {
   "cell_type": "markdown",
   "metadata": {
    "id": "NINPK4rB8TSY"
   },
   "source": [
    "### Can all the differences be explained by shipping costs? If not, what are other plausible explanations?"
   ]
  },
  {
   "cell_type": "code",
   "execution_count": 130,
   "metadata": {
    "id": "_6GvQ28EJUIf"
   },
   "outputs": [],
   "source": [
    "# your explanation here"
   ]
  },
  {
   "cell_type": "markdown",
   "metadata": {
    "id": "xPos2ipK8VST"
   },
   "source": [
    "### If there are differences that you can’t explain: what should you do with these orders?"
   ]
  },
  {
   "cell_type": "code",
   "execution_count": 131,
   "metadata": {},
   "outputs": [],
   "source": [
    "# Vasil: eliminate the outliers\n",
    "Q1 = pay_diff.quantile(0.25)\n",
    "Q3 = pay_diff.quantile(0.75)\n",
    "IQR = Q3-Q1"
   ]
  },
  {
   "cell_type": "code",
   "execution_count": 132,
   "metadata": {},
   "outputs": [
    {
     "data": {
      "text/plain": [
       "-10.484999999999971"
      ]
     },
     "execution_count": 132,
     "metadata": {},
     "output_type": "execute_result"
    }
   ],
   "source": [
    "Q1 - 1.5*IQR"
   ]
  },
  {
   "cell_type": "code",
   "execution_count": 133,
   "metadata": {},
   "outputs": [
    {
     "data": {
      "text/plain": [
       "17.47499999999995"
      ]
     },
     "execution_count": 133,
     "metadata": {},
     "output_type": "execute_result"
    }
   ],
   "source": [
    "Q3 + 1.5*IQR"
   ]
  },
  {
   "cell_type": "code",
   "execution_count": 134,
   "metadata": {},
   "outputs": [
    {
     "data": {
      "text/html": [
       "<div>\n",
       "<style scoped>\n",
       "    .dataframe tbody tr th:only-of-type {\n",
       "        vertical-align: middle;\n",
       "    }\n",
       "\n",
       "    .dataframe tbody tr th {\n",
       "        vertical-align: top;\n",
       "    }\n",
       "\n",
       "    .dataframe thead th {\n",
       "        text-align: right;\n",
       "    }\n",
       "</style>\n",
       "<table border=\"1\" class=\"dataframe\">\n",
       "  <thead>\n",
       "    <tr style=\"text-align: right;\">\n",
       "      <th></th>\n",
       "      <th>order_id</th>\n",
       "      <th>total_paid</th>\n",
       "      <th>unit_price_total</th>\n",
       "      <th>pay_diff</th>\n",
       "    </tr>\n",
       "  </thead>\n",
       "  <tbody>\n",
       "    <tr>\n",
       "      <th>23757</th>\n",
       "      <td>432303</td>\n",
       "      <td>261.86</td>\n",
       "      <td>426.86</td>\n",
       "      <td>-165.00</td>\n",
       "    </tr>\n",
       "    <tr>\n",
       "      <th>74</th>\n",
       "      <td>289685</td>\n",
       "      <td>15.95</td>\n",
       "      <td>135.97</td>\n",
       "      <td>-120.02</td>\n",
       "    </tr>\n",
       "    <tr>\n",
       "      <th>5075</th>\n",
       "      <td>319901</td>\n",
       "      <td>60.43</td>\n",
       "      <td>142.44</td>\n",
       "      <td>-82.01</td>\n",
       "    </tr>\n",
       "    <tr>\n",
       "      <th>318</th>\n",
       "      <td>300474</td>\n",
       "      <td>119.00</td>\n",
       "      <td>164.90</td>\n",
       "      <td>-45.90</td>\n",
       "    </tr>\n",
       "    <tr>\n",
       "      <th>6683</th>\n",
       "      <td>327363</td>\n",
       "      <td>122.99</td>\n",
       "      <td>164.90</td>\n",
       "      <td>-41.91</td>\n",
       "    </tr>\n",
       "    <tr>\n",
       "      <th>...</th>\n",
       "      <td>...</td>\n",
       "      <td>...</td>\n",
       "      <td>...</td>\n",
       "      <td>...</td>\n",
       "    </tr>\n",
       "    <tr>\n",
       "      <th>39248</th>\n",
       "      <td>513447</td>\n",
       "      <td>486.89</td>\n",
       "      <td>94.98</td>\n",
       "      <td>391.91</td>\n",
       "    </tr>\n",
       "    <tr>\n",
       "      <th>38255</th>\n",
       "      <td>508825</td>\n",
       "      <td>2590.18</td>\n",
       "      <td>1291.60</td>\n",
       "      <td>1298.58</td>\n",
       "    </tr>\n",
       "    <tr>\n",
       "      <th>39153</th>\n",
       "      <td>512894</td>\n",
       "      <td>3356.18</td>\n",
       "      <td>1674.60</td>\n",
       "      <td>1681.58</td>\n",
       "    </tr>\n",
       "    <tr>\n",
       "      <th>81</th>\n",
       "      <td>293308</td>\n",
       "      <td>2635.47</td>\n",
       "      <td>66.49</td>\n",
       "      <td>2568.98</td>\n",
       "    </tr>\n",
       "    <tr>\n",
       "      <th>97</th>\n",
       "      <td>297148</td>\n",
       "      <td>4069.54</td>\n",
       "      <td>84.55</td>\n",
       "      <td>3984.99</td>\n",
       "    </tr>\n",
       "  </tbody>\n",
       "</table>\n",
       "<p>716 rows × 4 columns</p>\n",
       "</div>"
      ],
      "text/plain": [
       "       order_id  total_paid  unit_price_total  pay_diff\n",
       "23757    432303      261.86            426.86   -165.00\n",
       "74       289685       15.95            135.97   -120.02\n",
       "5075     319901       60.43            142.44    -82.01\n",
       "318      300474      119.00            164.90    -45.90\n",
       "6683     327363      122.99            164.90    -41.91\n",
       "...         ...         ...               ...       ...\n",
       "39248    513447      486.89             94.98    391.91\n",
       "38255    508825     2590.18           1291.60   1298.58\n",
       "39153    512894     3356.18           1674.60   1681.58\n",
       "81       293308     2635.47             66.49   2568.98\n",
       "97       297148     4069.54             84.55   3984.99\n",
       "\n",
       "[716 rows x 4 columns]"
      ]
     },
     "execution_count": 134,
     "metadata": {},
     "output_type": "execute_result"
    }
   ],
   "source": [
    "totalPaid_vs_unitPriceTotal.loc[\n",
    "                ~ ((totalPaid_vs_unitPriceTotal['pay_diff'] >= (Q1 - 1.5*IQR)) &\n",
    "                (totalPaid_vs_unitPriceTotal['pay_diff'] <= (Q3 + 1.5*IQR)) )\n",
    "                                ].sort_values(by='pay_diff')"
   ]
  },
  {
   "cell_type": "code",
   "execution_count": 135,
   "metadata": {},
   "outputs": [
    {
     "data": {
      "text/html": [
       "<div>\n",
       "<style scoped>\n",
       "    .dataframe tbody tr th:only-of-type {\n",
       "        vertical-align: middle;\n",
       "    }\n",
       "\n",
       "    .dataframe tbody tr th {\n",
       "        vertical-align: top;\n",
       "    }\n",
       "\n",
       "    .dataframe thead th {\n",
       "        text-align: right;\n",
       "    }\n",
       "</style>\n",
       "<table border=\"1\" class=\"dataframe\">\n",
       "  <thead>\n",
       "    <tr style=\"text-align: right;\">\n",
       "      <th></th>\n",
       "      <th>order_id</th>\n",
       "      <th>total_paid</th>\n",
       "      <th>unit_price_total</th>\n",
       "      <th>pay_diff</th>\n",
       "    </tr>\n",
       "  </thead>\n",
       "  <tbody>\n",
       "    <tr>\n",
       "      <th>0</th>\n",
       "      <td>241423</td>\n",
       "      <td>136.15</td>\n",
       "      <td>129.16</td>\n",
       "      <td>6.99</td>\n",
       "    </tr>\n",
       "    <tr>\n",
       "      <th>1</th>\n",
       "      <td>242832</td>\n",
       "      <td>15.76</td>\n",
       "      <td>10.77</td>\n",
       "      <td>4.99</td>\n",
       "    </tr>\n",
       "    <tr>\n",
       "      <th>2</th>\n",
       "      <td>243330</td>\n",
       "      <td>84.98</td>\n",
       "      <td>77.99</td>\n",
       "      <td>6.99</td>\n",
       "    </tr>\n",
       "    <tr>\n",
       "      <th>3</th>\n",
       "      <td>245275</td>\n",
       "      <td>149.00</td>\n",
       "      <td>149.00</td>\n",
       "      <td>0.00</td>\n",
       "    </tr>\n",
       "    <tr>\n",
       "      <th>4</th>\n",
       "      <td>245595</td>\n",
       "      <td>112.97</td>\n",
       "      <td>105.98</td>\n",
       "      <td>6.99</td>\n",
       "    </tr>\n",
       "    <tr>\n",
       "      <th>...</th>\n",
       "      <td>...</td>\n",
       "      <td>...</td>\n",
       "      <td>...</td>\n",
       "      <td>...</td>\n",
       "    </tr>\n",
       "    <tr>\n",
       "      <th>41696</th>\n",
       "      <td>527042</td>\n",
       "      <td>18.98</td>\n",
       "      <td>13.99</td>\n",
       "      <td>4.99</td>\n",
       "    </tr>\n",
       "    <tr>\n",
       "      <th>41697</th>\n",
       "      <td>527070</td>\n",
       "      <td>24.97</td>\n",
       "      <td>19.98</td>\n",
       "      <td>4.99</td>\n",
       "    </tr>\n",
       "    <tr>\n",
       "      <th>41698</th>\n",
       "      <td>527074</td>\n",
       "      <td>24.97</td>\n",
       "      <td>19.98</td>\n",
       "      <td>4.99</td>\n",
       "    </tr>\n",
       "    <tr>\n",
       "      <th>41699</th>\n",
       "      <td>527096</td>\n",
       "      <td>34.96</td>\n",
       "      <td>29.97</td>\n",
       "      <td>4.99</td>\n",
       "    </tr>\n",
       "    <tr>\n",
       "      <th>41700</th>\n",
       "      <td>527112</td>\n",
       "      <td>14.98</td>\n",
       "      <td>9.99</td>\n",
       "      <td>4.99</td>\n",
       "    </tr>\n",
       "  </tbody>\n",
       "</table>\n",
       "<p>40985 rows × 4 columns</p>\n",
       "</div>"
      ],
      "text/plain": [
       "       order_id  total_paid  unit_price_total  pay_diff\n",
       "0        241423      136.15            129.16      6.99\n",
       "1        242832       15.76             10.77      4.99\n",
       "2        243330       84.98             77.99      6.99\n",
       "3        245275      149.00            149.00      0.00\n",
       "4        245595      112.97            105.98      6.99\n",
       "...         ...         ...               ...       ...\n",
       "41696    527042       18.98             13.99      4.99\n",
       "41697    527070       24.97             19.98      4.99\n",
       "41698    527074       24.97             19.98      4.99\n",
       "41699    527096       34.96             29.97      4.99\n",
       "41700    527112       14.98              9.99      4.99\n",
       "\n",
       "[40985 rows x 4 columns]"
      ]
     },
     "execution_count": 135,
     "metadata": {},
     "output_type": "execute_result"
    }
   ],
   "source": [
    "noOutliers_totalPaid_vs_unitPriceTotal = totalPaid_vs_unitPriceTotal.loc[\n",
    "                ((totalPaid_vs_unitPriceTotal['pay_diff'] >= (Q1 - 1.5*IQR)) &\n",
    "                (totalPaid_vs_unitPriceTotal['pay_diff'] <= (Q3 + 1.5*IQR)) )\n",
    "                                ]\n",
    "noOutliers_totalPaid_vs_unitPriceTotal"
   ]
  },
  {
   "cell_type": "markdown",
   "metadata": {},
   "source": [
    "### now I gotta remove the orders that represent the outliers also in the ord_df and ol_df"
   ]
  },
  {
   "cell_type": "code",
   "execution_count": 136,
   "metadata": {},
   "outputs": [],
   "source": [
    "no_outliers_ids = list(noOutliers_totalPaid_vs_unitPriceTotal.order_id)"
   ]
  },
  {
   "cell_type": "code",
   "execution_count": 282,
   "metadata": {},
   "outputs": [
    {
     "name": "stdout",
     "output_type": "stream",
     "text": [
      "(53231, 8) (40985, 4)\n"
     ]
    },
    {
     "data": {
      "text/plain": [
       "(id                  53231\n",
       " id_order            40985\n",
       " product_id              1\n",
       " product_quantity       27\n",
       " sku                  5098\n",
       " unit_price           4342\n",
       " date                52840\n",
       " unit_price_total     5483\n",
       " dtype: int64,\n",
       " order_id        40985\n",
       " created_date    40914\n",
       " total_paid       9878\n",
       " state               1\n",
       " dtype: int64,\n",
       " sku         9992\n",
       " name        9836\n",
       " desc        6769\n",
       " price       2332\n",
       " in_stock       2\n",
       " type         125\n",
       " dtype: int64)"
      ]
     },
     "execution_count": 282,
     "metadata": {},
     "output_type": "execute_result"
    }
   ],
   "source": [
    "ord_df = ord_df.loc[ord_df['order_id'].isin(no_outliers_ids)]\n",
    "ol_df = ol_df.loc[ol_df['id_order'].isin(no_outliers_ids)]\n",
    "print(ol_df.shape, ord_df.shape)\n",
    "ol_df.nunique(), ord_df.nunique(), prod_df.nunique()"
   ]
  },
  {
   "cell_type": "code",
   "execution_count": 289,
   "metadata": {},
   "outputs": [],
   "source": [
    "final_orders_df = ord_df.copy()\n",
    "final_orderlines_df = ol_df.copy()\n",
    "final_products_df = prod_df.copy()"
   ]
  },
  {
   "cell_type": "code",
   "execution_count": 290,
   "metadata": {},
   "outputs": [],
   "source": [
    "del final_orderlines_df['unit_price_total']"
   ]
  },
  {
   "cell_type": "code",
   "execution_count": 291,
   "metadata": {},
   "outputs": [
    {
     "name": "stdout",
     "output_type": "stream",
     "text": [
      "<class 'pandas.core.frame.DataFrame'>\n",
      "Index: 53231 entries, 6 to 215949\n",
      "Data columns (total 7 columns):\n",
      " #   Column            Non-Null Count  Dtype  \n",
      "---  ------            --------------  -----  \n",
      " 0   id                53231 non-null  int64  \n",
      " 1   id_order          53231 non-null  int64  \n",
      " 2   product_id        53231 non-null  int64  \n",
      " 3   product_quantity  53231 non-null  int64  \n",
      " 4   sku               53231 non-null  object \n",
      " 5   unit_price        53231 non-null  float64\n",
      " 6   date              53231 non-null  object \n",
      "dtypes: float64(1), int64(4), object(2)\n",
      "memory usage: 3.2+ MB\n"
     ]
    }
   ],
   "source": [
    "final_orderlines_df.info()"
   ]
  },
  {
   "cell_type": "code",
   "execution_count": 292,
   "metadata": {},
   "outputs": [],
   "source": [
    "final_orders_df.to_csv('final_orders.csv', index=False)\n",
    "final_orderlines_df.to_csv('final_orderlines.csv', index=False)\n",
    "final_products_df.to_csv('final_products.csv', index=False)"
   ]
  },
  {
   "cell_type": "code",
   "execution_count": null,
   "metadata": {},
   "outputs": [],
   "source": []
  },
  {
   "cell_type": "code",
   "execution_count": 155,
   "metadata": {},
   "outputs": [
    {
     "name": "stdout",
     "output_type": "stream",
     "text": [
      "If I introduce my corrections of `orderlines.unit_price` from orders.total_paid, that will account to only 5.78 % of the total orders (considering already the cleaned df and only state \"Completed).\"\n"
     ]
    }
   ],
   "source": [
    "#2367 : 40985 = x : 100\n",
    "percentage = (236700/40985)\n",
    "print('If I introduce my corrections of `orderlines.unit_price` from orders.total_paid, that will account to only', round(percentage, 2),\\\n",
    "      '% of the total orders (considering already the cleaned df and only state \"Completed).\"')"
   ]
  },
  {
   "cell_type": "code",
   "execution_count": null,
   "metadata": {},
   "outputs": [],
   "source": []
  },
  {
   "cell_type": "code",
   "execution_count": null,
   "metadata": {},
   "outputs": [],
   "source": []
  },
  {
   "cell_type": "code",
   "execution_count": null,
   "metadata": {},
   "outputs": [],
   "source": []
  },
  {
   "cell_type": "markdown",
   "metadata": {},
   "source": [
    "## The following was my first idea to eliminate the weird values in total_paid - total_unit_price (simply selecting a value larger than a price or ntimes* mean value).\n",
    "## It is better to work with interquartile ranges to eliminate the outliers"
   ]
  },
  {
   "cell_type": "code",
   "execution_count": null,
   "metadata": {
    "scrolled": true
   },
   "outputs": [],
   "source": [
    "# in the condition, I should set a threshold value beyond which I delete the data I can't explain:\n",
    "# e.g. all differences larger than 100€:\n",
    "# new_totalPaid_vs_unitPriceTotal = totalPaid_vs_unitPriceTotal[totalPaid_vs_unitPriceTotal['pay_diff'].abs() < 100].sort_values(by='pay_diff')\n",
    "\n",
    "print(totalPaid_vs_unitPriceTotal[totalPaid_vs_unitPriceTotal['pay_diff'].abs() >= 100].count())\n",
    "totalPaid_vs_unitPriceTotal[totalPaid_vs_unitPriceTotal['pay_diff'].abs() >= 100].sort_values(by='pay_diff')"
   ]
  },
  {
   "cell_type": "markdown",
   "metadata": {
    "id": "FWROzNEd8b8d"
   },
   "source": [
    "## 5.&nbsp; Become confident about your dataset"
   ]
  },
  {
   "cell_type": "markdown",
   "metadata": {
    "id": "qkiySvbwldvU"
   },
   "source": [
    "Let's hear your thoughts about what you discovered."
   ]
  },
  {
   "cell_type": "markdown",
   "metadata": {
    "id": "AR14cjMpfXV0"
   },
   "source": [
    "## your thoughts:\n",
    "There are avg differences that are too large and can't be explained by shipping costs. I'd rather eliminate them.\n",
    "In general, I could include all the differences up to 100€, which is already a lot (maybe up to 50€? I can still change).\n",
    "\n",
    "ONE DOUBT, why are there negative differences??? \\\n",
    "(unit_price_total > total_paid) So the customer paid less than what was supposed to. Maybe one of the products was sent back afterwards??"
   ]
  },
  {
   "cell_type": "markdown",
   "metadata": {
    "id": "dvyhnpLcfXdd"
   },
   "source": [
    "Do not forget to download your quality controlled DataFrames"
   ]
  },
  {
   "cell_type": "code",
   "execution_count": null,
   "metadata": {
    "id": "gUcJc1E6sVOl"
   },
   "outputs": [],
   "source": [
    "from google.colab import files\n",
    "\n",
    "#orders_quality_controlled.to_csv(\"orders_qu.csv\", index=False)\n",
    "#files.download(\"orders_qu.csv\")\n",
    "\n",
    "#orderlines_quality_controlled.to_csv(\"orderlines_qu.csv\", index=False)\n",
    "#files.download(\"orderlines_qu.csv\")"
   ]
  },
  {
   "cell_type": "code",
   "execution_count": null,
   "metadata": {},
   "outputs": [],
   "source": []
  },
  {
   "cell_type": "code",
   "execution_count": null,
   "metadata": {},
   "outputs": [],
   "source": []
  },
  {
   "cell_type": "code",
   "execution_count": null,
   "metadata": {},
   "outputs": [],
   "source": []
  },
  {
   "cell_type": "code",
   "execution_count": null,
   "metadata": {},
   "outputs": [],
   "source": []
  },
  {
   "cell_type": "code",
   "execution_count": null,
   "metadata": {},
   "outputs": [],
   "source": []
  }
 ],
 "metadata": {
  "colab": {
   "collapsed_sections": [
    "GjQD8WPe6h0i",
    "M0NhTKzF6jV4",
    "F-rtzwAn7WyS",
    "_d1lwist8F6X",
    "UpynvRcO8QBr",
    "NINPK4rB8TSY",
    "xPos2ipK8VST",
    "FWROzNEd8b8d"
   ],
   "provenance": []
  },
  "kernelspec": {
   "display_name": "Python 3 (ipykernel)",
   "language": "python",
   "name": "python3"
  },
  "language_info": {
   "codemirror_mode": {
    "name": "ipython",
    "version": 3
   },
   "file_extension": ".py",
   "mimetype": "text/x-python",
   "name": "python",
   "nbconvert_exporter": "python",
   "pygments_lexer": "ipython3",
   "version": "3.10.12"
  }
 },
 "nbformat": 4,
 "nbformat_minor": 4
}
