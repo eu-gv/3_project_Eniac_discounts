{
 "cells": [
  {
   "cell_type": "markdown",
   "metadata": {
    "id": "bbaehNmt73fv"
   },
   "source": [
    "# Searching for the category"
   ]
  },
  {
   "cell_type": "markdown",
   "metadata": {
    "id": "JZNKAkEMOa3w"
   },
   "source": [
    "For this code along we are only going to use the products DataFrame. However, if you believe there is information in other tables that can help to create categories, please feel free to explore."
   ]
  },
  {
   "cell_type": "code",
   "execution_count": 1,
   "metadata": {
    "id": "ViZQTGKntHE9"
   },
   "outputs": [],
   "source": [
    "import pandas as pd"
   ]
  },
  {
   "cell_type": "code",
   "execution_count": 2,
   "metadata": {
    "id": "7QfwQmvrrI1y"
   },
   "outputs": [],
   "source": [
    "# products_cl.csv\n",
    "url = \"https://drive.google.com/file/d/1s7Lai4NSlsYjGEPg1QSOUJobNYVsZBOJ/view?usp=sharing\"\n",
    "path = \"https://drive.google.com/uc?export=download&id=\"+url.split(\"/\")[-2]\n",
    "products_cl = pd.read_csv(path)\n",
    "#products_cl = pd.read_csv('products_cl.csv')"
   ]
  },
  {
   "cell_type": "code",
   "execution_count": 3,
   "metadata": {
    "id": "V3YcuBBQlN0O"
   },
   "outputs": [],
   "source": [
    "product_category_df = products_cl.copy()"
   ]
  },
  {
   "cell_type": "code",
   "execution_count": 4,
   "metadata": {
    "colab": {
     "base_uri": "https://localhost:8080/",
     "height": 206
    },
    "id": "eEychOC1tIzh",
    "outputId": "9c532c47-7996-40c4-d775-d2670633c376"
   },
   "outputs": [
    {
     "data": {
      "text/html": [
       "<div>\n",
       "<style scoped>\n",
       "    .dataframe tbody tr th:only-of-type {\n",
       "        vertical-align: middle;\n",
       "    }\n",
       "\n",
       "    .dataframe tbody tr th {\n",
       "        vertical-align: top;\n",
       "    }\n",
       "\n",
       "    .dataframe thead th {\n",
       "        text-align: right;\n",
       "    }\n",
       "</style>\n",
       "<table border=\"1\" class=\"dataframe\">\n",
       "  <thead>\n",
       "    <tr style=\"text-align: right;\">\n",
       "      <th></th>\n",
       "      <th>sku</th>\n",
       "      <th>name</th>\n",
       "      <th>desc</th>\n",
       "      <th>price</th>\n",
       "      <th>in_stock</th>\n",
       "      <th>type</th>\n",
       "    </tr>\n",
       "  </thead>\n",
       "  <tbody>\n",
       "    <tr>\n",
       "      <th>0</th>\n",
       "      <td>RAI0007</td>\n",
       "      <td>Silver Rain Design mStand Support</td>\n",
       "      <td>Aluminum support compatible with all MacBook</td>\n",
       "      <td>59.99</td>\n",
       "      <td>1</td>\n",
       "      <td>8696</td>\n",
       "    </tr>\n",
       "    <tr>\n",
       "      <th>1</th>\n",
       "      <td>APP0023</td>\n",
       "      <td>Apple Mac Keyboard Keypad Spanish</td>\n",
       "      <td>USB ultrathin keyboard Apple Mac Spanish.</td>\n",
       "      <td>59.00</td>\n",
       "      <td>0</td>\n",
       "      <td>13855401</td>\n",
       "    </tr>\n",
       "    <tr>\n",
       "      <th>2</th>\n",
       "      <td>APP0025</td>\n",
       "      <td>Mighty Mouse Apple Mouse for Mac</td>\n",
       "      <td>mouse Apple USB cable.</td>\n",
       "      <td>59.00</td>\n",
       "      <td>0</td>\n",
       "      <td>1387</td>\n",
       "    </tr>\n",
       "    <tr>\n",
       "      <th>3</th>\n",
       "      <td>APP0072</td>\n",
       "      <td>Apple Dock to USB Cable iPhone and iPod white</td>\n",
       "      <td>IPhone dock and USB Cable Apple iPod.</td>\n",
       "      <td>25.00</td>\n",
       "      <td>0</td>\n",
       "      <td>1230</td>\n",
       "    </tr>\n",
       "    <tr>\n",
       "      <th>4</th>\n",
       "      <td>KIN0007</td>\n",
       "      <td>Mac Memory Kingston 2GB 667MHz DDR2 SO-DIMM</td>\n",
       "      <td>2GB RAM Mac mini and iMac (2006/07) MacBook Pr...</td>\n",
       "      <td>34.99</td>\n",
       "      <td>1</td>\n",
       "      <td>1364</td>\n",
       "    </tr>\n",
       "  </tbody>\n",
       "</table>\n",
       "</div>"
      ],
      "text/plain": [
       "       sku                                           name  \\\n",
       "0  RAI0007              Silver Rain Design mStand Support   \n",
       "1  APP0023              Apple Mac Keyboard Keypad Spanish   \n",
       "2  APP0025               Mighty Mouse Apple Mouse for Mac   \n",
       "3  APP0072  Apple Dock to USB Cable iPhone and iPod white   \n",
       "4  KIN0007    Mac Memory Kingston 2GB 667MHz DDR2 SO-DIMM   \n",
       "\n",
       "                                                desc  price  in_stock  \\\n",
       "0       Aluminum support compatible with all MacBook  59.99         1   \n",
       "1          USB ultrathin keyboard Apple Mac Spanish.  59.00         0   \n",
       "2                             mouse Apple USB cable.  59.00         0   \n",
       "3              IPhone dock and USB Cable Apple iPod.  25.00         0   \n",
       "4  2GB RAM Mac mini and iMac (2006/07) MacBook Pr...  34.99         1   \n",
       "\n",
       "       type  \n",
       "0      8696  \n",
       "1  13855401  \n",
       "2      1387  \n",
       "3      1230  \n",
       "4      1364  "
      ]
     },
     "execution_count": 4,
     "metadata": {},
     "output_type": "execute_result"
    }
   ],
   "source": [
    "product_category_df.head()"
   ]
  },
  {
   "cell_type": "markdown",
   "metadata": {
    "id": "ll6nfKeqtUSb"
   },
   "source": [
    "## 1.&nbsp; Category creation by search term\n",
    "Let's start by creating a column `category`. For now we'll fill this column with a blank string `\"\"`."
   ]
  },
  {
   "cell_type": "code",
   "execution_count": 5,
   "metadata": {
    "colab": {
     "base_uri": "https://localhost:8080/",
     "height": 206
    },
    "id": "V0gB1AgftceZ",
    "outputId": "cec6e8a4-871a-4bcc-8b00-59c48a7acc77"
   },
   "outputs": [
    {
     "data": {
      "text/html": [
       "<div>\n",
       "<style scoped>\n",
       "    .dataframe tbody tr th:only-of-type {\n",
       "        vertical-align: middle;\n",
       "    }\n",
       "\n",
       "    .dataframe tbody tr th {\n",
       "        vertical-align: top;\n",
       "    }\n",
       "\n",
       "    .dataframe thead th {\n",
       "        text-align: right;\n",
       "    }\n",
       "</style>\n",
       "<table border=\"1\" class=\"dataframe\">\n",
       "  <thead>\n",
       "    <tr style=\"text-align: right;\">\n",
       "      <th></th>\n",
       "      <th>sku</th>\n",
       "      <th>name</th>\n",
       "      <th>desc</th>\n",
       "      <th>price</th>\n",
       "      <th>in_stock</th>\n",
       "      <th>type</th>\n",
       "      <th>category</th>\n",
       "    </tr>\n",
       "  </thead>\n",
       "  <tbody>\n",
       "    <tr>\n",
       "      <th>0</th>\n",
       "      <td>RAI0007</td>\n",
       "      <td>Silver Rain Design mStand Support</td>\n",
       "      <td>Aluminum support compatible with all MacBook</td>\n",
       "      <td>59.99</td>\n",
       "      <td>1</td>\n",
       "      <td>8696</td>\n",
       "      <td></td>\n",
       "    </tr>\n",
       "    <tr>\n",
       "      <th>1</th>\n",
       "      <td>APP0023</td>\n",
       "      <td>Apple Mac Keyboard Keypad Spanish</td>\n",
       "      <td>USB ultrathin keyboard Apple Mac Spanish.</td>\n",
       "      <td>59.00</td>\n",
       "      <td>0</td>\n",
       "      <td>13855401</td>\n",
       "      <td></td>\n",
       "    </tr>\n",
       "    <tr>\n",
       "      <th>2</th>\n",
       "      <td>APP0025</td>\n",
       "      <td>Mighty Mouse Apple Mouse for Mac</td>\n",
       "      <td>mouse Apple USB cable.</td>\n",
       "      <td>59.00</td>\n",
       "      <td>0</td>\n",
       "      <td>1387</td>\n",
       "      <td></td>\n",
       "    </tr>\n",
       "    <tr>\n",
       "      <th>3</th>\n",
       "      <td>APP0072</td>\n",
       "      <td>Apple Dock to USB Cable iPhone and iPod white</td>\n",
       "      <td>IPhone dock and USB Cable Apple iPod.</td>\n",
       "      <td>25.00</td>\n",
       "      <td>0</td>\n",
       "      <td>1230</td>\n",
       "      <td></td>\n",
       "    </tr>\n",
       "    <tr>\n",
       "      <th>4</th>\n",
       "      <td>KIN0007</td>\n",
       "      <td>Mac Memory Kingston 2GB 667MHz DDR2 SO-DIMM</td>\n",
       "      <td>2GB RAM Mac mini and iMac (2006/07) MacBook Pr...</td>\n",
       "      <td>34.99</td>\n",
       "      <td>1</td>\n",
       "      <td>1364</td>\n",
       "      <td></td>\n",
       "    </tr>\n",
       "  </tbody>\n",
       "</table>\n",
       "</div>"
      ],
      "text/plain": [
       "       sku                                           name  \\\n",
       "0  RAI0007              Silver Rain Design mStand Support   \n",
       "1  APP0023              Apple Mac Keyboard Keypad Spanish   \n",
       "2  APP0025               Mighty Mouse Apple Mouse for Mac   \n",
       "3  APP0072  Apple Dock to USB Cable iPhone and iPod white   \n",
       "4  KIN0007    Mac Memory Kingston 2GB 667MHz DDR2 SO-DIMM   \n",
       "\n",
       "                                                desc  price  in_stock  \\\n",
       "0       Aluminum support compatible with all MacBook  59.99         1   \n",
       "1          USB ultrathin keyboard Apple Mac Spanish.  59.00         0   \n",
       "2                             mouse Apple USB cable.  59.00         0   \n",
       "3              IPhone dock and USB Cable Apple iPod.  25.00         0   \n",
       "4  2GB RAM Mac mini and iMac (2006/07) MacBook Pr...  34.99         1   \n",
       "\n",
       "       type category  \n",
       "0      8696           \n",
       "1  13855401           \n",
       "2      1387           \n",
       "3      1230           \n",
       "4      1364           "
      ]
     },
     "execution_count": 5,
     "metadata": {},
     "output_type": "execute_result"
    }
   ],
   "source": [
    "product_category_df[\"category\"] = \"\"\n",
    "product_category_df.head()"
   ]
  },
  {
   "cell_type": "markdown",
   "metadata": {
    "id": "4V2cUNdoPK_4"
   },
   "source": [
    "We can find all the products with certain words in their `description` using `.loc[]` and `.str.contains()`. Here we'll look at all the items that have the word `keyboard` in their description."
   ]
  },
  {
   "cell_type": "code",
   "execution_count": 6,
   "metadata": {
    "colab": {
     "base_uri": "https://localhost:8080/",
     "height": 424
    },
    "id": "o1VQXWPFBqPd",
    "outputId": "4cf0ad59-0a4a-4795-89b0-928e3944e028"
   },
   "outputs": [
    {
     "data": {
      "text/html": [
       "<div>\n",
       "<style scoped>\n",
       "    .dataframe tbody tr th:only-of-type {\n",
       "        vertical-align: middle;\n",
       "    }\n",
       "\n",
       "    .dataframe tbody tr th {\n",
       "        vertical-align: top;\n",
       "    }\n",
       "\n",
       "    .dataframe thead th {\n",
       "        text-align: right;\n",
       "    }\n",
       "</style>\n",
       "<table border=\"1\" class=\"dataframe\">\n",
       "  <thead>\n",
       "    <tr style=\"text-align: right;\">\n",
       "      <th></th>\n",
       "      <th>sku</th>\n",
       "      <th>name</th>\n",
       "      <th>desc</th>\n",
       "      <th>price</th>\n",
       "      <th>in_stock</th>\n",
       "      <th>type</th>\n",
       "      <th>category</th>\n",
       "    </tr>\n",
       "  </thead>\n",
       "  <tbody>\n",
       "    <tr>\n",
       "      <th>1</th>\n",
       "      <td>APP0023</td>\n",
       "      <td>Apple Mac Keyboard Keypad Spanish</td>\n",
       "      <td>USB ultrathin keyboard Apple Mac Spanish.</td>\n",
       "      <td>59.00</td>\n",
       "      <td>0</td>\n",
       "      <td>13855401</td>\n",
       "      <td></td>\n",
       "    </tr>\n",
       "    <tr>\n",
       "      <th>15</th>\n",
       "      <td>MOS0021</td>\n",
       "      <td>Clearguard Moshi MacBook Pro and Air</td>\n",
       "      <td>Keyboard Protector MacBook Pro 13-inch Retina ...</td>\n",
       "      <td>24.95</td>\n",
       "      <td>0</td>\n",
       "      <td>13835403</td>\n",
       "      <td></td>\n",
       "    </tr>\n",
       "    <tr>\n",
       "      <th>24</th>\n",
       "      <td>APP0277</td>\n",
       "      <td>Apple Wireless Keyboard Keyboard (OEM) Mac</td>\n",
       "      <td>Ultrathin keyboard Apple Bluetooth Spanish (un...</td>\n",
       "      <td>79.00</td>\n",
       "      <td>0</td>\n",
       "      <td>13855401</td>\n",
       "      <td></td>\n",
       "    </tr>\n",
       "    <tr>\n",
       "      <th>64</th>\n",
       "      <td>HGD0012</td>\n",
       "      <td>Henge Docks Click keyboard support iMac</td>\n",
       "      <td>Base to hold the Apple Magic TrackPad and Wire...</td>\n",
       "      <td>29.00</td>\n",
       "      <td>0</td>\n",
       "      <td>8696</td>\n",
       "      <td></td>\n",
       "    </tr>\n",
       "    <tr>\n",
       "      <th>365</th>\n",
       "      <td>LOG0084</td>\n",
       "      <td>Logitech Ultrathin Keyboard Cover Keyboard Cov...</td>\n",
       "      <td>Ultrathin cover and cover with Bluetooth keybo...</td>\n",
       "      <td>89.99</td>\n",
       "      <td>0</td>\n",
       "      <td>12575403</td>\n",
       "      <td></td>\n",
       "    </tr>\n",
       "    <tr>\n",
       "      <th>...</th>\n",
       "      <td>...</td>\n",
       "      <td>...</td>\n",
       "      <td>...</td>\n",
       "      <td>...</td>\n",
       "      <td>...</td>\n",
       "      <td>...</td>\n",
       "      <td>...</td>\n",
       "    </tr>\n",
       "    <tr>\n",
       "      <th>9720</th>\n",
       "      <td>PAC2508</td>\n",
       "      <td>Replacement Magic Wireless Keyboard by Matias ...</td>\n",
       "      <td>Keyboard replacement service at the time of pu...</td>\n",
       "      <td>119.99</td>\n",
       "      <td>1</td>\n",
       "      <td>13855401</td>\n",
       "      <td></td>\n",
       "    </tr>\n",
       "    <tr>\n",
       "      <th>9751</th>\n",
       "      <td>MTF0008</td>\n",
       "      <td>Mistify Clean Screens Natural 500ml.</td>\n",
       "      <td>Spray cleaning screens and keyboards.</td>\n",
       "      <td>14.99</td>\n",
       "      <td>1</td>\n",
       "      <td>12085400</td>\n",
       "      <td></td>\n",
       "    </tr>\n",
       "    <tr>\n",
       "      <th>9796</th>\n",
       "      <td>ZAG0026-A</td>\n",
       "      <td>Open - Zagg Rugged Keyboard Folio iPad Messeng...</td>\n",
       "      <td>Case reconditioned keyboard and adjustable pos...</td>\n",
       "      <td>99.99</td>\n",
       "      <td>0</td>\n",
       "      <td>12575403</td>\n",
       "      <td></td>\n",
       "    </tr>\n",
       "    <tr>\n",
       "      <th>9932</th>\n",
       "      <td>APP1472</td>\n",
       "      <td>Apple Magic Keyboard English International</td>\n",
       "      <td>English keyboard Mac and Apple iPad Ultrathin ...</td>\n",
       "      <td>119.00</td>\n",
       "      <td>1</td>\n",
       "      <td>13855401</td>\n",
       "      <td></td>\n",
       "    </tr>\n",
       "    <tr>\n",
       "      <th>9945</th>\n",
       "      <td>TWS0106-A</td>\n",
       "      <td>Open - Twelve South Bridge Magic Keyboard for ...</td>\n",
       "      <td>Light reconditioned support to hold the Keyboa...</td>\n",
       "      <td>48.00</td>\n",
       "      <td>0</td>\n",
       "      <td>8696</td>\n",
       "      <td></td>\n",
       "    </tr>\n",
       "  </tbody>\n",
       "</table>\n",
       "<p>89 rows × 7 columns</p>\n",
       "</div>"
      ],
      "text/plain": [
       "            sku                                               name  \\\n",
       "1       APP0023                  Apple Mac Keyboard Keypad Spanish   \n",
       "15      MOS0021               Clearguard Moshi MacBook Pro and Air   \n",
       "24      APP0277         Apple Wireless Keyboard Keyboard (OEM) Mac   \n",
       "64      HGD0012            Henge Docks Click keyboard support iMac   \n",
       "365     LOG0084  Logitech Ultrathin Keyboard Cover Keyboard Cov...   \n",
       "...         ...                                                ...   \n",
       "9720    PAC2508  Replacement Magic Wireless Keyboard by Matias ...   \n",
       "9751    MTF0008               Mistify Clean Screens Natural 500ml.   \n",
       "9796  ZAG0026-A  Open - Zagg Rugged Keyboard Folio iPad Messeng...   \n",
       "9932    APP1472         Apple Magic Keyboard English International   \n",
       "9945  TWS0106-A  Open - Twelve South Bridge Magic Keyboard for ...   \n",
       "\n",
       "                                                   desc   price  in_stock  \\\n",
       "1             USB ultrathin keyboard Apple Mac Spanish.   59.00         0   \n",
       "15    Keyboard Protector MacBook Pro 13-inch Retina ...   24.95         0   \n",
       "24    Ultrathin keyboard Apple Bluetooth Spanish (un...   79.00         0   \n",
       "64    Base to hold the Apple Magic TrackPad and Wire...   29.00         0   \n",
       "365   Ultrathin cover and cover with Bluetooth keybo...   89.99         0   \n",
       "...                                                 ...     ...       ...   \n",
       "9720  Keyboard replacement service at the time of pu...  119.99         1   \n",
       "9751              Spray cleaning screens and keyboards.   14.99         1   \n",
       "9796  Case reconditioned keyboard and adjustable pos...   99.99         0   \n",
       "9932  English keyboard Mac and Apple iPad Ultrathin ...  119.00         1   \n",
       "9945  Light reconditioned support to hold the Keyboa...   48.00         0   \n",
       "\n",
       "          type category  \n",
       "1     13855401           \n",
       "15    13835403           \n",
       "24    13855401           \n",
       "64        8696           \n",
       "365   12575403           \n",
       "...        ...      ...  \n",
       "9720  13855401           \n",
       "9751  12085400           \n",
       "9796  12575403           \n",
       "9932  13855401           \n",
       "9945      8696           \n",
       "\n",
       "[89 rows x 7 columns]"
      ]
     },
     "execution_count": 6,
     "metadata": {},
     "output_type": "execute_result"
    }
   ],
   "source": [
    "product_category_df.loc[product_category_df[\"desc\"].str.contains(\"keyboard\", case=False)]"
   ]
  },
  {
   "cell_type": "markdown",
   "metadata": {
    "id": "hdNa39muPhvh"
   },
   "source": [
    "Next, we change the value in the category column to `keyboard` for all of these keyboard products."
   ]
  },
  {
   "cell_type": "code",
   "execution_count": 7,
   "metadata": {
    "id": "WTbebBR63Khc"
   },
   "outputs": [],
   "source": [
    "product_category_df.loc[product_category_df[\"desc\"].str.contains(\"keyboard\", case=False), \"category\"] = \"keyboard\""
   ]
  },
  {
   "cell_type": "markdown",
   "metadata": {
    "id": "fcYoD6dbPzK9"
   },
   "source": [
    "Let's take a look at the effect that had on the `category` column."
   ]
  },
  {
   "cell_type": "code",
   "execution_count": 8,
   "metadata": {
    "colab": {
     "base_uri": "https://localhost:8080/"
    },
    "id": "YhHJzCs83Mgp",
    "outputId": "ec5136cc-2c86-4e4a-a0dd-b1ddb8828d88"
   },
   "outputs": [
    {
     "data": {
      "text/plain": [
       "category\n",
       "            9903\n",
       "keyboard      89\n",
       "Name: count, dtype: int64"
      ]
     },
     "execution_count": 8,
     "metadata": {},
     "output_type": "execute_result"
    }
   ],
   "source": [
    "product_category_df[\"category\"].value_counts()"
   ]
  },
  {
   "cell_type": "markdown",
   "metadata": {
    "id": "zKmy1xNjtcOr"
   },
   "source": [
    "## 2.&nbsp; Category creation using regex\n",
    "We can also use a product's `name` to select products for our categories."
   ]
  },
  {
   "cell_type": "code",
   "execution_count": 9,
   "metadata": {
    "colab": {
     "base_uri": "https://localhost:8080/",
     "height": 424
    },
    "id": "MApPzEVM3N6g",
    "outputId": "2b03285b-052a-43ec-be21-3b46da2b2e04"
   },
   "outputs": [
    {
     "data": {
      "text/html": [
       "<div>\n",
       "<style scoped>\n",
       "    .dataframe tbody tr th:only-of-type {\n",
       "        vertical-align: middle;\n",
       "    }\n",
       "\n",
       "    .dataframe tbody tr th {\n",
       "        vertical-align: top;\n",
       "    }\n",
       "\n",
       "    .dataframe thead th {\n",
       "        text-align: right;\n",
       "    }\n",
       "</style>\n",
       "<table border=\"1\" class=\"dataframe\">\n",
       "  <thead>\n",
       "    <tr style=\"text-align: right;\">\n",
       "      <th></th>\n",
       "      <th>sku</th>\n",
       "      <th>name</th>\n",
       "      <th>desc</th>\n",
       "      <th>price</th>\n",
       "      <th>in_stock</th>\n",
       "      <th>type</th>\n",
       "      <th>category</th>\n",
       "    </tr>\n",
       "  </thead>\n",
       "  <tbody>\n",
       "    <tr>\n",
       "      <th>35</th>\n",
       "      <td>APP0308</td>\n",
       "      <td>AV Cable Adapter Apple iPhone iPad and iPod white</td>\n",
       "      <td>IPhone iPad iPod adapter and AV cable.</td>\n",
       "      <td>45.00</td>\n",
       "      <td>0</td>\n",
       "      <td>1230</td>\n",
       "      <td></td>\n",
       "    </tr>\n",
       "    <tr>\n",
       "      <th>214</th>\n",
       "      <td>REP0100</td>\n",
       "      <td>Color change to White Apple iPhone 4</td>\n",
       "      <td>It is including parts and labor..</td>\n",
       "      <td>94.21</td>\n",
       "      <td>0</td>\n",
       "      <td>1,44E+11</td>\n",
       "      <td></td>\n",
       "    </tr>\n",
       "    <tr>\n",
       "      <th>215</th>\n",
       "      <td>REP0052</td>\n",
       "      <td>Color change to White Apple iPhone 4</td>\n",
       "      <td>It is including parts and labor..</td>\n",
       "      <td>94.21</td>\n",
       "      <td>0</td>\n",
       "      <td>1,44E+11</td>\n",
       "      <td></td>\n",
       "    </tr>\n",
       "    <tr>\n",
       "      <th>579</th>\n",
       "      <td>APP0675</td>\n",
       "      <td>Apple iPhone 5S 32GB Space Gray</td>\n",
       "      <td>New Free iPhone 5S 32GB (ME435Y / A).</td>\n",
       "      <td>559.00</td>\n",
       "      <td>0</td>\n",
       "      <td>NaN</td>\n",
       "      <td></td>\n",
       "    </tr>\n",
       "    <tr>\n",
       "      <th>956</th>\n",
       "      <td>APP0823</td>\n",
       "      <td>Apple iPhone 6 16GB Silver</td>\n",
       "      <td>New iPhone 6 16GB Free (MG482QL / A).</td>\n",
       "      <td>639.00</td>\n",
       "      <td>0</td>\n",
       "      <td>NaN</td>\n",
       "      <td></td>\n",
       "    </tr>\n",
       "    <tr>\n",
       "      <th>...</th>\n",
       "      <td>...</td>\n",
       "      <td>...</td>\n",
       "      <td>...</td>\n",
       "      <td>...</td>\n",
       "      <td>...</td>\n",
       "      <td>...</td>\n",
       "      <td>...</td>\n",
       "    </tr>\n",
       "    <tr>\n",
       "      <th>9790</th>\n",
       "      <td>AP20455</td>\n",
       "      <td>Like new - Apple iPhone 8 256GB Gold</td>\n",
       "      <td>Apple iPhone 8 reconditioned 256GB in Gold rea...</td>\n",
       "      <td>979.00</td>\n",
       "      <td>0</td>\n",
       "      <td>113291716</td>\n",
       "      <td></td>\n",
       "    </tr>\n",
       "    <tr>\n",
       "      <th>9794</th>\n",
       "      <td>APP2482-A</td>\n",
       "      <td>Open - Apple iPhone 8 Plus 256GB Gold</td>\n",
       "      <td>Refurbished Apple iPhone 8 Plus 256GB Free Gold</td>\n",
       "      <td>1089.00</td>\n",
       "      <td>0</td>\n",
       "      <td>113281716</td>\n",
       "      <td></td>\n",
       "    </tr>\n",
       "    <tr>\n",
       "      <th>9929</th>\n",
       "      <td>APP2477-A</td>\n",
       "      <td>Open - Apple iPhone 8 Plus 64GB Space Gray</td>\n",
       "      <td>Apple iPhone 8 Plus 64GB Space Gray</td>\n",
       "      <td>919.00</td>\n",
       "      <td>0</td>\n",
       "      <td>113281716</td>\n",
       "      <td></td>\n",
       "    </tr>\n",
       "    <tr>\n",
       "      <th>9958</th>\n",
       "      <td>AP20467</td>\n",
       "      <td>Like new - Apple iPhone Silicone Case Cover 7 ...</td>\n",
       "      <td>Reconditioned silicone sleeve microfiber Apple...</td>\n",
       "      <td>45.00</td>\n",
       "      <td>0</td>\n",
       "      <td>11865403</td>\n",
       "      <td></td>\n",
       "    </tr>\n",
       "    <tr>\n",
       "      <th>9969</th>\n",
       "      <td>AP20468</td>\n",
       "      <td>Like new - Apple iPhone Black Lightning Dock</td>\n",
       "      <td>Support base and refitted with dock connector ...</td>\n",
       "      <td>59.00</td>\n",
       "      <td>0</td>\n",
       "      <td>13615399</td>\n",
       "      <td></td>\n",
       "    </tr>\n",
       "  </tbody>\n",
       "</table>\n",
       "<p>424 rows × 7 columns</p>\n",
       "</div>"
      ],
      "text/plain": [
       "            sku                                               name  \\\n",
       "35      APP0308  AV Cable Adapter Apple iPhone iPad and iPod white   \n",
       "214     REP0100               Color change to White Apple iPhone 4   \n",
       "215     REP0052               Color change to White Apple iPhone 4   \n",
       "579     APP0675                    Apple iPhone 5S 32GB Space Gray   \n",
       "956     APP0823                         Apple iPhone 6 16GB Silver   \n",
       "...         ...                                                ...   \n",
       "9790    AP20455               Like new - Apple iPhone 8 256GB Gold   \n",
       "9794  APP2482-A              Open - Apple iPhone 8 Plus 256GB Gold   \n",
       "9929  APP2477-A         Open - Apple iPhone 8 Plus 64GB Space Gray   \n",
       "9958    AP20467  Like new - Apple iPhone Silicone Case Cover 7 ...   \n",
       "9969    AP20468       Like new - Apple iPhone Black Lightning Dock   \n",
       "\n",
       "                                                   desc    price  in_stock  \\\n",
       "35               IPhone iPad iPod adapter and AV cable.    45.00         0   \n",
       "214                   It is including parts and labor..    94.21         0   \n",
       "215                   It is including parts and labor..    94.21         0   \n",
       "579               New Free iPhone 5S 32GB (ME435Y / A).   559.00         0   \n",
       "956               New iPhone 6 16GB Free (MG482QL / A).   639.00         0   \n",
       "...                                                 ...      ...       ...   \n",
       "9790  Apple iPhone 8 reconditioned 256GB in Gold rea...   979.00         0   \n",
       "9794    Refurbished Apple iPhone 8 Plus 256GB Free Gold  1089.00         0   \n",
       "9929                Apple iPhone 8 Plus 64GB Space Gray   919.00         0   \n",
       "9958  Reconditioned silicone sleeve microfiber Apple...    45.00         0   \n",
       "9969  Support base and refitted with dock connector ...    59.00         0   \n",
       "\n",
       "           type category  \n",
       "35         1230           \n",
       "214    1,44E+11           \n",
       "215    1,44E+11           \n",
       "579         NaN           \n",
       "956         NaN           \n",
       "...         ...      ...  \n",
       "9790  113291716           \n",
       "9794  113281716           \n",
       "9929  113281716           \n",
       "9958   11865403           \n",
       "9969   13615399           \n",
       "\n",
       "[424 rows x 7 columns]"
      ]
     },
     "execution_count": 9,
     "metadata": {},
     "output_type": "execute_result"
    }
   ],
   "source": [
    "product_category_df.loc[product_category_df[\"name\"].str.contains(\"apple iphone\", case=False)]"
   ]
  },
  {
   "cell_type": "markdown",
   "metadata": {
    "id": "aai7zoKNQSxX"
   },
   "source": [
    "Looks like we get a lot of accessories included in this search. We can refine this using a little regex. Here, we will add `.{0,7}` at the beginning of the search: this means we will find all `apple iphone`s that have 7 or less characters preceding the term \"apple iphone\" - if there's 8 characters preceding the search term, it won't be found. This should help refine our search by using the nomenclature of the DataFrame to our advantage.\n",
    "\n",
    "If you feel unsure about regex, please use [regex101](https://regex101.com/). It's really useful for checking your code, and parts of other people's code that you're unsure about."
   ]
  },
  {
   "cell_type": "code",
   "execution_count": 10,
   "metadata": {
    "colab": {
     "base_uri": "https://localhost:8080/",
     "height": 424
    },
    "id": "mxVST68uCjp4",
    "outputId": "2c6824a8-a5bc-4f10-c463-3babdcf92383"
   },
   "outputs": [
    {
     "data": {
      "text/html": [
       "<div>\n",
       "<style scoped>\n",
       "    .dataframe tbody tr th:only-of-type {\n",
       "        vertical-align: middle;\n",
       "    }\n",
       "\n",
       "    .dataframe tbody tr th {\n",
       "        vertical-align: top;\n",
       "    }\n",
       "\n",
       "    .dataframe thead th {\n",
       "        text-align: right;\n",
       "    }\n",
       "</style>\n",
       "<table border=\"1\" class=\"dataframe\">\n",
       "  <thead>\n",
       "    <tr style=\"text-align: right;\">\n",
       "      <th></th>\n",
       "      <th>sku</th>\n",
       "      <th>name</th>\n",
       "      <th>desc</th>\n",
       "      <th>price</th>\n",
       "      <th>in_stock</th>\n",
       "      <th>type</th>\n",
       "      <th>category</th>\n",
       "    </tr>\n",
       "  </thead>\n",
       "  <tbody>\n",
       "    <tr>\n",
       "      <th>579</th>\n",
       "      <td>APP0675</td>\n",
       "      <td>Apple iPhone 5S 32GB Space Gray</td>\n",
       "      <td>New Free iPhone 5S 32GB (ME435Y / A).</td>\n",
       "      <td>559.0</td>\n",
       "      <td>0</td>\n",
       "      <td>NaN</td>\n",
       "      <td></td>\n",
       "    </tr>\n",
       "    <tr>\n",
       "      <th>956</th>\n",
       "      <td>APP0823</td>\n",
       "      <td>Apple iPhone 6 16GB Silver</td>\n",
       "      <td>New iPhone 6 16GB Free (MG482QL / A).</td>\n",
       "      <td>639.0</td>\n",
       "      <td>0</td>\n",
       "      <td>NaN</td>\n",
       "      <td></td>\n",
       "    </tr>\n",
       "    <tr>\n",
       "      <th>961</th>\n",
       "      <td>APP0829</td>\n",
       "      <td>Apple iPhone 6 Plus 16GB Silver</td>\n",
       "      <td>New iPhone 6 Plus 16G Free (MGA92QL / A).</td>\n",
       "      <td>749.0</td>\n",
       "      <td>0</td>\n",
       "      <td>NaN</td>\n",
       "      <td></td>\n",
       "    </tr>\n",
       "    <tr>\n",
       "      <th>962</th>\n",
       "      <td>APP0822</td>\n",
       "      <td>Apple iPhone 6 16GB Space Gray</td>\n",
       "      <td>New iPhone 6 16GB Free (MG472QL / A).</td>\n",
       "      <td>639.0</td>\n",
       "      <td>0</td>\n",
       "      <td>NaN</td>\n",
       "      <td></td>\n",
       "    </tr>\n",
       "    <tr>\n",
       "      <th>963</th>\n",
       "      <td>APP0825</td>\n",
       "      <td>Apple iPhone 6 64GB Space Gray</td>\n",
       "      <td>New iPhone 6 64GB Free (MG4F2QL / A).</td>\n",
       "      <td>749.0</td>\n",
       "      <td>0</td>\n",
       "      <td>NaN</td>\n",
       "      <td></td>\n",
       "    </tr>\n",
       "    <tr>\n",
       "      <th>...</th>\n",
       "      <td>...</td>\n",
       "      <td>...</td>\n",
       "      <td>...</td>\n",
       "      <td>...</td>\n",
       "      <td>...</td>\n",
       "      <td>...</td>\n",
       "      <td>...</td>\n",
       "    </tr>\n",
       "    <tr>\n",
       "      <th>9585</th>\n",
       "      <td>APP1634-A</td>\n",
       "      <td>Open - Apple iPhone 7 Plus 32GB Black</td>\n",
       "      <td>New 32GB Apple iPhone 7 Plus Free Black</td>\n",
       "      <td>779.0</td>\n",
       "      <td>0</td>\n",
       "      <td>85651716</td>\n",
       "      <td></td>\n",
       "    </tr>\n",
       "    <tr>\n",
       "      <th>9587</th>\n",
       "      <td>APP2540-A</td>\n",
       "      <td>Open - Apple iPhone Leather Folio X Baya</td>\n",
       "      <td>Leather case with box and official cover Apple</td>\n",
       "      <td>109.0</td>\n",
       "      <td>0</td>\n",
       "      <td>11865403</td>\n",
       "      <td></td>\n",
       "    </tr>\n",
       "    <tr>\n",
       "      <th>9714</th>\n",
       "      <td>APP2562-A</td>\n",
       "      <td>Open - Apple iPhone Leather Case Cover Red</td>\n",
       "      <td>Reconditioned skin sheath official Apple desig...</td>\n",
       "      <td>45.0</td>\n",
       "      <td>0</td>\n",
       "      <td>11865403</td>\n",
       "      <td></td>\n",
       "    </tr>\n",
       "    <tr>\n",
       "      <th>9794</th>\n",
       "      <td>APP2482-A</td>\n",
       "      <td>Open - Apple iPhone 8 Plus 256GB Gold</td>\n",
       "      <td>Refurbished Apple iPhone 8 Plus 256GB Free Gold</td>\n",
       "      <td>1089.0</td>\n",
       "      <td>0</td>\n",
       "      <td>113281716</td>\n",
       "      <td></td>\n",
       "    </tr>\n",
       "    <tr>\n",
       "      <th>9929</th>\n",
       "      <td>APP2477-A</td>\n",
       "      <td>Open - Apple iPhone 8 Plus 64GB Space Gray</td>\n",
       "      <td>Apple iPhone 8 Plus 64GB Space Gray</td>\n",
       "      <td>919.0</td>\n",
       "      <td>0</td>\n",
       "      <td>113281716</td>\n",
       "      <td></td>\n",
       "    </tr>\n",
       "  </tbody>\n",
       "</table>\n",
       "<p>269 rows × 7 columns</p>\n",
       "</div>"
      ],
      "text/plain": [
       "            sku                                        name  \\\n",
       "579     APP0675             Apple iPhone 5S 32GB Space Gray   \n",
       "956     APP0823                  Apple iPhone 6 16GB Silver   \n",
       "961     APP0829             Apple iPhone 6 Plus 16GB Silver   \n",
       "962     APP0822              Apple iPhone 6 16GB Space Gray   \n",
       "963     APP0825              Apple iPhone 6 64GB Space Gray   \n",
       "...         ...                                         ...   \n",
       "9585  APP1634-A       Open - Apple iPhone 7 Plus 32GB Black   \n",
       "9587  APP2540-A    Open - Apple iPhone Leather Folio X Baya   \n",
       "9714  APP2562-A  Open - Apple iPhone Leather Case Cover Red   \n",
       "9794  APP2482-A       Open - Apple iPhone 8 Plus 256GB Gold   \n",
       "9929  APP2477-A  Open - Apple iPhone 8 Plus 64GB Space Gray   \n",
       "\n",
       "                                                   desc   price  in_stock  \\\n",
       "579               New Free iPhone 5S 32GB (ME435Y / A).   559.0         0   \n",
       "956               New iPhone 6 16GB Free (MG482QL / A).   639.0         0   \n",
       "961           New iPhone 6 Plus 16G Free (MGA92QL / A).   749.0         0   \n",
       "962               New iPhone 6 16GB Free (MG472QL / A).   639.0         0   \n",
       "963               New iPhone 6 64GB Free (MG4F2QL / A).   749.0         0   \n",
       "...                                                 ...     ...       ...   \n",
       "9585            New 32GB Apple iPhone 7 Plus Free Black   779.0         0   \n",
       "9587     Leather case with box and official cover Apple   109.0         0   \n",
       "9714  Reconditioned skin sheath official Apple desig...    45.0         0   \n",
       "9794    Refurbished Apple iPhone 8 Plus 256GB Free Gold  1089.0         0   \n",
       "9929                Apple iPhone 8 Plus 64GB Space Gray   919.0         0   \n",
       "\n",
       "           type category  \n",
       "579         NaN           \n",
       "956         NaN           \n",
       "961         NaN           \n",
       "962         NaN           \n",
       "963         NaN           \n",
       "...         ...      ...  \n",
       "9585   85651716           \n",
       "9587   11865403           \n",
       "9714   11865403           \n",
       "9794  113281716           \n",
       "9929  113281716           \n",
       "\n",
       "[269 rows x 7 columns]"
      ]
     },
     "execution_count": 10,
     "metadata": {},
     "output_type": "execute_result"
    }
   ],
   "source": [
    "product_category_df.loc[product_category_df[\"name\"].str.contains(\"^.{0,7}apple iphone\", case=False)]"
   ]
  },
  {
   "cell_type": "markdown",
   "metadata": {
    "id": "CYyrvQ2qSLuZ"
   },
   "source": [
    "Now we can use the same trick as before to set the category - selecting the `category` column and setting it to the string of our choice."
   ]
  },
  {
   "cell_type": "code",
   "execution_count": 11,
   "metadata": {
    "id": "yTCbUyK0BMb4"
   },
   "outputs": [],
   "source": [
    "product_category_df.loc[product_category_df[\"name\"].str.contains(\"^.{0,7}apple iphone\", case=False), \"category\"] = \"smartphone\""
   ]
  },
  {
   "cell_type": "code",
   "execution_count": 12,
   "metadata": {
    "colab": {
     "base_uri": "https://localhost:8080/"
    },
    "id": "3TTuCTuW3YeL",
    "outputId": "4532e372-f163-4579-d891-f75c7124cf4b"
   },
   "outputs": [
    {
     "data": {
      "text/plain": [
       "category\n",
       "              9634\n",
       "smartphone     269\n",
       "keyboard        89\n",
       "Name: count, dtype: int64"
      ]
     },
     "execution_count": 12,
     "metadata": {},
     "output_type": "execute_result"
    }
   ],
   "source": [
    "product_category_df[\"category\"].value_counts()"
   ]
  },
  {
   "cell_type": "markdown",
   "metadata": {
    "id": "foWHV_NItf_Z"
   },
   "source": [
    "## 3.&nbsp; One product with multiple categories\n",
    "A product may fit into multiple categories. To help us create multiple categories for one product, we will use the python addition assignment `+=`. The addition assignment is a shorthand way to add something (number, string, etc...) to a variable without changing the variable name.\n",
    "\n",
    "Let's have a look at a couple of examples."
   ]
  },
  {
   "cell_type": "code",
   "execution_count": 13,
   "metadata": {
    "colab": {
     "base_uri": "https://localhost:8080/"
    },
    "id": "GDAclDOIourZ",
    "outputId": "93d4b68f-8898-441d-c8e3-2d8742ca50b9"
   },
   "outputs": [
    {
     "data": {
      "text/plain": [
       "15"
      ]
     },
     "execution_count": 13,
     "metadata": {},
     "output_type": "execute_result"
    }
   ],
   "source": [
    "a = 10\n",
    "a = a + 5\n",
    "a"
   ]
  },
  {
   "cell_type": "code",
   "execution_count": 14,
   "metadata": {
    "colab": {
     "base_uri": "https://localhost:8080/"
    },
    "id": "hwZIQWTKpEBP",
    "outputId": "5ca70b71-ca8e-41db-e3cb-cb30856479a1"
   },
   "outputs": [
    {
     "data": {
      "text/plain": [
       "15"
      ]
     },
     "execution_count": 14,
     "metadata": {},
     "output_type": "execute_result"
    }
   ],
   "source": [
    "a = 10\n",
    "a += 5\n",
    "a"
   ]
  },
  {
   "cell_type": "code",
   "execution_count": 15,
   "metadata": {
    "colab": {
     "base_uri": "https://localhost:8080/",
     "height": 35
    },
    "id": "ftaB_cw8o_25",
    "outputId": "45263be6-74f6-41fb-aa57-633a1a7d979d"
   },
   "outputs": [
    {
     "data": {
      "text/plain": [
       "'Tyrannosaurus rex'"
      ]
     },
     "execution_count": 15,
     "metadata": {},
     "output_type": "execute_result"
    }
   ],
   "source": [
    "b = \"Tyrannosaurus\"\n",
    "b = b + \" rex\"\n",
    "b"
   ]
  },
  {
   "cell_type": "code",
   "execution_count": 16,
   "metadata": {
    "colab": {
     "base_uri": "https://localhost:8080/",
     "height": 35
    },
    "id": "5Tv19vbdpZLO",
    "outputId": "423d682d-8dfd-427c-ae75-fe2c1763df0d"
   },
   "outputs": [
    {
     "data": {
      "text/plain": [
       "'Tyrannosaurus rex'"
      ]
     },
     "execution_count": 16,
     "metadata": {},
     "output_type": "execute_result"
    }
   ],
   "source": [
    "b = \"Tyrannosaurus\"\n",
    "b += \" rex\"\n",
    "b"
   ]
  },
  {
   "cell_type": "markdown",
   "metadata": {
    "id": "V3q9xza6q3MZ"
   },
   "source": [
    "Now let's look at how this can help us in our category creation.\n",
    "\n",
    "First, we'll reset all the values in the category column to an empty string `\"\"`."
   ]
  },
  {
   "cell_type": "code",
   "execution_count": 17,
   "metadata": {
    "id": "zYQeeC6E86T_"
   },
   "outputs": [],
   "source": [
    "product_category_df[\"category\"] = \"\""
   ]
  },
  {
   "cell_type": "markdown",
   "metadata": {
    "id": "LYGZ67rnrLU8"
   },
   "source": [
    "Now, let's create some categories and utilise the addition assignment."
   ]
  },
  {
   "cell_type": "code",
   "execution_count": 18,
   "metadata": {
    "id": "ZOtQHJqsn3Qv"
   },
   "outputs": [],
   "source": [
    "product_category_df.loc[product_category_df[\"desc\"].str.contains(\"keyboard\", case=False), \"category\"] += \", keyboard\"\n",
    "product_category_df.loc[product_category_df[\"name\"].str.contains(\"^.{0,7}apple iphone\", case=False), \"category\"] += \", smartphone\"\n",
    "product_category_df.loc[product_category_df[\"name\"].str.contains(\"^.{0,7}apple ipod\", case=False), \"category\"] += \", ipod\"\n",
    "product_category_df.loc[product_category_df[\"name\"].str.contains(\"^.{0,7}apple ipad|tablet\", case=False), \"category\"] += \", tablet\"\n",
    "product_category_df.loc[product_category_df[\"name\"].str.contains(\"imac|mac mini|mac pro\", case=False), \"category\"] += \", desktop\""
   ]
  },
  {
   "cell_type": "code",
   "execution_count": 19,
   "metadata": {
    "colab": {
     "base_uri": "https://localhost:8080/"
    },
    "id": "EAS_yezTn4m_",
    "outputId": "6278dc81-bc5e-4dd5-f0a6-f2b282dacda6"
   },
   "outputs": [
    {
     "data": {
      "text/plain": [
       "category\n",
       "                       8362\n",
       ", desktop               923\n",
       ", tablet                307\n",
       ", smartphone            269\n",
       ", keyboard               83\n",
       ", ipod                   42\n",
       ", keyboard, tablet        4\n",
       ", keyboard, desktop       2\n",
       "Name: count, dtype: int64"
      ]
     },
     "execution_count": 19,
     "metadata": {},
     "output_type": "execute_result"
    }
   ],
   "source": [
    "product_category_df[\"category\"].value_counts()"
   ]
  },
  {
   "cell_type": "markdown",
   "metadata": {
    "id": "tZktZ5udrTQn"
   },
   "source": [
    "As you can see, some products now have 2 categories instead of just one. At the end, you can use your skills with string to tidy up the opening comma and space in the `category` column."
   ]
  },
  {
   "cell_type": "markdown",
   "metadata": {
    "id": "0c7iUc3J87_b"
   },
   "source": [
    "# Challenge. Your categories\n",
    "Now it's your turn. We'll reset the Dataframe so that no categories exist, and it's up to you to create the categories based on keywords in the name and description. Feel free to go wild and make as many categories as you like.\n",
    "* Remember you can also use regex to refine your searches.\n",
    "* Remember you can use the or operator `|` to search for multiple terms at once.\n",
    "* Remember to tidy up any untidy strings at the end."
   ]
  },
  {
   "cell_type": "code",
   "execution_count": 20,
   "metadata": {
    "id": "MyUM41lldkXH"
   },
   "outputs": [],
   "source": [
    "# products_cl.csv\n",
    "url = \"https://drive.google.com/file/d/1s7Lai4NSlsYjGEPg1QSOUJobNYVsZBOJ/view?usp=sharing\"\n",
    "path = \"https://drive.google.com/uc?export=download&id=\"+url.split(\"/\")[-2]\n",
    "products_cl = pd.read_csv(path)\n",
    "#products_cl = pd.read_csv('Vasil_products_cl.csv')\n",
    "\n",
    "prod_df = products_cl.copy()"
   ]
  },
  {
   "cell_type": "code",
   "execution_count": 21,
   "metadata": {
    "id": "v0BziGegf5VX"
   },
   "outputs": [
    {
     "name": "stdout",
     "output_type": "stream",
     "text": [
      "<class 'pandas.core.frame.DataFrame'>\n",
      "RangeIndex: 9992 entries, 0 to 9991\n",
      "Data columns (total 6 columns):\n",
      " #   Column    Non-Null Count  Dtype  \n",
      "---  ------    --------------  -----  \n",
      " 0   sku       9992 non-null   object \n",
      " 1   name      9992 non-null   object \n",
      " 2   desc      9992 non-null   object \n",
      " 3   price     9992 non-null   float64\n",
      " 4   in_stock  9992 non-null   int64  \n",
      " 5   type      9946 non-null   object \n",
      "dtypes: float64(1), int64(1), object(4)\n",
      "memory usage: 468.5+ KB\n"
     ]
    }
   ],
   "source": [
    "# your code here\n",
    "prod_df.info()"
   ]
  },
  {
   "cell_type": "code",
   "execution_count": 22,
   "metadata": {},
   "outputs": [],
   "source": [
    "prod_df['category'] = ''"
   ]
  },
  {
   "cell_type": "code",
   "execution_count": 23,
   "metadata": {
    "id": "v0BziGegf5VX"
   },
   "outputs": [
    {
     "data": {
      "text/plain": [
       "261"
      ]
     },
     "execution_count": 23,
     "metadata": {},
     "output_type": "execute_result"
    }
   ],
   "source": [
    "prod_df.loc[prod_df.desc.str.contains('support', case=False), 'category'] = 'support'\n",
    "prod_df.loc[prod_df.desc.str.contains('support', case=False), 'category'].count()"
   ]
  },
  {
   "cell_type": "code",
   "execution_count": 24,
   "metadata": {},
   "outputs": [
    {
     "data": {
      "text/plain": [
       "108"
      ]
     },
     "execution_count": 24,
     "metadata": {},
     "output_type": "execute_result"
    }
   ],
   "source": [
    "prod_df.loc[prod_df.desc.str.contains('keyboard|keypad', case=False) | prod_df.name.str.contains('keyboard|keypad', case=False), 'category'] += 'keyboard, '\n",
    "prod_df.loc[prod_df.desc.str.contains('keyboard|keypad', case=False) | prod_df.name.str.contains('keyboard|keypad', case=False), 'category'].count()"
   ]
  },
  {
   "cell_type": "code",
   "execution_count": 25,
   "metadata": {},
   "outputs": [
    {
     "data": {
      "text/plain": [
       "60"
      ]
     },
     "execution_count": 25,
     "metadata": {},
     "output_type": "execute_result"
    }
   ],
   "source": [
    "prod_df.loc[prod_df.desc.str.contains('backpack', case=False) | prod_df.name.str.contains('backpack', case=False), 'category'] += 'backpack, '\n",
    "prod_df.loc[prod_df.desc.str.contains('backpack', case=False) | prod_df.name.str.contains('backpack', case=False), 'category'].count()"
   ]
  },
  {
   "cell_type": "code",
   "execution_count": 26,
   "metadata": {},
   "outputs": [
    {
     "data": {
      "text/plain": [
       "324"
      ]
     },
     "execution_count": 26,
     "metadata": {},
     "output_type": "execute_result"
    }
   ],
   "source": [
    "prod_df.loc[prod_df.desc.str.contains('battery', case=False) | prod_df.name.str.contains('battery', case=False), 'category'] += 'battery, '\n",
    "prod_df.loc[prod_df.desc.str.contains('battery', case=False) | prod_df.name.str.contains('battery', case=False), 'category'].count()"
   ]
  },
  {
   "cell_type": "code",
   "execution_count": 27,
   "metadata": {},
   "outputs": [
    {
     "data": {
      "text/plain": [
       "210"
      ]
     },
     "execution_count": 27,
     "metadata": {},
     "output_type": "execute_result"
    }
   ],
   "source": [
    "prod_df.loc[prod_df.desc.str.contains('headset|headphone|earphone', case=False) | prod_df.name.str.contains('headset|headphone|earphone', case=False), 'category'] += 'headphone, '\n",
    "prod_df.loc[prod_df.desc.str.contains('headset|headphone|earphone', case=False) | prod_df.name.str.contains('headset|headphone|earphone', case=False), 'category'].count()"
   ]
  },
  {
   "cell_type": "code",
   "execution_count": 28,
   "metadata": {},
   "outputs": [],
   "source": [
    "#prod_df.loc[prod_df.desc.str.contains('headset|headphone|earphone', case=False) | prod_df.name.str.contains('headset|headphone|earphone', case=False)]"
   ]
  },
  {
   "cell_type": "code",
   "execution_count": null,
   "metadata": {},
   "outputs": [],
   "source": []
  },
  {
   "cell_type": "code",
   "execution_count": null,
   "metadata": {},
   "outputs": [],
   "source": []
  },
  {
   "cell_type": "code",
   "execution_count": null,
   "metadata": {},
   "outputs": [],
   "source": []
  },
  {
   "cell_type": "markdown",
   "metadata": {},
   "source": [
    "### clean up the 'category' strings"
   ]
  },
  {
   "cell_type": "code",
   "execution_count": 29,
   "metadata": {},
   "outputs": [
    {
     "data": {
      "text/plain": [
       "1        keyboard, \n",
       "11      headphone, \n",
       "15       keyboard, \n",
       "24       keyboard, \n",
       "25        battery, \n",
       "           ...     \n",
       "9985     backpack, \n",
       "9988     backpack, \n",
       "9989     backpack, \n",
       "9990     backpack, \n",
       "9991     backpack, \n",
       "Name: category, Length: 676, dtype: object"
      ]
     },
     "execution_count": 29,
     "metadata": {},
     "output_type": "execute_result"
    }
   ],
   "source": [
    "prod_df.loc[prod_df.category.str.contains(', $', regex=True), 'category']"
   ]
  },
  {
   "cell_type": "code",
   "execution_count": 30,
   "metadata": {},
   "outputs": [],
   "source": [
    "prod_df.category = prod_df.category.str.replace(', $', '', regex=True)"
   ]
  },
  {
   "cell_type": "code",
   "execution_count": 31,
   "metadata": {
    "scrolled": true
   },
   "outputs": [
    {
     "data": {
      "text/plain": [
       "0        support\n",
       "1       keyboard\n",
       "2               \n",
       "3               \n",
       "4               \n",
       "          ...   \n",
       "9987            \n",
       "9988    backpack\n",
       "9989    backpack\n",
       "9990    backpack\n",
       "9991    backpack\n",
       "Name: category, Length: 9992, dtype: object"
      ]
     },
     "execution_count": 31,
     "metadata": {},
     "output_type": "execute_result"
    }
   ],
   "source": [
    "prod_df.category"
   ]
  },
  {
   "cell_type": "code",
   "execution_count": 32,
   "metadata": {
    "scrolled": true
   },
   "outputs": [
    {
     "data": {
      "text/html": [
       "<div>\n",
       "<style scoped>\n",
       "    .dataframe tbody tr th:only-of-type {\n",
       "        vertical-align: middle;\n",
       "    }\n",
       "\n",
       "    .dataframe tbody tr th {\n",
       "        vertical-align: top;\n",
       "    }\n",
       "\n",
       "    .dataframe thead th {\n",
       "        text-align: right;\n",
       "    }\n",
       "</style>\n",
       "<table border=\"1\" class=\"dataframe\">\n",
       "  <thead>\n",
       "    <tr style=\"text-align: right;\">\n",
       "      <th></th>\n",
       "      <th>sku</th>\n",
       "      <th>name</th>\n",
       "      <th>desc</th>\n",
       "      <th>price</th>\n",
       "      <th>in_stock</th>\n",
       "      <th>type</th>\n",
       "      <th>category</th>\n",
       "    </tr>\n",
       "  </thead>\n",
       "  <tbody>\n",
       "    <tr>\n",
       "      <th>0</th>\n",
       "      <td>RAI0007</td>\n",
       "      <td>Silver Rain Design mStand Support</td>\n",
       "      <td>Aluminum support compatible with all MacBook</td>\n",
       "      <td>59.99</td>\n",
       "      <td>1</td>\n",
       "      <td>8696</td>\n",
       "      <td>support</td>\n",
       "    </tr>\n",
       "    <tr>\n",
       "      <th>1</th>\n",
       "      <td>APP0023</td>\n",
       "      <td>Apple Mac Keyboard Keypad Spanish</td>\n",
       "      <td>USB ultrathin keyboard Apple Mac Spanish.</td>\n",
       "      <td>59.00</td>\n",
       "      <td>0</td>\n",
       "      <td>13855401</td>\n",
       "      <td>keyboard</td>\n",
       "    </tr>\n",
       "    <tr>\n",
       "      <th>2</th>\n",
       "      <td>APP0025</td>\n",
       "      <td>Mighty Mouse Apple Mouse for Mac</td>\n",
       "      <td>mouse Apple USB cable.</td>\n",
       "      <td>59.00</td>\n",
       "      <td>0</td>\n",
       "      <td>1387</td>\n",
       "      <td></td>\n",
       "    </tr>\n",
       "    <tr>\n",
       "      <th>3</th>\n",
       "      <td>APP0072</td>\n",
       "      <td>Apple Dock to USB Cable iPhone and iPod white</td>\n",
       "      <td>IPhone dock and USB Cable Apple iPod.</td>\n",
       "      <td>25.00</td>\n",
       "      <td>0</td>\n",
       "      <td>1230</td>\n",
       "      <td></td>\n",
       "    </tr>\n",
       "    <tr>\n",
       "      <th>4</th>\n",
       "      <td>KIN0007</td>\n",
       "      <td>Mac Memory Kingston 2GB 667MHz DDR2 SO-DIMM</td>\n",
       "      <td>2GB RAM Mac mini and iMac (2006/07) MacBook Pr...</td>\n",
       "      <td>34.99</td>\n",
       "      <td>1</td>\n",
       "      <td>1364</td>\n",
       "      <td></td>\n",
       "    </tr>\n",
       "    <tr>\n",
       "      <th>...</th>\n",
       "      <td>...</td>\n",
       "      <td>...</td>\n",
       "      <td>...</td>\n",
       "      <td>...</td>\n",
       "      <td>...</td>\n",
       "      <td>...</td>\n",
       "      <td>...</td>\n",
       "    </tr>\n",
       "    <tr>\n",
       "      <th>9987</th>\n",
       "      <td>BEL0376</td>\n",
       "      <td>Belkin Travel Support Apple Watch Black</td>\n",
       "      <td>compact and portable stand vertically or horiz...</td>\n",
       "      <td>29.99</td>\n",
       "      <td>1</td>\n",
       "      <td>12282</td>\n",
       "      <td></td>\n",
       "    </tr>\n",
       "    <tr>\n",
       "      <th>9988</th>\n",
       "      <td>THU0060</td>\n",
       "      <td>Enroute Thule 14L Backpack MacBook 13 \"Black</td>\n",
       "      <td>Backpack with capacity of 14 liter compartment...</td>\n",
       "      <td>69.95</td>\n",
       "      <td>1</td>\n",
       "      <td>1392</td>\n",
       "      <td>backpack</td>\n",
       "    </tr>\n",
       "    <tr>\n",
       "      <th>9989</th>\n",
       "      <td>THU0061</td>\n",
       "      <td>Enroute Thule 14L Backpack MacBook 13 \"Blue</td>\n",
       "      <td>Backpack with capacity of 14 liter compartment...</td>\n",
       "      <td>69.95</td>\n",
       "      <td>1</td>\n",
       "      <td>1392</td>\n",
       "      <td>backpack</td>\n",
       "    </tr>\n",
       "    <tr>\n",
       "      <th>9990</th>\n",
       "      <td>THU0062</td>\n",
       "      <td>Enroute Thule 14L Backpack MacBook 13 \"Red</td>\n",
       "      <td>Backpack with capacity of 14 liter compartment...</td>\n",
       "      <td>69.95</td>\n",
       "      <td>0</td>\n",
       "      <td>1392</td>\n",
       "      <td>backpack</td>\n",
       "    </tr>\n",
       "    <tr>\n",
       "      <th>9991</th>\n",
       "      <td>THU0063</td>\n",
       "      <td>Enroute Thule 14L Backpack MacBook 13 \"Green</td>\n",
       "      <td>Backpack with capacity of 14 liter compartment...</td>\n",
       "      <td>69.95</td>\n",
       "      <td>1</td>\n",
       "      <td>1392</td>\n",
       "      <td>backpack</td>\n",
       "    </tr>\n",
       "  </tbody>\n",
       "</table>\n",
       "<p>9992 rows × 7 columns</p>\n",
       "</div>"
      ],
      "text/plain": [
       "          sku                                           name  \\\n",
       "0     RAI0007              Silver Rain Design mStand Support   \n",
       "1     APP0023              Apple Mac Keyboard Keypad Spanish   \n",
       "2     APP0025               Mighty Mouse Apple Mouse for Mac   \n",
       "3     APP0072  Apple Dock to USB Cable iPhone and iPod white   \n",
       "4     KIN0007    Mac Memory Kingston 2GB 667MHz DDR2 SO-DIMM   \n",
       "...       ...                                            ...   \n",
       "9987  BEL0376        Belkin Travel Support Apple Watch Black   \n",
       "9988  THU0060   Enroute Thule 14L Backpack MacBook 13 \"Black   \n",
       "9989  THU0061    Enroute Thule 14L Backpack MacBook 13 \"Blue   \n",
       "9990  THU0062     Enroute Thule 14L Backpack MacBook 13 \"Red   \n",
       "9991  THU0063   Enroute Thule 14L Backpack MacBook 13 \"Green   \n",
       "\n",
       "                                                   desc  price  in_stock  \\\n",
       "0          Aluminum support compatible with all MacBook  59.99         1   \n",
       "1             USB ultrathin keyboard Apple Mac Spanish.  59.00         0   \n",
       "2                                mouse Apple USB cable.  59.00         0   \n",
       "3                 IPhone dock and USB Cable Apple iPod.  25.00         0   \n",
       "4     2GB RAM Mac mini and iMac (2006/07) MacBook Pr...  34.99         1   \n",
       "...                                                 ...    ...       ...   \n",
       "9987  compact and portable stand vertically or horiz...  29.99         1   \n",
       "9988  Backpack with capacity of 14 liter compartment...  69.95         1   \n",
       "9989  Backpack with capacity of 14 liter compartment...  69.95         1   \n",
       "9990  Backpack with capacity of 14 liter compartment...  69.95         0   \n",
       "9991  Backpack with capacity of 14 liter compartment...  69.95         1   \n",
       "\n",
       "          type  category  \n",
       "0         8696   support  \n",
       "1     13855401  keyboard  \n",
       "2         1387            \n",
       "3         1230            \n",
       "4         1364            \n",
       "...        ...       ...  \n",
       "9987     12282            \n",
       "9988      1392  backpack  \n",
       "9989      1392  backpack  \n",
       "9990      1392  backpack  \n",
       "9991      1392  backpack  \n",
       "\n",
       "[9992 rows x 7 columns]"
      ]
     },
     "execution_count": 32,
     "metadata": {},
     "output_type": "execute_result"
    }
   ],
   "source": [
    "prod_df"
   ]
  },
  {
   "cell_type": "markdown",
   "metadata": {
    "id": "RZmoYd6-tsvG"
   },
   "source": [
    "## 4.&nbsp; [BONUS] Using `type` to create categories\n",
    "There could be another way to create categories, but this one you'll have to explore this one alone.\n",
    "\n",
    "We have the mysterious column `type` in the `products` table. This could potentially be ready-made categories labelled with numbers instead of words. Let's investigate."
   ]
  },
  {
   "cell_type": "code",
   "execution_count": 33,
   "metadata": {
    "id": "K5HJA7_M2nzw"
   },
   "outputs": [],
   "source": [
    "category_type_df = products_cl.copy()"
   ]
  },
  {
   "cell_type": "markdown",
   "metadata": {
    "id": "rqjhiJiE3Xbm"
   },
   "source": [
    "Here are the `type`s that have the most products."
   ]
  },
  {
   "cell_type": "code",
   "execution_count": 34,
   "metadata": {
    "colab": {
     "base_uri": "https://localhost:8080/",
     "height": 394
    },
    "id": "OwzkbYnvNDnu",
    "outputId": "8397fcb7-5283-41c1-a0c2-3a3b560efab7"
   },
   "outputs": [
    {
     "data": {
      "text/html": [
       "<div>\n",
       "<style scoped>\n",
       "    .dataframe tbody tr th:only-of-type {\n",
       "        vertical-align: middle;\n",
       "    }\n",
       "\n",
       "    .dataframe tbody tr th {\n",
       "        vertical-align: top;\n",
       "    }\n",
       "\n",
       "    .dataframe thead th {\n",
       "        text-align: right;\n",
       "    }\n",
       "</style>\n",
       "<table border=\"1\" class=\"dataframe\">\n",
       "  <thead>\n",
       "    <tr style=\"text-align: right;\">\n",
       "      <th></th>\n",
       "      <th>sku</th>\n",
       "      <th>name</th>\n",
       "      <th>desc</th>\n",
       "      <th>price</th>\n",
       "      <th>in_stock</th>\n",
       "    </tr>\n",
       "    <tr>\n",
       "      <th>type</th>\n",
       "      <th></th>\n",
       "      <th></th>\n",
       "      <th></th>\n",
       "      <th></th>\n",
       "      <th></th>\n",
       "    </tr>\n",
       "  </thead>\n",
       "  <tbody>\n",
       "    <tr>\n",
       "      <th>11865403</th>\n",
       "      <td>1057</td>\n",
       "      <td>1057</td>\n",
       "      <td>1057</td>\n",
       "      <td>1057</td>\n",
       "      <td>1057</td>\n",
       "    </tr>\n",
       "    <tr>\n",
       "      <th>12175397</th>\n",
       "      <td>939</td>\n",
       "      <td>939</td>\n",
       "      <td>939</td>\n",
       "      <td>939</td>\n",
       "      <td>939</td>\n",
       "    </tr>\n",
       "    <tr>\n",
       "      <th>1298</th>\n",
       "      <td>783</td>\n",
       "      <td>783</td>\n",
       "      <td>783</td>\n",
       "      <td>783</td>\n",
       "      <td>783</td>\n",
       "    </tr>\n",
       "    <tr>\n",
       "      <th>11935397</th>\n",
       "      <td>562</td>\n",
       "      <td>562</td>\n",
       "      <td>562</td>\n",
       "      <td>562</td>\n",
       "      <td>562</td>\n",
       "    </tr>\n",
       "    <tr>\n",
       "      <th>11905404</th>\n",
       "      <td>454</td>\n",
       "      <td>454</td>\n",
       "      <td>454</td>\n",
       "      <td>454</td>\n",
       "      <td>454</td>\n",
       "    </tr>\n",
       "    <tr>\n",
       "      <th>1282</th>\n",
       "      <td>373</td>\n",
       "      <td>373</td>\n",
       "      <td>373</td>\n",
       "      <td>373</td>\n",
       "      <td>373</td>\n",
       "    </tr>\n",
       "    <tr>\n",
       "      <th>12635403</th>\n",
       "      <td>362</td>\n",
       "      <td>362</td>\n",
       "      <td>362</td>\n",
       "      <td>362</td>\n",
       "      <td>362</td>\n",
       "    </tr>\n",
       "    <tr>\n",
       "      <th>13835403</th>\n",
       "      <td>269</td>\n",
       "      <td>269</td>\n",
       "      <td>269</td>\n",
       "      <td>269</td>\n",
       "      <td>269</td>\n",
       "    </tr>\n",
       "    <tr>\n",
       "      <th>5,74E+15</th>\n",
       "      <td>247</td>\n",
       "      <td>247</td>\n",
       "      <td>247</td>\n",
       "      <td>247</td>\n",
       "      <td>247</td>\n",
       "    </tr>\n",
       "    <tr>\n",
       "      <th>1364</th>\n",
       "      <td>216</td>\n",
       "      <td>216</td>\n",
       "      <td>216</td>\n",
       "      <td>216</td>\n",
       "      <td>216</td>\n",
       "    </tr>\n",
       "  </tbody>\n",
       "</table>\n",
       "</div>"
      ],
      "text/plain": [
       "           sku  name  desc  price  in_stock\n",
       "type                                       \n",
       "11865403  1057  1057  1057   1057      1057\n",
       "12175397   939   939   939    939       939\n",
       "1298       783   783   783    783       783\n",
       "11935397   562   562   562    562       562\n",
       "11905404   454   454   454    454       454\n",
       "1282       373   373   373    373       373\n",
       "12635403   362   362   362    362       362\n",
       "13835403   269   269   269    269       269\n",
       "5,74E+15   247   247   247    247       247\n",
       "1364       216   216   216    216       216"
      ]
     },
     "execution_count": 34,
     "metadata": {},
     "output_type": "execute_result"
    }
   ],
   "source": [
    "category_type_df.groupby(\"type\").count().nlargest(10, \"sku\")"
   ]
  },
  {
   "cell_type": "markdown",
   "metadata": {
    "id": "gxkXWt9K3lAl"
   },
   "source": [
    "Let's have a look at the first `type` to see if we can make categories from this column."
   ]
  },
  {
   "cell_type": "code",
   "execution_count": 35,
   "metadata": {
    "colab": {
     "base_uri": "https://localhost:8080/",
     "height": 363
    },
    "id": "qDcnQEXo3_2Q",
    "outputId": "4119bfe0-c096-4dc8-e809-3b04fd7315fd"
   },
   "outputs": [
    {
     "data": {
      "text/html": [
       "<div>\n",
       "<style scoped>\n",
       "    .dataframe tbody tr th:only-of-type {\n",
       "        vertical-align: middle;\n",
       "    }\n",
       "\n",
       "    .dataframe tbody tr th {\n",
       "        vertical-align: top;\n",
       "    }\n",
       "\n",
       "    .dataframe thead th {\n",
       "        text-align: right;\n",
       "    }\n",
       "</style>\n",
       "<table border=\"1\" class=\"dataframe\">\n",
       "  <thead>\n",
       "    <tr style=\"text-align: right;\">\n",
       "      <th></th>\n",
       "      <th>sku</th>\n",
       "      <th>name</th>\n",
       "      <th>desc</th>\n",
       "      <th>price</th>\n",
       "      <th>in_stock</th>\n",
       "      <th>type</th>\n",
       "    </tr>\n",
       "  </thead>\n",
       "  <tbody>\n",
       "    <tr>\n",
       "      <th>1162</th>\n",
       "      <td>OTT0055</td>\n",
       "      <td>Otterbox Defender Case iPhone 6 Gray</td>\n",
       "      <td>Ultra Rugged Case for iPhone 6.</td>\n",
       "      <td>49.99</td>\n",
       "      <td>0</td>\n",
       "      <td>11865403</td>\n",
       "    </tr>\n",
       "    <tr>\n",
       "      <th>5119</th>\n",
       "      <td>MUJ0024</td>\n",
       "      <td>Mujjo Leather Black Leather Case iPhone 7 Plus</td>\n",
       "      <td>ultrathin Case for iPhone vegetable tanned lea...</td>\n",
       "      <td>44.90</td>\n",
       "      <td>0</td>\n",
       "      <td>11865403</td>\n",
       "    </tr>\n",
       "    <tr>\n",
       "      <th>949</th>\n",
       "      <td>PUR0120</td>\n",
       "      <td>Puro Booklet Cover iPhone 6 Silver</td>\n",
       "      <td>Case closed book card case for iPhone 6 47 inc...</td>\n",
       "      <td>19.99</td>\n",
       "      <td>0</td>\n",
       "      <td>11865403</td>\n",
       "    </tr>\n",
       "    <tr>\n",
       "      <th>1528</th>\n",
       "      <td>LIF0046</td>\n",
       "      <td>LifeProof Fre Waterproof Case iPhone 6 Blue</td>\n",
       "      <td>waterproof and extreme conditions for iPhone 6...</td>\n",
       "      <td>79.99</td>\n",
       "      <td>0</td>\n",
       "      <td>11865403</td>\n",
       "    </tr>\n",
       "    <tr>\n",
       "      <th>4612</th>\n",
       "      <td>OTT0134</td>\n",
       "      <td>Otterbox iPhone Case Symmetry 2.0 SE / 5s / 5 ...</td>\n",
       "      <td>resistant cover and thin beveled edges for iPh...</td>\n",
       "      <td>34.99</td>\n",
       "      <td>0</td>\n",
       "      <td>11865403</td>\n",
       "    </tr>\n",
       "    <tr>\n",
       "      <th>5263</th>\n",
       "      <td>MOS0197</td>\n",
       "      <td>Moshi iGlaze Case Black iPhone 7/8</td>\n",
       "      <td>rigid case with compact design and shock prote...</td>\n",
       "      <td>30.00</td>\n",
       "      <td>1</td>\n",
       "      <td>11865403</td>\n",
       "    </tr>\n",
       "    <tr>\n",
       "      <th>943</th>\n",
       "      <td>MUV0141</td>\n",
       "      <td>Muvit Slim Folio iPhone 6 Pink</td>\n",
       "      <td>Cover with support function with lid 47 iPhone...</td>\n",
       "      <td>15.99</td>\n",
       "      <td>0</td>\n",
       "      <td>11865403</td>\n",
       "    </tr>\n",
       "    <tr>\n",
       "      <th>3049</th>\n",
       "      <td>TUC0237</td>\n",
       "      <td>Housing Sottile Tucano iPhone 6 / 6S Gray</td>\n",
       "      <td>Cover for iPhone 6 / 6S.</td>\n",
       "      <td>7.90</td>\n",
       "      <td>0</td>\n",
       "      <td>11865403</td>\n",
       "    </tr>\n",
       "    <tr>\n",
       "      <th>6619</th>\n",
       "      <td>BEL0273-A</td>\n",
       "      <td>Open - Air Protect SheerForce Case Belkin iPho...</td>\n",
       "      <td>Case technology against impact and wear resist...</td>\n",
       "      <td>24.99</td>\n",
       "      <td>0</td>\n",
       "      <td>11865403</td>\n",
       "    </tr>\n",
       "    <tr>\n",
       "      <th>8204</th>\n",
       "      <td>ELA0056</td>\n",
       "      <td>Elago S8 Empire Polycarbonate Case iPhone X Ro...</td>\n",
       "      <td>Protection best suited to your iPhone rose gol...</td>\n",
       "      <td>28.99</td>\n",
       "      <td>1</td>\n",
       "      <td>11865403</td>\n",
       "    </tr>\n",
       "  </tbody>\n",
       "</table>\n",
       "</div>"
      ],
      "text/plain": [
       "            sku                                               name  \\\n",
       "1162    OTT0055               Otterbox Defender Case iPhone 6 Gray   \n",
       "5119    MUJ0024     Mujjo Leather Black Leather Case iPhone 7 Plus   \n",
       "949     PUR0120                 Puro Booklet Cover iPhone 6 Silver   \n",
       "1528    LIF0046        LifeProof Fre Waterproof Case iPhone 6 Blue   \n",
       "4612    OTT0134  Otterbox iPhone Case Symmetry 2.0 SE / 5s / 5 ...   \n",
       "5263    MOS0197                 Moshi iGlaze Case Black iPhone 7/8   \n",
       "943     MUV0141                     Muvit Slim Folio iPhone 6 Pink   \n",
       "3049    TUC0237          Housing Sottile Tucano iPhone 6 / 6S Gray   \n",
       "6619  BEL0273-A  Open - Air Protect SheerForce Case Belkin iPho...   \n",
       "8204    ELA0056  Elago S8 Empire Polycarbonate Case iPhone X Ro...   \n",
       "\n",
       "                                                   desc  price  in_stock  \\\n",
       "1162                    Ultra Rugged Case for iPhone 6.  49.99         0   \n",
       "5119  ultrathin Case for iPhone vegetable tanned lea...  44.90         0   \n",
       "949   Case closed book card case for iPhone 6 47 inc...  19.99         0   \n",
       "1528  waterproof and extreme conditions for iPhone 6...  79.99         0   \n",
       "4612  resistant cover and thin beveled edges for iPh...  34.99         0   \n",
       "5263  rigid case with compact design and shock prote...  30.00         1   \n",
       "943   Cover with support function with lid 47 iPhone...  15.99         0   \n",
       "3049                           Cover for iPhone 6 / 6S.   7.90         0   \n",
       "6619  Case technology against impact and wear resist...  24.99         0   \n",
       "8204  Protection best suited to your iPhone rose gol...  28.99         1   \n",
       "\n",
       "          type  \n",
       "1162  11865403  \n",
       "5119  11865403  \n",
       "949   11865403  \n",
       "1528  11865403  \n",
       "4612  11865403  \n",
       "5263  11865403  \n",
       "943   11865403  \n",
       "3049  11865403  \n",
       "6619  11865403  \n",
       "8204  11865403  "
      ]
     },
     "execution_count": 35,
     "metadata": {},
     "output_type": "execute_result"
    }
   ],
   "source": [
    "category_type_df.loc[category_type_df[\"type\"] == \"11865403\"].sample(10)"
   ]
  },
  {
   "cell_type": "markdown",
   "metadata": {
    "id": "8f4D6vx04EF-"
   },
   "source": [
    "Looks like this is a category of phone cases.\n",
    "\n",
    "Let's have a look at the 2nd largest type to see if that's also a clear category."
   ]
  },
  {
   "cell_type": "code",
   "execution_count": 36,
   "metadata": {
    "colab": {
     "base_uri": "https://localhost:8080/",
     "height": 363
    },
    "id": "iiP45DQQ4YHC",
    "outputId": "b9f333cd-c4b5-4c18-add6-f4f9a9025260"
   },
   "outputs": [
    {
     "data": {
      "text/html": [
       "<div>\n",
       "<style scoped>\n",
       "    .dataframe tbody tr th:only-of-type {\n",
       "        vertical-align: middle;\n",
       "    }\n",
       "\n",
       "    .dataframe tbody tr th {\n",
       "        vertical-align: top;\n",
       "    }\n",
       "\n",
       "    .dataframe thead th {\n",
       "        text-align: right;\n",
       "    }\n",
       "</style>\n",
       "<table border=\"1\" class=\"dataframe\">\n",
       "  <thead>\n",
       "    <tr style=\"text-align: right;\">\n",
       "      <th></th>\n",
       "      <th>sku</th>\n",
       "      <th>name</th>\n",
       "      <th>desc</th>\n",
       "      <th>price</th>\n",
       "      <th>in_stock</th>\n",
       "      <th>type</th>\n",
       "    </tr>\n",
       "  </thead>\n",
       "  <tbody>\n",
       "    <tr>\n",
       "      <th>3360</th>\n",
       "      <td>PAC1639</td>\n",
       "      <td>Pack QNAP TS-253A | 4G RAM | 6TB Seagate Desktop</td>\n",
       "      <td>QNAP Pack + 4GB memory RAM + 12TB (2x6TB) Seag...</td>\n",
       "      <td>949.97</td>\n",
       "      <td>1</td>\n",
       "      <td>12175397</td>\n",
       "    </tr>\n",
       "    <tr>\n",
       "      <th>3668</th>\n",
       "      <td>PAC1277</td>\n",
       "      <td>QNAP TS-451 Pack | Seagate Desktop 12TB</td>\n",
       "      <td>Pack QNAP TS-451 + 12TB (4x3TB) Seagate Hard D...</td>\n",
       "      <td>870.29</td>\n",
       "      <td>0</td>\n",
       "      <td>12175397</td>\n",
       "    </tr>\n",
       "    <tr>\n",
       "      <th>2927</th>\n",
       "      <td>PAC1160</td>\n",
       "      <td>Synology Pack DS216SE | Seagate 6TB IronWolf</td>\n",
       "      <td>Pack + Synology 6TB (2x3TB) Seagate Hard Drive...</td>\n",
       "      <td>419.97</td>\n",
       "      <td>1</td>\n",
       "      <td>12175397</td>\n",
       "    </tr>\n",
       "    <tr>\n",
       "      <th>3279</th>\n",
       "      <td>PAC1638</td>\n",
       "      <td>Pack QNAP TS-451 + | 8GB RAM | Seagate NAS 32TB</td>\n",
       "      <td>TS-451 + NAS with 40TB + 8GB RAM memory (4x10T...</td>\n",
       "      <td>2199.95</td>\n",
       "      <td>0</td>\n",
       "      <td>12175397</td>\n",
       "    </tr>\n",
       "    <tr>\n",
       "      <th>5968</th>\n",
       "      <td>QNA0194</td>\n",
       "      <td>QNAP TS-463U-RP NAS Server | 4GB RAM</td>\n",
       "      <td>NAS 4-bay rack format includes a port 10GbE tr...</td>\n",
       "      <td>1305.59</td>\n",
       "      <td>0</td>\n",
       "      <td>12175397</td>\n",
       "    </tr>\n",
       "    <tr>\n",
       "      <th>4382</th>\n",
       "      <td>PAC1425</td>\n",
       "      <td>Synology DS916 + Pack | 2GB RAM | WD 24TB Network</td>\n",
       "      <td>Synology DS916 + with 2GB RAM memory + 24TB (4...</td>\n",
       "      <td>1600.80</td>\n",
       "      <td>0</td>\n",
       "      <td>12175397</td>\n",
       "    </tr>\n",
       "    <tr>\n",
       "      <th>3365</th>\n",
       "      <td>QNA0156</td>\n",
       "      <td>QNAP TS-653A | 4GB RAM Mac and PC Server NAS</td>\n",
       "      <td>NAS server 4 bays and 4 GB RAM for small busin...</td>\n",
       "      <td>845.79</td>\n",
       "      <td>0</td>\n",
       "      <td>12175397</td>\n",
       "    </tr>\n",
       "    <tr>\n",
       "      <th>4389</th>\n",
       "      <td>PAC1853</td>\n",
       "      <td>Synology DS916 + | 8GB RAM | 32TB (4x8TB) Seag...</td>\n",
       "      <td>DS916 + NAS with 32TB + 8GB RAM memory (4x8TB)...</td>\n",
       "      <td>2069.16</td>\n",
       "      <td>0</td>\n",
       "      <td>12175397</td>\n",
       "    </tr>\n",
       "    <tr>\n",
       "      <th>3381</th>\n",
       "      <td>PAC1342</td>\n",
       "      <td>Pack QNAP TS-453A | 8GB RAM | WD 16TB Network</td>\n",
       "      <td>Pack NAS QNAP TS-453A with 8GB of RAM memory +...</td>\n",
       "      <td>1376.59</td>\n",
       "      <td>0</td>\n",
       "      <td>12175397</td>\n",
       "    </tr>\n",
       "    <tr>\n",
       "      <th>8664</th>\n",
       "      <td>PAC2451</td>\n",
       "      <td>Synology DS918 + NAS Server | 16GB RAM | 32TB ...</td>\n",
       "      <td>NAS server of the Plus Series for companies se...</td>\n",
       "      <td>2212.67</td>\n",
       "      <td>0</td>\n",
       "      <td>12175397</td>\n",
       "    </tr>\n",
       "  </tbody>\n",
       "</table>\n",
       "</div>"
      ],
      "text/plain": [
       "          sku                                               name  \\\n",
       "3360  PAC1639   Pack QNAP TS-253A | 4G RAM | 6TB Seagate Desktop   \n",
       "3668  PAC1277            QNAP TS-451 Pack | Seagate Desktop 12TB   \n",
       "2927  PAC1160       Synology Pack DS216SE | Seagate 6TB IronWolf   \n",
       "3279  PAC1638    Pack QNAP TS-451 + | 8GB RAM | Seagate NAS 32TB   \n",
       "5968  QNA0194               QNAP TS-463U-RP NAS Server | 4GB RAM   \n",
       "4382  PAC1425  Synology DS916 + Pack | 2GB RAM | WD 24TB Network   \n",
       "3365  QNA0156       QNAP TS-653A | 4GB RAM Mac and PC Server NAS   \n",
       "4389  PAC1853  Synology DS916 + | 8GB RAM | 32TB (4x8TB) Seag...   \n",
       "3381  PAC1342      Pack QNAP TS-453A | 8GB RAM | WD 16TB Network   \n",
       "8664  PAC2451  Synology DS918 + NAS Server | 16GB RAM | 32TB ...   \n",
       "\n",
       "                                                   desc    price  in_stock  \\\n",
       "3360  QNAP Pack + 4GB memory RAM + 12TB (2x6TB) Seag...   949.97         1   \n",
       "3668  Pack QNAP TS-451 + 12TB (4x3TB) Seagate Hard D...   870.29         0   \n",
       "2927  Pack + Synology 6TB (2x3TB) Seagate Hard Drive...   419.97         1   \n",
       "3279  TS-451 + NAS with 40TB + 8GB RAM memory (4x10T...  2199.95         0   \n",
       "5968  NAS 4-bay rack format includes a port 10GbE tr...  1305.59         0   \n",
       "4382  Synology DS916 + with 2GB RAM memory + 24TB (4...  1600.80         0   \n",
       "3365  NAS server 4 bays and 4 GB RAM for small busin...   845.79         0   \n",
       "4389  DS916 + NAS with 32TB + 8GB RAM memory (4x8TB)...  2069.16         0   \n",
       "3381  Pack NAS QNAP TS-453A with 8GB of RAM memory +...  1376.59         0   \n",
       "8664  NAS server of the Plus Series for companies se...  2212.67         0   \n",
       "\n",
       "          type  \n",
       "3360  12175397  \n",
       "3668  12175397  \n",
       "2927  12175397  \n",
       "3279  12175397  \n",
       "5968  12175397  \n",
       "4382  12175397  \n",
       "3365  12175397  \n",
       "4389  12175397  \n",
       "3381  12175397  \n",
       "8664  12175397  "
      ]
     },
     "execution_count": 36,
     "metadata": {},
     "output_type": "execute_result"
    }
   ],
   "source": [
    "category_type_df.loc[category_type_df[\"type\"] == \"12175397\"].sample(10)"
   ]
  },
  {
   "cell_type": "markdown",
   "metadata": {
    "id": "rQq4i68T4i4Z"
   },
   "source": [
    "Looks like this category is full of servers.\n",
    "\n",
    "I wonder how many `type`s account for most of our products?"
   ]
  },
  {
   "cell_type": "code",
   "execution_count": 37,
   "metadata": {
    "colab": {
     "base_uri": "https://localhost:8080/"
    },
    "id": "nvC72XNi5VUz",
    "outputId": "2d1d8043-5954-4b68-aaf1-ea96e1690c37"
   },
   "outputs": [
    {
     "name": "stdout",
     "output_type": "stream",
     "text": [
      "With the 30 largest types, we account for 78.4% of all products.\n"
     ]
    }
   ],
   "source": [
    "n = 30\n",
    "print(f\"With the {n} largest types, we account for {((category_type_df.groupby('type').count().nlargest(n, 'sku')['sku'].sum()) / (category_type_df.shape[0]) * 100).round(2)}% of all products.\")"
   ]
  },
  {
   "cell_type": "markdown",
   "metadata": {
    "id": "40a0ksM46UCi"
   },
   "source": [
    "Looks like we can simply investigate 30 types and set the categories, then the remaining 20% of products can have the category `other`.\n",
    "\n",
    "Use the skills you learnt above to change the category for each type."
   ]
  },
  {
   "cell_type": "markdown",
   "metadata": {},
   "source": [
    "## Here I build the categories with the types that have the most products. Top 10"
   ]
  },
  {
   "cell_type": "code",
   "execution_count": 38,
   "metadata": {},
   "outputs": [],
   "source": [
    "category_type_df['category'] = ''"
   ]
  },
  {
   "cell_type": "code",
   "execution_count": 39,
   "metadata": {
    "id": "v0BziGegf5VX"
   },
   "outputs": [
    {
     "data": {
      "text/plain": [
       "1057"
      ]
     },
     "execution_count": 39,
     "metadata": {},
     "output_type": "execute_result"
    }
   ],
   "source": [
    "category_type_df.loc[category_type_df[\"type\"] == \"11865403\", 'category'] = 'phone cases, '\n",
    "category_type_df.loc[category_type_df[\"type\"] == \"11865403\", 'category'].count()"
   ]
  },
  {
   "cell_type": "code",
   "execution_count": 40,
   "metadata": {
    "id": "v0BziGegf5VX"
   },
   "outputs": [
    {
     "data": {
      "text/plain": [
       "939"
      ]
     },
     "execution_count": 40,
     "metadata": {},
     "output_type": "execute_result"
    }
   ],
   "source": [
    "category_type_df.loc[category_type_df[\"type\"] == \"12175397\", 'category'] += 'servers, '\n",
    "category_type_df.loc[category_type_df[\"type\"] == \"12175397\", 'category'].count()"
   ]
  },
  {
   "cell_type": "code",
   "execution_count": 41,
   "metadata": {},
   "outputs": [],
   "source": [
    "pd.set_option(\"display.max_colwidth\", 100)"
   ]
  },
  {
   "cell_type": "code",
   "execution_count": 42,
   "metadata": {
    "id": "v0BziGegf5VX"
   },
   "outputs": [
    {
     "data": {
      "text/html": [
       "<div>\n",
       "<style scoped>\n",
       "    .dataframe tbody tr th:only-of-type {\n",
       "        vertical-align: middle;\n",
       "    }\n",
       "\n",
       "    .dataframe tbody tr th {\n",
       "        vertical-align: top;\n",
       "    }\n",
       "\n",
       "    .dataframe thead th {\n",
       "        text-align: right;\n",
       "    }\n",
       "</style>\n",
       "<table border=\"1\" class=\"dataframe\">\n",
       "  <thead>\n",
       "    <tr style=\"text-align: right;\">\n",
       "      <th></th>\n",
       "      <th>sku</th>\n",
       "      <th>name</th>\n",
       "      <th>desc</th>\n",
       "      <th>price</th>\n",
       "      <th>in_stock</th>\n",
       "      <th>type</th>\n",
       "      <th>category</th>\n",
       "    </tr>\n",
       "  </thead>\n",
       "  <tbody>\n",
       "    <tr>\n",
       "      <th>453</th>\n",
       "      <td>BEL0127-A</td>\n",
       "      <td>Open - Belkin MIXIT Lightning iPhone Support</td>\n",
       "      <td>Loading dock + support synchronization with Lightning connection and USB cable for iPhone 7 / SE...</td>\n",
       "      <td>34.99</td>\n",
       "      <td>0</td>\n",
       "      <td>1298</td>\n",
       "      <td></td>\n",
       "    </tr>\n",
       "    <tr>\n",
       "      <th>1071</th>\n",
       "      <td>SEA0043-A</td>\n",
       "      <td>Open - Seagate Barracuda 1TB 35 \"SATA 7200rpm hard drive Mac and PC</td>\n",
       "      <td>internal hard drive for Mac and PC Refurbished 1TB (ST1000DM003)</td>\n",
       "      <td>59.00</td>\n",
       "      <td>0</td>\n",
       "      <td>1298</td>\n",
       "      <td></td>\n",
       "    </tr>\n",
       "    <tr>\n",
       "      <th>1445</th>\n",
       "      <td>WDT0175-A</td>\n",
       "      <td>Open - Western Digital 2TB Green 35 \"5400rpm hard drive Mac and PC</td>\n",
       "      <td>WD Internal Hard Drive 2TB Mac and PC.</td>\n",
       "      <td>90.00</td>\n",
       "      <td>0</td>\n",
       "      <td>1298</td>\n",
       "      <td></td>\n",
       "    </tr>\n",
       "    <tr>\n",
       "      <th>1499</th>\n",
       "      <td>NTE0056-A</td>\n",
       "      <td>Open - NewerTech NuPower Battery 65W MacBook Pro 13 \"2009/14</td>\n",
       "      <td>MacBook Pro 13 inch Battery 2009/14</td>\n",
       "      <td>131.99</td>\n",
       "      <td>0</td>\n",
       "      <td>1298</td>\n",
       "      <td></td>\n",
       "    </tr>\n",
       "    <tr>\n",
       "      <th>1511</th>\n",
       "      <td>BNQ0018-A</td>\n",
       "      <td>(Open) LED Monitor BenQ VW2235H 215 \"</td>\n",
       "      <td>Monitor 215 inch high range.</td>\n",
       "      <td>163.00</td>\n",
       "      <td>0</td>\n",
       "      <td>1298</td>\n",
       "      <td></td>\n",
       "    </tr>\n",
       "    <tr>\n",
       "      <th>...</th>\n",
       "      <td>...</td>\n",
       "      <td>...</td>\n",
       "      <td>...</td>\n",
       "      <td>...</td>\n",
       "      <td>...</td>\n",
       "      <td>...</td>\n",
       "      <td>...</td>\n",
       "    </tr>\n",
       "    <tr>\n",
       "      <th>8670</th>\n",
       "      <td>LGE0061-A</td>\n",
       "      <td>Open - LG 43UD79-B Monitor 425 \"4K 72% NTSC USB-C Speakers DisplayPort</td>\n",
       "      <td>425 inch monitor 5ms response DisplayPort and USB 4 HDMI connections NTSC-C 72% for Mac and PC</td>\n",
       "      <td>845.99</td>\n",
       "      <td>0</td>\n",
       "      <td>1298</td>\n",
       "      <td></td>\n",
       "    </tr>\n",
       "    <tr>\n",
       "      <th>8671</th>\n",
       "      <td>QNA0190-A</td>\n",
       "      <td>Open - QNAP TS-853U NAS Server | 4GB RAM</td>\n",
       "      <td>8-bay NAS server for small businesses with 4 Ethernet ports for Mac and PC</td>\n",
       "      <td>1511.29</td>\n",
       "      <td>0</td>\n",
       "      <td>1298</td>\n",
       "      <td></td>\n",
       "    </tr>\n",
       "    <tr>\n",
       "      <th>8879</th>\n",
       "      <td>KAN0034-A</td>\n",
       "      <td>Open - Kanex USB-C Gigabit Ethernet Adapter MacBook 12 \"</td>\n",
       "      <td>Open - Kanex USB-C Gigabit Ethernet Adapter MacBook 12 \"</td>\n",
       "      <td>29.99</td>\n",
       "      <td>0</td>\n",
       "      <td>1298</td>\n",
       "      <td></td>\n",
       "    </tr>\n",
       "    <tr>\n",
       "      <th>9469</th>\n",
       "      <td>ZAG0024-A</td>\n",
       "      <td>Open - Zagg Folio Case with Keyboard Cover iPad Air 2 Black</td>\n",
       "      <td>Reconditioned Case with Bluetooth Keyboard for iPad Air 2 Spanish.</td>\n",
       "      <td>79.99</td>\n",
       "      <td>0</td>\n",
       "      <td>1298</td>\n",
       "      <td></td>\n",
       "    </tr>\n",
       "    <tr>\n",
       "      <th>9641</th>\n",
       "      <td>HGD0006-A</td>\n",
       "      <td>Open - Henge Docks Clique Mac keyboard support</td>\n",
       "      <td>Reconditioned basis to support the Apple Magic TrackPad and Wireless Keyboard Dock</td>\n",
       "      <td>29.00</td>\n",
       "      <td>0</td>\n",
       "      <td>1298</td>\n",
       "      <td></td>\n",
       "    </tr>\n",
       "  </tbody>\n",
       "</table>\n",
       "<p>783 rows × 7 columns</p>\n",
       "</div>"
      ],
      "text/plain": [
       "            sku  \\\n",
       "453   BEL0127-A   \n",
       "1071  SEA0043-A   \n",
       "1445  WDT0175-A   \n",
       "1499  NTE0056-A   \n",
       "1511  BNQ0018-A   \n",
       "...         ...   \n",
       "8670  LGE0061-A   \n",
       "8671  QNA0190-A   \n",
       "8879  KAN0034-A   \n",
       "9469  ZAG0024-A   \n",
       "9641  HGD0006-A   \n",
       "\n",
       "                                                                        name  \\\n",
       "453                             Open - Belkin MIXIT Lightning iPhone Support   \n",
       "1071     Open - Seagate Barracuda 1TB 35 \"SATA 7200rpm hard drive Mac and PC   \n",
       "1445      Open - Western Digital 2TB Green 35 \"5400rpm hard drive Mac and PC   \n",
       "1499            Open - NewerTech NuPower Battery 65W MacBook Pro 13 \"2009/14   \n",
       "1511                                   (Open) LED Monitor BenQ VW2235H 215 \"   \n",
       "...                                                                      ...   \n",
       "8670  Open - LG 43UD79-B Monitor 425 \"4K 72% NTSC USB-C Speakers DisplayPort   \n",
       "8671                                Open - QNAP TS-853U NAS Server | 4GB RAM   \n",
       "8879                Open - Kanex USB-C Gigabit Ethernet Adapter MacBook 12 \"   \n",
       "9469             Open - Zagg Folio Case with Keyboard Cover iPad Air 2 Black   \n",
       "9641                          Open - Henge Docks Clique Mac keyboard support   \n",
       "\n",
       "                                                                                                     desc  \\\n",
       "453   Loading dock + support synchronization with Lightning connection and USB cable for iPhone 7 / SE...   \n",
       "1071                                     internal hard drive for Mac and PC Refurbished 1TB (ST1000DM003)   \n",
       "1445                                                               WD Internal Hard Drive 2TB Mac and PC.   \n",
       "1499                                                                  MacBook Pro 13 inch Battery 2009/14   \n",
       "1511                                                                         Monitor 215 inch high range.   \n",
       "...                                                                                                   ...   \n",
       "8670       425 inch monitor 5ms response DisplayPort and USB 4 HDMI connections NTSC-C 72% for Mac and PC   \n",
       "8671                           8-bay NAS server for small businesses with 4 Ethernet ports for Mac and PC   \n",
       "8879                                             Open - Kanex USB-C Gigabit Ethernet Adapter MacBook 12 \"   \n",
       "9469                                   Reconditioned Case with Bluetooth Keyboard for iPad Air 2 Spanish.   \n",
       "9641                   Reconditioned basis to support the Apple Magic TrackPad and Wireless Keyboard Dock   \n",
       "\n",
       "        price  in_stock  type category  \n",
       "453     34.99         0  1298           \n",
       "1071    59.00         0  1298           \n",
       "1445    90.00         0  1298           \n",
       "1499   131.99         0  1298           \n",
       "1511   163.00         0  1298           \n",
       "...       ...       ...   ...      ...  \n",
       "8670   845.99         0  1298           \n",
       "8671  1511.29         0  1298           \n",
       "8879    29.99         0  1298           \n",
       "9469    79.99         0  1298           \n",
       "9641    29.00         0  1298           \n",
       "\n",
       "[783 rows x 7 columns]"
      ]
     },
     "execution_count": 42,
     "metadata": {},
     "output_type": "execute_result"
    }
   ],
   "source": [
    "category_type_df.loc[category_type_df[\"type\"] == \"1298\"]#, 'category'] = 'support'\n",
    "#category_type_df.loc[category_type_df[\"type\"] == \"1298\", 'category'].count()"
   ]
  },
  {
   "cell_type": "code",
   "execution_count": 43,
   "metadata": {
    "id": "v0BziGegf5VX"
   },
   "outputs": [
    {
     "data": {
      "text/html": [
       "<div>\n",
       "<style scoped>\n",
       "    .dataframe tbody tr th:only-of-type {\n",
       "        vertical-align: middle;\n",
       "    }\n",
       "\n",
       "    .dataframe tbody tr th {\n",
       "        vertical-align: top;\n",
       "    }\n",
       "\n",
       "    .dataframe thead th {\n",
       "        text-align: right;\n",
       "    }\n",
       "</style>\n",
       "<table border=\"1\" class=\"dataframe\">\n",
       "  <thead>\n",
       "    <tr style=\"text-align: right;\">\n",
       "      <th></th>\n",
       "      <th>sku</th>\n",
       "      <th>name</th>\n",
       "      <th>desc</th>\n",
       "      <th>price</th>\n",
       "      <th>in_stock</th>\n",
       "      <th>type</th>\n",
       "      <th>category</th>\n",
       "    </tr>\n",
       "  </thead>\n",
       "  <tbody>\n",
       "    <tr>\n",
       "      <th>63</th>\n",
       "      <td>LAC0141</td>\n",
       "      <td>LaCie Porsche Design 1TB External Hard Drive Mac and PC</td>\n",
       "      <td>External Hard Drive Mac and PC USB 3.0 1TB</td>\n",
       "      <td>79.99</td>\n",
       "      <td>0</td>\n",
       "      <td>11935397</td>\n",
       "      <td></td>\n",
       "    </tr>\n",
       "    <tr>\n",
       "      <th>149</th>\n",
       "      <td>OWC0020</td>\n",
       "      <td>Envoy OWC USB 3.0 Case for MacBook Air SSD 2010/2011</td>\n",
       "      <td>Box Portable External USB 2.0 / 3.0 for MacBook Air SSD.</td>\n",
       "      <td>60.99</td>\n",
       "      <td>1</td>\n",
       "      <td>11935397</td>\n",
       "      <td></td>\n",
       "    </tr>\n",
       "    <tr>\n",
       "      <th>174</th>\n",
       "      <td>OWC0009</td>\n",
       "      <td>OWC Case External SuperSlim for SuperDrive MacBook / MacBook Pro</td>\n",
       "      <td>Black External Case for Apple SuperDrive.</td>\n",
       "      <td>48.99</td>\n",
       "      <td>1</td>\n",
       "      <td>11935397</td>\n",
       "      <td></td>\n",
       "    </tr>\n",
       "    <tr>\n",
       "      <th>175</th>\n",
       "      <td>OWC0039</td>\n",
       "      <td>OWC Mercury On-The-Go Pro Mini transparent box 25 \"FW800 / FW400 / USB3</td>\n",
       "      <td>outer case 25 inch SATA connection FW800 / FW400 / USB 3.0.</td>\n",
       "      <td>96.99</td>\n",
       "      <td>1</td>\n",
       "      <td>11935397</td>\n",
       "      <td></td>\n",
       "    </tr>\n",
       "    <tr>\n",
       "      <th>176</th>\n",
       "      <td>OWC0040</td>\n",
       "      <td>OWC Mercury On-The-Go Pro Mini transparent box 25 \"USB3 / USB2</td>\n",
       "      <td>outer case 25 inch SATA USB 3.0 and 2.0.</td>\n",
       "      <td>54.99</td>\n",
       "      <td>1</td>\n",
       "      <td>11935397</td>\n",
       "      <td></td>\n",
       "    </tr>\n",
       "    <tr>\n",
       "      <th>...</th>\n",
       "      <td>...</td>\n",
       "      <td>...</td>\n",
       "      <td>...</td>\n",
       "      <td>...</td>\n",
       "      <td>...</td>\n",
       "      <td>...</td>\n",
       "      <td>...</td>\n",
       "    </tr>\n",
       "    <tr>\n",
       "      <th>9818</th>\n",
       "      <td>OWC0280</td>\n",
       "      <td>OWC Envoy Pro EX 250GB SSD M.2 PCIe Thunderbolt 3</td>\n",
       "      <td>outer box with SSD M.2 inch 250GB for Mac and PC</td>\n",
       "      <td>338.99</td>\n",
       "      <td>0</td>\n",
       "      <td>11935397</td>\n",
       "      <td></td>\n",
       "    </tr>\n",
       "    <tr>\n",
       "      <th>9819</th>\n",
       "      <td>OWC0281</td>\n",
       "      <td>OWC Envoy Pro EX M.2 PCIe SSD 1TB Thunderbolt 3</td>\n",
       "      <td>outer box with SSD M.2 inch 1TB for Mac and PC</td>\n",
       "      <td>725.99</td>\n",
       "      <td>0</td>\n",
       "      <td>11935397</td>\n",
       "      <td></td>\n",
       "    </tr>\n",
       "    <tr>\n",
       "      <th>9854</th>\n",
       "      <td>WDT0333-A</td>\n",
       "      <td>Open - Western Digital My Passport Ultra 4TB USB 3.0 Black</td>\n",
       "      <td>External hard disk capacity 4TB reconditioned and USB 3.0 connection for Mac and PC</td>\n",
       "      <td>189.99</td>\n",
       "      <td>0</td>\n",
       "      <td>11935397</td>\n",
       "      <td></td>\n",
       "    </tr>\n",
       "    <tr>\n",
       "      <th>9862</th>\n",
       "      <td>TRA0025-A</td>\n",
       "      <td>Open - Transcend StoreJet SSD 500 512GB External Hard Disk Thunderbolt / USB 3.0</td>\n",
       "      <td>External Hard Drive 512GB SSD refitted with Thunderbolt and USB 3.0 for Mac and PC.</td>\n",
       "      <td>520.00</td>\n",
       "      <td>0</td>\n",
       "      <td>11935397</td>\n",
       "      <td></td>\n",
       "    </tr>\n",
       "    <tr>\n",
       "      <th>9923</th>\n",
       "      <td>OWC0262-A</td>\n",
       "      <td>Open - OWC Express External box 25 \"USB 3.0 Plata</td>\n",
       "      <td>Outer carton for HDDs and SDD format 25 inches for Mac and PC</td>\n",
       "      <td>36.99</td>\n",
       "      <td>0</td>\n",
       "      <td>11935397</td>\n",
       "      <td></td>\n",
       "    </tr>\n",
       "  </tbody>\n",
       "</table>\n",
       "<p>562 rows × 7 columns</p>\n",
       "</div>"
      ],
      "text/plain": [
       "            sku  \\\n",
       "63      LAC0141   \n",
       "149     OWC0020   \n",
       "174     OWC0009   \n",
       "175     OWC0039   \n",
       "176     OWC0040   \n",
       "...         ...   \n",
       "9818    OWC0280   \n",
       "9819    OWC0281   \n",
       "9854  WDT0333-A   \n",
       "9862  TRA0025-A   \n",
       "9923  OWC0262-A   \n",
       "\n",
       "                                                                                  name  \\\n",
       "63                             LaCie Porsche Design 1TB External Hard Drive Mac and PC   \n",
       "149                               Envoy OWC USB 3.0 Case for MacBook Air SSD 2010/2011   \n",
       "174                   OWC Case External SuperSlim for SuperDrive MacBook / MacBook Pro   \n",
       "175            OWC Mercury On-The-Go Pro Mini transparent box 25 \"FW800 / FW400 / USB3   \n",
       "176                     OWC Mercury On-The-Go Pro Mini transparent box 25 \"USB3 / USB2   \n",
       "...                                                                                ...   \n",
       "9818                                 OWC Envoy Pro EX 250GB SSD M.2 PCIe Thunderbolt 3   \n",
       "9819                                   OWC Envoy Pro EX M.2 PCIe SSD 1TB Thunderbolt 3   \n",
       "9854                        Open - Western Digital My Passport Ultra 4TB USB 3.0 Black   \n",
       "9862  Open - Transcend StoreJet SSD 500 512GB External Hard Disk Thunderbolt / USB 3.0   \n",
       "9923                                 Open - OWC Express External box 25 \"USB 3.0 Plata   \n",
       "\n",
       "                                                                                     desc  \\\n",
       "63                                             External Hard Drive Mac and PC USB 3.0 1TB   \n",
       "149                              Box Portable External USB 2.0 / 3.0 for MacBook Air SSD.   \n",
       "174                                             Black External Case for Apple SuperDrive.   \n",
       "175                           outer case 25 inch SATA connection FW800 / FW400 / USB 3.0.   \n",
       "176                                              outer case 25 inch SATA USB 3.0 and 2.0.   \n",
       "...                                                                                   ...   \n",
       "9818                                     outer box with SSD M.2 inch 250GB for Mac and PC   \n",
       "9819                                       outer box with SSD M.2 inch 1TB for Mac and PC   \n",
       "9854  External hard disk capacity 4TB reconditioned and USB 3.0 connection for Mac and PC   \n",
       "9862  External Hard Drive 512GB SSD refitted with Thunderbolt and USB 3.0 for Mac and PC.   \n",
       "9923                        Outer carton for HDDs and SDD format 25 inches for Mac and PC   \n",
       "\n",
       "       price  in_stock      type category  \n",
       "63     79.99         0  11935397           \n",
       "149    60.99         1  11935397           \n",
       "174    48.99         1  11935397           \n",
       "175    96.99         1  11935397           \n",
       "176    54.99         1  11935397           \n",
       "...      ...       ...       ...      ...  \n",
       "9818  338.99         0  11935397           \n",
       "9819  725.99         0  11935397           \n",
       "9854  189.99         0  11935397           \n",
       "9862  520.00         0  11935397           \n",
       "9923   36.99         0  11935397           \n",
       "\n",
       "[562 rows x 7 columns]"
      ]
     },
     "execution_count": 43,
     "metadata": {},
     "output_type": "execute_result"
    }
   ],
   "source": [
    "category_type_df.loc[category_type_df[\"type\"] == \"11935397\"]#, 'category'] = 'support'\n",
    "#category_type_df.loc[category_type_df[\"type\"] == \"11935397\", 'category'].count()"
   ]
  },
  {
   "cell_type": "code",
   "execution_count": 44,
   "metadata": {
    "id": "v0BziGegf5VX"
   },
   "outputs": [
    {
     "data": {
      "text/plain": [
       "454"
      ]
     },
     "execution_count": 44,
     "metadata": {},
     "output_type": "execute_result"
    }
   ],
   "source": [
    "category_type_df.loc[category_type_df[\"type\"] == \"11905404\", 'category'] += 'music, '\n",
    "category_type_df.loc[category_type_df[\"type\"] == \"11905404\", 'category'].count()"
   ]
  },
  {
   "cell_type": "code",
   "execution_count": 45,
   "metadata": {
    "id": "v0BziGegf5VX"
   },
   "outputs": [
    {
     "data": {
      "text/plain": [
       "373"
      ]
     },
     "execution_count": 45,
     "metadata": {},
     "output_type": "execute_result"
    }
   ],
   "source": [
    "category_type_df.loc[category_type_df[\"type\"] == \"1282\", 'category'] += 'apple computers, '\n",
    "category_type_df.loc[category_type_df[\"type\"] == \"1282\", 'category'].count()"
   ]
  },
  {
   "cell_type": "code",
   "execution_count": 46,
   "metadata": {
    "id": "v0BziGegf5VX"
   },
   "outputs": [
    {
     "data": {
      "text/plain": [
       "362"
      ]
     },
     "execution_count": 46,
     "metadata": {},
     "output_type": "execute_result"
    }
   ],
   "source": [
    "category_type_df.loc[category_type_df[\"type\"] == \"12635403\", 'category'] += 'ipad cases, '\n",
    "category_type_df.loc[category_type_df[\"type\"] == \"12635403\", 'category'].count()"
   ]
  },
  {
   "cell_type": "code",
   "execution_count": 47,
   "metadata": {
    "id": "v0BziGegf5VX"
   },
   "outputs": [
    {
     "data": {
      "text/plain": [
       "269"
      ]
     },
     "execution_count": 47,
     "metadata": {},
     "output_type": "execute_result"
    }
   ],
   "source": [
    "category_type_df.loc[category_type_df[\"type\"] == \"13835403\", 'category'] += 'macbook cases, '\n",
    "category_type_df.loc[category_type_df[\"type\"] == \"13835403\", 'category'].count()"
   ]
  },
  {
   "cell_type": "code",
   "execution_count": 48,
   "metadata": {
    "id": "v0BziGegf5VX"
   },
   "outputs": [
    {
     "data": {
      "text/plain": [
       "247"
      ]
     },
     "execution_count": 48,
     "metadata": {},
     "output_type": "execute_result"
    }
   ],
   "source": [
    "category_type_df.loc[category_type_df[\"type\"] == \"5,74E+15\", 'category'] += 'desktop computers, '\n",
    "category_type_df.loc[category_type_df[\"type\"] == \"5,74E+15\", 'category'].count()"
   ]
  },
  {
   "cell_type": "code",
   "execution_count": 49,
   "metadata": {
    "id": "v0BziGegf5VX"
   },
   "outputs": [
    {
     "data": {
      "text/plain": [
       "216"
      ]
     },
     "execution_count": 49,
     "metadata": {},
     "output_type": "execute_result"
    }
   ],
   "source": [
    "category_type_df.loc[category_type_df[\"type\"] == \"1364\", 'category'] += 'memory, '\n",
    "category_type_df.loc[category_type_df[\"type\"] == \"1364\", 'category'].count()"
   ]
  },
  {
   "cell_type": "markdown",
   "metadata": {},
   "source": [
    "## I put 'other' on all the rows without a category yet"
   ]
  },
  {
   "cell_type": "code",
   "execution_count": 50,
   "metadata": {},
   "outputs": [
    {
     "data": {
      "text/plain": [
       "sku         6075\n",
       "name        6075\n",
       "desc        6075\n",
       "price       6075\n",
       "in_stock    6075\n",
       "type        6029\n",
       "category    6075\n",
       "dtype: int64"
      ]
     },
     "execution_count": 50,
     "metadata": {},
     "output_type": "execute_result"
    }
   ],
   "source": [
    "category_type_df.loc[category_type_df[\"category\"] == \"\"].count()"
   ]
  },
  {
   "cell_type": "code",
   "execution_count": 51,
   "metadata": {},
   "outputs": [],
   "source": [
    "category_type_df.loc[category_type_df[\"category\"] == \"\", 'category'] = 'other'"
   ]
  },
  {
   "cell_type": "code",
   "execution_count": 52,
   "metadata": {},
   "outputs": [
    {
     "data": {
      "text/plain": [
       "category\n",
       "other                  0.607986\n",
       "phone cases,           0.105785\n",
       "servers,               0.093975\n",
       "music,                 0.045436\n",
       "apple computers,       0.037330\n",
       "ipad cases,            0.036229\n",
       "macbook cases,         0.026922\n",
       "desktop computers,     0.024720\n",
       "memory,                0.021617\n",
       "Name: proportion, dtype: float64"
      ]
     },
     "execution_count": 52,
     "metadata": {},
     "output_type": "execute_result"
    }
   ],
   "source": [
    "category_type_df.category.value_counts(normalize=True)"
   ]
  },
  {
   "cell_type": "markdown",
   "metadata": {},
   "source": [
    "### clean up the 'category' strings"
   ]
  },
  {
   "cell_type": "code",
   "execution_count": 53,
   "metadata": {},
   "outputs": [
    {
     "data": {
      "text/plain": [
       "4              memory, \n",
       "6              memory, \n",
       "7              memory, \n",
       "8              memory, \n",
       "15      macbook cases, \n",
       "             ...       \n",
       "9965    macbook cases, \n",
       "9966    macbook cases, \n",
       "9967    macbook cases, \n",
       "9968    macbook cases, \n",
       "9972      phone cases, \n",
       "Name: category, Length: 3917, dtype: object"
      ]
     },
     "execution_count": 53,
     "metadata": {},
     "output_type": "execute_result"
    }
   ],
   "source": [
    "category_type_df.loc[category_type_df.category.str.contains(', $', regex=True), 'category']"
   ]
  },
  {
   "cell_type": "code",
   "execution_count": 54,
   "metadata": {},
   "outputs": [],
   "source": [
    "category_type_df.category = category_type_df.category.str.replace(', $', '', regex=True)"
   ]
  },
  {
   "cell_type": "code",
   "execution_count": 55,
   "metadata": {
    "scrolled": true
   },
   "outputs": [
    {
     "data": {
      "text/plain": [
       "category\n",
       "other                0.607986\n",
       "phone cases          0.105785\n",
       "servers              0.093975\n",
       "music                0.045436\n",
       "apple computers      0.037330\n",
       "ipad cases           0.036229\n",
       "macbook cases        0.026922\n",
       "desktop computers    0.024720\n",
       "memory               0.021617\n",
       "Name: proportion, dtype: float64"
      ]
     },
     "execution_count": 55,
     "metadata": {},
     "output_type": "execute_result"
    }
   ],
   "source": [
    "category_type_df.category.value_counts(normalize=True)"
   ]
  },
  {
   "cell_type": "code",
   "execution_count": null,
   "metadata": {},
   "outputs": [],
   "source": []
  },
  {
   "cell_type": "code",
   "execution_count": null,
   "metadata": {},
   "outputs": [],
   "source": []
  },
  {
   "cell_type": "code",
   "execution_count": null,
   "metadata": {},
   "outputs": [],
   "source": []
  },
  {
   "cell_type": "code",
   "execution_count": null,
   "metadata": {},
   "outputs": [],
   "source": []
  }
 ],
 "metadata": {
  "colab": {
   "provenance": []
  },
  "kernelspec": {
   "display_name": "Python 3 (ipykernel)",
   "language": "python",
   "name": "python3"
  },
  "language_info": {
   "codemirror_mode": {
    "name": "ipython",
    "version": 3
   },
   "file_extension": ".py",
   "mimetype": "text/x-python",
   "name": "python",
   "nbconvert_exporter": "python",
   "pygments_lexer": "ipython3",
   "version": "3.10.12"
  }
 },
 "nbformat": 4,
 "nbformat_minor": 4
}
