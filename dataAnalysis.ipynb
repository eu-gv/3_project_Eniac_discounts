{
 "cells": [
  {
   "cell_type": "markdown",
   "id": "9944703e-0de3-4734-86a6-014792ffd06d",
   "metadata": {},
   "source": [
    "## Data Analysis questions\n",
    "    \n",
    "    What is the time period that the dataset covers?\n",
    "    What is the overall revenue for that time?\n",
    "    Are there seasonal patterns in the evolution of sales?\n",
    "    What are the most sold products?\n",
    "    What are the products that generate the most revenue?\n",
    "\n",
    "Keep the project goals in mind and be as curious, inquisitive and creative as possible, asking questions to the data.\n",
    "\n",
    "## Project goal: suggest whether or not it’s beneficial to discount products\n",
    "    The Marketing Team Lead is convinced that offering discounts is beneficial in the long run. She believes discounts improve customer acquisition, satisfaction and retention, and allow the company to grow.\n",
    "    \n",
    "    The main investors in the Board are worried about offering aggressive discounts. They have pointed out how the company’s recent quarterly results showed an increase in orders placed, but a decrease in the total revenue. They prefer that the company positions itself in the quality segment, rather than competing to offer the lowest prices in the market."
   ]
  },
  {
   "cell_type": "markdown",
   "id": "0ca23a74-2a90-4238-bb8a-9ae371e49a46",
   "metadata": {
    "jp-MarkdownHeadingCollapsed": true
   },
   "source": [
    "## Original Business Questions\n",
    "Your analytical and business skills are needed to provide clarity in the following aspects:\n",
    "\n",
    "    How should products be classified into different categories to simplify reports and analysis?\n",
    "    What is the distribution of product prices across different categories?\n",
    "    How many products are being discounted?\n",
    "    How big are the offered discounts as a percentage of the product prices?\n",
    "    How do seasonality and special dates (Christmas, Black Friday) affect sales?\n",
    "    How could data collection be improved?\n",
    "\n",
    "At the end of this project (your instructor will set the exact date), you are expected to give a presentation to the company board and present the results of your analysis. The presentation needs to be concise, but also engaging and convincing."
   ]
  },
  {
   "cell_type": "markdown",
   "id": "377b9961-835f-4c78-a5cc-1adc3a7e63c9",
   "metadata": {},
   "source": [
    "## Answer to Data Analysis questions"
   ]
  },
  {
   "cell_type": "code",
   "execution_count": 16,
   "id": "dd53ff2c-bd71-4413-bd54-eebc5698b8b1",
   "metadata": {},
   "outputs": [],
   "source": [
    "import pandas as pd\n",
    "\n",
    "# orders_cl.csv\n",
    "orders_qlty = pd.read_csv('final_orders.csv')\n",
    "\n",
    "# orderlines_cl.csv\n",
    "orderlines_qlty = pd.read_csv('final_orderlines.csv')\n",
    "\n",
    "# products_cl.csv\n",
    "products_qlty = pd.read_csv('final_products.csv')"
   ]
  },
  {
   "cell_type": "code",
   "execution_count": 17,
   "id": "899c9f89-0354-4686-bee6-59a29c7e579e",
   "metadata": {},
   "outputs": [],
   "source": [
    "orderlines_qlty[\"date\"] = pd.to_datetime(orderlines_qlty[\"date\"])\n",
    "orders_qlty[\"created_date\"] = pd.to_datetime(orders_qlty[\"created_date\"])"
   ]
  },
  {
   "cell_type": "code",
   "execution_count": 18,
   "id": "0aecf4b9-5bc9-4410-9f43-35315222a581",
   "metadata": {},
   "outputs": [
    {
     "name": "stdout",
     "output_type": "stream",
     "text": [
      "<class 'pandas.core.frame.DataFrame'>\n",
      "RangeIndex: 53231 entries, 0 to 53230\n",
      "Data columns (total 7 columns):\n",
      " #   Column            Non-Null Count  Dtype         \n",
      "---  ------            --------------  -----         \n",
      " 0   id                53231 non-null  int64         \n",
      " 1   id_order          53231 non-null  int64         \n",
      " 2   product_id        53231 non-null  int64         \n",
      " 3   product_quantity  53231 non-null  int64         \n",
      " 4   sku               53231 non-null  object        \n",
      " 5   unit_price        53231 non-null  float64       \n",
      " 6   date              53231 non-null  datetime64[ns]\n",
      "dtypes: datetime64[ns](1), float64(1), int64(4), object(1)\n",
      "memory usage: 2.8+ MB\n",
      "<class 'pandas.core.frame.DataFrame'>\n",
      "RangeIndex: 40985 entries, 0 to 40984\n",
      "Data columns (total 4 columns):\n",
      " #   Column        Non-Null Count  Dtype         \n",
      "---  ------        --------------  -----         \n",
      " 0   order_id      40985 non-null  int64         \n",
      " 1   created_date  40985 non-null  datetime64[ns]\n",
      " 2   total_paid    40985 non-null  float64       \n",
      " 3   state         40985 non-null  object        \n",
      "dtypes: datetime64[ns](1), float64(1), int64(1), object(1)\n",
      "memory usage: 1.3+ MB\n",
      "<class 'pandas.core.frame.DataFrame'>\n",
      "RangeIndex: 9992 entries, 0 to 9991\n",
      "Data columns (total 6 columns):\n",
      " #   Column    Non-Null Count  Dtype  \n",
      "---  ------    --------------  -----  \n",
      " 0   sku       9992 non-null   object \n",
      " 1   name      9992 non-null   object \n",
      " 2   desc      9992 non-null   object \n",
      " 3   price     9992 non-null   float64\n",
      " 4   in_stock  9992 non-null   int64  \n",
      " 5   type      9946 non-null   object \n",
      "dtypes: float64(1), int64(1), object(4)\n",
      "memory usage: 468.5+ KB\n"
     ]
    }
   ],
   "source": [
    "orderlines_qlty.info()\n",
    "orders_qlty.info()\n",
    "products_qlty.info()"
   ]
  },
  {
   "cell_type": "code",
   "execution_count": 19,
   "id": "63171463-bd69-4e4c-9ba9-63f279612ad7",
   "metadata": {},
   "outputs": [],
   "source": [
    "ord_df = orders_qlty.copy()\n",
    "ol_df = orderlines_qlty.copy()\n",
    "prod_df = products_qlty.copy()"
   ]
  },
  {
   "cell_type": "markdown",
   "id": "ca69dc90-d46d-48cd-aa93-6846c539bbff",
   "metadata": {},
   "source": [
    "## What is the time period that the dataset covers?"
   ]
  },
  {
   "cell_type": "code",
   "execution_count": 20,
   "id": "33f51d1a-f82e-4a64-8d43-f1d816cfcc8c",
   "metadata": {},
   "outputs": [
    {
     "data": {
      "text/plain": [
       "id                  53231\n",
       "id_order            40985\n",
       "product_id              1\n",
       "product_quantity       27\n",
       "sku                  5098\n",
       "unit_price           4342\n",
       "date                52840\n",
       "dtype: int64"
      ]
     },
     "execution_count": 20,
     "metadata": {},
     "output_type": "execute_result"
    }
   ],
   "source": [
    "ol_df.nunique()"
   ]
  },
  {
   "cell_type": "code",
   "execution_count": 21,
   "id": "7d41bf85-fc28-4dcd-9c19-98de232526f1",
   "metadata": {},
   "outputs": [
    {
     "data": {
      "text/plain": [
       "order_id        40985\n",
       "created_date    40914\n",
       "total_paid       9878\n",
       "state               1\n",
       "dtype: int64"
      ]
     },
     "execution_count": 21,
     "metadata": {},
     "output_type": "execute_result"
    }
   ],
   "source": [
    "ord_df.nunique()"
   ]
  },
  {
   "cell_type": "code",
   "execution_count": 69,
   "id": "6fbb2ae0-4bce-4948-badc-6c23635e0e98",
   "metadata": {},
   "outputs": [
    {
     "data": {
      "text/plain": [
       "count                            40985\n",
       "mean     2017-09-11 14:12:53.260631808\n",
       "min                2017-01-01 01:51:47\n",
       "25%                2017-06-07 09:41:13\n",
       "50%                2017-10-27 06:44:29\n",
       "75%                2017-12-25 20:58:01\n",
       "max                2018-03-14 12:03:52\n",
       "Name: created_date, dtype: object"
      ]
     },
     "execution_count": 69,
     "metadata": {},
     "output_type": "execute_result"
    }
   ],
   "source": [
    "ord_df.created_date.describe()"
   ]
  },
  {
   "cell_type": "code",
   "execution_count": 22,
   "id": "bf66aaf6-a688-4b36-86c2-dc81eacbe83b",
   "metadata": {},
   "outputs": [
    {
     "data": {
      "text/plain": [
       "Timedelta('437 days 10:12:05')"
      ]
     },
     "execution_count": 22,
     "metadata": {},
     "output_type": "execute_result"
    }
   ],
   "source": [
    "ord_df.created_date.max() - ord_df.created_date.min()"
   ]
  },
  {
   "cell_type": "markdown",
   "id": "6edda5a0-e82b-432e-af1a-1e2c3c560b9b",
   "metadata": {},
   "source": [
    "## What is the overall revenue for that time?"
   ]
  },
  {
   "cell_type": "code",
   "execution_count": 23,
   "id": "7bd73faa-3137-447f-8deb-eb3b1c017b49",
   "metadata": {},
   "outputs": [
    {
     "data": {
      "text/plain": [
       "7978675.599999999"
      ]
     },
     "execution_count": 23,
     "metadata": {},
     "output_type": "execute_result"
    }
   ],
   "source": [
    "ord_df.total_paid.sum()"
   ]
  },
  {
   "cell_type": "code",
   "execution_count": 24,
   "id": "e00d0066-527a-4b81-aa2a-114498c8df33",
   "metadata": {},
   "outputs": [
    {
     "name": "stdout",
     "output_type": "stream",
     "text": [
      "The total revenue of the dataset starting on 2017-01-01 01:51:47 and ending on 2018-03-14 12:03:52 comes with a total revenue of €7.98M.\n"
     ]
    }
   ],
   "source": [
    "print(f'The total revenue of the dataset starting on {ord_df.created_date.min()} and ending on '\\\n",
    "      f'{ord_df.created_date.max()} comes with a total revenue of €{round((ord_df.total_paid.sum())*1E-6,2)}M.')"
   ]
  },
  {
   "cell_type": "markdown",
   "id": "561b7844-a622-4e67-82bb-a432176c5d14",
   "metadata": {},
   "source": [
    "## Are there seasonal patterns in the evolution of sales?"
   ]
  },
  {
   "cell_type": "code",
   "execution_count": 25,
   "id": "fa6307ee-a4dd-49aa-ba87-537d23e75be2",
   "metadata": {},
   "outputs": [
    {
     "data": {
      "text/plain": [
       "<Axes: xlabel='created_date,created_date'>"
      ]
     },
     "execution_count": 25,
     "metadata": {},
     "output_type": "execute_result"
    },
    {
     "data": {
      "image/png": "[encoded data removed]",
      "text/plain": [
       "<Figure size 640x480 with 1 Axes>"
      ]
     },
     "metadata": {},
     "output_type": "display_data"
    }
   ],
   "source": [
    "(\n",
    "    ord_df\n",
    "    .groupby([ord_df[\"created_date\"].dt.year,\n",
    "              ord_df[\"created_date\"].dt.month,\n",
    "#              ord_df[\"created_date\"].dt.day\n",
    "             ])[\"total_paid\"]\n",
    "    .sum()\n",
    " ).plot()"
   ]
  },
  {
   "cell_type": "code",
   "execution_count": 70,
   "id": "32a4948f-113b-47ec-9abd-15f95025b544",
   "metadata": {},
   "outputs": [
    {
     "data": {
      "image/png": "[encoded data removed]",
      "text/plain": [
       "<Figure size 640x480 with 1 Axes>"
      ]
     },
     "metadata": {},
     "output_type": "display_data"
    }
   ],
   "source": [
    "# the same plot can be obtained in an easier way with resample:\n",
    "(\n",
    "    ord_df\n",
    "    .resample(\"M\", on=\"created_date\")[\"total_paid\"]\n",
    "    .sum()\n",
    "#    .sort_values(ascending=False)\n",
    ").plot();"
   ]
  },
  {
   "cell_type": "markdown",
   "id": "c45f2c31-184e-4613-9da2-4327cd108829",
   "metadata": {},
   "source": [
    "## What are the most sold products?"
   ]
  },
  {
   "cell_type": "code",
   "execution_count": 39,
   "id": "87991a4e-e057-4e8e-b264-0ec3812d55d1",
   "metadata": {},
   "outputs": [
    {
     "data": {
      "text/plain": [
       "sku\n",
       "APP1190    955\n",
       "APP0698    820\n",
       "APP1922    537\n",
       "APP0927    489\n",
       "WDT0183    476\n",
       "SAM0074    329\n",
       "CRU0051    328\n",
       "APP2446    270\n",
       "NTE0013    252\n",
       "CRU0050    248\n",
       "Name: product_quantity, dtype: int64"
      ]
     },
     "execution_count": 39,
     "metadata": {},
     "output_type": "execute_result"
    }
   ],
   "source": [
    "ol_df.groupby('sku')['product_quantity'].sum().sort_values(ascending=False).head(10)"
   ]
  },
  {
   "cell_type": "code",
   "execution_count": 44,
   "id": "b3a8a763-6aec-4e57-9dec-e304e7e5203a",
   "metadata": {},
   "outputs": [
    {
     "data": {
      "text/html": [
       "<div>\n",
       "<style scoped>\n",
       "    .dataframe tbody tr th:only-of-type {\n",
       "        vertical-align: middle;\n",
       "    }\n",
       "\n",
       "    .dataframe tbody tr th {\n",
       "        vertical-align: top;\n",
       "    }\n",
       "\n",
       "    .dataframe thead th {\n",
       "        text-align: right;\n",
       "    }\n",
       "</style>\n",
       "<table border=\"1\" class=\"dataframe\">\n",
       "  <thead>\n",
       "    <tr style=\"text-align: right;\">\n",
       "      <th></th>\n",
       "      <th>sku</th>\n",
       "      <th>name</th>\n",
       "      <th>desc</th>\n",
       "      <th>price</th>\n",
       "      <th>in_stock</th>\n",
       "      <th>type</th>\n",
       "    </tr>\n",
       "  </thead>\n",
       "  <tbody>\n",
       "    <tr>\n",
       "      <th>139</th>\n",
       "      <td>WDT0183</td>\n",
       "      <td>Red 4TB WD 35 \"Mac PC hard drive and NAS</td>\n",
       "      <td>Western Digital hard drive designed for NAS 4T...</td>\n",
       "      <td>169.00</td>\n",
       "      <td>1</td>\n",
       "      <td>12655397</td>\n",
       "    </tr>\n",
       "    <tr>\n",
       "      <th>151</th>\n",
       "      <td>NTE0013</td>\n",
       "      <td>AdaptaDrive NewerTech adapter 2.5 \"to 3.5\" SATA</td>\n",
       "      <td>Adapter HDD / SSD 2.5 SATA 3.5 compatible with...</td>\n",
       "      <td>26.99</td>\n",
       "      <td>1</td>\n",
       "      <td>12755395</td>\n",
       "    </tr>\n",
       "    <tr>\n",
       "      <th>625</th>\n",
       "      <td>APP0698</td>\n",
       "      <td>Apple Lightning Cable Connector to USB 1m Whit...</td>\n",
       "      <td>Apple Lightning USB Cable 1 meter to charge an...</td>\n",
       "      <td>25.00</td>\n",
       "      <td>1</td>\n",
       "      <td>1230</td>\n",
       "    </tr>\n",
       "    <tr>\n",
       "      <th>1215</th>\n",
       "      <td>SAM0074</td>\n",
       "      <td>Samsung 850 EVO SSD Disk 500GB</td>\n",
       "      <td>SSD hard drive Mac and PC 25 inch 500GB SATA I...</td>\n",
       "      <td>179.99</td>\n",
       "      <td>1</td>\n",
       "      <td>12215397</td>\n",
       "    </tr>\n",
       "    <tr>\n",
       "      <th>1439</th>\n",
       "      <td>APP0927</td>\n",
       "      <td>EarPods Apple Headphones with Remote and Mic (...</td>\n",
       "      <td>EarPods headphones Apple iPhone iPad and iPod ...</td>\n",
       "      <td>35.00</td>\n",
       "      <td>1</td>\n",
       "      <td>5384</td>\n",
       "    </tr>\n",
       "    <tr>\n",
       "      <th>2613</th>\n",
       "      <td>APP1190</td>\n",
       "      <td>IPhone AppleCare Protection Plan</td>\n",
       "      <td>Apple Care extended warranty iPhone.</td>\n",
       "      <td>70.00</td>\n",
       "      <td>1</td>\n",
       "      <td>1231</td>\n",
       "    </tr>\n",
       "    <tr>\n",
       "      <th>4883</th>\n",
       "      <td>CRU0051</td>\n",
       "      <td>Crucial MX300 525GB SSD Disk</td>\n",
       "      <td>SSD 525GB SATA Hard Disk 3.0 (6Gb / s) for Mac...</td>\n",
       "      <td>158.66</td>\n",
       "      <td>0</td>\n",
       "      <td>12215397</td>\n",
       "    </tr>\n",
       "    <tr>\n",
       "      <th>5484</th>\n",
       "      <td>APP1922</td>\n",
       "      <td>AirPods Apple Bluetooth Headset for iPhone iPa...</td>\n",
       "      <td>Apple AirPods wireless headsets and cargo tran...</td>\n",
       "      <td>179.00</td>\n",
       "      <td>1</td>\n",
       "      <td>5384</td>\n",
       "    </tr>\n",
       "    <tr>\n",
       "      <th>6285</th>\n",
       "      <td>CRU0050</td>\n",
       "      <td>Crucial MX300 275GB SSD Disk</td>\n",
       "      <td>SSD 275GB SATA Hard Disk 3.0 (6Gb / s) for Mac...</td>\n",
       "      <td>98.39</td>\n",
       "      <td>0</td>\n",
       "      <td>12215397</td>\n",
       "    </tr>\n",
       "    <tr>\n",
       "      <th>7991</th>\n",
       "      <td>APP2446</td>\n",
       "      <td>Apple iPhone 6 32GB Space Gray</td>\n",
       "      <td>New iPhone 6 32GB Space Gray</td>\n",
       "      <td>449.33</td>\n",
       "      <td>0</td>\n",
       "      <td>21561716</td>\n",
       "    </tr>\n",
       "  </tbody>\n",
       "</table>\n",
       "</div>"
      ],
      "text/plain": [
       "          sku                                               name  \\\n",
       "139   WDT0183           Red 4TB WD 35 \"Mac PC hard drive and NAS   \n",
       "151   NTE0013    AdaptaDrive NewerTech adapter 2.5 \"to 3.5\" SATA   \n",
       "625   APP0698  Apple Lightning Cable Connector to USB 1m Whit...   \n",
       "1215  SAM0074                     Samsung 850 EVO SSD Disk 500GB   \n",
       "1439  APP0927  EarPods Apple Headphones with Remote and Mic (...   \n",
       "2613  APP1190                   IPhone AppleCare Protection Plan   \n",
       "4883  CRU0051                       Crucial MX300 525GB SSD Disk   \n",
       "5484  APP1922  AirPods Apple Bluetooth Headset for iPhone iPa...   \n",
       "6285  CRU0050                       Crucial MX300 275GB SSD Disk   \n",
       "7991  APP2446                     Apple iPhone 6 32GB Space Gray   \n",
       "\n",
       "                                                   desc   price  in_stock  \\\n",
       "139   Western Digital hard drive designed for NAS 4T...  169.00         1   \n",
       "151   Adapter HDD / SSD 2.5 SATA 3.5 compatible with...   26.99         1   \n",
       "625   Apple Lightning USB Cable 1 meter to charge an...   25.00         1   \n",
       "1215  SSD hard drive Mac and PC 25 inch 500GB SATA I...  179.99         1   \n",
       "1439  EarPods headphones Apple iPhone iPad and iPod ...   35.00         1   \n",
       "2613               Apple Care extended warranty iPhone.   70.00         1   \n",
       "4883  SSD 525GB SATA Hard Disk 3.0 (6Gb / s) for Mac...  158.66         0   \n",
       "5484  Apple AirPods wireless headsets and cargo tran...  179.00         1   \n",
       "6285  SSD 275GB SATA Hard Disk 3.0 (6Gb / s) for Mac...   98.39         0   \n",
       "7991                       New iPhone 6 32GB Space Gray  449.33         0   \n",
       "\n",
       "          type  \n",
       "139   12655397  \n",
       "151   12755395  \n",
       "625       1230  \n",
       "1215  12215397  \n",
       "1439      5384  \n",
       "2613      1231  \n",
       "4883  12215397  \n",
       "5484      5384  \n",
       "6285  12215397  \n",
       "7991  21561716  "
      ]
     },
     "execution_count": 44,
     "metadata": {},
     "output_type": "execute_result"
    }
   ],
   "source": [
    "skus = ol_df.groupby('sku')['product_quantity'].sum().sort_values(ascending=False).head(10).index\n",
    "prod_df[prod_df.sku.isin(skus)]#[['sku', 'name', 'desc']]"
   ]
  },
  {
   "cell_type": "markdown",
   "id": "ecf4fa01-64b7-4b0d-adae-882801f3f4e4",
   "metadata": {},
   "source": [
    "## What are the products that generate the most revenue?"
   ]
  },
  {
   "cell_type": "code",
   "execution_count": 60,
   "id": "8807e129-ad19-4f70-bdb7-ae2e9013238c",
   "metadata": {},
   "outputs": [
    {
     "data": {
      "text/html": [
       "<div>\n",
       "<style scoped>\n",
       "    .dataframe tbody tr th:only-of-type {\n",
       "        vertical-align: middle;\n",
       "    }\n",
       "\n",
       "    .dataframe tbody tr th {\n",
       "        vertical-align: top;\n",
       "    }\n",
       "\n",
       "    .dataframe thead th {\n",
       "        text-align: right;\n",
       "    }\n",
       "</style>\n",
       "<table border=\"1\" class=\"dataframe\">\n",
       "  <thead>\n",
       "    <tr style=\"text-align: right;\">\n",
       "      <th></th>\n",
       "      <th>id</th>\n",
       "      <th>id_order</th>\n",
       "      <th>product_id</th>\n",
       "      <th>product_quantity</th>\n",
       "      <th>sku</th>\n",
       "      <th>unit_price</th>\n",
       "      <th>date</th>\n",
       "      <th>tot_unit_price</th>\n",
       "    </tr>\n",
       "  </thead>\n",
       "  <tbody>\n",
       "    <tr>\n",
       "      <th>0</th>\n",
       "      <td>1119116</td>\n",
       "      <td>299545</td>\n",
       "      <td>0</td>\n",
       "      <td>1</td>\n",
       "      <td>OWC0100</td>\n",
       "      <td>47.49</td>\n",
       "      <td>2017-01-01 01:46:16</td>\n",
       "      <td>47.49</td>\n",
       "    </tr>\n",
       "    <tr>\n",
       "      <th>1</th>\n",
       "      <td>1119119</td>\n",
       "      <td>299546</td>\n",
       "      <td>0</td>\n",
       "      <td>1</td>\n",
       "      <td>IOT0014</td>\n",
       "      <td>18.99</td>\n",
       "      <td>2017-01-01 01:50:34</td>\n",
       "      <td>18.99</td>\n",
       "    </tr>\n",
       "    <tr>\n",
       "      <th>2</th>\n",
       "      <td>1119120</td>\n",
       "      <td>295347</td>\n",
       "      <td>0</td>\n",
       "      <td>1</td>\n",
       "      <td>APP0700</td>\n",
       "      <td>72.19</td>\n",
       "      <td>2017-01-01 01:54:11</td>\n",
       "      <td>72.19</td>\n",
       "    </tr>\n",
       "    <tr>\n",
       "      <th>3</th>\n",
       "      <td>1119134</td>\n",
       "      <td>299556</td>\n",
       "      <td>0</td>\n",
       "      <td>1</td>\n",
       "      <td>CRU0039-A</td>\n",
       "      <td>60.90</td>\n",
       "      <td>2017-01-01 02:20:14</td>\n",
       "      <td>60.90</td>\n",
       "    </tr>\n",
       "    <tr>\n",
       "      <th>4</th>\n",
       "      <td>1119145</td>\n",
       "      <td>299561</td>\n",
       "      <td>0</td>\n",
       "      <td>1</td>\n",
       "      <td>PEB0015</td>\n",
       "      <td>142.49</td>\n",
       "      <td>2017-01-01 02:38:50</td>\n",
       "      <td>142.49</td>\n",
       "    </tr>\n",
       "    <tr>\n",
       "      <th>...</th>\n",
       "      <td>...</td>\n",
       "      <td>...</td>\n",
       "      <td>...</td>\n",
       "      <td>...</td>\n",
       "      <td>...</td>\n",
       "      <td>...</td>\n",
       "      <td>...</td>\n",
       "      <td>...</td>\n",
       "    </tr>\n",
       "    <tr>\n",
       "      <th>53226</th>\n",
       "      <td>1649447</td>\n",
       "      <td>527035</td>\n",
       "      <td>0</td>\n",
       "      <td>1</td>\n",
       "      <td>APP0698</td>\n",
       "      <td>9.99</td>\n",
       "      <td>2018-03-14 11:42:41</td>\n",
       "      <td>9.99</td>\n",
       "    </tr>\n",
       "    <tr>\n",
       "      <th>53227</th>\n",
       "      <td>1649512</td>\n",
       "      <td>527070</td>\n",
       "      <td>0</td>\n",
       "      <td>2</td>\n",
       "      <td>APP0698</td>\n",
       "      <td>9.99</td>\n",
       "      <td>2018-03-14 11:49:01</td>\n",
       "      <td>19.98</td>\n",
       "    </tr>\n",
       "    <tr>\n",
       "      <th>53228</th>\n",
       "      <td>1649522</td>\n",
       "      <td>527074</td>\n",
       "      <td>0</td>\n",
       "      <td>2</td>\n",
       "      <td>APP0698</td>\n",
       "      <td>9.99</td>\n",
       "      <td>2018-03-14 11:49:36</td>\n",
       "      <td>19.98</td>\n",
       "    </tr>\n",
       "    <tr>\n",
       "      <th>53229</th>\n",
       "      <td>1649565</td>\n",
       "      <td>527096</td>\n",
       "      <td>0</td>\n",
       "      <td>3</td>\n",
       "      <td>APP0698</td>\n",
       "      <td>9.99</td>\n",
       "      <td>2018-03-14 11:54:35</td>\n",
       "      <td>29.97</td>\n",
       "    </tr>\n",
       "    <tr>\n",
       "      <th>53230</th>\n",
       "      <td>1649593</td>\n",
       "      <td>527112</td>\n",
       "      <td>0</td>\n",
       "      <td>1</td>\n",
       "      <td>APP0698</td>\n",
       "      <td>9.99</td>\n",
       "      <td>2018-03-14 11:58:13</td>\n",
       "      <td>9.99</td>\n",
       "    </tr>\n",
       "  </tbody>\n",
       "</table>\n",
       "<p>53231 rows × 8 columns</p>\n",
       "</div>"
      ],
      "text/plain": [
       "            id  id_order  product_id  product_quantity        sku  unit_price  \\\n",
       "0      1119116    299545           0                 1    OWC0100       47.49   \n",
       "1      1119119    299546           0                 1    IOT0014       18.99   \n",
       "2      1119120    295347           0                 1    APP0700       72.19   \n",
       "3      1119134    299556           0                 1  CRU0039-A       60.90   \n",
       "4      1119145    299561           0                 1    PEB0015      142.49   \n",
       "...        ...       ...         ...               ...        ...         ...   \n",
       "53226  1649447    527035           0                 1    APP0698        9.99   \n",
       "53227  1649512    527070           0                 2    APP0698        9.99   \n",
       "53228  1649522    527074           0                 2    APP0698        9.99   \n",
       "53229  1649565    527096           0                 3    APP0698        9.99   \n",
       "53230  1649593    527112           0                 1    APP0698        9.99   \n",
       "\n",
       "                     date  tot_unit_price  \n",
       "0     2017-01-01 01:46:16           47.49  \n",
       "1     2017-01-01 01:50:34           18.99  \n",
       "2     2017-01-01 01:54:11           72.19  \n",
       "3     2017-01-01 02:20:14           60.90  \n",
       "4     2017-01-01 02:38:50          142.49  \n",
       "...                   ...             ...  \n",
       "53226 2018-03-14 11:42:41            9.99  \n",
       "53227 2018-03-14 11:49:01           19.98  \n",
       "53228 2018-03-14 11:49:36           19.98  \n",
       "53229 2018-03-14 11:54:35           29.97  \n",
       "53230 2018-03-14 11:58:13            9.99  \n",
       "\n",
       "[53231 rows x 8 columns]"
      ]
     },
     "execution_count": 60,
     "metadata": {},
     "output_type": "execute_result"
    }
   ],
   "source": [
    "ol_df['tot_unit_price'] = ol_df.product_quantity * ol_df.unit_price\n",
    "ol_df"
   ]
  },
  {
   "cell_type": "code",
   "execution_count": 65,
   "id": "c745ed82-a1f1-4aad-85fe-b9b72df080a4",
   "metadata": {},
   "outputs": [
    {
     "data": {
      "text/plain": [
       "sku\n",
       "LGE0044    135375.83\n",
       "APP2446    104560.64\n",
       "APP1922     86473.26\n",
       "APP2477     85301.93\n",
       "APP1970     80715.76\n",
       "APP2072     74964.06\n",
       "APP2485     70721.79\n",
       "WDT0183     65589.96\n",
       "APP2483     60090.08\n",
       "APP2479     52981.19\n",
       "APP1190     51954.97\n",
       "APP1966     51473.12\n",
       "SAM0074     50181.18\n",
       "APP1978     47971.75\n",
       "WDT0318     47737.29\n",
       "APP2478     45850.62\n",
       "CRU0051     44355.75\n",
       "APP1971     43725.88\n",
       "AP20264     41211.02\n",
       "WDT0249     41175.57\n",
       "Name: tot_unit_price, dtype: float64"
      ]
     },
     "execution_count": 65,
     "metadata": {},
     "output_type": "execute_result"
    }
   ],
   "source": [
    "# sum of € gained for each product through all the orders:\n",
    "ol_df.groupby('sku')['tot_unit_price'].sum().sort_values(ascending=False).head(20)"
   ]
  },
  {
   "cell_type": "code",
   "execution_count": 68,
   "id": "e75b2de2-b362-40f5-bd0d-5397d353d4ac",
   "metadata": {},
   "outputs": [
    {
     "data": {
      "text/html": [
       "<div>\n",
       "<style scoped>\n",
       "    .dataframe tbody tr th:only-of-type {\n",
       "        vertical-align: middle;\n",
       "    }\n",
       "\n",
       "    .dataframe tbody tr th {\n",
       "        vertical-align: top;\n",
       "    }\n",
       "\n",
       "    .dataframe thead th {\n",
       "        text-align: right;\n",
       "    }\n",
       "</style>\n",
       "<table border=\"1\" class=\"dataframe\">\n",
       "  <thead>\n",
       "    <tr style=\"text-align: right;\">\n",
       "      <th></th>\n",
       "      <th>sku</th>\n",
       "      <th>name</th>\n",
       "      <th>desc</th>\n",
       "      <th>price</th>\n",
       "      <th>in_stock</th>\n",
       "      <th>type</th>\n",
       "    </tr>\n",
       "  </thead>\n",
       "  <tbody>\n",
       "    <tr>\n",
       "      <th>5194</th>\n",
       "      <td>LGE0044</td>\n",
       "      <td>LG 27UD88-W Monitor 27 \"UHD 4K USB 3.0 USB-C</td>\n",
       "      <td>99% Professional Monitor sRGB color calibrator...</td>\n",
       "      <td>599.00</td>\n",
       "      <td>1</td>\n",
       "      <td>1296</td>\n",
       "    </tr>\n",
       "    <tr>\n",
       "      <th>5484</th>\n",
       "      <td>APP1922</td>\n",
       "      <td>AirPods Apple Bluetooth Headset for iPhone iPa...</td>\n",
       "      <td>Apple AirPods wireless headsets and cargo tran...</td>\n",
       "      <td>179.00</td>\n",
       "      <td>1</td>\n",
       "      <td>5384</td>\n",
       "    </tr>\n",
       "    <tr>\n",
       "      <th>6732</th>\n",
       "      <td>APP1970</td>\n",
       "      <td>Apple iPhone 32GB Space Gray</td>\n",
       "      <td>New iPhone SE with 4-inch screen 32 free GB.</td>\n",
       "      <td>419.00</td>\n",
       "      <td>0</td>\n",
       "      <td>51601716</td>\n",
       "    </tr>\n",
       "    <tr>\n",
       "      <th>7991</th>\n",
       "      <td>APP2446</td>\n",
       "      <td>Apple iPhone 6 32GB Space Gray</td>\n",
       "      <td>New iPhone 6 32GB Space Gray</td>\n",
       "      <td>449.33</td>\n",
       "      <td>0</td>\n",
       "      <td>21561716</td>\n",
       "    </tr>\n",
       "    <tr>\n",
       "      <th>8209</th>\n",
       "      <td>APP2477</td>\n",
       "      <td>Apple iPhone 64GB Space Gray 8</td>\n",
       "      <td>Apple iPhone 64GB 8 Color Space Gray</td>\n",
       "      <td>809.00</td>\n",
       "      <td>1</td>\n",
       "      <td>113291716</td>\n",
       "    </tr>\n",
       "  </tbody>\n",
       "</table>\n",
       "</div>"
      ],
      "text/plain": [
       "          sku                                               name  \\\n",
       "5194  LGE0044       LG 27UD88-W Monitor 27 \"UHD 4K USB 3.0 USB-C   \n",
       "5484  APP1922  AirPods Apple Bluetooth Headset for iPhone iPa...   \n",
       "6732  APP1970                       Apple iPhone 32GB Space Gray   \n",
       "7991  APP2446                     Apple iPhone 6 32GB Space Gray   \n",
       "8209  APP2477                     Apple iPhone 64GB Space Gray 8   \n",
       "\n",
       "                                                   desc   price  in_stock  \\\n",
       "5194  99% Professional Monitor sRGB color calibrator...  599.00         1   \n",
       "5484  Apple AirPods wireless headsets and cargo tran...  179.00         1   \n",
       "6732       New iPhone SE with 4-inch screen 32 free GB.  419.00         0   \n",
       "7991                       New iPhone 6 32GB Space Gray  449.33         0   \n",
       "8209               Apple iPhone 64GB 8 Color Space Gray  809.00         1   \n",
       "\n",
       "           type  \n",
       "5194       1296  \n",
       "5484       5384  \n",
       "6732   51601716  \n",
       "7991   21561716  \n",
       "8209  113291716  "
      ]
     },
     "execution_count": 68,
     "metadata": {},
     "output_type": "execute_result"
    }
   ],
   "source": [
    "skus = ol_df.groupby('sku')['tot_unit_price'].sum().sort_values(ascending=False).head(5).index\n",
    "\n",
    "prod_df[prod_df.sku.isin(skus)]"
   ]
  }
 ],
 "metadata": {
  "kernelspec": {
   "display_name": "Python 3 (ipykernel)",
   "language": "python",
   "name": "python3"
  },
  "language_info": {
   "codemirror_mode": {
    "name": "ipython",
    "version": 3
   },
   "file_extension": ".py",
   "mimetype": "text/x-python",
   "name": "python",
   "nbconvert_exporter": "python",
   "pygments_lexer": "ipython3",
   "version": "3.10.12"
  }
 },
 "nbformat": 4,
 "nbformat_minor": 5
}
